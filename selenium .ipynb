{
 "cells": [
  {
   "cell_type": "code",
   "execution_count": 4,
   "metadata": {},
   "outputs": [
    {
     "name": "stdout",
     "output_type": "stream",
     "text": [
      "Requirement already satisfied: selenium in c:\\users\\vamshi mathada\\anaconda3\\lib\\site-packages (3.141.0)\n",
      "Requirement already satisfied: urllib3 in c:\\users\\vamshi mathada\\anaconda3\\lib\\site-packages (from selenium) (1.25.11)\n"
     ]
    }
   ],
   "source": [
    "# !pip install selenium"
   ]
  },
  {
   "cell_type": "code",
   "execution_count": 313,
   "metadata": {},
   "outputs": [],
   "source": [
    "import selenium\n",
    "import pandas as pd\n",
    "from selenium import webdriver"
   ]
  },
  {
   "cell_type": "code",
   "execution_count": 373,
   "metadata": {},
   "outputs": [],
   "source": [
    "driver = webdriver.Chrome(r\"C:\\Users\\VAMSHI MATHADA\\Downloads\\chromedriver_win32\\chromedriver\")"
   ]
  },
  {
   "cell_type": "code",
   "execution_count": 60,
   "metadata": {},
   "outputs": [],
   "source": [
    "# driver = webdriver.Chrome('chromedriver.exe') "
   ]
  },
  {
   "cell_type": "markdown",
   "metadata": {},
   "source": [
    "# 1. Write a python program to scrape data for “Data Analyst” Job position in “Bangalore” location. You have to scrape the job-title, job-location, company_name, experience_required. You have to scrape first 10 jobs data."
   ]
  },
  {
   "cell_type": "code",
   "execution_count": 4,
   "metadata": {},
   "outputs": [],
   "source": [
    "url = 'https://www.naukri.com/'\n",
    "driver.get(url) "
   ]
  },
  {
   "cell_type": "code",
   "execution_count": 5,
   "metadata": {},
   "outputs": [
    {
     "data": {
      "text/plain": [
       "<selenium.webdriver.remote.webelement.WebElement (session=\"c6632fbac1d8ee6d35cd7ec35895c031\", element=\"45c1c4f8-cbce-49e2-bc34-0cfe7a993e99\")>"
      ]
     },
     "execution_count": 5,
     "metadata": {},
     "output_type": "execute_result"
    }
   ],
   "source": [
    "# finding the web element(search jobs) using id\n",
    "search_job=driver.find_element_by_id('qsb-keyword-sugg')\n",
    "search_job"
   ]
  },
  {
   "cell_type": "code",
   "execution_count": 9,
   "metadata": {},
   "outputs": [],
   "source": [
    "search_job.send_keys('Data Analyst')"
   ]
  },
  {
   "cell_type": "code",
   "execution_count": 11,
   "metadata": {},
   "outputs": [],
   "source": [
    "# finding the web element(search jobs) using Xpath\n",
    "# search_job=driver.find_element_by_xpath('//input[@class=\"sugInp\"]')\n",
    "# search_job"
   ]
  },
  {
   "cell_type": "code",
   "execution_count": 8,
   "metadata": {},
   "outputs": [],
   "source": [
    "# search_job.send_keys('Data Scientist')"
   ]
  },
  {
   "cell_type": "code",
   "execution_count": 12,
   "metadata": {},
   "outputs": [],
   "source": [
    "search_loc=driver.find_element_by_id('qsb-location-sugg')\n",
    "search_loc.send_keys('Bangalore')"
   ]
  },
  {
   "cell_type": "code",
   "execution_count": 13,
   "metadata": {},
   "outputs": [
    {
     "data": {
      "text/plain": [
       "<selenium.webdriver.remote.webelement.WebElement (session=\"c6632fbac1d8ee6d35cd7ec35895c031\", element=\"7c9de741-4494-4c0a-a5e2-a36ace8fb490\")>"
      ]
     },
     "execution_count": 13,
     "metadata": {},
     "output_type": "execute_result"
    }
   ],
   "source": [
    "search_bar=driver.find_element_by_xpath('//button[@class=\"btn\"]')\n",
    "search_bar"
   ]
  },
  {
   "cell_type": "code",
   "execution_count": 14,
   "metadata": {},
   "outputs": [],
   "source": [
    "# This command is used to search the Data Analyst job in bangalore.\n",
    "search_bar.click()"
   ]
  },
  {
   "cell_type": "code",
   "execution_count": 17,
   "metadata": {},
   "outputs": [
    {
     "data": {
      "text/plain": [
       "[<selenium.webdriver.remote.webelement.WebElement (session=\"c6632fbac1d8ee6d35cd7ec35895c031\", element=\"59ec74d5-9664-4295-a3f3-a0e0628683b4\")>,\n",
       " <selenium.webdriver.remote.webelement.WebElement (session=\"c6632fbac1d8ee6d35cd7ec35895c031\", element=\"8436ed91-2e06-4f2a-b12d-a71c5b7c54ef\")>,\n",
       " <selenium.webdriver.remote.webelement.WebElement (session=\"c6632fbac1d8ee6d35cd7ec35895c031\", element=\"517cbdcd-f431-4371-994b-072e1b61b26c\")>,\n",
       " <selenium.webdriver.remote.webelement.WebElement (session=\"c6632fbac1d8ee6d35cd7ec35895c031\", element=\"60419b4b-f3a8-4bf4-8280-2d036c4b557a\")>,\n",
       " <selenium.webdriver.remote.webelement.WebElement (session=\"c6632fbac1d8ee6d35cd7ec35895c031\", element=\"290d7ced-087b-444e-bcd4-13d5ebb86b2e\")>,\n",
       " <selenium.webdriver.remote.webelement.WebElement (session=\"c6632fbac1d8ee6d35cd7ec35895c031\", element=\"9b3d3671-7d9b-496e-aa0d-adf7a509d416\")>,\n",
       " <selenium.webdriver.remote.webelement.WebElement (session=\"c6632fbac1d8ee6d35cd7ec35895c031\", element=\"792dad77-6c61-47c8-a977-66b69e12b3ba\")>,\n",
       " <selenium.webdriver.remote.webelement.WebElement (session=\"c6632fbac1d8ee6d35cd7ec35895c031\", element=\"298ce1c0-f99c-447b-adcd-8233ded40e2d\")>,\n",
       " <selenium.webdriver.remote.webelement.WebElement (session=\"c6632fbac1d8ee6d35cd7ec35895c031\", element=\"ba3c2e5f-a549-40d2-9df4-59c0dc44a6a8\")>,\n",
       " <selenium.webdriver.remote.webelement.WebElement (session=\"c6632fbac1d8ee6d35cd7ec35895c031\", element=\"db547fb7-a3b2-4644-afb9-83d2c75aed3a\")>,\n",
       " <selenium.webdriver.remote.webelement.WebElement (session=\"c6632fbac1d8ee6d35cd7ec35895c031\", element=\"f13af32e-e06c-4326-ab84-25b50c0aaf2d\")>,\n",
       " <selenium.webdriver.remote.webelement.WebElement (session=\"c6632fbac1d8ee6d35cd7ec35895c031\", element=\"47f3a985-493d-45df-9d30-63426d078c2c\")>,\n",
       " <selenium.webdriver.remote.webelement.WebElement (session=\"c6632fbac1d8ee6d35cd7ec35895c031\", element=\"58018efc-90a8-436b-ac1b-58ef3a68bb58\")>,\n",
       " <selenium.webdriver.remote.webelement.WebElement (session=\"c6632fbac1d8ee6d35cd7ec35895c031\", element=\"145d3bf9-0c78-4912-bd8c-25157dc8e6a6\")>,\n",
       " <selenium.webdriver.remote.webelement.WebElement (session=\"c6632fbac1d8ee6d35cd7ec35895c031\", element=\"eac2c349-b41f-4ddb-85af-4e703bb535e5\")>,\n",
       " <selenium.webdriver.remote.webelement.WebElement (session=\"c6632fbac1d8ee6d35cd7ec35895c031\", element=\"e0a26fbc-8e85-4cf6-a105-c23b57a87edd\")>,\n",
       " <selenium.webdriver.remote.webelement.WebElement (session=\"c6632fbac1d8ee6d35cd7ec35895c031\", element=\"0998f37a-3e1d-4665-b13a-802d9ea51ec4\")>,\n",
       " <selenium.webdriver.remote.webelement.WebElement (session=\"c6632fbac1d8ee6d35cd7ec35895c031\", element=\"62d89de7-d7f1-4aaa-8260-6c2c8bfd1612\")>,\n",
       " <selenium.webdriver.remote.webelement.WebElement (session=\"c6632fbac1d8ee6d35cd7ec35895c031\", element=\"f2cb47e3-e88a-4bff-a05d-6d4fee02397b\")>,\n",
       " <selenium.webdriver.remote.webelement.WebElement (session=\"c6632fbac1d8ee6d35cd7ec35895c031\", element=\"192dd076-ca26-4eca-9394-bd044feee9e6\")>]"
      ]
     },
     "execution_count": 17,
     "metadata": {},
     "output_type": "execute_result"
    }
   ],
   "source": [
    "# To find the 1. Job Titles i use\n",
    "Job_title = driver.find_elements_by_xpath('//a[@class=\"title fw500 ellipsis\"]')\n",
    "Job_title"
   ]
  },
  {
   "cell_type": "code",
   "execution_count": 18,
   "metadata": {},
   "outputs": [
    {
     "data": {
      "text/plain": [
       "['Business Data Analyst - Google Data Studio & SQL',\n",
       " 'Executive Data Analyst',\n",
       " 'Senior Data Analyst',\n",
       " 'Data Analyst - I/II',\n",
       " 'Data Analyst',\n",
       " 'Hiring For the role - DATA Analyst (Flipkart)',\n",
       " 'Hiring For the role - DATA Analyst (Flipkart)',\n",
       " 'Business Data Analyst - MIS & Reporting',\n",
       " 'Senior Data Analyst',\n",
       " 'Senior Associate, Data Hierarchy Analyst( MDM)',\n",
       " 'Lead , Data Analyst',\n",
       " 'Product Data Analyst',\n",
       " 'Data Analyst/Sr.Analyst - Bangalore',\n",
       " 'SENIOR MARKETING DATA ANALYST',\n",
       " 'Data Analyst - Quantitative Support Team',\n",
       " 'MIS / Data Analyst',\n",
       " 'Data Analyst with SAS & Python',\n",
       " 'Data Analyst',\n",
       " 'Data Analyst',\n",
       " 'Data Analyst']"
      ]
     },
     "execution_count": 18,
     "metadata": {},
     "output_type": "execute_result"
    }
   ],
   "source": [
    "A = []\n",
    "for i in Job_title:\n",
    "    A.append(i.text.replace('\\n', \"\"))\n",
    "A"
   ]
  },
  {
   "cell_type": "code",
   "execution_count": 19,
   "metadata": {},
   "outputs": [
    {
     "data": {
      "text/plain": [
       "['Business Data Analyst - Google Data Studio & SQL',\n",
       " 'Executive Data Analyst',\n",
       " 'Senior Data Analyst',\n",
       " 'Data Analyst - I/II',\n",
       " 'Data Analyst',\n",
       " 'Hiring For the role - DATA Analyst (Flipkart)',\n",
       " 'Hiring For the role - DATA Analyst (Flipkart)',\n",
       " 'Business Data Analyst - MIS & Reporting',\n",
       " 'Senior Data Analyst',\n",
       " 'Senior Associate, Data Hierarchy Analyst( MDM)']"
      ]
     },
     "execution_count": 19,
     "metadata": {},
     "output_type": "execute_result"
    }
   ],
   "source": [
    "job_title = A[0:10]\n",
    "job_title"
   ]
  },
  {
   "cell_type": "code",
   "execution_count": 23,
   "metadata": {},
   "outputs": [
    {
     "data": {
      "text/plain": [
       "[<selenium.webdriver.remote.webelement.WebElement (session=\"c6632fbac1d8ee6d35cd7ec35895c031\", element=\"fec48d8f-e656-4f11-bd1e-1d125417c1ff\")>,\n",
       " <selenium.webdriver.remote.webelement.WebElement (session=\"c6632fbac1d8ee6d35cd7ec35895c031\", element=\"029fc33f-e74d-4273-91cd-0d57da82d56f\")>,\n",
       " <selenium.webdriver.remote.webelement.WebElement (session=\"c6632fbac1d8ee6d35cd7ec35895c031\", element=\"e81a4be2-46db-4a88-ac14-2283a8b47c6b\")>,\n",
       " <selenium.webdriver.remote.webelement.WebElement (session=\"c6632fbac1d8ee6d35cd7ec35895c031\", element=\"e4470222-afce-498e-8147-53ffff9b358c\")>,\n",
       " <selenium.webdriver.remote.webelement.WebElement (session=\"c6632fbac1d8ee6d35cd7ec35895c031\", element=\"a1878241-0137-42dc-9677-f5721214d434\")>,\n",
       " <selenium.webdriver.remote.webelement.WebElement (session=\"c6632fbac1d8ee6d35cd7ec35895c031\", element=\"bad978b6-e208-4cd7-9c23-0605d87624ff\")>,\n",
       " <selenium.webdriver.remote.webelement.WebElement (session=\"c6632fbac1d8ee6d35cd7ec35895c031\", element=\"16f5a8c7-df11-4a3a-9844-66e0f843c677\")>,\n",
       " <selenium.webdriver.remote.webelement.WebElement (session=\"c6632fbac1d8ee6d35cd7ec35895c031\", element=\"6c9c7e8c-7190-41e2-afd6-17a1eee4008d\")>,\n",
       " <selenium.webdriver.remote.webelement.WebElement (session=\"c6632fbac1d8ee6d35cd7ec35895c031\", element=\"cfcffd4a-953f-45ec-8c53-31728db006fe\")>,\n",
       " <selenium.webdriver.remote.webelement.WebElement (session=\"c6632fbac1d8ee6d35cd7ec35895c031\", element=\"aacf8954-bc58-4dc5-82b7-617b21227697\")>,\n",
       " <selenium.webdriver.remote.webelement.WebElement (session=\"c6632fbac1d8ee6d35cd7ec35895c031\", element=\"7a51d27e-9219-4377-bec4-b8fa96c29026\")>,\n",
       " <selenium.webdriver.remote.webelement.WebElement (session=\"c6632fbac1d8ee6d35cd7ec35895c031\", element=\"e30de4cc-8409-4cbe-bdf5-a344a8bb4380\")>,\n",
       " <selenium.webdriver.remote.webelement.WebElement (session=\"c6632fbac1d8ee6d35cd7ec35895c031\", element=\"0e9b990e-c2d0-4796-8d36-8295211bb1cf\")>,\n",
       " <selenium.webdriver.remote.webelement.WebElement (session=\"c6632fbac1d8ee6d35cd7ec35895c031\", element=\"92d6b614-6107-4d5d-a50b-f37b01d62ed0\")>,\n",
       " <selenium.webdriver.remote.webelement.WebElement (session=\"c6632fbac1d8ee6d35cd7ec35895c031\", element=\"311af659-f878-457a-8c2e-23e3cd7a2a63\")>,\n",
       " <selenium.webdriver.remote.webelement.WebElement (session=\"c6632fbac1d8ee6d35cd7ec35895c031\", element=\"4a212823-dbae-4bcd-b685-73928af2e10b\")>,\n",
       " <selenium.webdriver.remote.webelement.WebElement (session=\"c6632fbac1d8ee6d35cd7ec35895c031\", element=\"ecf5fe97-3f9c-42d6-b025-48fbe0d408c8\")>,\n",
       " <selenium.webdriver.remote.webelement.WebElement (session=\"c6632fbac1d8ee6d35cd7ec35895c031\", element=\"b2df4313-ac52-4441-81c4-830968469676\")>,\n",
       " <selenium.webdriver.remote.webelement.WebElement (session=\"c6632fbac1d8ee6d35cd7ec35895c031\", element=\"f0daaa98-9fb3-4875-b112-b82a9a9a77ca\")>,\n",
       " <selenium.webdriver.remote.webelement.WebElement (session=\"c6632fbac1d8ee6d35cd7ec35895c031\", element=\"325333e1-4188-40bb-839b-5ba85a567824\")>]"
      ]
     },
     "execution_count": 23,
     "metadata": {},
     "output_type": "execute_result"
    }
   ],
   "source": [
    "companyname = driver.find_elements_by_xpath('//a[@class=\"subTitle ellipsis fleft\"]')\n",
    "companyname"
   ]
  },
  {
   "cell_type": "code",
   "execution_count": 24,
   "metadata": {},
   "outputs": [
    {
     "data": {
      "text/plain": [
       "['AVE-Promagne',\n",
       " 'Gokaldas Exports Ltd',\n",
       " 'Virtusa Consulting Services Pvt Ltd',\n",
       " 'Philips India Limited',\n",
       " 'IBM India Pvt. Limited',\n",
       " 'Allegis Services India Pvt. Ltd.',\n",
       " 'Allegis Services India Pvt. Ltd.',\n",
       " 'INTERTRUST GROUP',\n",
       " 'Flipkart',\n",
       " 'GENPACT India Private Limited',\n",
       " 'Near Pte. Ltd.',\n",
       " 'Trifacta',\n",
       " 'Cocentrus',\n",
       " 'McAfee Software (India) Pvt. Ltd',\n",
       " 'TresVista Financial',\n",
       " 'MediBuddy',\n",
       " 'Podium Systems',\n",
       " 'Coda Payments',\n",
       " 'FedEx Express',\n",
       " 'Supertails']"
      ]
     },
     "execution_count": 24,
     "metadata": {},
     "output_type": "execute_result"
    }
   ],
   "source": [
    "B = []\n",
    "for i in companyname:\n",
    "    B.append(i.text.replace('\\n', \"\"))\n",
    "B"
   ]
  },
  {
   "cell_type": "code",
   "execution_count": 25,
   "metadata": {},
   "outputs": [
    {
     "data": {
      "text/plain": [
       "['AVE-Promagne',\n",
       " 'Gokaldas Exports Ltd',\n",
       " 'Virtusa Consulting Services Pvt Ltd',\n",
       " 'Philips India Limited',\n",
       " 'IBM India Pvt. Limited',\n",
       " 'Allegis Services India Pvt. Ltd.',\n",
       " 'Allegis Services India Pvt. Ltd.',\n",
       " 'INTERTRUST GROUP',\n",
       " 'Flipkart',\n",
       " 'GENPACT India Private Limited']"
      ]
     },
     "execution_count": 25,
     "metadata": {},
     "output_type": "execute_result"
    }
   ],
   "source": [
    "company_name = B[0:10]\n",
    "company_name"
   ]
  },
  {
   "cell_type": "code",
   "execution_count": 26,
   "metadata": {},
   "outputs": [
    {
     "data": {
      "text/plain": [
       "[<selenium.webdriver.remote.webelement.WebElement (session=\"c6632fbac1d8ee6d35cd7ec35895c031\", element=\"0c308115-2a8a-43bf-bb6c-130f458b9de5\")>,\n",
       " <selenium.webdriver.remote.webelement.WebElement (session=\"c6632fbac1d8ee6d35cd7ec35895c031\", element=\"0fb35cd7-fc3a-498d-91e0-e75dc08e7aa2\")>,\n",
       " <selenium.webdriver.remote.webelement.WebElement (session=\"c6632fbac1d8ee6d35cd7ec35895c031\", element=\"c610684b-a9d8-4e8c-8164-32ffcda7ed1b\")>,\n",
       " <selenium.webdriver.remote.webelement.WebElement (session=\"c6632fbac1d8ee6d35cd7ec35895c031\", element=\"ec10ab36-695f-4c27-97e3-c4a184630d61\")>,\n",
       " <selenium.webdriver.remote.webelement.WebElement (session=\"c6632fbac1d8ee6d35cd7ec35895c031\", element=\"b5a3985e-d5a4-44c8-a408-842c1970dfe9\")>,\n",
       " <selenium.webdriver.remote.webelement.WebElement (session=\"c6632fbac1d8ee6d35cd7ec35895c031\", element=\"2566fe16-d218-4aca-b73e-c12310fbe8f9\")>,\n",
       " <selenium.webdriver.remote.webelement.WebElement (session=\"c6632fbac1d8ee6d35cd7ec35895c031\", element=\"f53fd8e0-ed85-4f19-9e9b-75d8fe56484d\")>,\n",
       " <selenium.webdriver.remote.webelement.WebElement (session=\"c6632fbac1d8ee6d35cd7ec35895c031\", element=\"f345f4c9-f730-41a4-8ac5-bb0959951eec\")>,\n",
       " <selenium.webdriver.remote.webelement.WebElement (session=\"c6632fbac1d8ee6d35cd7ec35895c031\", element=\"376f185d-fdec-4f57-b595-d32d87dfe0e5\")>,\n",
       " <selenium.webdriver.remote.webelement.WebElement (session=\"c6632fbac1d8ee6d35cd7ec35895c031\", element=\"f145a580-28a3-4e82-a41c-5c2b30dbae99\")>,\n",
       " <selenium.webdriver.remote.webelement.WebElement (session=\"c6632fbac1d8ee6d35cd7ec35895c031\", element=\"2c171b72-2df1-4a2e-8a7e-a511e3a5ee89\")>,\n",
       " <selenium.webdriver.remote.webelement.WebElement (session=\"c6632fbac1d8ee6d35cd7ec35895c031\", element=\"d8e9b8d4-9730-4621-bdf6-461b747d0941\")>,\n",
       " <selenium.webdriver.remote.webelement.WebElement (session=\"c6632fbac1d8ee6d35cd7ec35895c031\", element=\"eff37a24-8612-4bc8-bd54-256101b27794\")>,\n",
       " <selenium.webdriver.remote.webelement.WebElement (session=\"c6632fbac1d8ee6d35cd7ec35895c031\", element=\"20acb98c-ba6e-4f78-9759-a1d00ca6e598\")>,\n",
       " <selenium.webdriver.remote.webelement.WebElement (session=\"c6632fbac1d8ee6d35cd7ec35895c031\", element=\"a86ac6ff-e239-4f59-b8dd-d872446aeff3\")>,\n",
       " <selenium.webdriver.remote.webelement.WebElement (session=\"c6632fbac1d8ee6d35cd7ec35895c031\", element=\"62d042f3-7d31-4a95-9652-25e195a9097a\")>,\n",
       " <selenium.webdriver.remote.webelement.WebElement (session=\"c6632fbac1d8ee6d35cd7ec35895c031\", element=\"775dd79c-1a11-4705-b182-866bf6bfe2b8\")>,\n",
       " <selenium.webdriver.remote.webelement.WebElement (session=\"c6632fbac1d8ee6d35cd7ec35895c031\", element=\"2fb2f8bb-9a20-4746-92fa-bf7bd8349d6c\")>,\n",
       " <selenium.webdriver.remote.webelement.WebElement (session=\"c6632fbac1d8ee6d35cd7ec35895c031\", element=\"b7470846-1615-4915-bc3e-d3eebfc03d39\")>,\n",
       " <selenium.webdriver.remote.webelement.WebElement (session=\"c6632fbac1d8ee6d35cd7ec35895c031\", element=\"a2426e94-087b-40f0-b049-f569f0a55885\")>]"
      ]
     },
     "execution_count": 26,
     "metadata": {},
     "output_type": "execute_result"
    }
   ],
   "source": [
    "job_loc = driver.find_elements_by_xpath('//li[@class=\"fleft grey-text br2 placeHolderLi location\"]//span[1]')\n",
    "job_loc"
   ]
  },
  {
   "cell_type": "code",
   "execution_count": 27,
   "metadata": {},
   "outputs": [
    {
     "data": {
      "text/plain": [
       "['Bangalore/Bengaluru',\n",
       " 'Bangalore/Bengaluru',\n",
       " 'Hyderabad/Secunderabad, Pune, Gurgaon/Gurugram, Chennai, Bangalore/Bengaluru, Mumbai (All Areas)',\n",
       " 'Bangalore/Bengaluru',\n",
       " 'Bengaluru/Bangalore',\n",
       " 'Bangalore/Bengaluru(Bellandur)',\n",
       " 'Bangalore/Bengaluru(Bellandur)',\n",
       " 'Mumbai, Bangalore/Bengaluru',\n",
       " 'Bangalore/Bengaluru',\n",
       " 'Bangalore/Bengaluru',\n",
       " 'Bangalore/Bengaluru',\n",
       " 'Bangalore/Bengaluru',\n",
       " 'Bangalore/Bengaluru',\n",
       " 'Bangalore/Bengaluru',\n",
       " 'Mumbai, Pune, Bangalore/Bengaluru',\n",
       " 'Bangalore/Bengaluru',\n",
       " 'Gurgaon/Gurugram, Chennai, Bangalore',\n",
       " 'Bangalore/Bengaluru',\n",
       " 'Gurgaon/Gurugram, Bangalore/Bengaluru, Mumbai (All Areas)',\n",
       " 'Bangalore/Bengaluru(Indira Nagar)']"
      ]
     },
     "execution_count": 27,
     "metadata": {},
     "output_type": "execute_result"
    }
   ],
   "source": [
    "C = []\n",
    "for i in job_loc:\n",
    "    C.append(i.text.replace('\\n', \"\"))\n",
    "C"
   ]
  },
  {
   "cell_type": "code",
   "execution_count": 28,
   "metadata": {},
   "outputs": [
    {
     "data": {
      "text/plain": [
       "['Bangalore/Bengaluru',\n",
       " 'Bangalore/Bengaluru',\n",
       " 'Hyderabad/Secunderabad, Pune, Gurgaon/Gurugram, Chennai, Bangalore/Bengaluru, Mumbai (All Areas)',\n",
       " 'Bangalore/Bengaluru',\n",
       " 'Bengaluru/Bangalore',\n",
       " 'Bangalore/Bengaluru(Bellandur)',\n",
       " 'Bangalore/Bengaluru(Bellandur)',\n",
       " 'Mumbai, Bangalore/Bengaluru',\n",
       " 'Bangalore/Bengaluru',\n",
       " 'Bangalore/Bengaluru']"
      ]
     },
     "execution_count": 28,
     "metadata": {},
     "output_type": "execute_result"
    }
   ],
   "source": [
    "job_location = C[0:10]\n",
    "job_location"
   ]
  },
  {
   "cell_type": "code",
   "execution_count": 30,
   "metadata": {},
   "outputs": [
    {
     "data": {
      "text/plain": [
       "[<selenium.webdriver.remote.webelement.WebElement (session=\"c6632fbac1d8ee6d35cd7ec35895c031\", element=\"769f899c-b6fc-4b68-a9b3-c3173c36ad76\")>,\n",
       " <selenium.webdriver.remote.webelement.WebElement (session=\"c6632fbac1d8ee6d35cd7ec35895c031\", element=\"4fdc0fff-ceb9-443f-b37f-1f72592df79a\")>,\n",
       " <selenium.webdriver.remote.webelement.WebElement (session=\"c6632fbac1d8ee6d35cd7ec35895c031\", element=\"994261c4-d4a2-4e2d-89e6-3f8ecc7115a0\")>,\n",
       " <selenium.webdriver.remote.webelement.WebElement (session=\"c6632fbac1d8ee6d35cd7ec35895c031\", element=\"96e44bba-a48a-4e5a-9204-6bdbc29869e6\")>,\n",
       " <selenium.webdriver.remote.webelement.WebElement (session=\"c6632fbac1d8ee6d35cd7ec35895c031\", element=\"6d537c65-115f-4906-8d4b-e765652abb50\")>,\n",
       " <selenium.webdriver.remote.webelement.WebElement (session=\"c6632fbac1d8ee6d35cd7ec35895c031\", element=\"e7d01d2c-943c-4078-bf19-ff153de9f7c2\")>,\n",
       " <selenium.webdriver.remote.webelement.WebElement (session=\"c6632fbac1d8ee6d35cd7ec35895c031\", element=\"0e70e7d5-da63-4bbe-8952-641208cee7f5\")>,\n",
       " <selenium.webdriver.remote.webelement.WebElement (session=\"c6632fbac1d8ee6d35cd7ec35895c031\", element=\"572234c3-dc15-4948-b964-72d640ab90e2\")>,\n",
       " <selenium.webdriver.remote.webelement.WebElement (session=\"c6632fbac1d8ee6d35cd7ec35895c031\", element=\"73fb4977-050b-42b8-a851-46bb11e16948\")>,\n",
       " <selenium.webdriver.remote.webelement.WebElement (session=\"c6632fbac1d8ee6d35cd7ec35895c031\", element=\"a91e9b70-2261-49a2-bb34-2671b6c7f812\")>,\n",
       " <selenium.webdriver.remote.webelement.WebElement (session=\"c6632fbac1d8ee6d35cd7ec35895c031\", element=\"32ec0e30-fc9c-4d59-aaa8-e5e9a74eb829\")>,\n",
       " <selenium.webdriver.remote.webelement.WebElement (session=\"c6632fbac1d8ee6d35cd7ec35895c031\", element=\"9be1d610-2592-4f78-8891-b7e5ed74d628\")>,\n",
       " <selenium.webdriver.remote.webelement.WebElement (session=\"c6632fbac1d8ee6d35cd7ec35895c031\", element=\"6cbf2084-5c57-4637-9e3c-e230c4274348\")>,\n",
       " <selenium.webdriver.remote.webelement.WebElement (session=\"c6632fbac1d8ee6d35cd7ec35895c031\", element=\"4d83edbb-8d00-42d4-8148-673c893b1e50\")>,\n",
       " <selenium.webdriver.remote.webelement.WebElement (session=\"c6632fbac1d8ee6d35cd7ec35895c031\", element=\"02bd0b3a-aa34-4764-a72b-768a0f118e49\")>,\n",
       " <selenium.webdriver.remote.webelement.WebElement (session=\"c6632fbac1d8ee6d35cd7ec35895c031\", element=\"f8390d18-ecdd-4257-ba0b-5123f99a2e59\")>,\n",
       " <selenium.webdriver.remote.webelement.WebElement (session=\"c6632fbac1d8ee6d35cd7ec35895c031\", element=\"a34ded39-b6f7-47ef-b816-50ce2e261d74\")>,\n",
       " <selenium.webdriver.remote.webelement.WebElement (session=\"c6632fbac1d8ee6d35cd7ec35895c031\", element=\"f96b0c37-576c-49c6-940c-2a146f694bc8\")>,\n",
       " <selenium.webdriver.remote.webelement.WebElement (session=\"c6632fbac1d8ee6d35cd7ec35895c031\", element=\"156f88d9-0dc8-41b2-9e9d-34c6ff2d12e4\")>,\n",
       " <selenium.webdriver.remote.webelement.WebElement (session=\"c6632fbac1d8ee6d35cd7ec35895c031\", element=\"fc814ed2-50a2-4bc0-8c0b-4a6296b08471\")>]"
      ]
     },
     "execution_count": 30,
     "metadata": {},
     "output_type": "execute_result"
    }
   ],
   "source": [
    "exp = driver.find_elements_by_xpath('//li[@class=\"fleft grey-text br2 placeHolderLi experience\"]//span')\n",
    "exp"
   ]
  },
  {
   "cell_type": "code",
   "execution_count": 31,
   "metadata": {},
   "outputs": [
    {
     "data": {
      "text/plain": [
       "['3-8 Yrs',\n",
       " '0-3 Yrs',\n",
       " '8-12 Yrs',\n",
       " '3-6 Yrs',\n",
       " '1-4 Yrs',\n",
       " '1-6 Yrs',\n",
       " '1-6 Yrs',\n",
       " '3-8 Yrs',\n",
       " '2-3 Yrs',\n",
       " '1-3 Yrs',\n",
       " '6-11 Yrs',\n",
       " '2-5 Yrs',\n",
       " '5-10 Yrs',\n",
       " '3-7 Yrs',\n",
       " '0-1 Yrs',\n",
       " '1-3 Yrs',\n",
       " '4-7 Yrs',\n",
       " '3-4 Yrs',\n",
       " '2-6 Yrs',\n",
       " '1-3 Yrs']"
      ]
     },
     "execution_count": 31,
     "metadata": {},
     "output_type": "execute_result"
    }
   ],
   "source": [
    "D = []\n",
    "for i in exp:\n",
    "    D.append(i.text.replace('\\n', \"\"))\n",
    "D"
   ]
  },
  {
   "cell_type": "code",
   "execution_count": 32,
   "metadata": {},
   "outputs": [
    {
     "data": {
      "text/plain": [
       "['3-8 Yrs',\n",
       " '0-3 Yrs',\n",
       " '8-12 Yrs',\n",
       " '3-6 Yrs',\n",
       " '1-4 Yrs',\n",
       " '1-6 Yrs',\n",
       " '1-6 Yrs',\n",
       " '3-8 Yrs',\n",
       " '2-3 Yrs',\n",
       " '1-3 Yrs']"
      ]
     },
     "execution_count": 32,
     "metadata": {},
     "output_type": "execute_result"
    }
   ],
   "source": [
    "experience_required = D[0:10]\n",
    "experience_required"
   ]
  },
  {
   "cell_type": "code",
   "execution_count": 34,
   "metadata": {},
   "outputs": [
    {
     "data": {
      "text/html": [
       "<div>\n",
       "<style scoped>\n",
       "    .dataframe tbody tr th:only-of-type {\n",
       "        vertical-align: middle;\n",
       "    }\n",
       "\n",
       "    .dataframe tbody tr th {\n",
       "        vertical-align: top;\n",
       "    }\n",
       "\n",
       "    .dataframe thead th {\n",
       "        text-align: right;\n",
       "    }\n",
       "</style>\n",
       "<table border=\"1\" class=\"dataframe\">\n",
       "  <thead>\n",
       "    <tr style=\"text-align: right;\">\n",
       "      <th></th>\n",
       "      <th>job_title</th>\n",
       "      <th>job_location</th>\n",
       "      <th>company_name</th>\n",
       "      <th>experience_required</th>\n",
       "    </tr>\n",
       "  </thead>\n",
       "  <tbody>\n",
       "    <tr>\n",
       "      <th>0</th>\n",
       "      <td>Business Data Analyst - Google Data Studio &amp; SQL</td>\n",
       "      <td>Bangalore/Bengaluru</td>\n",
       "      <td>AVE-Promagne</td>\n",
       "      <td>3-8 Yrs</td>\n",
       "    </tr>\n",
       "    <tr>\n",
       "      <th>1</th>\n",
       "      <td>Executive Data Analyst</td>\n",
       "      <td>Bangalore/Bengaluru</td>\n",
       "      <td>Gokaldas Exports Ltd</td>\n",
       "      <td>0-3 Yrs</td>\n",
       "    </tr>\n",
       "    <tr>\n",
       "      <th>2</th>\n",
       "      <td>Senior Data Analyst</td>\n",
       "      <td>Hyderabad/Secunderabad, Pune, Gurgaon/Gurugram...</td>\n",
       "      <td>Virtusa Consulting Services Pvt Ltd</td>\n",
       "      <td>8-12 Yrs</td>\n",
       "    </tr>\n",
       "    <tr>\n",
       "      <th>3</th>\n",
       "      <td>Data Analyst - I/II</td>\n",
       "      <td>Bangalore/Bengaluru</td>\n",
       "      <td>Philips India Limited</td>\n",
       "      <td>3-6 Yrs</td>\n",
       "    </tr>\n",
       "    <tr>\n",
       "      <th>4</th>\n",
       "      <td>Data Analyst</td>\n",
       "      <td>Bengaluru/Bangalore</td>\n",
       "      <td>IBM India Pvt. Limited</td>\n",
       "      <td>1-4 Yrs</td>\n",
       "    </tr>\n",
       "    <tr>\n",
       "      <th>5</th>\n",
       "      <td>Hiring For the role - DATA Analyst (Flipkart)</td>\n",
       "      <td>Bangalore/Bengaluru(Bellandur)</td>\n",
       "      <td>Allegis Services India Pvt. Ltd.</td>\n",
       "      <td>1-6 Yrs</td>\n",
       "    </tr>\n",
       "    <tr>\n",
       "      <th>6</th>\n",
       "      <td>Hiring For the role - DATA Analyst (Flipkart)</td>\n",
       "      <td>Bangalore/Bengaluru(Bellandur)</td>\n",
       "      <td>Allegis Services India Pvt. Ltd.</td>\n",
       "      <td>1-6 Yrs</td>\n",
       "    </tr>\n",
       "    <tr>\n",
       "      <th>7</th>\n",
       "      <td>Business Data Analyst - MIS &amp; Reporting</td>\n",
       "      <td>Mumbai, Bangalore/Bengaluru</td>\n",
       "      <td>INTERTRUST GROUP</td>\n",
       "      <td>3-8 Yrs</td>\n",
       "    </tr>\n",
       "    <tr>\n",
       "      <th>8</th>\n",
       "      <td>Senior Data Analyst</td>\n",
       "      <td>Bangalore/Bengaluru</td>\n",
       "      <td>Flipkart</td>\n",
       "      <td>2-3 Yrs</td>\n",
       "    </tr>\n",
       "    <tr>\n",
       "      <th>9</th>\n",
       "      <td>Senior Associate, Data Hierarchy Analyst( MDM)</td>\n",
       "      <td>Bangalore/Bengaluru</td>\n",
       "      <td>GENPACT India Private Limited</td>\n",
       "      <td>1-3 Yrs</td>\n",
       "    </tr>\n",
       "  </tbody>\n",
       "</table>\n",
       "</div>"
      ],
      "text/plain": [
       "                                          job_title  \\\n",
       "0  Business Data Analyst - Google Data Studio & SQL   \n",
       "1                            Executive Data Analyst   \n",
       "2                               Senior Data Analyst   \n",
       "3                               Data Analyst - I/II   \n",
       "4                                      Data Analyst   \n",
       "5     Hiring For the role - DATA Analyst (Flipkart)   \n",
       "6     Hiring For the role - DATA Analyst (Flipkart)   \n",
       "7           Business Data Analyst - MIS & Reporting   \n",
       "8                               Senior Data Analyst   \n",
       "9    Senior Associate, Data Hierarchy Analyst( MDM)   \n",
       "\n",
       "                                        job_location  \\\n",
       "0                                Bangalore/Bengaluru   \n",
       "1                                Bangalore/Bengaluru   \n",
       "2  Hyderabad/Secunderabad, Pune, Gurgaon/Gurugram...   \n",
       "3                                Bangalore/Bengaluru   \n",
       "4                                Bengaluru/Bangalore   \n",
       "5                     Bangalore/Bengaluru(Bellandur)   \n",
       "6                     Bangalore/Bengaluru(Bellandur)   \n",
       "7                        Mumbai, Bangalore/Bengaluru   \n",
       "8                                Bangalore/Bengaluru   \n",
       "9                                Bangalore/Bengaluru   \n",
       "\n",
       "                          company_name experience_required  \n",
       "0                         AVE-Promagne             3-8 Yrs  \n",
       "1                 Gokaldas Exports Ltd             0-3 Yrs  \n",
       "2  Virtusa Consulting Services Pvt Ltd            8-12 Yrs  \n",
       "3                Philips India Limited             3-6 Yrs  \n",
       "4               IBM India Pvt. Limited             1-4 Yrs  \n",
       "5     Allegis Services India Pvt. Ltd.             1-6 Yrs  \n",
       "6     Allegis Services India Pvt. Ltd.             1-6 Yrs  \n",
       "7                     INTERTRUST GROUP             3-8 Yrs  \n",
       "8                             Flipkart             2-3 Yrs  \n",
       "9        GENPACT India Private Limited             1-3 Yrs  "
      ]
     },
     "execution_count": 34,
     "metadata": {},
     "output_type": "execute_result"
    }
   ],
   "source": [
    "import pandas as pd\n",
    "data_analyst = pd.DataFrame({})\n",
    "data_analyst['job_title']=job_title\n",
    "data_analyst['job_location']=job_location\n",
    "data_analyst['company_name']=company_name\n",
    "data_analyst['experience_required']=experience_required\n",
    "data_analyst"
   ]
  },
  {
   "cell_type": "markdown",
   "metadata": {},
   "source": [
    "# 2. Write a python program to scrape data for “Data Scientist” Job position in “Bangalore” location. You have to scrape the job-title, job-location, company_name, full job-description. You have to scrape first 10 jobs data."
   ]
  },
  {
   "cell_type": "code",
   "execution_count": 58,
   "metadata": {},
   "outputs": [],
   "source": [
    "import selenium\n",
    "import pandas as pd\n",
    "from selenium import webdriver\n",
    "import time\n",
    "from selenium.common.exceptions import NoSuchElementException"
   ]
  },
  {
   "cell_type": "code",
   "execution_count": 315,
   "metadata": {},
   "outputs": [],
   "source": [
    "url = 'https://www.naukri.com/'\n",
    "driver.get(url) "
   ]
  },
  {
   "cell_type": "code",
   "execution_count": 316,
   "metadata": {},
   "outputs": [
    {
     "data": {
      "text/plain": [
       "<selenium.webdriver.remote.webelement.WebElement (session=\"bf9e5472dfa53edd58765aa2fd9a49f6\", element=\"dc01345c-b855-4fef-bca9-a9c32a9f8acd\")>"
      ]
     },
     "execution_count": 316,
     "metadata": {},
     "output_type": "execute_result"
    }
   ],
   "source": [
    "# finding the web element(search jobs) using id\n",
    "search_job=driver.find_element_by_id('qsb-keyword-sugg')\n",
    "search_job"
   ]
  },
  {
   "cell_type": "code",
   "execution_count": 317,
   "metadata": {},
   "outputs": [],
   "source": [
    "search_job.send_keys('Data Scientist')"
   ]
  },
  {
   "cell_type": "code",
   "execution_count": 318,
   "metadata": {},
   "outputs": [
    {
     "data": {
      "text/plain": [
       "<selenium.webdriver.remote.webelement.WebElement (session=\"bf9e5472dfa53edd58765aa2fd9a49f6\", element=\"6fa9fbf5-5ddc-4cb7-b581-50424112dd69\")>"
      ]
     },
     "execution_count": 318,
     "metadata": {},
     "output_type": "execute_result"
    }
   ],
   "source": [
    "search_loc=driver.find_element_by_id('qsb-location-sugg')\n",
    "search_loc"
   ]
  },
  {
   "cell_type": "code",
   "execution_count": 319,
   "metadata": {},
   "outputs": [],
   "source": [
    "search_loc.send_keys('Bangalore')"
   ]
  },
  {
   "cell_type": "code",
   "execution_count": 320,
   "metadata": {},
   "outputs": [
    {
     "data": {
      "text/plain": [
       "<selenium.webdriver.remote.webelement.WebElement (session=\"bf9e5472dfa53edd58765aa2fd9a49f6\", element=\"7d7f815f-2a8c-4acf-8816-2e5139525d42\")>"
      ]
     },
     "execution_count": 320,
     "metadata": {},
     "output_type": "execute_result"
    }
   ],
   "source": [
    "search_bar=driver.find_element_by_xpath('//button[@class=\"btn\"]')\n",
    "search_bar"
   ]
  },
  {
   "cell_type": "code",
   "execution_count": 321,
   "metadata": {},
   "outputs": [],
   "source": [
    "search_bar.click()"
   ]
  },
  {
   "cell_type": "code",
   "execution_count": 322,
   "metadata": {},
   "outputs": [
    {
     "data": {
      "text/plain": [
       "[<selenium.webdriver.remote.webelement.WebElement (session=\"bf9e5472dfa53edd58765aa2fd9a49f6\", element=\"cdfc1436-da7f-463f-a903-b0253d35438a\")>,\n",
       " <selenium.webdriver.remote.webelement.WebElement (session=\"bf9e5472dfa53edd58765aa2fd9a49f6\", element=\"0c35f44d-42bc-4325-95ed-42ee584147ec\")>,\n",
       " <selenium.webdriver.remote.webelement.WebElement (session=\"bf9e5472dfa53edd58765aa2fd9a49f6\", element=\"5c6802fa-7a54-456e-8c71-89b42f7d7186\")>,\n",
       " <selenium.webdriver.remote.webelement.WebElement (session=\"bf9e5472dfa53edd58765aa2fd9a49f6\", element=\"ecfad018-c8d8-471d-a11a-81d169828cf6\")>,\n",
       " <selenium.webdriver.remote.webelement.WebElement (session=\"bf9e5472dfa53edd58765aa2fd9a49f6\", element=\"c90dbd81-741b-42fe-b271-b0e963665007\")>,\n",
       " <selenium.webdriver.remote.webelement.WebElement (session=\"bf9e5472dfa53edd58765aa2fd9a49f6\", element=\"31299cad-b783-427e-b80f-e68c19664cb0\")>,\n",
       " <selenium.webdriver.remote.webelement.WebElement (session=\"bf9e5472dfa53edd58765aa2fd9a49f6\", element=\"4929ed1b-a917-4853-a2ad-a017e5fe95c9\")>,\n",
       " <selenium.webdriver.remote.webelement.WebElement (session=\"bf9e5472dfa53edd58765aa2fd9a49f6\", element=\"59a0c9bc-0e76-4473-9f70-3b3a7a5a0ac8\")>,\n",
       " <selenium.webdriver.remote.webelement.WebElement (session=\"bf9e5472dfa53edd58765aa2fd9a49f6\", element=\"b2f2a557-4ea4-491b-8f9e-d0377e81a449\")>,\n",
       " <selenium.webdriver.remote.webelement.WebElement (session=\"bf9e5472dfa53edd58765aa2fd9a49f6\", element=\"1c6ef7f9-4900-4858-961b-2bfa39d3e3b6\")>,\n",
       " <selenium.webdriver.remote.webelement.WebElement (session=\"bf9e5472dfa53edd58765aa2fd9a49f6\", element=\"080bd77f-6491-41f0-b210-7da2d59391a3\")>,\n",
       " <selenium.webdriver.remote.webelement.WebElement (session=\"bf9e5472dfa53edd58765aa2fd9a49f6\", element=\"12bb69e3-17c1-4817-a3c0-7e0178d5feb7\")>,\n",
       " <selenium.webdriver.remote.webelement.WebElement (session=\"bf9e5472dfa53edd58765aa2fd9a49f6\", element=\"fc7a76f3-2581-4c77-ae79-2aaa3744c11e\")>,\n",
       " <selenium.webdriver.remote.webelement.WebElement (session=\"bf9e5472dfa53edd58765aa2fd9a49f6\", element=\"d587e5d9-2987-4f09-8985-bec991773730\")>,\n",
       " <selenium.webdriver.remote.webelement.WebElement (session=\"bf9e5472dfa53edd58765aa2fd9a49f6\", element=\"35b0a9c2-7cac-4378-97ce-e9104a194ba9\")>,\n",
       " <selenium.webdriver.remote.webelement.WebElement (session=\"bf9e5472dfa53edd58765aa2fd9a49f6\", element=\"d6e6a618-38c1-422b-96f6-06e0395df47c\")>,\n",
       " <selenium.webdriver.remote.webelement.WebElement (session=\"bf9e5472dfa53edd58765aa2fd9a49f6\", element=\"89859387-f589-408b-a74f-4b2720692129\")>,\n",
       " <selenium.webdriver.remote.webelement.WebElement (session=\"bf9e5472dfa53edd58765aa2fd9a49f6\", element=\"a963cabc-85c0-444b-9028-7f7f84f5dd18\")>,\n",
       " <selenium.webdriver.remote.webelement.WebElement (session=\"bf9e5472dfa53edd58765aa2fd9a49f6\", element=\"674067a9-2f7a-46ff-81a2-abe411c759db\")>,\n",
       " <selenium.webdriver.remote.webelement.WebElement (session=\"bf9e5472dfa53edd58765aa2fd9a49f6\", element=\"5aa4a0a7-0559-485c-b643-dbbf8d86e08b\")>]"
      ]
     },
     "execution_count": 322,
     "metadata": {},
     "output_type": "execute_result"
    }
   ],
   "source": [
    "job_title=driver.find_elements_by_xpath('//a[@class=\"title fw500 ellipsis\"]')\n",
    "job_title"
   ]
  },
  {
   "cell_type": "code",
   "execution_count": 323,
   "metadata": {},
   "outputs": [
    {
     "data": {
      "text/plain": [
       "['Hiring For Data Scientist',\n",
       " 'Lead Data Scientist BFSI',\n",
       " 'Associate Data Scientist',\n",
       " 'Data Scientist',\n",
       " 'Data Scientist',\n",
       " 'Data Scientist',\n",
       " 'Data Scientist: Advanced Analytics',\n",
       " 'Senior Data Scientist',\n",
       " 'Senior Data Scientist',\n",
       " 'Sr Data Scientist',\n",
       " 'Sr Data Scientist',\n",
       " 'SENIOR DATA SCIENTIST',\n",
       " 'Senior Data Scientist IN4',\n",
       " 'Senior Data Scientist (Marketplace)',\n",
       " 'Hiring For Manager and Sr. Manager | Data Scientist',\n",
       " 'Requirement For Data Scientist - Mumbai & Bangalore',\n",
       " 'Data Scientist (Python & SQL)',\n",
       " 'Lead Data Scientist - Machine Learning/ Data Mining',\n",
       " 'Data Scientist- Senior Business Analyst/Lead Analyst',\n",
       " 'Data Scientist- Python/R (3+ Years)']"
      ]
     },
     "execution_count": 323,
     "metadata": {},
     "output_type": "execute_result"
    }
   ],
   "source": [
    "A=[]\n",
    "for i in job_title:\n",
    "    A.append(i.text.replace('\\n', \"\"))\n",
    "A"
   ]
  },
  {
   "cell_type": "code",
   "execution_count": 324,
   "metadata": {},
   "outputs": [
    {
     "data": {
      "text/plain": [
       "['Hiring For Data Scientist',\n",
       " 'Lead Data Scientist BFSI',\n",
       " 'Associate Data Scientist',\n",
       " 'Data Scientist',\n",
       " 'Data Scientist',\n",
       " 'Data Scientist',\n",
       " 'Data Scientist: Advanced Analytics',\n",
       " 'Senior Data Scientist',\n",
       " 'Senior Data Scientist',\n",
       " 'Sr Data Scientist']"
      ]
     },
     "execution_count": 324,
     "metadata": {},
     "output_type": "execute_result"
    }
   ],
   "source": [
    "job_Title=A[0:10]\n",
    "job_Title"
   ]
  },
  {
   "cell_type": "code",
   "execution_count": 325,
   "metadata": {},
   "outputs": [
    {
     "data": {
      "text/plain": [
       "[<selenium.webdriver.remote.webelement.WebElement (session=\"bf9e5472dfa53edd58765aa2fd9a49f6\", element=\"14956f92-ea2c-41c9-8e6e-2202e341b2e0\")>,\n",
       " <selenium.webdriver.remote.webelement.WebElement (session=\"bf9e5472dfa53edd58765aa2fd9a49f6\", element=\"cb8d5613-6e7f-4a72-9cdc-eeb18c750c53\")>,\n",
       " <selenium.webdriver.remote.webelement.WebElement (session=\"bf9e5472dfa53edd58765aa2fd9a49f6\", element=\"9c41fe10-13cf-49f1-902b-73786ce87924\")>,\n",
       " <selenium.webdriver.remote.webelement.WebElement (session=\"bf9e5472dfa53edd58765aa2fd9a49f6\", element=\"ac7f9af9-0145-4a2a-9bc5-74dd18f98394\")>,\n",
       " <selenium.webdriver.remote.webelement.WebElement (session=\"bf9e5472dfa53edd58765aa2fd9a49f6\", element=\"3dbb6588-869e-4591-9ddc-421bf533c8f7\")>,\n",
       " <selenium.webdriver.remote.webelement.WebElement (session=\"bf9e5472dfa53edd58765aa2fd9a49f6\", element=\"c3a35f0e-1ca0-4a22-b0bd-f7fa5b961793\")>,\n",
       " <selenium.webdriver.remote.webelement.WebElement (session=\"bf9e5472dfa53edd58765aa2fd9a49f6\", element=\"78dd78b5-fcef-407a-af04-ce498efa0221\")>,\n",
       " <selenium.webdriver.remote.webelement.WebElement (session=\"bf9e5472dfa53edd58765aa2fd9a49f6\", element=\"2ba6b697-fed2-4ff5-828b-627d449a7288\")>,\n",
       " <selenium.webdriver.remote.webelement.WebElement (session=\"bf9e5472dfa53edd58765aa2fd9a49f6\", element=\"1a4389fe-e221-48da-9d3a-ba4751c06b77\")>,\n",
       " <selenium.webdriver.remote.webelement.WebElement (session=\"bf9e5472dfa53edd58765aa2fd9a49f6\", element=\"a083c84f-44ed-405b-b67e-047c03d14acf\")>,\n",
       " <selenium.webdriver.remote.webelement.WebElement (session=\"bf9e5472dfa53edd58765aa2fd9a49f6\", element=\"e881bc72-2c77-4608-954e-cc229a93a77a\")>,\n",
       " <selenium.webdriver.remote.webelement.WebElement (session=\"bf9e5472dfa53edd58765aa2fd9a49f6\", element=\"d33cbe7c-e3ea-44f8-8540-fdf4c2b90887\")>,\n",
       " <selenium.webdriver.remote.webelement.WebElement (session=\"bf9e5472dfa53edd58765aa2fd9a49f6\", element=\"890e6134-9286-4c95-9241-91d4824f0990\")>,\n",
       " <selenium.webdriver.remote.webelement.WebElement (session=\"bf9e5472dfa53edd58765aa2fd9a49f6\", element=\"0ab64153-f8fc-4409-ac6d-67b1775de1d0\")>,\n",
       " <selenium.webdriver.remote.webelement.WebElement (session=\"bf9e5472dfa53edd58765aa2fd9a49f6\", element=\"a8c9fab9-6922-45d5-83b1-ea81afd29135\")>,\n",
       " <selenium.webdriver.remote.webelement.WebElement (session=\"bf9e5472dfa53edd58765aa2fd9a49f6\", element=\"16578aa4-33be-4eee-9291-3bab3c8c48ef\")>,\n",
       " <selenium.webdriver.remote.webelement.WebElement (session=\"bf9e5472dfa53edd58765aa2fd9a49f6\", element=\"b1e020c8-8ec8-4bf2-b607-b048caf6bf56\")>,\n",
       " <selenium.webdriver.remote.webelement.WebElement (session=\"bf9e5472dfa53edd58765aa2fd9a49f6\", element=\"c05dc234-a511-45bc-ae98-a7886b2c94b7\")>,\n",
       " <selenium.webdriver.remote.webelement.WebElement (session=\"bf9e5472dfa53edd58765aa2fd9a49f6\", element=\"d9438496-1f55-4f58-8d43-1863389e00ef\")>,\n",
       " <selenium.webdriver.remote.webelement.WebElement (session=\"bf9e5472dfa53edd58765aa2fd9a49f6\", element=\"05603357-b58b-4b9a-bd18-2705be0c1baa\")>]"
      ]
     },
     "execution_count": 325,
     "metadata": {},
     "output_type": "execute_result"
    }
   ],
   "source": [
    "job_loc=driver.find_elements_by_xpath('//li[@class=\"fleft grey-text br2 placeHolderLi location\"]')\n",
    "job_loc"
   ]
  },
  {
   "cell_type": "code",
   "execution_count": 326,
   "metadata": {},
   "outputs": [
    {
     "data": {
      "text/plain": [
       "['Chennai, Bangalore/Bengaluru, Mumbai (All Areas)(WFH during Covid)',\n",
       " 'Bengaluru/Bangalore',\n",
       " 'Bangalore/Bengaluru',\n",
       " 'Bangalore/Bengaluru',\n",
       " 'Bangalore/Bengaluru',\n",
       " 'Bangalore/Bengaluru',\n",
       " 'Bengaluru/Bangalore',\n",
       " 'Bangalore/Bengaluru',\n",
       " 'Bangalore/Bengaluru',\n",
       " 'Bengaluru/Bangalore',\n",
       " 'Bangalore/Bengaluru',\n",
       " 'Bangalore/Bengaluru',\n",
       " 'Bangalore/Bengaluru',\n",
       " 'Bangalore/Bengaluru',\n",
       " 'Noida, Mumbai, New Delhi, Gurgaon/Gurugram, Bangalore/Bengaluru',\n",
       " 'Bangalore/Bengaluru, Mumbai (All Areas)',\n",
       " 'Hyderabad/Secunderabad, Chennai, Bangalore/Bengaluru',\n",
       " 'Bangalore/Bengaluru',\n",
       " 'Gurgaon/Gurugram, Bangalore/Bengaluru',\n",
       " 'Bangalore/Bengaluru, Delhi / NCR, Mumbai (All Areas)']"
      ]
     },
     "execution_count": 326,
     "metadata": {},
     "output_type": "execute_result"
    }
   ],
   "source": [
    "B=[]\n",
    "for i in job_loc:\n",
    "    B.append(i.text.replace('\\n', \"\"))\n",
    "B"
   ]
  },
  {
   "cell_type": "code",
   "execution_count": 327,
   "metadata": {},
   "outputs": [
    {
     "data": {
      "text/plain": [
       "['Chennai, Bangalore/Bengaluru, Mumbai (All Areas)(WFH during Covid)',\n",
       " 'Bengaluru/Bangalore',\n",
       " 'Bangalore/Bengaluru',\n",
       " 'Bangalore/Bengaluru',\n",
       " 'Bangalore/Bengaluru',\n",
       " 'Bangalore/Bengaluru',\n",
       " 'Bengaluru/Bangalore',\n",
       " 'Bangalore/Bengaluru',\n",
       " 'Bangalore/Bengaluru',\n",
       " 'Bengaluru/Bangalore']"
      ]
     },
     "execution_count": 327,
     "metadata": {},
     "output_type": "execute_result"
    }
   ],
   "source": [
    "job_location = B[0:10]\n",
    "job_location"
   ]
  },
  {
   "cell_type": "code",
   "execution_count": 328,
   "metadata": {},
   "outputs": [
    {
     "data": {
      "text/plain": [
       "[<selenium.webdriver.remote.webelement.WebElement (session=\"bf9e5472dfa53edd58765aa2fd9a49f6\", element=\"a56fb9bb-4a6e-4883-80b1-dc224ce6c981\")>,\n",
       " <selenium.webdriver.remote.webelement.WebElement (session=\"bf9e5472dfa53edd58765aa2fd9a49f6\", element=\"b22ec8a2-2abc-413c-a579-5d4598e09807\")>,\n",
       " <selenium.webdriver.remote.webelement.WebElement (session=\"bf9e5472dfa53edd58765aa2fd9a49f6\", element=\"41bd51d9-9ea0-481f-97f3-aa55bd8e2289\")>,\n",
       " <selenium.webdriver.remote.webelement.WebElement (session=\"bf9e5472dfa53edd58765aa2fd9a49f6\", element=\"3af1e572-3769-43a8-a2cd-189f0a61829f\")>,\n",
       " <selenium.webdriver.remote.webelement.WebElement (session=\"bf9e5472dfa53edd58765aa2fd9a49f6\", element=\"0d6c10cd-f7d4-4533-88c1-6c45cf9dcc5b\")>,\n",
       " <selenium.webdriver.remote.webelement.WebElement (session=\"bf9e5472dfa53edd58765aa2fd9a49f6\", element=\"b4a4f08a-baea-48ce-a87d-00c76ced1c12\")>,\n",
       " <selenium.webdriver.remote.webelement.WebElement (session=\"bf9e5472dfa53edd58765aa2fd9a49f6\", element=\"1885ac18-7c87-4337-aa0f-29695c2fd9e7\")>,\n",
       " <selenium.webdriver.remote.webelement.WebElement (session=\"bf9e5472dfa53edd58765aa2fd9a49f6\", element=\"26048f9b-8bd4-4335-b1a6-0fa8e43516a5\")>,\n",
       " <selenium.webdriver.remote.webelement.WebElement (session=\"bf9e5472dfa53edd58765aa2fd9a49f6\", element=\"bab005b0-4cb5-48a1-879c-40d257938a32\")>,\n",
       " <selenium.webdriver.remote.webelement.WebElement (session=\"bf9e5472dfa53edd58765aa2fd9a49f6\", element=\"a037ead4-eb6c-4a29-bae2-16cd371c72b0\")>,\n",
       " <selenium.webdriver.remote.webelement.WebElement (session=\"bf9e5472dfa53edd58765aa2fd9a49f6\", element=\"ad7f0eb1-ff0f-4124-9f8d-f858e2ecbd5d\")>,\n",
       " <selenium.webdriver.remote.webelement.WebElement (session=\"bf9e5472dfa53edd58765aa2fd9a49f6\", element=\"717c56e0-8a26-4229-ad7b-4ad1b1655a23\")>,\n",
       " <selenium.webdriver.remote.webelement.WebElement (session=\"bf9e5472dfa53edd58765aa2fd9a49f6\", element=\"970c1a51-9598-4ac8-b478-b3d931049bb8\")>,\n",
       " <selenium.webdriver.remote.webelement.WebElement (session=\"bf9e5472dfa53edd58765aa2fd9a49f6\", element=\"2dacc81e-2169-4b22-bedf-c202152ae361\")>,\n",
       " <selenium.webdriver.remote.webelement.WebElement (session=\"bf9e5472dfa53edd58765aa2fd9a49f6\", element=\"232e2ded-574c-48aa-a49d-77d85d2f4f00\")>,\n",
       " <selenium.webdriver.remote.webelement.WebElement (session=\"bf9e5472dfa53edd58765aa2fd9a49f6\", element=\"9401a524-a15e-41f3-91c9-e7ffd4fa8b6a\")>,\n",
       " <selenium.webdriver.remote.webelement.WebElement (session=\"bf9e5472dfa53edd58765aa2fd9a49f6\", element=\"b824b15f-7056-41e8-86f5-defb42292a94\")>,\n",
       " <selenium.webdriver.remote.webelement.WebElement (session=\"bf9e5472dfa53edd58765aa2fd9a49f6\", element=\"d436946d-c19d-4a1d-9cfc-3a118d3ce414\")>,\n",
       " <selenium.webdriver.remote.webelement.WebElement (session=\"bf9e5472dfa53edd58765aa2fd9a49f6\", element=\"3579d647-00f2-4db2-a6be-1d12451759c9\")>,\n",
       " <selenium.webdriver.remote.webelement.WebElement (session=\"bf9e5472dfa53edd58765aa2fd9a49f6\", element=\"4f7f82a8-baa3-44e4-a333-278b11dc6cf0\")>]"
      ]
     },
     "execution_count": 328,
     "metadata": {},
     "output_type": "execute_result"
    }
   ],
   "source": [
    "companyname=driver.find_elements_by_xpath('//a[@class=\"subTitle ellipsis fleft\"]')\n",
    "companyname"
   ]
  },
  {
   "cell_type": "code",
   "execution_count": 329,
   "metadata": {},
   "outputs": [
    {
     "data": {
      "text/plain": [
       "['Tata Consultancy Services Ltd.',\n",
       " 'IBM India Pvt. Limited',\n",
       " 'Philips India Limited',\n",
       " 'Brillio',\n",
       " 'Allegis Services India Pvt. Ltd.',\n",
       " 'Allegis Services India Pvt. Ltd.',\n",
       " 'IBM India Pvt. Limited',\n",
       " 'Walmart Labs',\n",
       " 'Airbnb',\n",
       " 'IBM India Pvt. Limited',\n",
       " 'IBM India Pvt. Limited',\n",
       " 'Happiest Minds Technologies Pvt.Ltd',\n",
       " 'Walmart Labs',\n",
       " 'Walmart Labs',\n",
       " 'Vision Beyond Resources India Private Limited',\n",
       " 'CRISIL LIMITED',\n",
       " 'AVE-Promagne',\n",
       " 'Wrackle Technologies Pvt Ltd',\n",
       " 'Evalueserve.com Pvt. Ltd',\n",
       " 'CRESCENDO GLOBAL LEADERSHIP HIRING INDIA PRIVATE L IMITED']"
      ]
     },
     "execution_count": 329,
     "metadata": {},
     "output_type": "execute_result"
    }
   ],
   "source": [
    "C=[]\n",
    "for i in companyname:\n",
    "    C.append(i.text.replace('\\n', \"\"))\n",
    "C"
   ]
  },
  {
   "cell_type": "code",
   "execution_count": 330,
   "metadata": {},
   "outputs": [
    {
     "data": {
      "text/plain": [
       "['Tata Consultancy Services Ltd.',\n",
       " 'IBM India Pvt. Limited',\n",
       " 'Philips India Limited',\n",
       " 'Brillio',\n",
       " 'Allegis Services India Pvt. Ltd.',\n",
       " 'Allegis Services India Pvt. Ltd.',\n",
       " 'IBM India Pvt. Limited',\n",
       " 'Walmart Labs',\n",
       " 'Airbnb',\n",
       " 'IBM India Pvt. Limited']"
      ]
     },
     "execution_count": 330,
     "metadata": {},
     "output_type": "execute_result"
    }
   ],
   "source": [
    "company_name=C[0:10]\n",
    "company_name"
   ]
  },
  {
   "cell_type": "code",
   "execution_count": 331,
   "metadata": {},
   "outputs": [],
   "source": [
    "url=[]\n",
    "for i in driver.find_elements_by_xpath('//a[@class=\"title fw500 ellipsis\"]'):\n",
    "    url.append(i.get_attribute('href'))"
   ]
  },
  {
   "cell_type": "code",
   "execution_count": 332,
   "metadata": {},
   "outputs": [
    {
     "data": {
      "text/plain": [
       "['https://www.naukri.com/job-listings-hiring-for-data-scientist-tata-consultancy-services-chennai-bangalore-bengaluru-mumbai-all-areas-3-to-8-years-110921000464?src=jobsearchDesk&sid=16315411904538366&xp=1&px=1',\n",
       " 'https://www.naukri.com/job-listings-lead-data-scientist-bfsi-ibm-india-pvt-limited-bengaluru-bangalore-5-to-9-years-070921901691?src=jobsearchDesk&sid=16315411904538366&xp=2&px=1',\n",
       " 'https://www.naukri.com/job-listings-associate-data-scientist-philips-india-limited-bangalore-bengaluru-3-to-5-years-060921501985?src=jobsearchDesk&sid=16315411904538366&xp=3&px=1',\n",
       " 'https://www.naukri.com/job-listings-data-scientist-brillio-technologies-pvt-ltd-bangalore-bengaluru-3-to-8-years-130921905402?src=jobsearchDesk&sid=16315411904538366&xp=4&px=1',\n",
       " 'https://www.naukri.com/job-listings-data-scientist-allegis-services-india-pvt-ltd-bangalore-bengaluru-4-to-8-years-130921603395?src=jobsearchDesk&sid=16315411904538366&xp=5&px=1',\n",
       " 'https://www.naukri.com/job-listings-data-scientist-allegis-services-india-pvt-ltd-bangalore-bengaluru-4-to-8-years-130921003393?src=jobsearchDesk&sid=16315411904538366&xp=6&px=1',\n",
       " 'https://www.naukri.com/job-listings-data-scientist-advanced-analytics-ibm-india-pvt-limited-bengaluru-bangalore-3-to-7-years-070921901677?src=jobsearchDesk&sid=16315411904538366&xp=7&px=1',\n",
       " 'https://www.naukri.com/job-listings-senior-data-scientist-walmart-labs-bangalore-bengaluru-6-to-10-years-090921501063?src=jobsearchDesk&sid=16315411904538366&xp=8&px=1',\n",
       " 'https://www.naukri.com/job-listings-senior-data-scientist-airbnb-bangalore-bengaluru-7-to-12-years-080921500017?src=jobsearchDesk&sid=16315411904538366&xp=9&px=1',\n",
       " 'https://www.naukri.com/job-listings-sr-data-scientist-ibm-india-pvt-limited-bengaluru-bangalore-6-to-8-years-010921906637?src=jobsearchDesk&sid=16315411904538366&xp=10&px=1',\n",
       " 'https://www.naukri.com/job-listings-sr-data-scientist-ibm-india-pvt-limited-bangalore-bengaluru-6-to-8-years-010921906105?src=jobsearchDesk&sid=16315411904538366&xp=11&px=1',\n",
       " 'https://www.naukri.com/job-listings-senior-data-scientist-happiest-minds-technologies-pvt-ltd-bangalore-bengaluru-5-to-10-years-070921501517?src=jobsearchDesk&sid=16315411904538366&xp=12&px=1',\n",
       " 'https://www.naukri.com/job-listings-senior-data-scientist-in4-walmart-labs-bangalore-bengaluru-7-to-10-years-090921501064?src=jobsearchDesk&sid=16315411904538366&xp=13&px=1',\n",
       " 'https://www.naukri.com/job-listings-senior-data-scientist-marketplace-walmart-labs-bangalore-bengaluru-4-to-8-years-090921500549?src=jobsearchDesk&sid=16315411904538366&xp=14&px=1',\n",
       " 'https://www.naukri.com/job-listings-hiring-for-manager-and-sr-manager-data-scientist-vision-beyond-resources-india-private-limited-noida-mumbai-new-delhi-gurgaon-gurugram-bangalore-bengaluru-8-to-13-years-090921005986?src=jobsearchDesk&sid=16315411904538366&xp=15&px=1',\n",
       " 'https://www.naukri.com/job-listings-requirement-for-data-scientist-mumbai-bangalore-crisil-limited-bangalore-bengaluru-mumbai-all-areas-2-to-6-years-080921005523?src=jobsearchDesk&sid=16315411904538366&xp=16&px=1',\n",
       " 'https://www.naukri.com/job-listings-data-scientist-python-sql-ave-promagne-hyderabad-secunderabad-chennai-bangalore-bengaluru-6-to-8-years-060921904967?src=jobsearchDesk&sid=16315411904538366&xp=17&px=1',\n",
       " 'https://www.naukri.com/job-listings-lead-data-scientist-machine-learning-data-mining-wrackle-technologies-pvt-ltd-bangalore-bengaluru-6-to-11-years-080221900886?src=jobsearchDesk&sid=16315411904538366&xp=18&px=1',\n",
       " 'https://www.naukri.com/job-listings-data-scientist-senior-business-analyst-lead-analyst-evalueserve-com-pvt-ltd-gurgaon-gurugram-bangalore-bengaluru-2-to-7-years-110821005065?src=jobsearchDesk&sid=16315411904538366&xp=19&px=1',\n",
       " 'https://www.naukri.com/job-listings-data-scientist-python-r-3-years-crescendo-global-leadership-hiring-india-private-l-imited-bangalore-bengaluru-delhi-ncr-mumbai-all-areas-3-to-8-years-110921000469?src=jobsearchDesk&sid=16315411904538366&xp=20&px=1']"
      ]
     },
     "execution_count": 332,
     "metadata": {},
     "output_type": "execute_result"
    }
   ],
   "source": [
    "url"
   ]
  },
  {
   "cell_type": "code",
   "execution_count": 333,
   "metadata": {},
   "outputs": [],
   "source": [
    "import time\n",
    "from selenium.common.exceptions import NoSuchElementException"
   ]
  },
  {
   "cell_type": "code",
   "execution_count": 334,
   "metadata": {},
   "outputs": [],
   "source": [
    "desc=[]\n",
    "for i in url:\n",
    "    driver.get(i)\n",
    "    time.sleep(3)\n",
    "    try:\n",
    "        job_desc=driver.find_element_by_xpath('//section[@class=\"job-desc\"]')\n",
    "        desc.append(job_desc.text.replace('/n', \"\"))\n",
    "    except:\n",
    "        desc.append('-')"
   ]
  },
  {
   "cell_type": "code",
   "execution_count": 335,
   "metadata": {},
   "outputs": [
    {
     "data": {
      "text/plain": [
       "['Job description\\nMinumum 3 years of experience in Data Science/Machine learning\\n\\nLocation : PAN INDIA\\nExp : 3 - 7 Years\\n\\nMinimum 3 year of experience in being Applied Machine Learning Engineer role\\nResearch, develop, and implement prediction, optimization, and analytics tools.\\nDocument and communicate methodology and results to technical and non-technical audiences\\nGuide and implement best practices of curated data and evaluate ML models on large-scale data\\nLead design and implementation of Machine Learning algorithms, combining with rule-based optimization to deliver significant improvement in\\nproduct metrics\\nWrite production ready high quality, maintainable and scalable code.\\nDesign and analyze metrics to verify model and algorithm effectiveness.\\nExperience with data analysis languages such as Python or Scala\\nExperience with Machine Learning tools (Azure ML, SageMaker, TensorFlow, Kubernetes, etc.)\\nExperience with Machine Learning Languages (R, Python, .Net Core, etc.)\\n\\nRoleProduct Manager\\nIndustry TypeIT Services & Consulting\\nFunctional AreaIT Software - Application Programming, Maintenance\\nEmployment TypeFull Time, Permanent\\nRole CategoryProgramming & Design\\nEducation\\nUG :Any Graduate\\nKey Skills\\nData ScienceMachine LearningPython\\nTensorflowAlgorithmsSCALAData AnalysisAnalyticsKubernetes\\nSkills highlighted with ‘‘ are preferred keyskills',\n",
       " '-',\n",
       " 'Job description\\nUse predictive modeling to increase and optimize customer experiences, revenue generation, campaign optimization and other business outcomes\\nWork with product management to develop data use cases and embed predictive models in workflows on resource constrained platforms and cloud enabled.\\nSelecting features, building and optimizing classifiers using machine learning and deep learning techniques\\nCollaborates with Data Engineers to enhance data collection and ingestion/curation techniques to include information that is relevant for building analytic systems\\nProcessing, cleansing, and verifying the integrity of data used for analysis\\nDevelop processes and tools to monitor and analyze model performance and data accuracy. Life cycle management of predictive models.\\nAdherence to compliance procedures in accordance with regulatory standards, requirements, and policies. Managing and designing the reporting environment, including data sources security, and metadata.\\nJob Qualifications:\\nMaster s degree or PhD in Computer Science, Information management, Statistics or related field, with 3 to 5 years of experience in the Consumer or Healthcare industry manipulating data sets and building predictive models with focus on product development\\nExperience in statistical modelling, machine learning, data mining, unstructured data analytics and natural language processing. Sound understanding of - Bayesian Modelling, Classification Models, Cluster Analysis, Neural Network, Nonparametric Methods, Multivariate Statistics, etc.\\nStrong hands on knowledge of ML techniques like regression algorithms, K-NN, Na ve Bayes, SVM and ensemble techniques like Random forest, AdaBoost etc\\nHaving strong knowledge in unsupervised learning algorithms using Neural networks and Deep-Learning\\nStrong knowledge in Data Wrangling and Exploration techniques to identify the patterns, trends and outliners.\\nDeep knowledge and practical experience with data science toolkits, such as NumPy, Pandas, scikit-learn or equivalent\\nExperience with data visualization tools, such as QlikView, Matplotlib, seaborn or equivalent tools.\\nProficiency in using query languages, such as SQL, PL/SQL\\nHands on experience in the one or more databases like Hadoop, AWS Redshift, Snowflake etc.\\nGood applied statistics skills, such as distributions, statistical testing, regression, etc.\\nGood ETL scripting and programming skills, such as Python, R or Scala to integrate developed solution into the proposition.\\nA team player capable of working and integrating across cross-functional team for implementing project requirements. Experience in technical requirements gathering and documentation.\\nAbility to work effectively and independently in a fast-paced global collaborative agile team environment with tight deadlines\\nA flexible, pragmatic and collaborative team player with innate ability to engage with stakeholders at all levels in the organization.\\nA self-starter with high levels of drive, energy, resilience and a desire for professional excellence with a passion for data and data science\\nRoleClinical Research Associate/Scientist\\nIndustry TypeMedical Services / Hospital\\nFunctional AreaMedical, Healthcare, R&D, Pharmaceuticals, Biotechnology\\nEmployment TypeFull Time, Permanent\\nRole CategoryR&D\\nEducation\\nUG :Any Graduate\\nPG :Post Graduation Not Required\\nKey Skills\\nProduct managementComputer sciencemetadataMachine learningAgilePLSQLHealthcareQlikViewData miningPython',\n",
       " 'Job description\\nA day in the Life of Data Scientist at Brillio, you will:\\n• Partner closely with project managers to deconstruct business problems of the client, develop data models and algorithms that deliver meaningful insights\\n• Take ownership of whole end-to-end predictive modeling projects - from data processing, training, optimization to real-time monitoring and maintenance\\n• Develop solutions to data driven problems, and communicate relevant insights to stakeholders through storyboards/presentations\\n• Stay abreast with current technical and industry development and constantly strive to devise innovative statistical models for data analysis\\n• Actively participate in external forums and industry conclaves\\nFor you to be successful, you must:\\n• Create value by meeting needs of stakeholders and delivering high-quality results\\n• Open and flexible to accommodate and implement new ideas, understand business complexities, nurture innovation and challenge the status quo persistently\\n• Strive to be subject matter expert in chosen area of specialty through continuous learning\\n• Have an eye for detail to ensure accurate conclusions in data analysis and presentations. Disseminate knowledge and share own experiential learning with others\\nYou’ll bring this to the table:\\n• Critical Thinking: ability to work in ambiguous situations with unstructured problems\\n• Strong analytical skills with the ability to collect, organize, review significant amounts of information\\n• Experience using statistical computer language Python to manipulate data and draw insights from large data sets.\\n• Working knowledge in basic statistical concepts such as properties of distributions, statistical tests and their proper usage\\n• Expertise in some of the advanced machine learning techniques such as Clustering, Regression/Classification, Time Series Analysis, Network Analysis, Popular Deep Learning architectures and theory, simulation, scenario analysis\\n• Clear, professional written and verbal communication skills, ability to easily communicate complex ideas\\n• Experience with any distributed data/computing tools: Map/Reduce, Hadoop, Hive, Spark, etc.\\n• Experience with machine learning on Cloud.\\nRoleData Analyst\\nIndustry TypeIT Services & Consulting\\nFunctional AreaAnalytics & Business Intelligence\\nEmployment TypeFull Time, Permanent\\nRole CategoryAnalytics & BI\\nEducation\\nUG :Any Graduate\\nPG :Any Postgraduate\\nKey Skills\\nPredictive ModelingHiveTime Series AnalysisClassificationHadoopData AnalysisSparkMachine LearningDeep LearningPython',\n",
       " \"Job description\\n\\nMust Have skill sets:\\n\\nExcellent knowledge of various statistical / Machine Learning / Deep Learning algorithms such as Feature Engineering/selection, Time series, Regression, Classification, Clustering, Recommendation Engine, Anomaly Detection, NLP, Reinforcement Learning etc.)\\n4 to 8 years of hands-on expertise in developing data science models by applying above mentioned algorithms on structured / text data, using R / Python\\nProficient in writing optimized query using any one of the DB query language (Hive/Impala/SQL/MongoDB etc.). Knowledge of big data is essential\\n\\nGood to Have skill sets:\\n\\nVisualization using any one of the technologies (Tableau, PowerBI, RShiny, matplotlib, ggplot etc.). In case of lack of skills, eagerness to learn is must\\nInsight Generation and Story telling to end consumers\\nExperience across end to end data science project life cycle (use case framing, data collection, data exploration, design of experiments, model development, selection and deployment, post production support)\\nSelf-motivated to learn different techniques / technologies, as per the project's need and go extra mile to bring customer delight\\n\\nEducational Qualification:\\n\\nAny of the following:\\n• Bachelors in Engineering / MCA\\n• Masters in Data Science/ Computer Applications/ Statistics/ Mathematics/ Economics/ Ops Research/ Other quantitative disciplines\\n• MBA\\n\\nJob Responsibilities:\\nOwn and execute end to end delivery of one or more than one data science model development, as per requirement provided by project/product manager\\nUnderstand business requirements from Product Managers/Business Users\\nExtract data from multiple data sources using Hadoop / SQL\\nDevelop, Validate and Operationalize predictive models using appropriate variables and ML/deep learning techniques\\nPerform ad-hoc deep dive analysis and generate actionable insights\\nCreate technical documentation and provide post-production support for a time-bound period\\nCommunicate the results to technical as well as business stakeholders across different hierarchies\\nRoleData Analyst\\nIndustry TypeRecruitment / Staffing\\nFunctional AreaAnalytics & Business Intelligence\\nEmployment TypeFull Time, Permanent\\nRole CategoryAnalytics & BI\\nEducation\\nUG :B.Tech/B.E. in Any Specialization\\nKey Skills\\nData ScienceMachine LearningPython\\nAnomaly DetectionMatplotlibRNLPReinforcement LearningDeep LearningSQL\\nSkills highlighted with ‘‘ are preferred keyskills\",\n",
       " '-',\n",
       " '-',\n",
       " 'Job description\\nAs a Senior Data Scientist for Walmart, you ll have the opportunity to:\\nDrive data-derived insights across a wide range of divisions by developing advanced statistical models, machine learning algorithms and computational algorithms based on business initiatives\\nDirect the gathering of data, assessing data validity and synthesizing data into large analytics datasets to support project goals\\nUtilize big data analytics and advanced data science techniques to identify trends, patterns, and discrepancies in data. Determine additional data needed to support insights\\nBuild and train statistical models and machine learning algorithms\\nApply your semantic, natural language processing and understanding expertise where required\\nUse deep learning and image recognition project goals\\nComputer Vision will be an important focus area for this role\\nProductionize the models and make those available at scale\\nBuild and maintain end to end Machine Learning pipelines\\nBe comfortable with ambiguity and uncertainty and the eagerness to change the world in a huge way by being a self-motivated learner and builder\\nCommunicate recommendations to business partners and influencing future plans based on insights\\nYour Responsibility\\nPlay a key role to solve complex problems, pivotal to Walmart s business and drive actionable insights from petabytes of data\\nUtilize product mindset to build, scale and deploy holistic data science products after successful prototyping\\nDemonstrate incremental solution approach with agile and flexible ability to overcome practical problems\\nPartner with senior team members to assess customer needs and define business questions\\nClearly articulate and present recommendations to business partners, and influence future plans based on insights\\nWork with customer centric mindset to deliver high quality business driven analytic solution\\nDrive innovation in approach, method, practices, process, outcome, delivery, or any component of end-to-end problem solving\\nDemonstrates up-to-date expertise and applies this to the development, execution, and improvement of action plans\\nPreferred Qualifications\\nBachelors degree in Statistics, Mathematics, Computer Science or a related field and 8 years experience in an analytics/DS related field, or,\\nMasters degree in Statistics, Mathematics, Computer Science or a related field and 6 years experience in an analytics/DS related field.\\nHigh proficiency in data mining, modeling, validation and insight generation.\\nExcellent working knowledge of statistics, mathematics, machine learning, data mining, deep learning\\nHigh proficiency in coding including Python and SQL\\nExperience with databases (for example, DB2, Oracle, SQL Server)\\nExperience with Big Data technologies such as Pig, Hive and/or Spark\\nAbility to work with large data sets. Has sound understanding of big data technology stack\\nUnderstanding of cloud computing platforms and large-scale databases\\nProven ability to collaborate and work in teams\\nExcellent with communications and stakeholder engagement\\nData science publications in recognized platforms/journals\\nProven ability to work in agile mode on data science sprint projects\\nRoleDatabase Architect/Designer\\nIndustry TypeIT Services & Consulting\\nFunctional AreaIT Software - DBA, Datawarehousing\\nEmployment TypeFull Time, Permanent\\nRole CategoryProgramming & Design\\nEducation\\nUG :Any Graduate\\nPG :Any Postgraduate\\nKey Skills\\nProcurementComputer scienceCloud computingData analysisdata scienceDb2CodingAgileData miningPython',\n",
       " 'Job description\\nResponsibilities include:\\nDefining and evaluating key metrics and understanding what moves them and why\\nOwnership of conceptualizing, developing, and maintaining dashboards and visualizations\\nInvestigating evolving fraud trends to extract patterns, identify root causes and propose actionable solutions\\nCommunicating analyses and recommendations to cross functional stakeholders for decision making\\nEmpowering the team to answer data questions quickly and easily by building high-quality ground truth data sets\\nHere are example traits we value:\\nProfessional industry experience in a quantitative analysis role (7+ years preferred)\\nComfortable in SQL and some experience with a programming language (Python or R a plus)\\nAbility to communicate clearly and effectively to cross functional partners of varying technical levels\\nAbility to define relevant metrics that can guide and influence stakeholders to the appropriate and accurate insights\\nExperience or willingness to learn tools to create data pipelines using Airflow\\nBuilding clear and easy to understand dashboards (Tableau) and presentations\\nRoleGraphic/Web Designer\\nIndustry TypeInternet\\nFunctional AreaIT Software - DBA, Datawarehousing\\nEmployment TypeFull Time, Permanent\\nRole CategoryProgramming & Design\\nEducation\\nUG :Any Graduate\\nPG :Any Postgraduate\\nKey Skills\\nData ScienceRData ScientistTableauPythonSql',\n",
       " '-',\n",
       " '-',\n",
       " 'Job description\\n  Skills\\nRequired Skills: Data Science, Machine Learning, Deep Learning, Python, NLP\\nDesired Skills: Computer Vision\\nRoles and responsibilities\\nExperience in Data Modelling, R, Python, SQL, Data Science, Machine Learning, Deep Learning, NLP, Statistics\\nHave ability to solve Business problems using Data\\nShould possess extensive knowledge of and experience in applying data mining and machine learning techniques on large amount of datasets\\nHigh level of proficiency in statistical tools like R, Python\\nCandidate will be expected to communicate analytical results in a way that is meaningful for business stakeholders and provides actionable insights.\\nHave the ability to discover new opportunities where advanced analytical techniques can be leveraged for solving business problems\\nGood to Have\\nExpertise in programming languages like Java/C/C /Python\\nExperience with relational databases and SQL is good to have\\nExperience in audio and video analytics\\nRelevant experience in Big Data platforms like Hadoop eco-system\\nCome up with innovative algorithms and solutions\\nStaffing Type:Permanent\\nRoleClinical Research Associate/Scientist\\nIndustry TypeIT Services & Consulting\\nFunctional AreaMedical, Healthcare, R&D, Pharmaceuticals, Biotechnology\\nEmployment TypeFull Time, Permanent\\nRole CategoryR&D\\nEducation\\nUG :Any Graduate\\nPG :Any Postgraduate\\nKey Skills\\nHospitalityNSEStaffingBfsiAnalyticalAgileData miningAnalyticsAutomotiveSQL',\n",
       " 'Job description\\nDesign, coordinate, and implement data driven business and technology solutions to support innovation initiatives\\nCommunicate complex models, analysis and recommendations in a clear and precise manner\\nProvide thought leadership in statistical modeling and machine learning/ AI. NLP and Deep Learning are the two focus areas\\nDeliver actionable insights to stakeholders through rich visualization and presentation\\nManage priorities between research and deliverables effectively\\nCollaborate actively with topic owners to understand and develop advanced analytics / data science\\nYour Qualifications\\nBachelor s degree in Engineering / Analytics or Master s Degree in Statistics/Computer Applications/ IT/Analytics /any discipline related to Data Science / Analytics.\\n7 years of progressive experience in Machine learning/Deep learning preferably working with packages like NLTK, BERT, ELMo etc\\nFluent in Python and have experience with NLP libraries like , Spacy, Genism, Glove, doc2vec etc.\\nExposure to Microsoft LUIS will be preferred\\nPossess advanced knowledge of the HuggingFace libraries and concepts like tokens, tokenization, stemming, lemmatization, regex.\\nSolid command on statistics and ability to connect theory and practice of data mining, machine learning to solve real-world use case\\nl Strong working knowledge of Python (BERT, GPT, genism, SpaCy, tensorflow, Theano, PyTorch, SciPy, scikit-learn, pandas), SQL, Unix (awk, sed, bash) for data wrangling, data analysis, modeling.\\nKnowledgeable in Natural Language processing (NLP) and quantitative analysis\\nPrevious experience building chatbots for Customer Service / specific business verticals (Bonus)\\nInteresting side projects or Kaggle competition results (Bonus)\\nExcellent critical thinking ability, result orientation and project management skills\\nSound verbal and written communication skills\\nRoleSystem Analyst\\nIndustry TypeIT Services & Consulting\\nFunctional AreaIT Software - DBA, Datawarehousing\\nEmployment TypeFull Time, Permanent\\nRole CategoryProgramming & Design\\nEducation\\nUG :B.Tech/B.E. in Production/Industrial\\nPG :M.Tech in Production/Industrial\\nKey Skills\\nUnixData analysisMachine learningCustomer supportCustomer serviceData miningmicrosoftAnalyticsSQLPython',\n",
       " 'Job description\\nPosition Responsibilities\\no Solve business problems by applying advanced Machine Learning algorithms and complex statistical models on large volumes of data.\\no Build, scale and deploy holistic data science products after successful prototyping.\\no Clearly articulate and present recommendations to business partners, and influence future plans based on insights.\\no Follow industry best practices, stay up to date with the state of the art in machine learning research and practice, drive innovation by contributing to the latest applied research in data science through publications and patents.\\no Promote and support company policies, procedures, mission, values, and standards of ethics and integrity.\\nPosition Requirements\\no Deep knowledge of the foundations of machine learning and statistics - can easily understand and implement a machine learning research paper.\\no Solid experience working with state-of-the-art supervised and unsupervised machine learning algorithms on real-world problems, preferably in ecommerce domain.\\no Strong Python coding skills and able to work with at least one other programming language such as Java/Scala.\\no Ability to work in a big data ecosystem - expert in SQL/Hive and ability to work with Spark.\\no Strong ability to understand the business and good stakeholder management capabilities.\\nQualifications\\no PhD with > 2 years of experience / 4-year bachelor s degree with > 7 years of experience / Master s degree with > 5 years of experience. Educational qualifications should be preferably in Computer Science or a related area. Experience should be relevant to the role.\\nGood to have:\\no Experience in ecommerce domain.\\no Demonstrated success in data science platforms like Kaggle.\\nRoleTeam Lead/Technical Lead\\nIndustry TypeIT Services & Consulting\\nFunctional AreaIT Software - Other\\nEmployment TypeFull Time, Permanent\\nRole CategoryProgramming & Design\\nEducation\\nUG :Any Graduate\\nPG :Any Postgraduate\\nKey Skills\\nComputer sciencedata scienceCodingMachine learningSCALAE-commerceStakeholder managementAnalyticsSQLPython',\n",
       " 'Job description\\nHello,\\nWe are hiring on behalf of one of the largest BPO/ Consulting services.\\nThe skills rquired are Natural Language Processing, Python, Data Science and Machine Learning.\\n\\nTitle: Manager / Sr. Manager\\nLocation:Bangalore , Gurugram, Mumbai\\nDuration : Fulltime\\nMax Notice:1 Month\\nRoleHead/VP/GM - Analytics & BI\\nIndustry TypeRecruitment / Staffing\\nFunctional AreaAnalytics & Business Intelligence\\nEmployment TypeFull Time, Permanent\\nRole CategorySenior Management\\nEducation\\nUG :Any Graduate\\nPG :Any Postgraduate\\nDoctorate :Any Doctorate\\nKey Skills\\nData ScienceNatural Language ProcessingMachine LearningPython',\n",
       " 'Job description\\n\\nCRISIL (formerly Credit Rating Information Services of India Limited) is an Indian analytical company providing ratings, research, and risk and policy advisory services and is a subsidiary of American company S&P Global\\n\\nWe are looking Data Scientist for Mumbai & Bangalore location\\nCandidates who can join immediately or within 30-45 need only apply\\n\\nPlease refer below JD for your reference-\\n\\nJob Description Data scientist:\\nClient oriented approach to problem solving. Individual should be able to have a holistic view of multiple businesses and develop analytic solutions accordingly.\\nOwn and deliver multiple and complex analytic projects. This would require an understanding of business context, conversion of business problems in modeling, and implementing such solutions to create business value.\\nAlways up to date with the latest use cases of modeling community, machine learning and deep learning algorithms and share knowledge within the team.\\nProficiency in basic statistics, hypothesis testing, segmentation and predictive modeling.\\nAbility to translate and articulate technical thoughts and ideas to a larger audience including influencing skills with peers and senior management.\\nStrong project management skills.\\nAbility to coach and mentor juniors.\\nEagerness to work on new and challenging tasks on a regular basis with an ability to research new ways of doing things better/efficiently.\\nContribute to organizational initiatives in wide ranging areas including competency development, training, organizational building activities etc.\\nSkills\\n\\nBasic Qualifications\\n\\nBachelors Degree with 2+ years of experience in data analytics,\\nHands-on experience in Python / SAS or R programing along with strong experience in SQL and Excel Macros.\\nExperienced in working with large and multiple datasets, data warehouses and ability to pull data using relevant programs and coding.\\nWell versed with necessary data preprocessing and feature engineering skills.\\nAt least 2 years of experience implementing Machine learning algorithms such as Random Forest and Gradient Boosting in solving business problems such as Default classification and macroeconomic forecasting.\\nAt least 1 year of experience implementing deep learning techniques like neural networks\\nExposure to deep learning packages like Tensorflow\\nStrong background in Statistical Analysis\\nBackground in BFSI space will be preferred\\n\\nRoleData Analyst\\nIndustry TypeBanking\\nFunctional AreaAnalytics & Business Intelligence\\nEmployment TypeFull Time, Permanent\\nRole CategoryAnalytics & BI\\nEducation\\nUG :Any Graduate\\nPG :Any Postgraduate\\nKey Skills\\nrMachine LearningPython\\nTensorflowPredictive ModelingSegmentationNeural NetworksDeep LearningRandom ForestSQL\\nSkills highlighted with ‘‘ are preferred keyskills',\n",
       " 'Job description\\nRequired Technical and Professional Expertise\\n• 6+ years of industry work experience in data scientist projects\\n• Master’s degree or higher in Statistics/Math/Computer Science or related field\\n• Background in applied statistical modeling on large experimental or observational data sets\\n• Experience extracting data from a variety of sources, and a desire to expand those skills (working knowledge SQL is required, Spark is a plus)\\n• Experience with one or more statistical or machine learning software such as R, Python, etc.\\n• Must showcase past work through published articles/GitHub/social media\\n\\nPreferred Technical and Professional Expertise\\n• Knowledge of distributed computing systems, e.g. Cosmos, Spark, Hadoop, and relational database management system\\n• PhD. in Statistics is preferred\\n• You love collaborative environments that use agile methodologies to encourage creative design thinking and find innovative ways to develop with cutting edge technologies\\n• Ambitious individual who can work under their own direction towards agreed targets/goals and with creative approach to work\\n• Intuitive individual with an ability to manage change and proven time management\\n• Proven interpersonal skills while contributing to team effort by accomplishing related results as needed\\nRoleData Analyst\\nIndustry TypeIT Services & Consulting\\nFunctional AreaAnalytics & Business Intelligence\\nEmployment TypeFull Time, Permanent\\nRole CategoryAnalytics & BI\\nEducation\\nUG :B.Sc in Maths, Statistics\\nPG :MS/M.Sc(Science) in Maths, Statistics\\nDoctorate :Doctorate Not Required\\nKey Skills\\nRData scienceData analyticsSQLPython',\n",
       " 'Job description\\nRoles and Responsibilities\\nRequirements :\\n\\n- 6-9 years of strong experience in data mining, machine learning and statistical analysis.\\n\\n- BS/ MS/ PhD in Computer Science, Statistics, Applied Math, or related areas from Premier institutes ( only IITs / IISc / BITS / Top NITs or top US university should apply)\\n\\n- Ability to lead and deliver in a fast-paced start-up environment.\\n\\n- Fluency in tools such as Python/ R/ Matlab etc.\\n\\n- Strong intuition for data and Keen aptitude on large scale data analysis\\n\\n- Excellent written and verbal communication skills.\\n\\n- Ability to collaborate across teams and strong interpersonal skills.\\nRoleData Analyst\\nIndustry TypeIT Services & Consulting\\nFunctional AreaAnalytics & Business Intelligence\\nEmployment TypeFull Time, Permanent\\nRole CategoryAnalytics & BI\\nEducation\\nUG :B.Sc in Computers, Statistics\\nPG :MS/M.Sc(Science) in Computers, Statistics\\nDoctorate :Ph.D/Doctorate in Statistics, Computers\\nKey Skills\\nData ScienceRData ScientistData MiningStatistical AnalystMachine LearningMATLABPython',\n",
       " 'Job description\\nJob Description\\nUnderstand and design analytical solutions to business problems leveraging data science\\nUnderstand and get requirements from Stakeholders\\nPropose and execute solutions and present deliverables to stakeholders\\nManage and optimize deliverables\\nMentor and train new team members\\nDevelop POCs to enhance the teams capability\\n\\nRequirements\\nUnderstanding of mathematical, statistical, and theoretical foundations of statistics and machine learning (ML) and parametric and non-parametric models\\nKnowledge of advanced data mining techniques, curating, processing, and transforming data to produce datasets\\nUse statistical techniques and ML methods for predictive modeling / classification of problems around clients, distribution, sales, marketing, client profiles, and segmentation\\nProvide relevant and actionable recommendations / insights for businesses\\nUnderstanding of ML lifecycle that includes feature engineering, training, validation, scaling, deployment, scoring, monitoring, and feedback loop\\nExpertise in SAS Visual Analytics, Tableau, and Python\\nExpert in Python / R / SAS\\nExperience with cloud computing infrastructure, such as AWS / Azure / GCP\\nAble to develop, test, and deploy models on cloud / web\\n\\nEducation and Experience\\nBE / B.Tech. / MBA / M.Stat. / M.SC. or equivalent degree in Quant. from a reputed institute\\n2-8 years of relevant experience\\n\\nRoleBusiness Analyst\\nIndustry TypeAnalytics / KPO / Research\\nFunctional AreaAnalytics & Business Intelligence\\nEmployment TypeFull Time, Permanent\\nRole CategoryAnalytics & BI\\nEducation\\nUG :B.Tech/B.E. in Any Specialization\\nKey Skills\\nPredictive ModelingData ScienceRMarketing Mix ModelingData MiningMarketing AnalyticsMachine LearningPythonSales Analytics',\n",
       " '-']"
      ]
     },
     "execution_count": 335,
     "metadata": {},
     "output_type": "execute_result"
    }
   ],
   "source": [
    "desc"
   ]
  },
  {
   "cell_type": "code",
   "execution_count": 336,
   "metadata": {},
   "outputs": [
    {
     "data": {
      "text/plain": [
       "['Job description\\nMinumum 3 years of experience in Data Science/Machine learning\\n\\nLocation : PAN INDIA\\nExp : 3 - 7 Years\\n\\nMinimum 3 year of experience in being Applied Machine Learning Engineer role\\nResearch, develop, and implement prediction, optimization, and analytics tools.\\nDocument and communicate methodology and results to technical and non-technical audiences\\nGuide and implement best practices of curated data and evaluate ML models on large-scale data\\nLead design and implementation of Machine Learning algorithms, combining with rule-based optimization to deliver significant improvement in\\nproduct metrics\\nWrite production ready high quality, maintainable and scalable code.\\nDesign and analyze metrics to verify model and algorithm effectiveness.\\nExperience with data analysis languages such as Python or Scala\\nExperience with Machine Learning tools (Azure ML, SageMaker, TensorFlow, Kubernetes, etc.)\\nExperience with Machine Learning Languages (R, Python, .Net Core, etc.)\\n\\nRoleProduct Manager\\nIndustry TypeIT Services & Consulting\\nFunctional AreaIT Software - Application Programming, Maintenance\\nEmployment TypeFull Time, Permanent\\nRole CategoryProgramming & Design\\nEducation\\nUG :Any Graduate\\nKey Skills\\nData ScienceMachine LearningPython\\nTensorflowAlgorithmsSCALAData AnalysisAnalyticsKubernetes\\nSkills highlighted with ‘‘ are preferred keyskills',\n",
       " '-',\n",
       " 'Job description\\nUse predictive modeling to increase and optimize customer experiences, revenue generation, campaign optimization and other business outcomes\\nWork with product management to develop data use cases and embed predictive models in workflows on resource constrained platforms and cloud enabled.\\nSelecting features, building and optimizing classifiers using machine learning and deep learning techniques\\nCollaborates with Data Engineers to enhance data collection and ingestion/curation techniques to include information that is relevant for building analytic systems\\nProcessing, cleansing, and verifying the integrity of data used for analysis\\nDevelop processes and tools to monitor and analyze model performance and data accuracy. Life cycle management of predictive models.\\nAdherence to compliance procedures in accordance with regulatory standards, requirements, and policies. Managing and designing the reporting environment, including data sources security, and metadata.\\nJob Qualifications:\\nMaster s degree or PhD in Computer Science, Information management, Statistics or related field, with 3 to 5 years of experience in the Consumer or Healthcare industry manipulating data sets and building predictive models with focus on product development\\nExperience in statistical modelling, machine learning, data mining, unstructured data analytics and natural language processing. Sound understanding of - Bayesian Modelling, Classification Models, Cluster Analysis, Neural Network, Nonparametric Methods, Multivariate Statistics, etc.\\nStrong hands on knowledge of ML techniques like regression algorithms, K-NN, Na ve Bayes, SVM and ensemble techniques like Random forest, AdaBoost etc\\nHaving strong knowledge in unsupervised learning algorithms using Neural networks and Deep-Learning\\nStrong knowledge in Data Wrangling and Exploration techniques to identify the patterns, trends and outliners.\\nDeep knowledge and practical experience with data science toolkits, such as NumPy, Pandas, scikit-learn or equivalent\\nExperience with data visualization tools, such as QlikView, Matplotlib, seaborn or equivalent tools.\\nProficiency in using query languages, such as SQL, PL/SQL\\nHands on experience in the one or more databases like Hadoop, AWS Redshift, Snowflake etc.\\nGood applied statistics skills, such as distributions, statistical testing, regression, etc.\\nGood ETL scripting and programming skills, such as Python, R or Scala to integrate developed solution into the proposition.\\nA team player capable of working and integrating across cross-functional team for implementing project requirements. Experience in technical requirements gathering and documentation.\\nAbility to work effectively and independently in a fast-paced global collaborative agile team environment with tight deadlines\\nA flexible, pragmatic and collaborative team player with innate ability to engage with stakeholders at all levels in the organization.\\nA self-starter with high levels of drive, energy, resilience and a desire for professional excellence with a passion for data and data science\\nRoleClinical Research Associate/Scientist\\nIndustry TypeMedical Services / Hospital\\nFunctional AreaMedical, Healthcare, R&D, Pharmaceuticals, Biotechnology\\nEmployment TypeFull Time, Permanent\\nRole CategoryR&D\\nEducation\\nUG :Any Graduate\\nPG :Post Graduation Not Required\\nKey Skills\\nProduct managementComputer sciencemetadataMachine learningAgilePLSQLHealthcareQlikViewData miningPython',\n",
       " 'Job description\\nA day in the Life of Data Scientist at Brillio, you will:\\n• Partner closely with project managers to deconstruct business problems of the client, develop data models and algorithms that deliver meaningful insights\\n• Take ownership of whole end-to-end predictive modeling projects - from data processing, training, optimization to real-time monitoring and maintenance\\n• Develop solutions to data driven problems, and communicate relevant insights to stakeholders through storyboards/presentations\\n• Stay abreast with current technical and industry development and constantly strive to devise innovative statistical models for data analysis\\n• Actively participate in external forums and industry conclaves\\nFor you to be successful, you must:\\n• Create value by meeting needs of stakeholders and delivering high-quality results\\n• Open and flexible to accommodate and implement new ideas, understand business complexities, nurture innovation and challenge the status quo persistently\\n• Strive to be subject matter expert in chosen area of specialty through continuous learning\\n• Have an eye for detail to ensure accurate conclusions in data analysis and presentations. Disseminate knowledge and share own experiential learning with others\\nYou’ll bring this to the table:\\n• Critical Thinking: ability to work in ambiguous situations with unstructured problems\\n• Strong analytical skills with the ability to collect, organize, review significant amounts of information\\n• Experience using statistical computer language Python to manipulate data and draw insights from large data sets.\\n• Working knowledge in basic statistical concepts such as properties of distributions, statistical tests and their proper usage\\n• Expertise in some of the advanced machine learning techniques such as Clustering, Regression/Classification, Time Series Analysis, Network Analysis, Popular Deep Learning architectures and theory, simulation, scenario analysis\\n• Clear, professional written and verbal communication skills, ability to easily communicate complex ideas\\n• Experience with any distributed data/computing tools: Map/Reduce, Hadoop, Hive, Spark, etc.\\n• Experience with machine learning on Cloud.\\nRoleData Analyst\\nIndustry TypeIT Services & Consulting\\nFunctional AreaAnalytics & Business Intelligence\\nEmployment TypeFull Time, Permanent\\nRole CategoryAnalytics & BI\\nEducation\\nUG :Any Graduate\\nPG :Any Postgraduate\\nKey Skills\\nPredictive ModelingHiveTime Series AnalysisClassificationHadoopData AnalysisSparkMachine LearningDeep LearningPython',\n",
       " \"Job description\\n\\nMust Have skill sets:\\n\\nExcellent knowledge of various statistical / Machine Learning / Deep Learning algorithms such as Feature Engineering/selection, Time series, Regression, Classification, Clustering, Recommendation Engine, Anomaly Detection, NLP, Reinforcement Learning etc.)\\n4 to 8 years of hands-on expertise in developing data science models by applying above mentioned algorithms on structured / text data, using R / Python\\nProficient in writing optimized query using any one of the DB query language (Hive/Impala/SQL/MongoDB etc.). Knowledge of big data is essential\\n\\nGood to Have skill sets:\\n\\nVisualization using any one of the technologies (Tableau, PowerBI, RShiny, matplotlib, ggplot etc.). In case of lack of skills, eagerness to learn is must\\nInsight Generation and Story telling to end consumers\\nExperience across end to end data science project life cycle (use case framing, data collection, data exploration, design of experiments, model development, selection and deployment, post production support)\\nSelf-motivated to learn different techniques / technologies, as per the project's need and go extra mile to bring customer delight\\n\\nEducational Qualification:\\n\\nAny of the following:\\n• Bachelors in Engineering / MCA\\n• Masters in Data Science/ Computer Applications/ Statistics/ Mathematics/ Economics/ Ops Research/ Other quantitative disciplines\\n• MBA\\n\\nJob Responsibilities:\\nOwn and execute end to end delivery of one or more than one data science model development, as per requirement provided by project/product manager\\nUnderstand business requirements from Product Managers/Business Users\\nExtract data from multiple data sources using Hadoop / SQL\\nDevelop, Validate and Operationalize predictive models using appropriate variables and ML/deep learning techniques\\nPerform ad-hoc deep dive analysis and generate actionable insights\\nCreate technical documentation and provide post-production support for a time-bound period\\nCommunicate the results to technical as well as business stakeholders across different hierarchies\\nRoleData Analyst\\nIndustry TypeRecruitment / Staffing\\nFunctional AreaAnalytics & Business Intelligence\\nEmployment TypeFull Time, Permanent\\nRole CategoryAnalytics & BI\\nEducation\\nUG :B.Tech/B.E. in Any Specialization\\nKey Skills\\nData ScienceMachine LearningPython\\nAnomaly DetectionMatplotlibRNLPReinforcement LearningDeep LearningSQL\\nSkills highlighted with ‘‘ are preferred keyskills\",\n",
       " '-',\n",
       " '-',\n",
       " 'Job description\\nAs a Senior Data Scientist for Walmart, you ll have the opportunity to:\\nDrive data-derived insights across a wide range of divisions by developing advanced statistical models, machine learning algorithms and computational algorithms based on business initiatives\\nDirect the gathering of data, assessing data validity and synthesizing data into large analytics datasets to support project goals\\nUtilize big data analytics and advanced data science techniques to identify trends, patterns, and discrepancies in data. Determine additional data needed to support insights\\nBuild and train statistical models and machine learning algorithms\\nApply your semantic, natural language processing and understanding expertise where required\\nUse deep learning and image recognition project goals\\nComputer Vision will be an important focus area for this role\\nProductionize the models and make those available at scale\\nBuild and maintain end to end Machine Learning pipelines\\nBe comfortable with ambiguity and uncertainty and the eagerness to change the world in a huge way by being a self-motivated learner and builder\\nCommunicate recommendations to business partners and influencing future plans based on insights\\nYour Responsibility\\nPlay a key role to solve complex problems, pivotal to Walmart s business and drive actionable insights from petabytes of data\\nUtilize product mindset to build, scale and deploy holistic data science products after successful prototyping\\nDemonstrate incremental solution approach with agile and flexible ability to overcome practical problems\\nPartner with senior team members to assess customer needs and define business questions\\nClearly articulate and present recommendations to business partners, and influence future plans based on insights\\nWork with customer centric mindset to deliver high quality business driven analytic solution\\nDrive innovation in approach, method, practices, process, outcome, delivery, or any component of end-to-end problem solving\\nDemonstrates up-to-date expertise and applies this to the development, execution, and improvement of action plans\\nPreferred Qualifications\\nBachelors degree in Statistics, Mathematics, Computer Science or a related field and 8 years experience in an analytics/DS related field, or,\\nMasters degree in Statistics, Mathematics, Computer Science or a related field and 6 years experience in an analytics/DS related field.\\nHigh proficiency in data mining, modeling, validation and insight generation.\\nExcellent working knowledge of statistics, mathematics, machine learning, data mining, deep learning\\nHigh proficiency in coding including Python and SQL\\nExperience with databases (for example, DB2, Oracle, SQL Server)\\nExperience with Big Data technologies such as Pig, Hive and/or Spark\\nAbility to work with large data sets. Has sound understanding of big data technology stack\\nUnderstanding of cloud computing platforms and large-scale databases\\nProven ability to collaborate and work in teams\\nExcellent with communications and stakeholder engagement\\nData science publications in recognized platforms/journals\\nProven ability to work in agile mode on data science sprint projects\\nRoleDatabase Architect/Designer\\nIndustry TypeIT Services & Consulting\\nFunctional AreaIT Software - DBA, Datawarehousing\\nEmployment TypeFull Time, Permanent\\nRole CategoryProgramming & Design\\nEducation\\nUG :Any Graduate\\nPG :Any Postgraduate\\nKey Skills\\nProcurementComputer scienceCloud computingData analysisdata scienceDb2CodingAgileData miningPython',\n",
       " 'Job description\\nResponsibilities include:\\nDefining and evaluating key metrics and understanding what moves them and why\\nOwnership of conceptualizing, developing, and maintaining dashboards and visualizations\\nInvestigating evolving fraud trends to extract patterns, identify root causes and propose actionable solutions\\nCommunicating analyses and recommendations to cross functional stakeholders for decision making\\nEmpowering the team to answer data questions quickly and easily by building high-quality ground truth data sets\\nHere are example traits we value:\\nProfessional industry experience in a quantitative analysis role (7+ years preferred)\\nComfortable in SQL and some experience with a programming language (Python or R a plus)\\nAbility to communicate clearly and effectively to cross functional partners of varying technical levels\\nAbility to define relevant metrics that can guide and influence stakeholders to the appropriate and accurate insights\\nExperience or willingness to learn tools to create data pipelines using Airflow\\nBuilding clear and easy to understand dashboards (Tableau) and presentations\\nRoleGraphic/Web Designer\\nIndustry TypeInternet\\nFunctional AreaIT Software - DBA, Datawarehousing\\nEmployment TypeFull Time, Permanent\\nRole CategoryProgramming & Design\\nEducation\\nUG :Any Graduate\\nPG :Any Postgraduate\\nKey Skills\\nData ScienceRData ScientistTableauPythonSql',\n",
       " '-']"
      ]
     },
     "execution_count": 336,
     "metadata": {},
     "output_type": "execute_result"
    }
   ],
   "source": [
    "Description = desc[0:10]\n",
    "Description"
   ]
  },
  {
   "cell_type": "code",
   "execution_count": 337,
   "metadata": {},
   "outputs": [
    {
     "data": {
      "text/html": [
       "<div>\n",
       "<style scoped>\n",
       "    .dataframe tbody tr th:only-of-type {\n",
       "        vertical-align: middle;\n",
       "    }\n",
       "\n",
       "    .dataframe tbody tr th {\n",
       "        vertical-align: top;\n",
       "    }\n",
       "\n",
       "    .dataframe thead th {\n",
       "        text-align: right;\n",
       "    }\n",
       "</style>\n",
       "<table border=\"1\" class=\"dataframe\">\n",
       "  <thead>\n",
       "    <tr style=\"text-align: right;\">\n",
       "      <th></th>\n",
       "      <th>job_Title</th>\n",
       "      <th>job_location</th>\n",
       "      <th>company_name</th>\n",
       "      <th>Description</th>\n",
       "    </tr>\n",
       "  </thead>\n",
       "  <tbody>\n",
       "    <tr>\n",
       "      <th>0</th>\n",
       "      <td>Hiring For Data Scientist</td>\n",
       "      <td>Chennai, Bangalore/Bengaluru, Mumbai (All Area...</td>\n",
       "      <td>Tata Consultancy Services Ltd.</td>\n",
       "      <td>Job description\\nMinumum 3 years of experience...</td>\n",
       "    </tr>\n",
       "    <tr>\n",
       "      <th>1</th>\n",
       "      <td>Lead Data Scientist BFSI</td>\n",
       "      <td>Bengaluru/Bangalore</td>\n",
       "      <td>IBM India Pvt. Limited</td>\n",
       "      <td>-</td>\n",
       "    </tr>\n",
       "    <tr>\n",
       "      <th>2</th>\n",
       "      <td>Associate Data Scientist</td>\n",
       "      <td>Bangalore/Bengaluru</td>\n",
       "      <td>Philips India Limited</td>\n",
       "      <td>Job description\\nUse predictive modeling to in...</td>\n",
       "    </tr>\n",
       "    <tr>\n",
       "      <th>3</th>\n",
       "      <td>Data Scientist</td>\n",
       "      <td>Bangalore/Bengaluru</td>\n",
       "      <td>Brillio</td>\n",
       "      <td>Job description\\nA day in the Life of Data Sci...</td>\n",
       "    </tr>\n",
       "    <tr>\n",
       "      <th>4</th>\n",
       "      <td>Data Scientist</td>\n",
       "      <td>Bangalore/Bengaluru</td>\n",
       "      <td>Allegis Services India Pvt. Ltd.</td>\n",
       "      <td>Job description\\n\\nMust Have skill sets:\\n\\nEx...</td>\n",
       "    </tr>\n",
       "    <tr>\n",
       "      <th>5</th>\n",
       "      <td>Data Scientist</td>\n",
       "      <td>Bangalore/Bengaluru</td>\n",
       "      <td>Allegis Services India Pvt. Ltd.</td>\n",
       "      <td>-</td>\n",
       "    </tr>\n",
       "    <tr>\n",
       "      <th>6</th>\n",
       "      <td>Data Scientist: Advanced Analytics</td>\n",
       "      <td>Bengaluru/Bangalore</td>\n",
       "      <td>IBM India Pvt. Limited</td>\n",
       "      <td>-</td>\n",
       "    </tr>\n",
       "    <tr>\n",
       "      <th>7</th>\n",
       "      <td>Senior Data Scientist</td>\n",
       "      <td>Bangalore/Bengaluru</td>\n",
       "      <td>Walmart Labs</td>\n",
       "      <td>Job description\\nAs a Senior Data Scientist fo...</td>\n",
       "    </tr>\n",
       "    <tr>\n",
       "      <th>8</th>\n",
       "      <td>Senior Data Scientist</td>\n",
       "      <td>Bangalore/Bengaluru</td>\n",
       "      <td>Airbnb</td>\n",
       "      <td>Job description\\nResponsibilities include:\\nDe...</td>\n",
       "    </tr>\n",
       "    <tr>\n",
       "      <th>9</th>\n",
       "      <td>Sr Data Scientist</td>\n",
       "      <td>Bengaluru/Bangalore</td>\n",
       "      <td>IBM India Pvt. Limited</td>\n",
       "      <td>-</td>\n",
       "    </tr>\n",
       "  </tbody>\n",
       "</table>\n",
       "</div>"
      ],
      "text/plain": [
       "                            job_Title  \\\n",
       "0           Hiring For Data Scientist   \n",
       "1            Lead Data Scientist BFSI   \n",
       "2            Associate Data Scientist   \n",
       "3                      Data Scientist   \n",
       "4                      Data Scientist   \n",
       "5                      Data Scientist   \n",
       "6  Data Scientist: Advanced Analytics   \n",
       "7               Senior Data Scientist   \n",
       "8               Senior Data Scientist   \n",
       "9                   Sr Data Scientist   \n",
       "\n",
       "                                        job_location  \\\n",
       "0  Chennai, Bangalore/Bengaluru, Mumbai (All Area...   \n",
       "1                                Bengaluru/Bangalore   \n",
       "2                                Bangalore/Bengaluru   \n",
       "3                                Bangalore/Bengaluru   \n",
       "4                                Bangalore/Bengaluru   \n",
       "5                                Bangalore/Bengaluru   \n",
       "6                                Bengaluru/Bangalore   \n",
       "7                                Bangalore/Bengaluru   \n",
       "8                                Bangalore/Bengaluru   \n",
       "9                                Bengaluru/Bangalore   \n",
       "\n",
       "                       company_name  \\\n",
       "0    Tata Consultancy Services Ltd.   \n",
       "1            IBM India Pvt. Limited   \n",
       "2             Philips India Limited   \n",
       "3                           Brillio   \n",
       "4  Allegis Services India Pvt. Ltd.   \n",
       "5  Allegis Services India Pvt. Ltd.   \n",
       "6            IBM India Pvt. Limited   \n",
       "7                      Walmart Labs   \n",
       "8                            Airbnb   \n",
       "9            IBM India Pvt. Limited   \n",
       "\n",
       "                                         Description  \n",
       "0  Job description\\nMinumum 3 years of experience...  \n",
       "1                                                  -  \n",
       "2  Job description\\nUse predictive modeling to in...  \n",
       "3  Job description\\nA day in the Life of Data Sci...  \n",
       "4  Job description\\n\\nMust Have skill sets:\\n\\nEx...  \n",
       "5                                                  -  \n",
       "6                                                  -  \n",
       "7  Job description\\nAs a Senior Data Scientist fo...  \n",
       "8  Job description\\nResponsibilities include:\\nDe...  \n",
       "9                                                  -  "
      ]
     },
     "execution_count": 337,
     "metadata": {},
     "output_type": "execute_result"
    }
   ],
   "source": [
    "import pandas as pd\n",
    "DS=pd.DataFrame({})\n",
    "DS['job_Title']=job_Title\n",
    "DS['job_location']=job_location\n",
    "DS['company_name']=company_name\n",
    "DS['Description']=Description\n",
    "DS"
   ]
  },
  {
   "cell_type": "markdown",
   "metadata": {},
   "source": [
    "# 3.  In this question you have to scrape data using the filters available on the webpage as shown below:\n",
    "You have to use the location and salary filter.\n",
    "You have to scrape data for “Data Scientist” designation for first 10 job results.\n",
    "You have to scrape the job-title, job-location, company_name,\n",
    "experience_required.\n",
    "The location filter to be used is “Delhi/NCR”\n",
    "The salary filter to be used is “3-6” lakh"
   ]
  },
  {
   "cell_type": "code",
   "execution_count": 338,
   "metadata": {},
   "outputs": [],
   "source": [
    "url = 'https://www.naukri.com/'\n",
    "driver.get(url) "
   ]
  },
  {
   "cell_type": "code",
   "execution_count": 339,
   "metadata": {},
   "outputs": [
    {
     "data": {
      "text/plain": [
       "<selenium.webdriver.remote.webelement.WebElement (session=\"bf9e5472dfa53edd58765aa2fd9a49f6\", element=\"8bcdb125-1f0f-4a9d-a655-a10cd63b593c\")>"
      ]
     },
     "execution_count": 339,
     "metadata": {},
     "output_type": "execute_result"
    }
   ],
   "source": [
    "# finding the web element(search jobs) using id\n",
    "search_job=driver.find_element_by_id('qsb-keyword-sugg')\n",
    "search_job"
   ]
  },
  {
   "cell_type": "code",
   "execution_count": 340,
   "metadata": {},
   "outputs": [],
   "source": [
    "search_job.send_keys('Data Scientist')"
   ]
  },
  {
   "cell_type": "code",
   "execution_count": 341,
   "metadata": {},
   "outputs": [
    {
     "data": {
      "text/plain": [
       "<selenium.webdriver.remote.webelement.WebElement (session=\"bf9e5472dfa53edd58765aa2fd9a49f6\", element=\"0fb42e69-5629-4c76-b6d1-53d0cb0a1fdb\")>"
      ]
     },
     "execution_count": 341,
     "metadata": {},
     "output_type": "execute_result"
    }
   ],
   "source": [
    "search_bar=driver.find_element_by_xpath('//button[@class=\"btn\"]')\n",
    "search_bar"
   ]
  },
  {
   "cell_type": "code",
   "execution_count": 342,
   "metadata": {},
   "outputs": [],
   "source": [
    "search_bar.click()"
   ]
  },
  {
   "cell_type": "code",
   "execution_count": 357,
   "metadata": {},
   "outputs": [],
   "source": [
    "loc_filter=driver.find_elements_by_xpath('//span[@class=\"ellipsis fleft\"]')\n",
    "for i in loc_filter:\n",
    "    if i.text=='Delhi / NCR':\n",
    "        i.click()\n",
    "        break"
   ]
  },
  {
   "cell_type": "code",
   "execution_count": 358,
   "metadata": {},
   "outputs": [],
   "source": [
    "salary_filter=driver.find_elements_by_xpath('//span[@class=\"ellipsis fleft\"]')\n",
    "for i in salary_filter:\n",
    "    if i.text=='3-6 Lakhs':\n",
    "        i.click()\n",
    "        break"
   ]
  },
  {
   "cell_type": "code",
   "execution_count": 359,
   "metadata": {},
   "outputs": [
    {
     "data": {
      "text/plain": [
       "[<selenium.webdriver.remote.webelement.WebElement (session=\"bf9e5472dfa53edd58765aa2fd9a49f6\", element=\"6c59b2a8-44fa-4773-88e0-546a7f826505\")>,\n",
       " <selenium.webdriver.remote.webelement.WebElement (session=\"bf9e5472dfa53edd58765aa2fd9a49f6\", element=\"5db7da54-6478-41f3-aa2c-a53c2c25206e\")>,\n",
       " <selenium.webdriver.remote.webelement.WebElement (session=\"bf9e5472dfa53edd58765aa2fd9a49f6\", element=\"ed5fecf1-1feb-4b79-a562-dece656805f5\")>,\n",
       " <selenium.webdriver.remote.webelement.WebElement (session=\"bf9e5472dfa53edd58765aa2fd9a49f6\", element=\"fdde5b40-c31e-4e3d-aacb-808a262c0401\")>,\n",
       " <selenium.webdriver.remote.webelement.WebElement (session=\"bf9e5472dfa53edd58765aa2fd9a49f6\", element=\"ab3d3019-5cf8-4dba-9c43-44cc1650e25d\")>,\n",
       " <selenium.webdriver.remote.webelement.WebElement (session=\"bf9e5472dfa53edd58765aa2fd9a49f6\", element=\"062ef241-fe92-438d-b346-74bb8c716676\")>,\n",
       " <selenium.webdriver.remote.webelement.WebElement (session=\"bf9e5472dfa53edd58765aa2fd9a49f6\", element=\"5af905df-81be-4e97-9206-c3751021aa2d\")>,\n",
       " <selenium.webdriver.remote.webelement.WebElement (session=\"bf9e5472dfa53edd58765aa2fd9a49f6\", element=\"105d570c-15b3-49f0-8b0a-ab58a7d8f417\")>,\n",
       " <selenium.webdriver.remote.webelement.WebElement (session=\"bf9e5472dfa53edd58765aa2fd9a49f6\", element=\"5922b2c8-9eba-4cd6-a6c5-5764fcd372ea\")>,\n",
       " <selenium.webdriver.remote.webelement.WebElement (session=\"bf9e5472dfa53edd58765aa2fd9a49f6\", element=\"db0b004d-345d-4d23-8dbc-b6e16ffc99da\")>,\n",
       " <selenium.webdriver.remote.webelement.WebElement (session=\"bf9e5472dfa53edd58765aa2fd9a49f6\", element=\"c101245d-d4fc-45d7-b683-d8215ff9b5f9\")>,\n",
       " <selenium.webdriver.remote.webelement.WebElement (session=\"bf9e5472dfa53edd58765aa2fd9a49f6\", element=\"5b95ce7e-3757-4971-8fd2-b37b77d8c8e9\")>,\n",
       " <selenium.webdriver.remote.webelement.WebElement (session=\"bf9e5472dfa53edd58765aa2fd9a49f6\", element=\"ac35c456-ed5c-4f01-ba7a-706116e2e410\")>,\n",
       " <selenium.webdriver.remote.webelement.WebElement (session=\"bf9e5472dfa53edd58765aa2fd9a49f6\", element=\"16df04cc-b0af-40eb-9547-084f25dbd1d3\")>,\n",
       " <selenium.webdriver.remote.webelement.WebElement (session=\"bf9e5472dfa53edd58765aa2fd9a49f6\", element=\"16795b0a-724f-4f10-9b1f-3449eafa6c49\")>,\n",
       " <selenium.webdriver.remote.webelement.WebElement (session=\"bf9e5472dfa53edd58765aa2fd9a49f6\", element=\"91c6bd6f-3e0f-4e70-81c5-930da946b595\")>,\n",
       " <selenium.webdriver.remote.webelement.WebElement (session=\"bf9e5472dfa53edd58765aa2fd9a49f6\", element=\"6480be5d-dcbf-4275-9260-a0fa28590778\")>,\n",
       " <selenium.webdriver.remote.webelement.WebElement (session=\"bf9e5472dfa53edd58765aa2fd9a49f6\", element=\"66b7068c-7e49-4012-b7b9-6c5e11e85312\")>,\n",
       " <selenium.webdriver.remote.webelement.WebElement (session=\"bf9e5472dfa53edd58765aa2fd9a49f6\", element=\"4b04f46e-8a20-402b-a22e-5a6327276024\")>,\n",
       " <selenium.webdriver.remote.webelement.WebElement (session=\"bf9e5472dfa53edd58765aa2fd9a49f6\", element=\"0d8c6ef9-6cb7-4ea2-813d-96246410e9c9\")>]"
      ]
     },
     "execution_count": 359,
     "metadata": {},
     "output_type": "execute_result"
    }
   ],
   "source": [
    "a=driver.find_elements_by_xpath('//a[@class=\"title fw500 ellipsis\"]')\n",
    "a"
   ]
  },
  {
   "cell_type": "code",
   "execution_count": 360,
   "metadata": {},
   "outputs": [
    {
     "data": {
      "text/plain": [
       "['Data Scientist / Data Analyst / Business Analytics - MNC Jobs Freshers',\n",
       " 'Data Scientist/ Machine Learning Engineer',\n",
       " 'Data Scientist / Data Analyst',\n",
       " 'Only Fresher / Data Scientist / Data Analyst / Analytics - MNC Jobs',\n",
       " 'Data Scientist / Data Analyst / Business Analytics - MNC Jobs Freshers',\n",
       " 'Data Scientist',\n",
       " 'Data Scientist',\n",
       " 'Data Scientist - Insurance',\n",
       " 'Data Scientist - WFH - MIND Infotech',\n",
       " 'Junior Data Scientists & Engineers',\n",
       " 'Immediate Openings For Data Scientist For Wipro C2H',\n",
       " 'Data Scientist',\n",
       " 'Data Scientist - Machine Learning/ NLP',\n",
       " 'Data Scientist-immediate Joiners',\n",
       " 'Data Analyst/Data Scientist',\n",
       " 'Data Scientist Internship',\n",
       " 'Data Scientist',\n",
       " 'Senior Data Scientist',\n",
       " 'Senior Data Scientist',\n",
       " 'Hiring Data Scientist Develope || IDS Infotech LTD || (Permanent WFH)']"
      ]
     },
     "execution_count": 360,
     "metadata": {},
     "output_type": "execute_result"
    }
   ],
   "source": [
    "A=[]\n",
    "for i in a:\n",
    "    A.append(i.text.replace('/n', \"\"))\n",
    "A"
   ]
  },
  {
   "cell_type": "code",
   "execution_count": 361,
   "metadata": {},
   "outputs": [
    {
     "data": {
      "text/plain": [
       "['Data Scientist / Data Analyst / Business Analytics - MNC Jobs Freshers',\n",
       " 'Data Scientist/ Machine Learning Engineer',\n",
       " 'Data Scientist / Data Analyst',\n",
       " 'Only Fresher / Data Scientist / Data Analyst / Analytics - MNC Jobs',\n",
       " 'Data Scientist / Data Analyst / Business Analytics - MNC Jobs Freshers',\n",
       " 'Data Scientist',\n",
       " 'Data Scientist',\n",
       " 'Data Scientist - Insurance',\n",
       " 'Data Scientist - WFH - MIND Infotech',\n",
       " 'Junior Data Scientists & Engineers']"
      ]
     },
     "execution_count": 361,
     "metadata": {},
     "output_type": "execute_result"
    }
   ],
   "source": [
    "job_title=A[0:10]\n",
    "job_title"
   ]
  },
  {
   "cell_type": "code",
   "execution_count": 363,
   "metadata": {},
   "outputs": [
    {
     "data": {
      "text/plain": [
       "[<selenium.webdriver.remote.webelement.WebElement (session=\"bf9e5472dfa53edd58765aa2fd9a49f6\", element=\"1ccbf877-b096-4656-b623-7c0c90335de3\")>,\n",
       " <selenium.webdriver.remote.webelement.WebElement (session=\"bf9e5472dfa53edd58765aa2fd9a49f6\", element=\"fb7d00d8-4f16-435c-b8fa-d69d0bb2fc72\")>,\n",
       " <selenium.webdriver.remote.webelement.WebElement (session=\"bf9e5472dfa53edd58765aa2fd9a49f6\", element=\"633f868e-c178-45b1-a46f-2a0dc4d3704f\")>,\n",
       " <selenium.webdriver.remote.webelement.WebElement (session=\"bf9e5472dfa53edd58765aa2fd9a49f6\", element=\"99a1b1be-bafc-4b81-a9c4-3410c1155090\")>,\n",
       " <selenium.webdriver.remote.webelement.WebElement (session=\"bf9e5472dfa53edd58765aa2fd9a49f6\", element=\"635dcbd5-7ce5-4151-adae-bcf9e87a8a75\")>,\n",
       " <selenium.webdriver.remote.webelement.WebElement (session=\"bf9e5472dfa53edd58765aa2fd9a49f6\", element=\"12e3266b-4600-4ff6-b68f-95a2ebb83b1f\")>,\n",
       " <selenium.webdriver.remote.webelement.WebElement (session=\"bf9e5472dfa53edd58765aa2fd9a49f6\", element=\"14b9eb95-2dec-4af0-9fcd-6a6f40dc61c1\")>,\n",
       " <selenium.webdriver.remote.webelement.WebElement (session=\"bf9e5472dfa53edd58765aa2fd9a49f6\", element=\"6ceed1c8-5387-4846-ace7-81a0a3ecc92b\")>,\n",
       " <selenium.webdriver.remote.webelement.WebElement (session=\"bf9e5472dfa53edd58765aa2fd9a49f6\", element=\"8e7f53c3-9282-4861-aed2-d7961e3a193b\")>,\n",
       " <selenium.webdriver.remote.webelement.WebElement (session=\"bf9e5472dfa53edd58765aa2fd9a49f6\", element=\"ae7342d7-b451-4850-a626-18525e1ad5a8\")>,\n",
       " <selenium.webdriver.remote.webelement.WebElement (session=\"bf9e5472dfa53edd58765aa2fd9a49f6\", element=\"4a64de83-5a19-4cde-a405-6d94eb554f95\")>,\n",
       " <selenium.webdriver.remote.webelement.WebElement (session=\"bf9e5472dfa53edd58765aa2fd9a49f6\", element=\"db56a6e9-1ab1-4651-b09a-f373d7d2e061\")>,\n",
       " <selenium.webdriver.remote.webelement.WebElement (session=\"bf9e5472dfa53edd58765aa2fd9a49f6\", element=\"75016bbe-3154-4c59-840f-a37124cb9fb1\")>,\n",
       " <selenium.webdriver.remote.webelement.WebElement (session=\"bf9e5472dfa53edd58765aa2fd9a49f6\", element=\"15b65748-8305-4339-960c-6a03b5576cff\")>,\n",
       " <selenium.webdriver.remote.webelement.WebElement (session=\"bf9e5472dfa53edd58765aa2fd9a49f6\", element=\"ecc5a720-eedf-4a86-bd06-235a005902e5\")>,\n",
       " <selenium.webdriver.remote.webelement.WebElement (session=\"bf9e5472dfa53edd58765aa2fd9a49f6\", element=\"3774b00a-a052-49e7-a607-a12e31066c8d\")>,\n",
       " <selenium.webdriver.remote.webelement.WebElement (session=\"bf9e5472dfa53edd58765aa2fd9a49f6\", element=\"8e5ac49a-478c-4355-a934-fe7b61192a09\")>,\n",
       " <selenium.webdriver.remote.webelement.WebElement (session=\"bf9e5472dfa53edd58765aa2fd9a49f6\", element=\"8b05abab-7726-468b-a0c3-4f0fed970111\")>,\n",
       " <selenium.webdriver.remote.webelement.WebElement (session=\"bf9e5472dfa53edd58765aa2fd9a49f6\", element=\"aa35296d-f60f-4d91-ac23-47fb5198470b\")>,\n",
       " <selenium.webdriver.remote.webelement.WebElement (session=\"bf9e5472dfa53edd58765aa2fd9a49f6\", element=\"7e026f35-28f7-4ea0-a3f3-41e0011264b8\")>,\n",
       " <selenium.webdriver.remote.webelement.WebElement (session=\"bf9e5472dfa53edd58765aa2fd9a49f6\", element=\"0196cadb-acb0-4c96-9573-d03c5bfcba88\")>,\n",
       " <selenium.webdriver.remote.webelement.WebElement (session=\"bf9e5472dfa53edd58765aa2fd9a49f6\", element=\"edeccc7d-319a-4ed1-ace2-07509712d584\")>]"
      ]
     },
     "execution_count": 363,
     "metadata": {},
     "output_type": "execute_result"
    }
   ],
   "source": [
    "b=driver.find_elements_by_xpath('//li[@class=\"fleft grey-text br2 placeHolderLi location\"]/span')\n",
    "b"
   ]
  },
  {
   "cell_type": "code",
   "execution_count": 364,
   "metadata": {},
   "outputs": [
    {
     "data": {
      "text/plain": [
       "['Ghaziabad, Faridabad, Delhi / NCR',\n",
       " 'Hyderabad/Secunderabad, Pune, Ahmedabad, Gurgaon/Gurugram, Chennai, Bangalore/Bengaluru',\n",
       " 'Gurgaon/Gurugram',\n",
       " 'Noida, Gurgaon/Gurugram, Delhi / NCR',\n",
       " 'Noida, New Delhi, Gurgaon/Gurugram',\n",
       " 'Noida',\n",
       " '(WFH during Covid)',\n",
       " 'Gurgaon/Gurugram',\n",
       " '(WFH during Covid)',\n",
       " 'Noida, Gurgaon/Gurugram',\n",
       " 'Pune, Chennai, Bangalore/Bengaluru, Delhi / NCR, Mumbai (All Areas)',\n",
       " 'New Delhi, Delhi / NCR',\n",
       " 'Gurgaon/Gurugram',\n",
       " 'Delhi / NCR(Okhla)',\n",
       " 'Gurgaon/Gurugram',\n",
       " 'Noida',\n",
       " 'Bangalore/Bengaluru, Delhi / NCR, Mumbai (All Areas)',\n",
       " 'New Delhi',\n",
       " 'Mumbai, Gurgaon/Gurugram, Bangalore/Bengaluru',\n",
       " 'Hyderabad/Secunderabad, Gurgaon/Gurugram, Bangalore/Bengaluru',\n",
       " 'Delhi',\n",
       " 'Chandigarh, Hyderabad/Secunderabad, Chennai, Bangalore/Bengaluru, Delhi / NCR']"
      ]
     },
     "execution_count": 364,
     "metadata": {},
     "output_type": "execute_result"
    }
   ],
   "source": [
    "B=[]\n",
    "for i in b:\n",
    "    B.append(i.text.replace('/n', \"\"))\n",
    "B"
   ]
  },
  {
   "cell_type": "code",
   "execution_count": 365,
   "metadata": {},
   "outputs": [
    {
     "data": {
      "text/plain": [
       "['Ghaziabad, Faridabad, Delhi / NCR',\n",
       " 'Hyderabad/Secunderabad, Pune, Ahmedabad, Gurgaon/Gurugram, Chennai, Bangalore/Bengaluru',\n",
       " 'Gurgaon/Gurugram',\n",
       " 'Noida, Gurgaon/Gurugram, Delhi / NCR',\n",
       " 'Noida, New Delhi, Gurgaon/Gurugram',\n",
       " 'Noida',\n",
       " '(WFH during Covid)',\n",
       " 'Gurgaon/Gurugram',\n",
       " '(WFH during Covid)',\n",
       " 'Noida, Gurgaon/Gurugram']"
      ]
     },
     "execution_count": 365,
     "metadata": {},
     "output_type": "execute_result"
    }
   ],
   "source": [
    "job_loc=B[0:10]\n",
    "job_loc"
   ]
  },
  {
   "cell_type": "code",
   "execution_count": 366,
   "metadata": {},
   "outputs": [
    {
     "data": {
      "text/plain": [
       "[<selenium.webdriver.remote.webelement.WebElement (session=\"bf9e5472dfa53edd58765aa2fd9a49f6\", element=\"dc0b330e-158b-4971-80bd-46e6a3577b94\")>,\n",
       " <selenium.webdriver.remote.webelement.WebElement (session=\"bf9e5472dfa53edd58765aa2fd9a49f6\", element=\"eabcb3d7-0f17-4c1d-a633-979d521569ab\")>,\n",
       " <selenium.webdriver.remote.webelement.WebElement (session=\"bf9e5472dfa53edd58765aa2fd9a49f6\", element=\"d3cd9fba-4c59-426b-822e-b78d1b71b31e\")>,\n",
       " <selenium.webdriver.remote.webelement.WebElement (session=\"bf9e5472dfa53edd58765aa2fd9a49f6\", element=\"739f855b-f161-4732-b754-2624d81de90f\")>,\n",
       " <selenium.webdriver.remote.webelement.WebElement (session=\"bf9e5472dfa53edd58765aa2fd9a49f6\", element=\"c00f7bc4-9f31-4691-964f-3d817b7e2ac5\")>,\n",
       " <selenium.webdriver.remote.webelement.WebElement (session=\"bf9e5472dfa53edd58765aa2fd9a49f6\", element=\"3539a162-914e-4fc0-bfd9-6b77b8d3940b\")>,\n",
       " <selenium.webdriver.remote.webelement.WebElement (session=\"bf9e5472dfa53edd58765aa2fd9a49f6\", element=\"5cff29c8-5abe-429e-8c0f-06d320a8ff31\")>,\n",
       " <selenium.webdriver.remote.webelement.WebElement (session=\"bf9e5472dfa53edd58765aa2fd9a49f6\", element=\"ecb42808-6208-4162-becc-f0f8dcedf66d\")>,\n",
       " <selenium.webdriver.remote.webelement.WebElement (session=\"bf9e5472dfa53edd58765aa2fd9a49f6\", element=\"8ed3ccc7-c120-462e-8144-2ee8e5077b26\")>,\n",
       " <selenium.webdriver.remote.webelement.WebElement (session=\"bf9e5472dfa53edd58765aa2fd9a49f6\", element=\"80bc2b08-d5e4-4665-b563-446146ee70f8\")>,\n",
       " <selenium.webdriver.remote.webelement.WebElement (session=\"bf9e5472dfa53edd58765aa2fd9a49f6\", element=\"9852e608-fb75-4ff6-be3e-5d94b7b5d5c3\")>,\n",
       " <selenium.webdriver.remote.webelement.WebElement (session=\"bf9e5472dfa53edd58765aa2fd9a49f6\", element=\"bec16faf-ba61-4cc3-ae60-7af1d0b10fdc\")>,\n",
       " <selenium.webdriver.remote.webelement.WebElement (session=\"bf9e5472dfa53edd58765aa2fd9a49f6\", element=\"103f5493-fe60-449a-8e08-0f242d29b35c\")>,\n",
       " <selenium.webdriver.remote.webelement.WebElement (session=\"bf9e5472dfa53edd58765aa2fd9a49f6\", element=\"3d0045f8-87f5-4bcf-88a3-c8326fec6f4a\")>,\n",
       " <selenium.webdriver.remote.webelement.WebElement (session=\"bf9e5472dfa53edd58765aa2fd9a49f6\", element=\"c83fcbf6-53d4-41a6-aaad-b4cf20903544\")>,\n",
       " <selenium.webdriver.remote.webelement.WebElement (session=\"bf9e5472dfa53edd58765aa2fd9a49f6\", element=\"58e151d3-60de-45ea-b040-f3218f1f7541\")>,\n",
       " <selenium.webdriver.remote.webelement.WebElement (session=\"bf9e5472dfa53edd58765aa2fd9a49f6\", element=\"6cf6239e-cada-43ae-9763-ccbd3cc53d45\")>,\n",
       " <selenium.webdriver.remote.webelement.WebElement (session=\"bf9e5472dfa53edd58765aa2fd9a49f6\", element=\"d9eab2b6-c8d6-4572-9183-163764a375a9\")>,\n",
       " <selenium.webdriver.remote.webelement.WebElement (session=\"bf9e5472dfa53edd58765aa2fd9a49f6\", element=\"e0c3dab4-ad35-4182-b9e0-705455a21044\")>,\n",
       " <selenium.webdriver.remote.webelement.WebElement (session=\"bf9e5472dfa53edd58765aa2fd9a49f6\", element=\"da5926df-049d-4feb-9e9b-6706068bbf5d\")>]"
      ]
     },
     "execution_count": 366,
     "metadata": {},
     "output_type": "execute_result"
    }
   ],
   "source": [
    "c=driver.find_elements_by_xpath('//a[@class=\"subTitle ellipsis fleft\"]')\n",
    "c"
   ]
  },
  {
   "cell_type": "code",
   "execution_count": 367,
   "metadata": {},
   "outputs": [
    {
     "data": {
      "text/plain": [
       "['GABA Consultancy services',\n",
       " 'Creative Hands HR Consultancy',\n",
       " 'CARS24',\n",
       " 'GABA Consultancy services',\n",
       " 'GABA Consultancy services',\n",
       " 'R Systems International Ltd.',\n",
       " 'PROCESS NINE TECHNOLOGIES PVT.LTD.',\n",
       " 'Huquo Consulting Pvt. Ltd',\n",
       " 'MOTHERSONSUMI INFOTECH & DESIGNS LIMITED',\n",
       " 'PY Consultancy',\n",
       " 'IDESLABS PRIVATE LIMITED',\n",
       " 'Kusum Healthcare Pvt. Ltd.',\n",
       " 'TalPro',\n",
       " 'Quikruit Consulting LLP',\n",
       " 'Skillenable Fintech Private Limited',\n",
       " 'iHackers Inc',\n",
       " 'Fractal Analytics',\n",
       " 'inVentiv International Pharma Services Pvt. Ltd.',\n",
       " 'iNICU',\n",
       " 'IDS Infotech Ltd.']"
      ]
     },
     "execution_count": 367,
     "metadata": {},
     "output_type": "execute_result"
    }
   ],
   "source": [
    "C=[]\n",
    "for i in c:\n",
    "    C.append(i.text.replace('/n', \"\"))\n",
    "C"
   ]
  },
  {
   "cell_type": "code",
   "execution_count": 368,
   "metadata": {},
   "outputs": [
    {
     "data": {
      "text/plain": [
       "['GABA Consultancy services',\n",
       " 'Creative Hands HR Consultancy',\n",
       " 'CARS24',\n",
       " 'GABA Consultancy services',\n",
       " 'GABA Consultancy services',\n",
       " 'R Systems International Ltd.',\n",
       " 'PROCESS NINE TECHNOLOGIES PVT.LTD.',\n",
       " 'Huquo Consulting Pvt. Ltd',\n",
       " 'MOTHERSONSUMI INFOTECH & DESIGNS LIMITED',\n",
       " 'PY Consultancy']"
      ]
     },
     "execution_count": 368,
     "metadata": {},
     "output_type": "execute_result"
    }
   ],
   "source": [
    "company_name=C[0:10]\n",
    "company_name"
   ]
  },
  {
   "cell_type": "code",
   "execution_count": 369,
   "metadata": {},
   "outputs": [
    {
     "data": {
      "text/plain": [
       "[<selenium.webdriver.remote.webelement.WebElement (session=\"bf9e5472dfa53edd58765aa2fd9a49f6\", element=\"a906ab1a-86fb-4f6a-ae10-c1f919f8d3f8\")>,\n",
       " <selenium.webdriver.remote.webelement.WebElement (session=\"bf9e5472dfa53edd58765aa2fd9a49f6\", element=\"20cb85e4-46f2-4d84-86fd-cc019624f100\")>,\n",
       " <selenium.webdriver.remote.webelement.WebElement (session=\"bf9e5472dfa53edd58765aa2fd9a49f6\", element=\"9f50a3ba-3ae3-4826-abb8-77501dd234aa\")>,\n",
       " <selenium.webdriver.remote.webelement.WebElement (session=\"bf9e5472dfa53edd58765aa2fd9a49f6\", element=\"0cd38435-0666-4761-9838-5e3371338ee9\")>,\n",
       " <selenium.webdriver.remote.webelement.WebElement (session=\"bf9e5472dfa53edd58765aa2fd9a49f6\", element=\"f7be8532-d796-4ac7-b21f-a40f90a706a3\")>,\n",
       " <selenium.webdriver.remote.webelement.WebElement (session=\"bf9e5472dfa53edd58765aa2fd9a49f6\", element=\"c2468c7f-9f38-4be9-b288-0fc2c87a4f3f\")>,\n",
       " <selenium.webdriver.remote.webelement.WebElement (session=\"bf9e5472dfa53edd58765aa2fd9a49f6\", element=\"02e13c4e-ef39-43e7-b0b5-64847c12454f\")>,\n",
       " <selenium.webdriver.remote.webelement.WebElement (session=\"bf9e5472dfa53edd58765aa2fd9a49f6\", element=\"fd8019aa-9518-430a-8684-157a7dc50b35\")>,\n",
       " <selenium.webdriver.remote.webelement.WebElement (session=\"bf9e5472dfa53edd58765aa2fd9a49f6\", element=\"fd316f6a-aa47-4c46-b6ad-e239406542ab\")>,\n",
       " <selenium.webdriver.remote.webelement.WebElement (session=\"bf9e5472dfa53edd58765aa2fd9a49f6\", element=\"3de0aea6-d395-4935-ba7c-f0d04f0ad62a\")>,\n",
       " <selenium.webdriver.remote.webelement.WebElement (session=\"bf9e5472dfa53edd58765aa2fd9a49f6\", element=\"983eacfb-d00b-4820-b773-53ac6a923238\")>,\n",
       " <selenium.webdriver.remote.webelement.WebElement (session=\"bf9e5472dfa53edd58765aa2fd9a49f6\", element=\"8a757754-6fda-4d76-9872-eccebaf2a815\")>,\n",
       " <selenium.webdriver.remote.webelement.WebElement (session=\"bf9e5472dfa53edd58765aa2fd9a49f6\", element=\"2c132790-8382-4aed-8bc5-82d9daa93c2e\")>,\n",
       " <selenium.webdriver.remote.webelement.WebElement (session=\"bf9e5472dfa53edd58765aa2fd9a49f6\", element=\"5f46ba97-bd44-4e09-bfc3-1fdb77f97af0\")>,\n",
       " <selenium.webdriver.remote.webelement.WebElement (session=\"bf9e5472dfa53edd58765aa2fd9a49f6\", element=\"6722c068-8e17-49f5-bd12-f1f37a101d93\")>,\n",
       " <selenium.webdriver.remote.webelement.WebElement (session=\"bf9e5472dfa53edd58765aa2fd9a49f6\", element=\"b2d6d233-c0fb-49b7-833b-302bca1fd5d8\")>,\n",
       " <selenium.webdriver.remote.webelement.WebElement (session=\"bf9e5472dfa53edd58765aa2fd9a49f6\", element=\"4999fd5f-eb34-4aef-b574-589cacb64b12\")>,\n",
       " <selenium.webdriver.remote.webelement.WebElement (session=\"bf9e5472dfa53edd58765aa2fd9a49f6\", element=\"01a23e83-48c9-498e-a7da-73d7684fb572\")>,\n",
       " <selenium.webdriver.remote.webelement.WebElement (session=\"bf9e5472dfa53edd58765aa2fd9a49f6\", element=\"ee781197-e7df-4b24-8ccb-17709080718e\")>,\n",
       " <selenium.webdriver.remote.webelement.WebElement (session=\"bf9e5472dfa53edd58765aa2fd9a49f6\", element=\"dce4f926-67c9-4d03-a801-331a91fd0577\")>]"
      ]
     },
     "execution_count": 369,
     "metadata": {},
     "output_type": "execute_result"
    }
   ],
   "source": [
    "d=driver.find_elements_by_xpath('//li[@class=\"fleft grey-text br2 placeHolderLi experience\"]/span')\n",
    "d"
   ]
  },
  {
   "cell_type": "code",
   "execution_count": 370,
   "metadata": {},
   "outputs": [
    {
     "data": {
      "text/plain": [
       "['0-0 Yrs',\n",
       " '0-0 Yrs',\n",
       " '1-5 Yrs',\n",
       " '0-0 Yrs',\n",
       " '0-0 Yrs',\n",
       " '3-6 Yrs',\n",
       " '1-3 Yrs',\n",
       " '2-7 Yrs',\n",
       " '3-7 Yrs',\n",
       " '0-3 Yrs',\n",
       " '5-10 Yrs',\n",
       " '4-6 Yrs',\n",
       " '2-6 Yrs',\n",
       " '2-5 Yrs',\n",
       " '2-5 Yrs',\n",
       " '0-1 Yrs',\n",
       " '3-7 Yrs',\n",
       " '3-6 Yrs',\n",
       " '1-5 Yrs',\n",
       " '5-10 Yrs']"
      ]
     },
     "execution_count": 370,
     "metadata": {},
     "output_type": "execute_result"
    }
   ],
   "source": [
    "D=[]\n",
    "for i in d:\n",
    "    D.append(i.text.replace('/n', \"\"))\n",
    "D"
   ]
  },
  {
   "cell_type": "code",
   "execution_count": 371,
   "metadata": {},
   "outputs": [
    {
     "data": {
      "text/plain": [
       "['0-0 Yrs',\n",
       " '0-0 Yrs',\n",
       " '1-5 Yrs',\n",
       " '0-0 Yrs',\n",
       " '0-0 Yrs',\n",
       " '3-6 Yrs',\n",
       " '1-3 Yrs',\n",
       " '2-7 Yrs',\n",
       " '3-7 Yrs',\n",
       " '0-3 Yrs']"
      ]
     },
     "execution_count": 371,
     "metadata": {},
     "output_type": "execute_result"
    }
   ],
   "source": [
    "experience=D[0:10]\n",
    "experience"
   ]
  },
  {
   "cell_type": "code",
   "execution_count": 372,
   "metadata": {},
   "outputs": [
    {
     "data": {
      "text/html": [
       "<div>\n",
       "<style scoped>\n",
       "    .dataframe tbody tr th:only-of-type {\n",
       "        vertical-align: middle;\n",
       "    }\n",
       "\n",
       "    .dataframe tbody tr th {\n",
       "        vertical-align: top;\n",
       "    }\n",
       "\n",
       "    .dataframe thead th {\n",
       "        text-align: right;\n",
       "    }\n",
       "</style>\n",
       "<table border=\"1\" class=\"dataframe\">\n",
       "  <thead>\n",
       "    <tr style=\"text-align: right;\">\n",
       "      <th></th>\n",
       "      <th>job_title</th>\n",
       "      <th>job_loc</th>\n",
       "      <th>company_name</th>\n",
       "      <th>experience</th>\n",
       "    </tr>\n",
       "  </thead>\n",
       "  <tbody>\n",
       "    <tr>\n",
       "      <th>0</th>\n",
       "      <td>Data Scientist / Data Analyst / Business Analy...</td>\n",
       "      <td>Ghaziabad, Faridabad, Delhi / NCR</td>\n",
       "      <td>GABA Consultancy services</td>\n",
       "      <td>0-0 Yrs</td>\n",
       "    </tr>\n",
       "    <tr>\n",
       "      <th>1</th>\n",
       "      <td>Data Scientist/ Machine Learning Engineer</td>\n",
       "      <td>Hyderabad/Secunderabad, Pune, Ahmedabad, Gurga...</td>\n",
       "      <td>Creative Hands HR Consultancy</td>\n",
       "      <td>0-0 Yrs</td>\n",
       "    </tr>\n",
       "    <tr>\n",
       "      <th>2</th>\n",
       "      <td>Data Scientist / Data Analyst</td>\n",
       "      <td>Gurgaon/Gurugram</td>\n",
       "      <td>CARS24</td>\n",
       "      <td>1-5 Yrs</td>\n",
       "    </tr>\n",
       "    <tr>\n",
       "      <th>3</th>\n",
       "      <td>Only Fresher / Data Scientist / Data Analyst /...</td>\n",
       "      <td>Noida, Gurgaon/Gurugram, Delhi / NCR</td>\n",
       "      <td>GABA Consultancy services</td>\n",
       "      <td>0-0 Yrs</td>\n",
       "    </tr>\n",
       "    <tr>\n",
       "      <th>4</th>\n",
       "      <td>Data Scientist / Data Analyst / Business Analy...</td>\n",
       "      <td>Noida, New Delhi, Gurgaon/Gurugram</td>\n",
       "      <td>GABA Consultancy services</td>\n",
       "      <td>0-0 Yrs</td>\n",
       "    </tr>\n",
       "    <tr>\n",
       "      <th>5</th>\n",
       "      <td>Data Scientist</td>\n",
       "      <td>Noida</td>\n",
       "      <td>R Systems International Ltd.</td>\n",
       "      <td>3-6 Yrs</td>\n",
       "    </tr>\n",
       "    <tr>\n",
       "      <th>6</th>\n",
       "      <td>Data Scientist</td>\n",
       "      <td>(WFH during Covid)</td>\n",
       "      <td>PROCESS NINE TECHNOLOGIES PVT.LTD.</td>\n",
       "      <td>1-3 Yrs</td>\n",
       "    </tr>\n",
       "    <tr>\n",
       "      <th>7</th>\n",
       "      <td>Data Scientist - Insurance</td>\n",
       "      <td>Gurgaon/Gurugram</td>\n",
       "      <td>Huquo Consulting Pvt. Ltd</td>\n",
       "      <td>2-7 Yrs</td>\n",
       "    </tr>\n",
       "    <tr>\n",
       "      <th>8</th>\n",
       "      <td>Data Scientist - WFH - MIND Infotech</td>\n",
       "      <td>(WFH during Covid)</td>\n",
       "      <td>MOTHERSONSUMI INFOTECH &amp; DESIGNS LIMITED</td>\n",
       "      <td>3-7 Yrs</td>\n",
       "    </tr>\n",
       "    <tr>\n",
       "      <th>9</th>\n",
       "      <td>Junior Data Scientists &amp; Engineers</td>\n",
       "      <td>Noida, Gurgaon/Gurugram</td>\n",
       "      <td>PY Consultancy</td>\n",
       "      <td>0-3 Yrs</td>\n",
       "    </tr>\n",
       "  </tbody>\n",
       "</table>\n",
       "</div>"
      ],
      "text/plain": [
       "                                           job_title  \\\n",
       "0  Data Scientist / Data Analyst / Business Analy...   \n",
       "1          Data Scientist/ Machine Learning Engineer   \n",
       "2                      Data Scientist / Data Analyst   \n",
       "3  Only Fresher / Data Scientist / Data Analyst /...   \n",
       "4  Data Scientist / Data Analyst / Business Analy...   \n",
       "5                                     Data Scientist   \n",
       "6                                     Data Scientist   \n",
       "7                         Data Scientist - Insurance   \n",
       "8               Data Scientist - WFH - MIND Infotech   \n",
       "9                 Junior Data Scientists & Engineers   \n",
       "\n",
       "                                             job_loc  \\\n",
       "0                  Ghaziabad, Faridabad, Delhi / NCR   \n",
       "1  Hyderabad/Secunderabad, Pune, Ahmedabad, Gurga...   \n",
       "2                                   Gurgaon/Gurugram   \n",
       "3               Noida, Gurgaon/Gurugram, Delhi / NCR   \n",
       "4                 Noida, New Delhi, Gurgaon/Gurugram   \n",
       "5                                              Noida   \n",
       "6                                 (WFH during Covid)   \n",
       "7                                   Gurgaon/Gurugram   \n",
       "8                                 (WFH during Covid)   \n",
       "9                            Noida, Gurgaon/Gurugram   \n",
       "\n",
       "                               company_name experience  \n",
       "0                 GABA Consultancy services    0-0 Yrs  \n",
       "1             Creative Hands HR Consultancy    0-0 Yrs  \n",
       "2                                    CARS24    1-5 Yrs  \n",
       "3                 GABA Consultancy services    0-0 Yrs  \n",
       "4                 GABA Consultancy services    0-0 Yrs  \n",
       "5              R Systems International Ltd.    3-6 Yrs  \n",
       "6        PROCESS NINE TECHNOLOGIES PVT.LTD.    1-3 Yrs  \n",
       "7                 Huquo Consulting Pvt. Ltd    2-7 Yrs  \n",
       "8  MOTHERSONSUMI INFOTECH & DESIGNS LIMITED    3-7 Yrs  \n",
       "9                            PY Consultancy    0-3 Yrs  "
      ]
     },
     "execution_count": 372,
     "metadata": {},
     "output_type": "execute_result"
    }
   ],
   "source": [
    "import pandas as pd\n",
    "ncr =pd.DataFrame({})\n",
    "ncr['job_title']=job_title\n",
    "ncr['job_loc']=job_loc\n",
    "ncr['company_name']=company_name\n",
    "ncr['experience']=experience\n",
    "ncr"
   ]
  },
  {
   "cell_type": "markdown",
   "metadata": {},
   "source": [
    "# 4.  Write a python program to scrape data for first 10 job results for Data scientist Designation in Noida location. You have to scrape company_name, No. of days ago when job was posted, Rating of the company."
   ]
  },
  {
   "cell_type": "code",
   "execution_count": 401,
   "metadata": {},
   "outputs": [],
   "source": [
    "url = \"https://www.glassdoor.co.in/member/home/index.htm\"\n",
    "driver.get(url)"
   ]
  },
  {
   "cell_type": "code",
   "execution_count": 402,
   "metadata": {},
   "outputs": [
    {
     "data": {
      "text/plain": [
       "<selenium.webdriver.remote.webelement.WebElement (session=\"2315bd2f5172d08ed6022cb4de8ac36b\", element=\"2023a4f0-ce60-4a19-8dc6-57fd89adca52\")>"
      ]
     },
     "execution_count": 402,
     "metadata": {},
     "output_type": "execute_result"
    }
   ],
   "source": [
    "# finding the web element(search jobs) using id\n",
    "search_job=driver.find_element_by_id('sc.keyword')\n",
    "search_job"
   ]
  },
  {
   "cell_type": "code",
   "execution_count": 403,
   "metadata": {},
   "outputs": [],
   "source": [
    "search_job.send_keys('Data Scientist')"
   ]
  },
  {
   "cell_type": "code",
   "execution_count": 404,
   "metadata": {},
   "outputs": [
    {
     "data": {
      "text/plain": [
       "<selenium.webdriver.remote.webelement.WebElement (session=\"2315bd2f5172d08ed6022cb4de8ac36b\", element=\"b07acad3-7c65-4a0b-9584-19475662a733\")>"
      ]
     },
     "execution_count": 404,
     "metadata": {},
     "output_type": "execute_result"
    }
   ],
   "source": [
    "search_loc=driver.find_element_by_id('sc.location')\n",
    "search_loc"
   ]
  },
  {
   "cell_type": "code",
   "execution_count": 405,
   "metadata": {},
   "outputs": [],
   "source": [
    "search_loc.send_keys('Noida')"
   ]
  },
  {
   "cell_type": "code",
   "execution_count": 406,
   "metadata": {},
   "outputs": [
    {
     "data": {
      "text/plain": [
       "<selenium.webdriver.remote.webelement.WebElement (session=\"2315bd2f5172d08ed6022cb4de8ac36b\", element=\"72ab1ed7-8c1c-47eb-ad01-aa30f4b0f1d0\")>"
      ]
     },
     "execution_count": 406,
     "metadata": {},
     "output_type": "execute_result"
    }
   ],
   "source": [
    "search_bar=driver.find_element_by_xpath('//span[@class=\"css-8zxfjs\"]/span')\n",
    "search_bar"
   ]
  },
  {
   "cell_type": "code",
   "execution_count": 407,
   "metadata": {},
   "outputs": [],
   "source": [
    "search_bar.click()"
   ]
  },
  {
   "cell_type": "code",
   "execution_count": 408,
   "metadata": {},
   "outputs": [
    {
     "data": {
      "text/plain": [
       "[<selenium.webdriver.remote.webelement.WebElement (session=\"2315bd2f5172d08ed6022cb4de8ac36b\", element=\"935e9afc-ea5b-4627-9eb6-35d292390402\")>,\n",
       " <selenium.webdriver.remote.webelement.WebElement (session=\"2315bd2f5172d08ed6022cb4de8ac36b\", element=\"e961ce90-92be-4277-992f-5d19b5c9d963\")>,\n",
       " <selenium.webdriver.remote.webelement.WebElement (session=\"2315bd2f5172d08ed6022cb4de8ac36b\", element=\"55c91559-e400-4140-a661-8a272065e284\")>,\n",
       " <selenium.webdriver.remote.webelement.WebElement (session=\"2315bd2f5172d08ed6022cb4de8ac36b\", element=\"93084aab-0ed2-4c90-a3fa-af6cf109f428\")>,\n",
       " <selenium.webdriver.remote.webelement.WebElement (session=\"2315bd2f5172d08ed6022cb4de8ac36b\", element=\"f779e0ac-e206-4aaa-9306-65c7b83477a6\")>,\n",
       " <selenium.webdriver.remote.webelement.WebElement (session=\"2315bd2f5172d08ed6022cb4de8ac36b\", element=\"d2d8e274-b18e-43b3-8829-c8fd3011a2b3\")>,\n",
       " <selenium.webdriver.remote.webelement.WebElement (session=\"2315bd2f5172d08ed6022cb4de8ac36b\", element=\"c9f40711-0076-44c5-a181-73a128eaaa40\")>,\n",
       " <selenium.webdriver.remote.webelement.WebElement (session=\"2315bd2f5172d08ed6022cb4de8ac36b\", element=\"af4cf0f9-dcf5-4147-9b2f-f4adbdcbb16d\")>,\n",
       " <selenium.webdriver.remote.webelement.WebElement (session=\"2315bd2f5172d08ed6022cb4de8ac36b\", element=\"71133c0d-164f-40e7-a944-23d5584f38b7\")>,\n",
       " <selenium.webdriver.remote.webelement.WebElement (session=\"2315bd2f5172d08ed6022cb4de8ac36b\", element=\"0bd7243e-54d8-4a54-92dc-bb60fcb29c20\")>,\n",
       " <selenium.webdriver.remote.webelement.WebElement (session=\"2315bd2f5172d08ed6022cb4de8ac36b\", element=\"e1923c7f-e6de-4184-bb1e-5b8767849b52\")>,\n",
       " <selenium.webdriver.remote.webelement.WebElement (session=\"2315bd2f5172d08ed6022cb4de8ac36b\", element=\"106f1903-b6b0-47a3-985a-c2dab689b155\")>,\n",
       " <selenium.webdriver.remote.webelement.WebElement (session=\"2315bd2f5172d08ed6022cb4de8ac36b\", element=\"5f864fe5-c0ac-434a-a990-6d59a08a738e\")>,\n",
       " <selenium.webdriver.remote.webelement.WebElement (session=\"2315bd2f5172d08ed6022cb4de8ac36b\", element=\"6f4cc7e3-ac2b-4343-b80d-1f1eeed3071c\")>,\n",
       " <selenium.webdriver.remote.webelement.WebElement (session=\"2315bd2f5172d08ed6022cb4de8ac36b\", element=\"45f9d76f-baba-4433-82fa-1330bc24e136\")>,\n",
       " <selenium.webdriver.remote.webelement.WebElement (session=\"2315bd2f5172d08ed6022cb4de8ac36b\", element=\"e6b5b243-c86c-4455-8150-723e4fef151f\")>,\n",
       " <selenium.webdriver.remote.webelement.WebElement (session=\"2315bd2f5172d08ed6022cb4de8ac36b\", element=\"a29d5b3b-5a32-4308-9b29-73194702831b\")>,\n",
       " <selenium.webdriver.remote.webelement.WebElement (session=\"2315bd2f5172d08ed6022cb4de8ac36b\", element=\"01521110-40bd-4570-ab08-4e45cbd6119f\")>,\n",
       " <selenium.webdriver.remote.webelement.WebElement (session=\"2315bd2f5172d08ed6022cb4de8ac36b\", element=\"59d87add-043e-4bb5-9bcf-351d7645bbbf\")>,\n",
       " <selenium.webdriver.remote.webelement.WebElement (session=\"2315bd2f5172d08ed6022cb4de8ac36b\", element=\"2e8feac6-8136-40cf-bd94-040ac1ef5cb4\")>,\n",
       " <selenium.webdriver.remote.webelement.WebElement (session=\"2315bd2f5172d08ed6022cb4de8ac36b\", element=\"a41b20c9-94f0-48fa-8059-0cf72cf6da64\")>,\n",
       " <selenium.webdriver.remote.webelement.WebElement (session=\"2315bd2f5172d08ed6022cb4de8ac36b\", element=\"ef30dae3-9b3a-4f1f-bed0-e8df13f6c23c\")>,\n",
       " <selenium.webdriver.remote.webelement.WebElement (session=\"2315bd2f5172d08ed6022cb4de8ac36b\", element=\"6966e117-6a7f-4ca1-9936-caee76a6b5ea\")>,\n",
       " <selenium.webdriver.remote.webelement.WebElement (session=\"2315bd2f5172d08ed6022cb4de8ac36b\", element=\"1338698e-feb4-4d45-9a5a-21d75edc3cea\")>,\n",
       " <selenium.webdriver.remote.webelement.WebElement (session=\"2315bd2f5172d08ed6022cb4de8ac36b\", element=\"6c176ef8-b996-43e7-8642-254e41fba9a6\")>,\n",
       " <selenium.webdriver.remote.webelement.WebElement (session=\"2315bd2f5172d08ed6022cb4de8ac36b\", element=\"8039e0e6-7532-4062-ab8b-d918b021a43e\")>,\n",
       " <selenium.webdriver.remote.webelement.WebElement (session=\"2315bd2f5172d08ed6022cb4de8ac36b\", element=\"2e349bb3-4278-47c5-9ae9-0caeb096fbc5\")>,\n",
       " <selenium.webdriver.remote.webelement.WebElement (session=\"2315bd2f5172d08ed6022cb4de8ac36b\", element=\"5a670c67-6bcc-4997-a42b-9b3aa63556c5\")>,\n",
       " <selenium.webdriver.remote.webelement.WebElement (session=\"2315bd2f5172d08ed6022cb4de8ac36b\", element=\"e58039e9-610e-4f1c-baaa-b0b5942bb8eb\")>,\n",
       " <selenium.webdriver.remote.webelement.WebElement (session=\"2315bd2f5172d08ed6022cb4de8ac36b\", element=\"d23ffb79-3fd1-4b0c-bf86-b08142d201fb\")>]"
      ]
     },
     "execution_count": 408,
     "metadata": {},
     "output_type": "execute_result"
    }
   ],
   "source": [
    "companyname=driver.find_elements_by_xpath('//a[@class=\" job-search-key-l2wjgv e1n63ojh0 jobLink\"]/span')\n",
    "companyname"
   ]
  },
  {
   "cell_type": "code",
   "execution_count": 409,
   "metadata": {},
   "outputs": [
    {
     "data": {
      "text/plain": [
       "['AlgoScale Technologies Private Limited',\n",
       " 'Liberin Technologies Private Limited',\n",
       " 'Adobe',\n",
       " 'Grail Insights',\n",
       " 'Evigway Technologies',\n",
       " 'Crypto Mize',\n",
       " 'Lenskart',\n",
       " 'NEC Opportunities',\n",
       " 'Emerging India Group',\n",
       " 'Emerging India Group',\n",
       " 'BluePi Consulting Pvt Ltd.',\n",
       " 'Genpact',\n",
       " 'Grail Insights',\n",
       " 'Ericsson',\n",
       " 'Badatya Private Limited',\n",
       " 'Ishatva Management Solutions',\n",
       " 'Masters India Private Limited',\n",
       " 'ING',\n",
       " 'RedOptima',\n",
       " 'Genpact',\n",
       " 'Crowe',\n",
       " 'Saishaa Services',\n",
       " 'Bizzhype HR',\n",
       " 'Jaydip Mukerji Holdings',\n",
       " 'Emerging India Analytics',\n",
       " 'limeroad.com',\n",
       " 'Newgen Software',\n",
       " 'BluePi Consulting Pvt Ltd.',\n",
       " 'Monotype',\n",
       " 'NMG Technologies']"
      ]
     },
     "execution_count": 409,
     "metadata": {},
     "output_type": "execute_result"
    }
   ],
   "source": [
    "A=[]\n",
    "for i in companyname:\n",
    "    A.append(i.text.replace(\"/n\", \"\"))\n",
    "A"
   ]
  },
  {
   "cell_type": "code",
   "execution_count": 410,
   "metadata": {},
   "outputs": [
    {
     "data": {
      "text/plain": [
       "['AlgoScale Technologies Private Limited',\n",
       " 'Liberin Technologies Private Limited',\n",
       " 'Adobe',\n",
       " 'Grail Insights',\n",
       " 'Evigway Technologies',\n",
       " 'Crypto Mize',\n",
       " 'Lenskart',\n",
       " 'NEC Opportunities',\n",
       " 'Emerging India Group',\n",
       " 'Emerging India Group']"
      ]
     },
     "execution_count": 410,
     "metadata": {},
     "output_type": "execute_result"
    }
   ],
   "source": [
    "CompanyName=A[0:10]\n",
    "CompanyName"
   ]
  },
  {
   "cell_type": "code",
   "execution_count": 411,
   "metadata": {},
   "outputs": [
    {
     "data": {
      "text/plain": [
       "10"
      ]
     },
     "execution_count": 411,
     "metadata": {},
     "output_type": "execute_result"
    }
   ],
   "source": [
    "len(CompanyName)"
   ]
  },
  {
   "cell_type": "code",
   "execution_count": 412,
   "metadata": {},
   "outputs": [
    {
     "data": {
      "text/plain": [
       "[<selenium.webdriver.remote.webelement.WebElement (session=\"2315bd2f5172d08ed6022cb4de8ac36b\", element=\"52abc901-7ccf-458d-bfbd-690233719d13\")>,\n",
       " <selenium.webdriver.remote.webelement.WebElement (session=\"2315bd2f5172d08ed6022cb4de8ac36b\", element=\"7f8e2706-ee40-4d06-ba41-d655ca6ed0f5\")>,\n",
       " <selenium.webdriver.remote.webelement.WebElement (session=\"2315bd2f5172d08ed6022cb4de8ac36b\", element=\"835389e8-a5f2-48c6-90a9-0854dd0b0f35\")>,\n",
       " <selenium.webdriver.remote.webelement.WebElement (session=\"2315bd2f5172d08ed6022cb4de8ac36b\", element=\"20d6d8e7-1c7a-4a70-891d-4b0e28c5b0fe\")>,\n",
       " <selenium.webdriver.remote.webelement.WebElement (session=\"2315bd2f5172d08ed6022cb4de8ac36b\", element=\"4afd2af3-1109-4d69-9732-c553f975c6bf\")>,\n",
       " <selenium.webdriver.remote.webelement.WebElement (session=\"2315bd2f5172d08ed6022cb4de8ac36b\", element=\"4e15b648-8734-46a5-9715-e290c03948db\")>,\n",
       " <selenium.webdriver.remote.webelement.WebElement (session=\"2315bd2f5172d08ed6022cb4de8ac36b\", element=\"0397ae03-272d-4fc5-96ad-a4fbc6ac0bfc\")>,\n",
       " <selenium.webdriver.remote.webelement.WebElement (session=\"2315bd2f5172d08ed6022cb4de8ac36b\", element=\"37a3fb43-d950-4d4b-9450-ccaac8b5daaf\")>,\n",
       " <selenium.webdriver.remote.webelement.WebElement (session=\"2315bd2f5172d08ed6022cb4de8ac36b\", element=\"dae9c733-ceb7-4f38-b5f3-9da6f61ac477\")>,\n",
       " <selenium.webdriver.remote.webelement.WebElement (session=\"2315bd2f5172d08ed6022cb4de8ac36b\", element=\"2ecdad9c-09ce-4a88-8a3e-ea5088e37a74\")>,\n",
       " <selenium.webdriver.remote.webelement.WebElement (session=\"2315bd2f5172d08ed6022cb4de8ac36b\", element=\"767e2a36-3693-4240-ae5f-b212488a019a\")>,\n",
       " <selenium.webdriver.remote.webelement.WebElement (session=\"2315bd2f5172d08ed6022cb4de8ac36b\", element=\"63eb761d-276b-4aa4-b7ad-62b3703e1b92\")>,\n",
       " <selenium.webdriver.remote.webelement.WebElement (session=\"2315bd2f5172d08ed6022cb4de8ac36b\", element=\"4524e2bb-694a-45a4-9ee7-117ece3cebe3\")>,\n",
       " <selenium.webdriver.remote.webelement.WebElement (session=\"2315bd2f5172d08ed6022cb4de8ac36b\", element=\"bd606e5f-07c4-4fd4-b8f9-ee472c83e0d5\")>,\n",
       " <selenium.webdriver.remote.webelement.WebElement (session=\"2315bd2f5172d08ed6022cb4de8ac36b\", element=\"9b36d748-9f7d-4c4d-9b86-cfbe67aeca85\")>,\n",
       " <selenium.webdriver.remote.webelement.WebElement (session=\"2315bd2f5172d08ed6022cb4de8ac36b\", element=\"e5cde73e-5d35-4e8c-bbb9-8193fb9c08e1\")>,\n",
       " <selenium.webdriver.remote.webelement.WebElement (session=\"2315bd2f5172d08ed6022cb4de8ac36b\", element=\"0d3a842f-8ebb-4b04-a426-b36cbf53075f\")>,\n",
       " <selenium.webdriver.remote.webelement.WebElement (session=\"2315bd2f5172d08ed6022cb4de8ac36b\", element=\"08dafb46-e425-4fa8-ae14-56a00acba5e0\")>,\n",
       " <selenium.webdriver.remote.webelement.WebElement (session=\"2315bd2f5172d08ed6022cb4de8ac36b\", element=\"9f7b4687-6b81-445c-aa48-753a951f68ea\")>,\n",
       " <selenium.webdriver.remote.webelement.WebElement (session=\"2315bd2f5172d08ed6022cb4de8ac36b\", element=\"6acbbf2d-b36a-4ac0-8784-9bf5f5a04aea\")>,\n",
       " <selenium.webdriver.remote.webelement.WebElement (session=\"2315bd2f5172d08ed6022cb4de8ac36b\", element=\"0061f8e6-57f3-4e82-aab5-a837c357e00e\")>,\n",
       " <selenium.webdriver.remote.webelement.WebElement (session=\"2315bd2f5172d08ed6022cb4de8ac36b\", element=\"b1bb99c1-345a-4732-83e4-cec8dfc5906e\")>,\n",
       " <selenium.webdriver.remote.webelement.WebElement (session=\"2315bd2f5172d08ed6022cb4de8ac36b\", element=\"f4bb096e-4dd2-4b07-ba91-915c74dab01a\")>,\n",
       " <selenium.webdriver.remote.webelement.WebElement (session=\"2315bd2f5172d08ed6022cb4de8ac36b\", element=\"0842d0bd-8511-4d0e-8800-b08a4ac32489\")>,\n",
       " <selenium.webdriver.remote.webelement.WebElement (session=\"2315bd2f5172d08ed6022cb4de8ac36b\", element=\"ed05c234-6cc1-4ccc-ab9d-5fc4ec3f065f\")>,\n",
       " <selenium.webdriver.remote.webelement.WebElement (session=\"2315bd2f5172d08ed6022cb4de8ac36b\", element=\"bd4ed30c-3098-4499-89ac-62319b490647\")>,\n",
       " <selenium.webdriver.remote.webelement.WebElement (session=\"2315bd2f5172d08ed6022cb4de8ac36b\", element=\"8aed2a71-458d-4ff6-9e8d-5a11e5b59668\")>,\n",
       " <selenium.webdriver.remote.webelement.WebElement (session=\"2315bd2f5172d08ed6022cb4de8ac36b\", element=\"cc580367-b9a3-4d45-978a-c938d811aa38\")>,\n",
       " <selenium.webdriver.remote.webelement.WebElement (session=\"2315bd2f5172d08ed6022cb4de8ac36b\", element=\"19b3194e-3bd3-4068-89e0-3b56f5a84408\")>,\n",
       " <selenium.webdriver.remote.webelement.WebElement (session=\"2315bd2f5172d08ed6022cb4de8ac36b\", element=\"be692dd0-cc1e-4e63-aa75-663f2c7bdeac\")>]"
      ]
     },
     "execution_count": 412,
     "metadata": {},
     "output_type": "execute_result"
    }
   ],
   "source": [
    "job_posted_date=driver.find_elements_by_xpath('//div[@class=\"d-flex align-items-end pl-std css-17n8uzw\"]')\n",
    "job_posted_date"
   ]
  },
  {
   "cell_type": "code",
   "execution_count": 413,
   "metadata": {},
   "outputs": [
    {
     "data": {
      "text/plain": [
       "['19d',\n",
       " '30d+',\n",
       " '10d',\n",
       " '5d',\n",
       " '4d',\n",
       " '27d',\n",
       " '6d',\n",
       " '26d',\n",
       " '30d+',\n",
       " '30d+',\n",
       " '5d',\n",
       " '6d',\n",
       " '5d',\n",
       " '12d',\n",
       " '16d',\n",
       " '14d',\n",
       " '2d',\n",
       " '10d',\n",
       " '9d',\n",
       " '30d+',\n",
       " '30d+',\n",
       " '21d',\n",
       " '6d',\n",
       " '21d',\n",
       " '30d+',\n",
       " '19d',\n",
       " '30d+',\n",
       " '5d',\n",
       " '4d',\n",
       " '30d+']"
      ]
     },
     "execution_count": 413,
     "metadata": {},
     "output_type": "execute_result"
    }
   ],
   "source": [
    "B=[]\n",
    "for i in job_posted_date:\n",
    "    B.append(i.text.replace(\"\\n\", \"\"))\n",
    "B"
   ]
  },
  {
   "cell_type": "code",
   "execution_count": 414,
   "metadata": {},
   "outputs": [
    {
     "data": {
      "text/plain": [
       "['19d', '30d+', '10d', '5d', '4d', '27d', '6d', '26d', '30d+', '30d+']"
      ]
     },
     "execution_count": 414,
     "metadata": {},
     "output_type": "execute_result"
    }
   ],
   "source": [
    "Job_Posted_Date=B[0:10]\n",
    "Job_Posted_Date"
   ]
  },
  {
   "cell_type": "code",
   "execution_count": 415,
   "metadata": {},
   "outputs": [
    {
     "data": {
      "text/plain": [
       "10"
      ]
     },
     "execution_count": 415,
     "metadata": {},
     "output_type": "execute_result"
    }
   ],
   "source": [
    "len(Job_Posted_Date)"
   ]
  },
  {
   "cell_type": "code",
   "execution_count": 421,
   "metadata": {},
   "outputs": [
    {
     "data": {
      "text/plain": [
       "[<selenium.webdriver.remote.webelement.WebElement (session=\"2315bd2f5172d08ed6022cb4de8ac36b\", element=\"9cfd65bb-1999-4c8a-b9c0-5446aa2fbc47\")>,\n",
       " <selenium.webdriver.remote.webelement.WebElement (session=\"2315bd2f5172d08ed6022cb4de8ac36b\", element=\"73c13bf8-6c7f-444e-8e23-9babb9b265bf\")>,\n",
       " <selenium.webdriver.remote.webelement.WebElement (session=\"2315bd2f5172d08ed6022cb4de8ac36b\", element=\"5d7e91e1-45e1-4554-bf35-768f39501ab5\")>,\n",
       " <selenium.webdriver.remote.webelement.WebElement (session=\"2315bd2f5172d08ed6022cb4de8ac36b\", element=\"615ae481-6704-4753-8539-60879c123734\")>,\n",
       " <selenium.webdriver.remote.webelement.WebElement (session=\"2315bd2f5172d08ed6022cb4de8ac36b\", element=\"b5709ca5-2ee2-4d95-a195-bdaed1e70527\")>,\n",
       " <selenium.webdriver.remote.webelement.WebElement (session=\"2315bd2f5172d08ed6022cb4de8ac36b\", element=\"a2be3341-bcec-4e35-a8fc-36a2ac2d02a0\")>,\n",
       " <selenium.webdriver.remote.webelement.WebElement (session=\"2315bd2f5172d08ed6022cb4de8ac36b\", element=\"7d13c913-c9b3-4cb0-ac78-19731eadb071\")>,\n",
       " <selenium.webdriver.remote.webelement.WebElement (session=\"2315bd2f5172d08ed6022cb4de8ac36b\", element=\"228d22f7-b5fe-46ea-9826-fa6b5f43bc31\")>,\n",
       " <selenium.webdriver.remote.webelement.WebElement (session=\"2315bd2f5172d08ed6022cb4de8ac36b\", element=\"3bf7196f-0326-4e16-8c5e-66733f751e69\")>,\n",
       " <selenium.webdriver.remote.webelement.WebElement (session=\"2315bd2f5172d08ed6022cb4de8ac36b\", element=\"533f6cd0-8ecd-4cc7-8c94-7ff5416a93e6\")>,\n",
       " <selenium.webdriver.remote.webelement.WebElement (session=\"2315bd2f5172d08ed6022cb4de8ac36b\", element=\"3af0899d-2c75-4b96-bfa2-dd34c677fabd\")>,\n",
       " <selenium.webdriver.remote.webelement.WebElement (session=\"2315bd2f5172d08ed6022cb4de8ac36b\", element=\"448079a5-9966-4641-9709-d87b74035aab\")>,\n",
       " <selenium.webdriver.remote.webelement.WebElement (session=\"2315bd2f5172d08ed6022cb4de8ac36b\", element=\"b4e44dac-b6f0-4bc5-a7bc-2df3ad1bd9b2\")>,\n",
       " <selenium.webdriver.remote.webelement.WebElement (session=\"2315bd2f5172d08ed6022cb4de8ac36b\", element=\"e2603dcc-ed02-4358-ad05-f2ebe2b2c96e\")>,\n",
       " <selenium.webdriver.remote.webelement.WebElement (session=\"2315bd2f5172d08ed6022cb4de8ac36b\", element=\"f1d15c25-4b20-4fbc-a7db-3006f4fc403e\")>,\n",
       " <selenium.webdriver.remote.webelement.WebElement (session=\"2315bd2f5172d08ed6022cb4de8ac36b\", element=\"0e392b2c-df03-457e-b44e-848e83ed7fec\")>,\n",
       " <selenium.webdriver.remote.webelement.WebElement (session=\"2315bd2f5172d08ed6022cb4de8ac36b\", element=\"e3ebfe94-481c-4064-ac62-7cec3d90faef\")>,\n",
       " <selenium.webdriver.remote.webelement.WebElement (session=\"2315bd2f5172d08ed6022cb4de8ac36b\", element=\"a4e41de3-254c-40d8-b005-862b75828bae\")>]"
      ]
     },
     "execution_count": 421,
     "metadata": {},
     "output_type": "execute_result"
    }
   ],
   "source": [
    "r=driver.find_elements_by_xpath('//span[@class=\"job-search-key-srfzj0 e1cjmv6j0\"]')\n",
    "r"
   ]
  },
  {
   "cell_type": "code",
   "execution_count": null,
   "metadata": {},
   "outputs": [],
   "source": [
    "for i in r:\n",
    "    \n",
    "        "
   ]
  },
  {
   "cell_type": "code",
   "execution_count": 422,
   "metadata": {},
   "outputs": [],
   "source": [
    "url=[]\n",
    "for i in driver.find_elements_by_xpath('//a[@class=\"jobLink job-search-key-1rd3saf eigr9kq1\"]'):\n",
    "    url.append(i.get_attribute('href'))"
   ]
  },
  {
   "cell_type": "code",
   "execution_count": 423,
   "metadata": {},
   "outputs": [
    {
     "data": {
      "text/plain": [
       "['https://www.glassdoor.co.in/partner/jobListing.htm?pos=101&ao=1136043&s=58&guid=0000017be0005c4a8156896fdeeea6c6&src=GD_JOB_AD&t=SR&vt=w&uido=A29E80802E9783E15D18150BDDEB68F6&ea=1&cs=1_56d60139&cb=1631550725545&jobListingId=1007258785216&jrtk=2-0-1ffg00n4ru4lm801-1ffg00n5qu1f0800-c33fbbcb496aaf48',\n",
       " 'https://www.glassdoor.co.in/partner/jobListing.htm?pos=102&ao=1136043&s=58&guid=0000017be0005c4a8156896fdeeea6c6&src=GD_JOB_AD&t=SR&vt=w&uido=A29E80802E9783E15D18150BDDEB68F6&ea=1&cs=1_adb1fb57&cb=1631550725545&jobListingId=1007200389479&jrtk=2-0-1ffg00n4ru4lm801-1ffg00n5qu1f0800-97d4c65035600d81',\n",
       " 'https://www.glassdoor.co.in/partner/jobListing.htm?pos=103&ao=1136043&s=58&guid=0000017be0005c4a8156896fdeeea6c6&src=GD_JOB_AD&t=SR&vt=w&uido=A29E80802E9783E15D18150BDDEB68F6&cs=1_872e267f&cb=1631550725544&jobListingId=1007280171564&jrtk=2-0-1ffg00n4ru4lm801-1ffg00n5qu1f0800-894fb616f0347e92',\n",
       " 'https://www.glassdoor.co.in/partner/jobListing.htm?pos=104&ao=1136043&s=58&guid=0000017be0005c4a8156896fdeeea6c6&src=GD_JOB_AD&t=SR&vt=w&uido=A29E80802E9783E15D18150BDDEB68F6&cs=1_9f838f31&cb=1631550725544&jobListingId=1007289606692&jrtk=2-0-1ffg00n4ru4lm801-1ffg00n5qu1f0800-cd81678964ea464c',\n",
       " 'https://www.glassdoor.co.in/partner/jobListing.htm?pos=105&ao=1136043&s=58&guid=0000017be0005c4a8156896fdeeea6c6&src=GD_JOB_AD&t=SR&vt=w&uido=A29E80802E9783E15D18150BDDEB68F6&ea=1&cs=1_99bcdb88&cb=1631550725547&jobListingId=1007292215739&jrtk=2-0-1ffg00n4ru4lm801-1ffg00n5qu1f0800-6868a1c2f3d5badb',\n",
       " 'https://www.glassdoor.co.in/partner/jobListing.htm?pos=106&ao=1136043&s=58&guid=0000017be0005c4a8156896fdeeea6c6&src=GD_JOB_AD&t=SR&vt=w&uido=A29E80802E9783E15D18150BDDEB68F6&cs=1_85934589&cb=1631550725545&jobListingId=1007242689151&jrtk=2-0-1ffg00n4ru4lm801-1ffg00n5qu1f0800-1312cf23d6d9b860',\n",
       " 'https://www.glassdoor.co.in/partner/jobListing.htm?pos=107&ao=1136043&s=58&guid=0000017be0005c4a8156896fdeeea6c6&src=GD_JOB_AD&t=SR&vt=w&uido=A29E80802E9783E15D18150BDDEB68F6&ea=1&cs=1_e673631c&cb=1631550725548&jobListingId=1007285294048&jrtk=2-0-1ffg00n4ru4lm801-1ffg00n5qu1f0800-13027c95012596b8',\n",
       " 'https://www.glassdoor.co.in/partner/jobListing.htm?pos=108&ao=1136043&s=58&guid=0000017be0005c4a8156896fdeeea6c6&src=GD_JOB_AD&t=SR&vt=w&uido=A29E80802E9783E15D18150BDDEB68F6&cs=1_9f2d90d3&cb=1631550725546&jobListingId=1007245257958&jrtk=2-0-1ffg00n4ru4lm801-1ffg00n5qu1f0800-d0893868ee842eed',\n",
       " 'https://www.glassdoor.co.in/partner/jobListing.htm?pos=109&ao=1136043&s=58&guid=0000017be0005c4a8156896fdeeea6c6&src=GD_JOB_AD&t=SR&vt=w&uido=A29E80802E9783E15D18150BDDEB68F6&cs=1_f2116597&cb=1631550725546&jobListingId=1007044567503&jrtk=2-0-1ffg00n4ru4lm801-1ffg00n5qu1f0800-5092deea13fb4f8b',\n",
       " 'https://www.glassdoor.co.in/partner/jobListing.htm?pos=110&ao=1136043&s=58&guid=0000017be0005c4a8156896fdeeea6c6&src=GD_JOB_AD&t=SR&vt=w&uido=A29E80802E9783E15D18150BDDEB68F6&cs=1_51a52600&cb=1631550725548&jobListingId=1007044567597&jrtk=2-0-1ffg00n4ru4lm801-1ffg00n5qu1f0800-76c7a7864c30f0fb',\n",
       " 'https://www.glassdoor.co.in/partner/jobListing.htm?pos=111&ao=1136043&s=58&guid=0000017be0005c4a8156896fdeeea6c6&src=GD_JOB_AD&t=SR&vt=w&uido=A29E80802E9783E15D18150BDDEB68F6&cs=1_4f6014a0&cb=1631550725549&jobListingId=1007289150619&jrtk=2-0-1ffg00n4ru4lm801-1ffg00n5qu1f0800-2a8600f29990a486',\n",
       " 'https://www.glassdoor.co.in/partner/jobListing.htm?pos=112&ao=1136043&s=58&guid=0000017be0005c4a8156896fdeeea6c6&src=GD_JOB_AD&t=SR&vt=w&uido=A29E80802E9783E15D18150BDDEB68F6&cs=1_21e6d9a9&cb=1631550725549&jobListingId=1007285326378&jrtk=2-0-1ffg00n4ru4lm801-1ffg00n5qu1f0800-9a104c32d9e70509',\n",
       " 'https://www.glassdoor.co.in/partner/jobListing.htm?pos=113&ao=1136043&s=58&guid=0000017be0005c4a8156896fdeeea6c6&src=GD_JOB_AD&t=SR&vt=w&uido=A29E80802E9783E15D18150BDDEB68F6&cs=1_dc0bd937&cb=1631550725550&jobListingId=1007289606693&jrtk=2-0-1ffg00n4ru4lm801-1ffg00n5qu1f0800-a8c1cf7bed67fe43',\n",
       " 'https://www.glassdoor.co.in/partner/jobListing.htm?pos=114&ao=1136043&s=58&guid=0000017be0005c4a8156896fdeeea6c6&src=GD_JOB_AD&t=SR&vt=w&uido=A29E80802E9783E15D18150BDDEB68F6&cs=1_cc7a62b7&cb=1631550725550&jobListingId=1007275121225&jrtk=2-0-1ffg00n4ru4lm801-1ffg00n5qu1f0800-59eb9dcaa5a68f12',\n",
       " 'https://www.glassdoor.co.in/partner/jobListing.htm?pos=115&ao=1136043&s=58&guid=0000017be0005c4a8156896fdeeea6c6&src=GD_JOB_AD&t=SR&vt=w&uido=A29E80802E9783E15D18150BDDEB68F6&ea=1&cs=1_a555a489&cb=1631550725552&jobListingId=1007266328290&jrtk=2-0-1ffg00n4ru4lm801-1ffg00n5qu1f0800-eae3ece86db0d172',\n",
       " 'https://www.glassdoor.co.in/partner/jobListing.htm?pos=116&ao=1136043&s=58&guid=0000017be0005c4a8156896fdeeea6c6&src=GD_JOB_AD&t=SR&vt=w&uido=A29E80802E9783E15D18150BDDEB68F6&ea=1&cs=1_f0597a57&cb=1631550725553&jobListingId=1007267967133&jrtk=2-0-1ffg00n4ru4lm801-1ffg00n5qu1f0800-b3c352ca79ca6d73',\n",
       " 'https://www.glassdoor.co.in/partner/jobListing.htm?pos=117&ao=1136043&s=58&guid=0000017be0005c4a8156896fdeeea6c6&src=GD_JOB_AD&t=SR&vt=w&uido=A29E80802E9783E15D18150BDDEB68F6&ea=1&cs=1_2db7da3b&cb=1631550725553&jobListingId=1007296526334&jrtk=2-0-1ffg00n4ru4lm801-1ffg00n5qu1f0800-6b15938aa48bbc15',\n",
       " 'https://www.glassdoor.co.in/partner/jobListing.htm?pos=118&ao=1136043&s=58&guid=0000017be0005c4a8156896fdeeea6c6&src=GD_JOB_AD&t=SR&vt=w&uido=A29E80802E9783E15D18150BDDEB68F6&cs=1_bf4a01f1&cb=1631550725553&jobListingId=1007279789126&jrtk=2-0-1ffg00n4ru4lm801-1ffg00n5qu1f0800-696539a2bd423b28',\n",
       " 'https://www.glassdoor.co.in/partner/jobListing.htm?pos=119&ao=1136043&s=58&guid=0000017be0005c4a8156896fdeeea6c6&src=GD_JOB_AD&t=SR&vt=w&uido=A29E80802E9783E15D18150BDDEB68F6&ea=1&cs=1_e81b802b&cb=1631550725554&jobListingId=1007281789420&jrtk=2-0-1ffg00n4ru4lm801-1ffg00n5qu1f0800-61dc63ca1fcadee6',\n",
       " 'https://www.glassdoor.co.in/partner/jobListing.htm?pos=120&ao=1136043&s=58&guid=0000017be0005c4a8156896fdeeea6c6&src=GD_JOB_AD&t=SR&vt=w&uido=A29E80802E9783E15D18150BDDEB68F6&cs=1_eb060fbc&cb=1631550725553&jobListingId=1006864372486&jrtk=2-0-1ffg00n4ru4lm801-1ffg00n5qu1f0800-69c305c484805fa5',\n",
       " 'https://www.glassdoor.co.in/partner/jobListing.htm?pos=121&ao=1136043&s=58&guid=0000017be0005c4a8156896fdeeea6c6&src=GD_JOB_AD&t=SR&vt=w&uido=A29E80802E9783E15D18150BDDEB68F6&cs=1_ae910301&cb=1631550725554&jobListingId=1007095133299&jrtk=2-0-1ffg00n4ru4lm801-1ffg00n5qu1f0800-84db922a59ad7885',\n",
       " 'https://www.glassdoor.co.in/partner/jobListing.htm?pos=122&ao=1136043&s=58&guid=0000017be0005c4a8156896fdeeea6c6&src=GD_JOB_AD&t=SR&vt=w&uido=A29E80802E9783E15D18150BDDEB68F6&ea=1&cs=1_db77c773&cb=1631550725554&jobListingId=1007254252559&jrtk=2-0-1ffg00n4ru4lm801-1ffg00n5qu1f0800-4a6ae5c940239506',\n",
       " 'https://www.glassdoor.co.in/partner/jobListing.htm?pos=123&ao=1136043&s=58&guid=0000017be0005c4a8156896fdeeea6c6&src=GD_JOB_AD&t=SR&vt=w&uido=A29E80802E9783E15D18150BDDEB68F6&ea=1&cs=1_cc4ea16c&cb=1631550725555&jobListingId=1007286502852&jrtk=2-0-1ffg00n4ru4lm801-1ffg00n5qu1f0800-e8f639001359b3cc',\n",
       " 'https://www.glassdoor.co.in/partner/jobListing.htm?pos=124&ao=1136043&s=58&guid=0000017be0005c4a8156896fdeeea6c6&src=GD_JOB_AD&t=SR&vt=w&uido=A29E80802E9783E15D18150BDDEB68F6&ea=1&cs=1_c500750c&cb=1631550725555&jobListingId=1007253096926&jrtk=2-0-1ffg00n4ru4lm801-1ffg00n5qu1f0800-9a4e53b8f5c647da',\n",
       " 'https://www.glassdoor.co.in/partner/jobListing.htm?pos=125&ao=1136043&s=58&guid=0000017be0005c4a8156896fdeeea6c6&src=GD_JOB_AD&t=SR&vt=w&uido=A29E80802E9783E15D18150BDDEB68F6&ea=1&cs=1_852531ec&cb=1631550725556&jobListingId=1007219231719&jrtk=2-0-1ffg00n4ru4lm801-1ffg00n5qu1f0800-97e5e173cec15330',\n",
       " 'https://www.glassdoor.co.in/partner/jobListing.htm?pos=126&ao=1136043&s=58&guid=0000017be0005c4a8156896fdeeea6c6&src=GD_JOB_AD&t=SR&vt=w&uido=A29E80802E9783E15D18150BDDEB68F6&ea=1&cs=1_78622aaa&cb=1631550725556&jobListingId=1007258812550&jrtk=2-0-1ffg00n4ru4lm801-1ffg00n5qu1f0800-223dcefd7d2a9c1c',\n",
       " 'https://www.glassdoor.co.in/partner/jobListing.htm?pos=127&ao=1136043&s=58&guid=0000017be0005c4a8156896fdeeea6c6&src=GD_JOB_AD&t=SR&vt=w&uido=A29E80802E9783E15D18150BDDEB68F6&cs=1_3aceb3d2&cb=1631550725555&jobListingId=1007179647282&jrtk=2-0-1ffg00n4ru4lm801-1ffg00n5qu1f0800-553f505b050aa33e',\n",
       " 'https://www.glassdoor.co.in/partner/jobListing.htm?pos=128&ao=1136043&s=58&guid=0000017be0005c4a8156896fdeeea6c6&src=GD_JOB_AD&t=SR&vt=w&uido=A29E80802E9783E15D18150BDDEB68F6&cs=1_c5ec6dd4&cb=1631550725555&jobListingId=1007289150765&jrtk=2-0-1ffg00n4ru4lm801-1ffg00n5qu1f0800-783e53d6ca7cf633',\n",
       " 'https://www.glassdoor.co.in/partner/jobListing.htm?pos=129&ao=1136043&s=58&guid=0000017be0005c4a8156896fdeeea6c6&src=GD_JOB_AD&t=SR&vt=w&uido=A29E80802E9783E15D18150BDDEB68F6&cs=1_5a9cd3b0&cb=1631550725555&jobListingId=1007292216912&jrtk=2-0-1ffg00n4ru4lm801-1ffg00n5qu1f0800-9a26187856f229b6',\n",
       " 'https://www.glassdoor.co.in/partner/jobListing.htm?pos=130&ao=1136043&s=58&guid=0000017be0005c4a8156896fdeeea6c6&src=GD_JOB_AD&t=SR&vt=w&uido=A29E80802E9783E15D18150BDDEB68F6&ea=1&cs=1_6d49af37&cb=1631550725557&jobListingId=1007236087769&jrtk=2-0-1ffg00n4ru4lm801-1ffg00n5qu1f0800-b8080bed48042078']"
      ]
     },
     "execution_count": 423,
     "metadata": {},
     "output_type": "execute_result"
    }
   ],
   "source": [
    "url"
   ]
  },
  {
   "cell_type": "code",
   "execution_count": 424,
   "metadata": {},
   "outputs": [],
   "source": [
    "import time\n",
    "from selenium.common.exceptions import NoSuchElementException"
   ]
  },
  {
   "cell_type": "code",
   "execution_count": 425,
   "metadata": {},
   "outputs": [],
   "source": [
    "Rating=[]\n",
    "for i in url:\n",
    "    driver.get(i)\n",
    "    time.sleep(3)\n",
    "    try:\n",
    "        rate=driver.find_element_by_xpath('//div[@class=\"css-xuk5ye e1tk4kwz5\"]/span]')\n",
    "        Rating.append(rate.text.replace('/n', \"\"))\n",
    "    except:\n",
    "        Rating.append('-')"
   ]
  },
  {
   "cell_type": "code",
   "execution_count": 47,
   "metadata": {},
   "outputs": [
    {
     "data": {
      "text/plain": [
       "['-', '-', '3.9★', '3.9★', '3.5★', '-', '3.5★', '3.6★', '-', '3.3★']"
      ]
     },
     "execution_count": 47,
     "metadata": {},
     "output_type": "execute_result"
    }
   ],
   "source": [
    "RATING = Rating[0:10]\n",
    "RATING"
   ]
  },
  {
   "cell_type": "code",
   "execution_count": 48,
   "metadata": {},
   "outputs": [
    {
     "data": {
      "text/html": [
       "<div>\n",
       "<style scoped>\n",
       "    .dataframe tbody tr th:only-of-type {\n",
       "        vertical-align: middle;\n",
       "    }\n",
       "\n",
       "    .dataframe tbody tr th {\n",
       "        vertical-align: top;\n",
       "    }\n",
       "\n",
       "    .dataframe thead th {\n",
       "        text-align: right;\n",
       "    }\n",
       "</style>\n",
       "<table border=\"1\" class=\"dataframe\">\n",
       "  <thead>\n",
       "    <tr style=\"text-align: right;\">\n",
       "      <th></th>\n",
       "      <th>CompanyName</th>\n",
       "      <th>Job_Posted_Date</th>\n",
       "      <th>RATING</th>\n",
       "    </tr>\n",
       "  </thead>\n",
       "  <tbody>\n",
       "    <tr>\n",
       "      <th>0</th>\n",
       "      <td>AlgoScale Technologies Private Limited</td>\n",
       "      <td>17d</td>\n",
       "      <td>-</td>\n",
       "    </tr>\n",
       "    <tr>\n",
       "      <th>1</th>\n",
       "      <td>Liberin Technologies Private Limited</td>\n",
       "      <td>30d+</td>\n",
       "      <td>-</td>\n",
       "    </tr>\n",
       "    <tr>\n",
       "      <th>2</th>\n",
       "      <td>IBM</td>\n",
       "      <td>24h</td>\n",
       "      <td>3.9★</td>\n",
       "    </tr>\n",
       "    <tr>\n",
       "      <th>3</th>\n",
       "      <td>Noisy Lion</td>\n",
       "      <td>2d</td>\n",
       "      <td>3.9★</td>\n",
       "    </tr>\n",
       "    <tr>\n",
       "      <th>4</th>\n",
       "      <td>Grail Insights</td>\n",
       "      <td>2d</td>\n",
       "      <td>3.5★</td>\n",
       "    </tr>\n",
       "    <tr>\n",
       "      <th>5</th>\n",
       "      <td>Salasar New Age Technologies</td>\n",
       "      <td>30d+</td>\n",
       "      <td>-</td>\n",
       "    </tr>\n",
       "    <tr>\n",
       "      <th>6</th>\n",
       "      <td>Grail Insights</td>\n",
       "      <td>2d</td>\n",
       "      <td>3.5★</td>\n",
       "    </tr>\n",
       "    <tr>\n",
       "      <th>7</th>\n",
       "      <td>Lenskart</td>\n",
       "      <td>4d</td>\n",
       "      <td>3.6★</td>\n",
       "    </tr>\n",
       "    <tr>\n",
       "      <th>8</th>\n",
       "      <td>Techlive</td>\n",
       "      <td>30d+</td>\n",
       "      <td>-</td>\n",
       "    </tr>\n",
       "    <tr>\n",
       "      <th>9</th>\n",
       "      <td>Newgen Software</td>\n",
       "      <td>30d+</td>\n",
       "      <td>3.3★</td>\n",
       "    </tr>\n",
       "  </tbody>\n",
       "</table>\n",
       "</div>"
      ],
      "text/plain": [
       "                              CompanyName Job_Posted_Date RATING\n",
       "0  AlgoScale Technologies Private Limited             17d      -\n",
       "1    Liberin Technologies Private Limited            30d+      -\n",
       "2                                     IBM             24h   3.9★\n",
       "3                              Noisy Lion              2d   3.9★\n",
       "4                          Grail Insights              2d   3.5★\n",
       "5            Salasar New Age Technologies            30d+      -\n",
       "6                          Grail Insights              2d   3.5★\n",
       "7                                Lenskart              4d   3.6★\n",
       "8                                Techlive            30d+      -\n",
       "9                         Newgen Software            30d+   3.3★"
      ]
     },
     "execution_count": 48,
     "metadata": {},
     "output_type": "execute_result"
    }
   ],
   "source": [
    "import pandas as pd\n",
    "GD = pd.DataFrame({})\n",
    "GD['CompanyName']=CompanyName\n",
    "GD['Job_Posted_Date']=Job_Posted_Date\n",
    "GD['RATING']=RATING\n",
    "GD"
   ]
  },
  {
   "cell_type": "markdown",
   "metadata": {},
   "source": [
    "# 5. Write a python program to scrape the salary data for Data Scientist designation in Noida location.You have to scrape Company name, Number of salaries, Average salary, Min salary, Max Salary."
   ]
  },
  {
   "cell_type": "code",
   "execution_count": 53,
   "metadata": {},
   "outputs": [],
   "source": [
    "url = \"https://www.glassdoor.co.in/Salaries/index.htm\"\n",
    "driver.get(url) "
   ]
  },
  {
   "cell_type": "code",
   "execution_count": 60,
   "metadata": {},
   "outputs": [
    {
     "data": {
      "text/plain": [
       "<selenium.webdriver.remote.webelement.WebElement (session=\"d64f3cb57a8a6eef2e0ddfbd5172b938\", element=\"ba6c236f-69c3-48db-b5b8-77678aae1e59\")>"
      ]
     },
     "execution_count": 60,
     "metadata": {},
     "output_type": "execute_result"
    }
   ],
   "source": [
    "search_job=driver.find_element_by_id('KeywordSearch')\n",
    "search_job"
   ]
  },
  {
   "cell_type": "code",
   "execution_count": 61,
   "metadata": {},
   "outputs": [],
   "source": [
    "search_job.send_keys('Data Scientist')"
   ]
  },
  {
   "cell_type": "code",
   "execution_count": 62,
   "metadata": {},
   "outputs": [
    {
     "data": {
      "text/plain": [
       "<selenium.webdriver.remote.webelement.WebElement (session=\"d64f3cb57a8a6eef2e0ddfbd5172b938\", element=\"c7f4d67d-d874-40d1-9b9d-6b7f9dd49c2b\")>"
      ]
     },
     "execution_count": 62,
     "metadata": {},
     "output_type": "execute_result"
    }
   ],
   "source": [
    "search_loc=driver.find_element_by_id('LocationSearch')\n",
    "search_loc"
   ]
  },
  {
   "cell_type": "code",
   "execution_count": 63,
   "metadata": {},
   "outputs": [],
   "source": [
    "search_loc.send_keys('Noida')"
   ]
  },
  {
   "cell_type": "code",
   "execution_count": 66,
   "metadata": {},
   "outputs": [
    {
     "data": {
      "text/plain": [
       "<selenium.webdriver.remote.webelement.WebElement (session=\"d64f3cb57a8a6eef2e0ddfbd5172b938\", element=\"a4a6a350-3622-4427-9528-766ab39c70fd\")>"
      ]
     },
     "execution_count": 66,
     "metadata": {},
     "output_type": "execute_result"
    }
   ],
   "source": [
    "search_bar=driver.find_element_by_id(\"HeroSearchButton\")\n",
    "search_bar"
   ]
  },
  {
   "cell_type": "code",
   "execution_count": 67,
   "metadata": {},
   "outputs": [],
   "source": [
    "search_bar.click()"
   ]
  },
  {
   "cell_type": "code",
   "execution_count": 68,
   "metadata": {},
   "outputs": [
    {
     "data": {
      "text/plain": [
       "[<selenium.webdriver.remote.webelement.WebElement (session=\"d64f3cb57a8a6eef2e0ddfbd5172b938\", element=\"99b88445-c921-4e55-bf7c-a30cc81fe573\")>,\n",
       " <selenium.webdriver.remote.webelement.WebElement (session=\"d64f3cb57a8a6eef2e0ddfbd5172b938\", element=\"45e7da2e-1f5b-4891-b906-66f31f6a1fce\")>,\n",
       " <selenium.webdriver.remote.webelement.WebElement (session=\"d64f3cb57a8a6eef2e0ddfbd5172b938\", element=\"90a09720-da43-43a0-b265-febc7df2dfe7\")>,\n",
       " <selenium.webdriver.remote.webelement.WebElement (session=\"d64f3cb57a8a6eef2e0ddfbd5172b938\", element=\"271469cb-cd1e-4e46-a09e-fee8c83e5b92\")>,\n",
       " <selenium.webdriver.remote.webelement.WebElement (session=\"d64f3cb57a8a6eef2e0ddfbd5172b938\", element=\"62ef3e24-86d2-41b2-9088-43a7e2602335\")>,\n",
       " <selenium.webdriver.remote.webelement.WebElement (session=\"d64f3cb57a8a6eef2e0ddfbd5172b938\", element=\"2e8e055f-17a7-4174-aa96-cf6f4135a340\")>,\n",
       " <selenium.webdriver.remote.webelement.WebElement (session=\"d64f3cb57a8a6eef2e0ddfbd5172b938\", element=\"88f1feb3-96b0-45f5-b639-c3007c73c118\")>,\n",
       " <selenium.webdriver.remote.webelement.WebElement (session=\"d64f3cb57a8a6eef2e0ddfbd5172b938\", element=\"cc96c96c-a93b-4607-9ada-b08959864ddc\")>,\n",
       " <selenium.webdriver.remote.webelement.WebElement (session=\"d64f3cb57a8a6eef2e0ddfbd5172b938\", element=\"9bdd5b7b-c4c5-486f-b5ba-420212662bf5\")>,\n",
       " <selenium.webdriver.remote.webelement.WebElement (session=\"d64f3cb57a8a6eef2e0ddfbd5172b938\", element=\"dce2d411-4113-44fb-bc5f-9a06eb985281\")>,\n",
       " <selenium.webdriver.remote.webelement.WebElement (session=\"d64f3cb57a8a6eef2e0ddfbd5172b938\", element=\"703fb9f1-de04-4bcf-8b5a-b60ddc8ae6e7\")>,\n",
       " <selenium.webdriver.remote.webelement.WebElement (session=\"d64f3cb57a8a6eef2e0ddfbd5172b938\", element=\"8840847d-5622-42aa-9c4b-3e239744ca35\")>,\n",
       " <selenium.webdriver.remote.webelement.WebElement (session=\"d64f3cb57a8a6eef2e0ddfbd5172b938\", element=\"587eedc7-c399-423f-b433-05a1c706af1c\")>,\n",
       " <selenium.webdriver.remote.webelement.WebElement (session=\"d64f3cb57a8a6eef2e0ddfbd5172b938\", element=\"af30d7ab-b3b4-411d-9ef8-56658cbf3e2c\")>,\n",
       " <selenium.webdriver.remote.webelement.WebElement (session=\"d64f3cb57a8a6eef2e0ddfbd5172b938\", element=\"98ef52ae-2bdc-474f-a45c-c633d5fe82b7\")>,\n",
       " <selenium.webdriver.remote.webelement.WebElement (session=\"d64f3cb57a8a6eef2e0ddfbd5172b938\", element=\"c85bf2fb-992c-4414-9c75-44f30127be7e\")>,\n",
       " <selenium.webdriver.remote.webelement.WebElement (session=\"d64f3cb57a8a6eef2e0ddfbd5172b938\", element=\"efe0d1a7-0587-4b93-a191-991cff876f02\")>,\n",
       " <selenium.webdriver.remote.webelement.WebElement (session=\"d64f3cb57a8a6eef2e0ddfbd5172b938\", element=\"7c345d31-71a1-4f55-a68c-e6564503c651\")>,\n",
       " <selenium.webdriver.remote.webelement.WebElement (session=\"d64f3cb57a8a6eef2e0ddfbd5172b938\", element=\"88428e27-155a-4c41-b9ff-472a7a8bce70\")>,\n",
       " <selenium.webdriver.remote.webelement.WebElement (session=\"d64f3cb57a8a6eef2e0ddfbd5172b938\", element=\"fb179235-0bb6-4c7b-9734-80e013a9e7e1\")>]"
      ]
     },
     "execution_count": 68,
     "metadata": {},
     "output_type": "execute_result"
    }
   ],
   "source": [
    "companyname=driver.find_elements_by_xpath('//a[@class=\"css-f3vw95 e1aj7ssy3\"]')\n",
    "companyname"
   ]
  },
  {
   "cell_type": "code",
   "execution_count": 69,
   "metadata": {},
   "outputs": [
    {
     "data": {
      "text/plain": [
       "['Tata Consultancy Services',\n",
       " 'IBM',\n",
       " 'Accenture',\n",
       " 'Delhivery',\n",
       " 'Ericsson-Worldwide',\n",
       " 'UnitedHealth Group',\n",
       " 'Optum',\n",
       " 'Optum Global Solutions',\n",
       " 'Valiance Solutions',\n",
       " 'EXL Service',\n",
       " 'Cognizant Technology Solutions',\n",
       " 'ZS Associates',\n",
       " 'Nagarro',\n",
       " 'Innovaccer',\n",
       " 'OYO',\n",
       " 'dunnhumby',\n",
       " 'Amazon',\n",
       " 'Fresher',\n",
       " 'CARS24.com',\n",
       " 'Vidooly Media Tech']"
      ]
     },
     "execution_count": 69,
     "metadata": {},
     "output_type": "execute_result"
    }
   ],
   "source": [
    "A=[]\n",
    "for i in companyname:\n",
    "    A.append(i.text.replace(\"\\n\", \"\"))\n",
    "A"
   ]
  },
  {
   "cell_type": "code",
   "execution_count": 70,
   "metadata": {},
   "outputs": [
    {
     "data": {
      "text/plain": [
       "['Tata Consultancy Services',\n",
       " 'IBM',\n",
       " 'Accenture',\n",
       " 'Delhivery',\n",
       " 'Ericsson-Worldwide',\n",
       " 'UnitedHealth Group',\n",
       " 'Optum',\n",
       " 'Optum Global Solutions',\n",
       " 'Valiance Solutions',\n",
       " 'EXL Service']"
      ]
     },
     "execution_count": 70,
     "metadata": {},
     "output_type": "execute_result"
    }
   ],
   "source": [
    "Company_Name=A[0:10]\n",
    "Company_Name"
   ]
  },
  {
   "cell_type": "code",
   "execution_count": 71,
   "metadata": {},
   "outputs": [
    {
     "data": {
      "text/plain": [
       "[<selenium.webdriver.remote.webelement.WebElement (session=\"d64f3cb57a8a6eef2e0ddfbd5172b938\", element=\"edbacf95-a0ca-4726-afb6-db447e430f0a\")>,\n",
       " <selenium.webdriver.remote.webelement.WebElement (session=\"d64f3cb57a8a6eef2e0ddfbd5172b938\", element=\"492c5488-cded-4bbb-a242-ccce8e9e1937\")>,\n",
       " <selenium.webdriver.remote.webelement.WebElement (session=\"d64f3cb57a8a6eef2e0ddfbd5172b938\", element=\"dc7da705-b89c-4293-a6d4-b89eb5095b71\")>,\n",
       " <selenium.webdriver.remote.webelement.WebElement (session=\"d64f3cb57a8a6eef2e0ddfbd5172b938\", element=\"5c54ef63-bd9b-47cd-959d-dfa36d75e403\")>,\n",
       " <selenium.webdriver.remote.webelement.WebElement (session=\"d64f3cb57a8a6eef2e0ddfbd5172b938\", element=\"804d1225-d1c9-40da-b946-3631c4cdca40\")>,\n",
       " <selenium.webdriver.remote.webelement.WebElement (session=\"d64f3cb57a8a6eef2e0ddfbd5172b938\", element=\"a23477c8-401d-4c31-badf-60f6a302c759\")>,\n",
       " <selenium.webdriver.remote.webelement.WebElement (session=\"d64f3cb57a8a6eef2e0ddfbd5172b938\", element=\"e7c6602a-0934-4b9a-b446-8581be6cff9e\")>,\n",
       " <selenium.webdriver.remote.webelement.WebElement (session=\"d64f3cb57a8a6eef2e0ddfbd5172b938\", element=\"c47ca5ae-b000-4d4a-bb23-3a9cbcfc62c2\")>,\n",
       " <selenium.webdriver.remote.webelement.WebElement (session=\"d64f3cb57a8a6eef2e0ddfbd5172b938\", element=\"db627e2c-9e75-4945-9e37-60f2d7b60e2a\")>,\n",
       " <selenium.webdriver.remote.webelement.WebElement (session=\"d64f3cb57a8a6eef2e0ddfbd5172b938\", element=\"1611557d-a13d-4e85-8439-7aec9352ced9\")>,\n",
       " <selenium.webdriver.remote.webelement.WebElement (session=\"d64f3cb57a8a6eef2e0ddfbd5172b938\", element=\"35d56f25-0179-434e-b63a-0f89e90bd2ef\")>,\n",
       " <selenium.webdriver.remote.webelement.WebElement (session=\"d64f3cb57a8a6eef2e0ddfbd5172b938\", element=\"f1c69a99-a874-486d-a3f6-528ae7b1bd64\")>,\n",
       " <selenium.webdriver.remote.webelement.WebElement (session=\"d64f3cb57a8a6eef2e0ddfbd5172b938\", element=\"29a2bbb0-5b9d-447f-8376-e57a7794531c\")>,\n",
       " <selenium.webdriver.remote.webelement.WebElement (session=\"d64f3cb57a8a6eef2e0ddfbd5172b938\", element=\"58991be7-8b05-45f1-9497-5bfac1c20f29\")>,\n",
       " <selenium.webdriver.remote.webelement.WebElement (session=\"d64f3cb57a8a6eef2e0ddfbd5172b938\", element=\"0d19a19b-aa0c-48e8-bea0-cfe6e0a1251c\")>,\n",
       " <selenium.webdriver.remote.webelement.WebElement (session=\"d64f3cb57a8a6eef2e0ddfbd5172b938\", element=\"d8d8cd63-4f62-403b-98d6-91dca58afdf0\")>,\n",
       " <selenium.webdriver.remote.webelement.WebElement (session=\"d64f3cb57a8a6eef2e0ddfbd5172b938\", element=\"73d27d73-e025-41ba-aa48-2410487bff4c\")>,\n",
       " <selenium.webdriver.remote.webelement.WebElement (session=\"d64f3cb57a8a6eef2e0ddfbd5172b938\", element=\"d8d4196f-e292-4368-8e0b-ccf6f924f97c\")>,\n",
       " <selenium.webdriver.remote.webelement.WebElement (session=\"d64f3cb57a8a6eef2e0ddfbd5172b938\", element=\"bf31d4c9-ab77-473a-a94d-a92841e185d3\")>,\n",
       " <selenium.webdriver.remote.webelement.WebElement (session=\"d64f3cb57a8a6eef2e0ddfbd5172b938\", element=\"bba6f8a4-8114-4f30-acf3-b85117648f45\")>]"
      ]
     },
     "execution_count": 71,
     "metadata": {},
     "output_type": "execute_result"
    }
   ],
   "source": [
    "salary=driver.find_elements_by_xpath('//div[@class=\"col-12 col-lg-auto\"]')\n",
    "salary"
   ]
  },
  {
   "cell_type": "code",
   "execution_count": 72,
   "metadata": {},
   "outputs": [
    {
     "data": {
      "text/plain": [
       "['22 salaries',\n",
       " '20 salaries',\n",
       " '15 salaries',\n",
       " '15 salaries',\n",
       " '14 salaries',\n",
       " '14 salaries',\n",
       " '10 salaries',\n",
       " '10 salaries',\n",
       " '10 salaries',\n",
       " '9 salaries',\n",
       " '8 salaries',\n",
       " '8 salaries',\n",
       " '8 salaries',\n",
       " '8 salaries',\n",
       " '7 salaries',\n",
       " '7 salaries',\n",
       " '6 salaries',\n",
       " '6 salaries',\n",
       " '6 salaries',\n",
       " '6 salaries']"
      ]
     },
     "execution_count": 72,
     "metadata": {},
     "output_type": "execute_result"
    }
   ],
   "source": [
    "B=[]\n",
    "for i in salary:\n",
    "    B.append(i.text.replace(\"\\n\", \"\"))\n",
    "B"
   ]
  },
  {
   "cell_type": "code",
   "execution_count": 75,
   "metadata": {},
   "outputs": [
    {
     "data": {
      "text/plain": [
       "['22 salaries',\n",
       " '20 salaries',\n",
       " '15 salaries',\n",
       " '15 salaries',\n",
       " '14 salaries',\n",
       " '14 salaries',\n",
       " '10 salaries',\n",
       " '10 salaries',\n",
       " '10 salaries',\n",
       " '9 salaries']"
      ]
     },
     "execution_count": 75,
     "metadata": {},
     "output_type": "execute_result"
    }
   ],
   "source": [
    "noofsalaries=B[0:10]\n",
    "noofsalaries"
   ]
  },
  {
   "cell_type": "code",
   "execution_count": 76,
   "metadata": {},
   "outputs": [
    {
     "data": {
      "text/plain": [
       "10"
      ]
     },
     "execution_count": 76,
     "metadata": {},
     "output_type": "execute_result"
    }
   ],
   "source": [
    "len(noofsalaries)"
   ]
  },
  {
   "cell_type": "code",
   "execution_count": 77,
   "metadata": {},
   "outputs": [
    {
     "data": {
      "text/plain": [
       "[<selenium.webdriver.remote.webelement.WebElement (session=\"d64f3cb57a8a6eef2e0ddfbd5172b938\", element=\"28a94a90-ff6f-448b-915b-5fa60e13c314\")>,\n",
       " <selenium.webdriver.remote.webelement.WebElement (session=\"d64f3cb57a8a6eef2e0ddfbd5172b938\", element=\"fc3c6b56-a4c5-45fb-a749-36c12e3a8d7c\")>,\n",
       " <selenium.webdriver.remote.webelement.WebElement (session=\"d64f3cb57a8a6eef2e0ddfbd5172b938\", element=\"a3f16292-1c29-4987-9948-4498f96dc5d3\")>,\n",
       " <selenium.webdriver.remote.webelement.WebElement (session=\"d64f3cb57a8a6eef2e0ddfbd5172b938\", element=\"dad72ed9-b2c5-46f1-9d5d-13a87df515c5\")>,\n",
       " <selenium.webdriver.remote.webelement.WebElement (session=\"d64f3cb57a8a6eef2e0ddfbd5172b938\", element=\"76380ba9-945e-48a9-8c8b-e759b4e24526\")>,\n",
       " <selenium.webdriver.remote.webelement.WebElement (session=\"d64f3cb57a8a6eef2e0ddfbd5172b938\", element=\"e438fcf3-8e48-4fd0-a355-f74f8b4f4d00\")>,\n",
       " <selenium.webdriver.remote.webelement.WebElement (session=\"d64f3cb57a8a6eef2e0ddfbd5172b938\", element=\"45d5d1df-13ed-4c0f-be6c-bb8b7c0cdcae\")>,\n",
       " <selenium.webdriver.remote.webelement.WebElement (session=\"d64f3cb57a8a6eef2e0ddfbd5172b938\", element=\"156b9e8a-9918-4bea-b203-dea58d792cd3\")>,\n",
       " <selenium.webdriver.remote.webelement.WebElement (session=\"d64f3cb57a8a6eef2e0ddfbd5172b938\", element=\"721a05a6-12af-4fe9-a2ce-fb99d27d6f1c\")>,\n",
       " <selenium.webdriver.remote.webelement.WebElement (session=\"d64f3cb57a8a6eef2e0ddfbd5172b938\", element=\"2710e118-aa49-4bc3-a7b6-4321b3a087a0\")>,\n",
       " <selenium.webdriver.remote.webelement.WebElement (session=\"d64f3cb57a8a6eef2e0ddfbd5172b938\", element=\"66b54a1c-984c-4e83-8e2b-dab8b6d72a1e\")>,\n",
       " <selenium.webdriver.remote.webelement.WebElement (session=\"d64f3cb57a8a6eef2e0ddfbd5172b938\", element=\"17274dd9-d835-4c04-a14e-ac5da0841d94\")>,\n",
       " <selenium.webdriver.remote.webelement.WebElement (session=\"d64f3cb57a8a6eef2e0ddfbd5172b938\", element=\"59275d7a-714c-427f-bd97-9627b938b301\")>,\n",
       " <selenium.webdriver.remote.webelement.WebElement (session=\"d64f3cb57a8a6eef2e0ddfbd5172b938\", element=\"2a2fc4f4-511a-45be-a53a-1a8fa3a1e6a6\")>,\n",
       " <selenium.webdriver.remote.webelement.WebElement (session=\"d64f3cb57a8a6eef2e0ddfbd5172b938\", element=\"e5de8db5-45af-47cf-9030-0483e5b1e740\")>,\n",
       " <selenium.webdriver.remote.webelement.WebElement (session=\"d64f3cb57a8a6eef2e0ddfbd5172b938\", element=\"b8df95d4-0c48-487b-9a2c-f77f13c77c49\")>,\n",
       " <selenium.webdriver.remote.webelement.WebElement (session=\"d64f3cb57a8a6eef2e0ddfbd5172b938\", element=\"168b3286-2baf-458c-87bf-c6c6808d2bfe\")>,\n",
       " <selenium.webdriver.remote.webelement.WebElement (session=\"d64f3cb57a8a6eef2e0ddfbd5172b938\", element=\"034aa0ce-6dae-4153-8080-4dc13efb40da\")>,\n",
       " <selenium.webdriver.remote.webelement.WebElement (session=\"d64f3cb57a8a6eef2e0ddfbd5172b938\", element=\"e9e59301-e41a-4b48-a346-93fb13dcb1cc\")>,\n",
       " <selenium.webdriver.remote.webelement.WebElement (session=\"d64f3cb57a8a6eef2e0ddfbd5172b938\", element=\"c6a88941-0de3-4bc0-9b9a-e5a9a96e1831\")>]"
      ]
     },
     "execution_count": 77,
     "metadata": {},
     "output_type": "execute_result"
    }
   ],
   "source": [
    "avgsalary=driver.find_elements_by_xpath('//div[@class=\"col-12 col-lg-4 px-lg-0 d-flex align-items-baseline\"]')\n",
    "avgsalary"
   ]
  },
  {
   "cell_type": "code",
   "execution_count": 78,
   "metadata": {},
   "outputs": [
    {
     "data": {
      "text/plain": [
       "['₹6,28,021 /yr',\n",
       " '₹9,08,246 /yr',\n",
       " '₹11,93,390 /yr',\n",
       " '₹12,49,716 /yr',\n",
       " '₹7,58,335 /yr',\n",
       " '₹12,80,000 /yr',\n",
       " '₹13,55,086 /yr',\n",
       " '₹14,55,430 /yr',\n",
       " '₹8,86,064 /yr',\n",
       " '₹11,10,000 /yr',\n",
       " '₹9,62,227 /yr',\n",
       " '₹11,71,868 /yr',\n",
       " '₹11,01,815 /yr',\n",
       " '₹12,40,275 /yr',\n",
       " '₹14,51,902 /yr',\n",
       " '₹11,30,374 /yr',\n",
       " '₹20,63,782 /yr',\n",
       " '₹61,566 /mo',\n",
       " '₹10,80,727 /yr',\n",
       " '₹35,040 /mo']"
      ]
     },
     "execution_count": 78,
     "metadata": {},
     "output_type": "execute_result"
    }
   ],
   "source": [
    "C=[]\n",
    "for i in avgsalary:\n",
    "    C.append(i.text.replace(\"\\n\", \"\"))\n",
    "C"
   ]
  },
  {
   "cell_type": "code",
   "execution_count": 79,
   "metadata": {},
   "outputs": [
    {
     "data": {
      "text/plain": [
       "['₹6,28,021 /yr',\n",
       " '₹9,08,246 /yr',\n",
       " '₹11,93,390 /yr',\n",
       " '₹12,49,716 /yr',\n",
       " '₹7,58,335 /yr',\n",
       " '₹12,80,000 /yr',\n",
       " '₹13,55,086 /yr',\n",
       " '₹14,55,430 /yr',\n",
       " '₹8,86,064 /yr',\n",
       " '₹11,10,000 /yr']"
      ]
     },
     "execution_count": 79,
     "metadata": {},
     "output_type": "execute_result"
    }
   ],
   "source": [
    "Avg_Salary=C[0:10]\n",
    "Avg_Salary"
   ]
  },
  {
   "cell_type": "code",
   "execution_count": 82,
   "metadata": {},
   "outputs": [
    {
     "data": {
      "text/plain": [
       "[<selenium.webdriver.remote.webelement.WebElement (session=\"d64f3cb57a8a6eef2e0ddfbd5172b938\", element=\"a274c6aa-7f55-4954-8233-10a76c177f24\")>,\n",
       " <selenium.webdriver.remote.webelement.WebElement (session=\"d64f3cb57a8a6eef2e0ddfbd5172b938\", element=\"dc7771b8-d723-47b5-a8dd-f99009cacaba\")>,\n",
       " <selenium.webdriver.remote.webelement.WebElement (session=\"d64f3cb57a8a6eef2e0ddfbd5172b938\", element=\"e601c2b9-ea3e-48e7-a82b-cd49f3645d7a\")>,\n",
       " <selenium.webdriver.remote.webelement.WebElement (session=\"d64f3cb57a8a6eef2e0ddfbd5172b938\", element=\"b8585558-cc9f-4bc6-a894-3528728ec2e8\")>,\n",
       " <selenium.webdriver.remote.webelement.WebElement (session=\"d64f3cb57a8a6eef2e0ddfbd5172b938\", element=\"e4cfc6c4-e6a9-4d88-8220-79e1c2c0348d\")>,\n",
       " <selenium.webdriver.remote.webelement.WebElement (session=\"d64f3cb57a8a6eef2e0ddfbd5172b938\", element=\"f57b3c26-2a76-4728-827f-0ae1de2dda52\")>,\n",
       " <selenium.webdriver.remote.webelement.WebElement (session=\"d64f3cb57a8a6eef2e0ddfbd5172b938\", element=\"603917f7-49ae-482a-9d67-515e41b1d5e5\")>,\n",
       " <selenium.webdriver.remote.webelement.WebElement (session=\"d64f3cb57a8a6eef2e0ddfbd5172b938\", element=\"a5e4d942-e3c0-4ba1-8f5f-29315753208e\")>,\n",
       " <selenium.webdriver.remote.webelement.WebElement (session=\"d64f3cb57a8a6eef2e0ddfbd5172b938\", element=\"1032c7fd-ab19-46f4-b005-b98fd4035cec\")>,\n",
       " <selenium.webdriver.remote.webelement.WebElement (session=\"d64f3cb57a8a6eef2e0ddfbd5172b938\", element=\"09dd6820-0164-4a0f-bbd3-90e557c85f73\")>,\n",
       " <selenium.webdriver.remote.webelement.WebElement (session=\"d64f3cb57a8a6eef2e0ddfbd5172b938\", element=\"9b0be37f-ba03-4d61-a2e0-c8701a8161fb\")>,\n",
       " <selenium.webdriver.remote.webelement.WebElement (session=\"d64f3cb57a8a6eef2e0ddfbd5172b938\", element=\"eada86f7-b5dd-46da-87a2-14f22e278fd5\")>,\n",
       " <selenium.webdriver.remote.webelement.WebElement (session=\"d64f3cb57a8a6eef2e0ddfbd5172b938\", element=\"92cf7fb8-0ec9-4cbc-bee4-87613f7cfdc0\")>,\n",
       " <selenium.webdriver.remote.webelement.WebElement (session=\"d64f3cb57a8a6eef2e0ddfbd5172b938\", element=\"f063f139-0069-42ba-b842-a2e2cd19337f\")>,\n",
       " <selenium.webdriver.remote.webelement.WebElement (session=\"d64f3cb57a8a6eef2e0ddfbd5172b938\", element=\"6e4f27f4-c6c7-418e-8c74-f9f7fcb07913\")>,\n",
       " <selenium.webdriver.remote.webelement.WebElement (session=\"d64f3cb57a8a6eef2e0ddfbd5172b938\", element=\"e8ba6269-6f99-4cb3-bd71-672423ba88a2\")>,\n",
       " <selenium.webdriver.remote.webelement.WebElement (session=\"d64f3cb57a8a6eef2e0ddfbd5172b938\", element=\"ded43ba1-22d3-4155-8499-f135ebf5019a\")>,\n",
       " <selenium.webdriver.remote.webelement.WebElement (session=\"d64f3cb57a8a6eef2e0ddfbd5172b938\", element=\"5438a12e-6092-420c-9ba8-7f644eaa2a1d\")>,\n",
       " <selenium.webdriver.remote.webelement.WebElement (session=\"d64f3cb57a8a6eef2e0ddfbd5172b938\", element=\"b6171cab-96ce-4fd7-9c97-fd0987e7c66a\")>,\n",
       " <selenium.webdriver.remote.webelement.WebElement (session=\"d64f3cb57a8a6eef2e0ddfbd5172b938\", element=\"8a4bed6e-d4ae-4b7a-a239-003d51bd4fb8\")>]"
      ]
     },
     "execution_count": 82,
     "metadata": {},
     "output_type": "execute_result"
    }
   ],
   "source": [
    "lowsalary=driver.find_elements_by_xpath('//div[@class=\"d-flex mt-xxsm css-79elbk epuxyqn0\"]/p[1]')\n",
    "lowsalary"
   ]
  },
  {
   "cell_type": "code",
   "execution_count": 83,
   "metadata": {},
   "outputs": [
    {
     "data": {
      "text/plain": [
       "['₹4L',\n",
       " '₹1L',\n",
       " '₹6L',\n",
       " '₹5L',\n",
       " '₹4L',\n",
       " '₹8L',\n",
       " '₹8L',\n",
       " '₹10L',\n",
       " '₹5L',\n",
       " '₹6L',\n",
       " '₹4L',\n",
       " '₹2L',\n",
       " '₹4L',\n",
       " '₹6L',\n",
       " '₹10L',\n",
       " '₹8L',\n",
       " '₹10L',\n",
       " '₹25T',\n",
       " '₹9L',\n",
       " '₹12T']"
      ]
     },
     "execution_count": 83,
     "metadata": {},
     "output_type": "execute_result"
    }
   ],
   "source": [
    "D=[]\n",
    "for i in lowsalary:\n",
    "    D.append(i.text.replace(\"\\n\", \"\"))\n",
    "D"
   ]
  },
  {
   "cell_type": "code",
   "execution_count": 85,
   "metadata": {},
   "outputs": [
    {
     "data": {
      "text/plain": [
       "['₹4L', '₹1L', '₹6L', '₹5L', '₹4L', '₹8L', '₹8L', '₹10L', '₹5L', '₹6L']"
      ]
     },
     "execution_count": 85,
     "metadata": {},
     "output_type": "execute_result"
    }
   ],
   "source": [
    "Min_Salary=D[0:10]\n",
    "Min_Salary"
   ]
  },
  {
   "cell_type": "code",
   "execution_count": 86,
   "metadata": {},
   "outputs": [
    {
     "data": {
      "text/plain": [
       "[<selenium.webdriver.remote.webelement.WebElement (session=\"d64f3cb57a8a6eef2e0ddfbd5172b938\", element=\"5611316f-04ad-4ae2-a397-d93ecc1fba44\")>,\n",
       " <selenium.webdriver.remote.webelement.WebElement (session=\"d64f3cb57a8a6eef2e0ddfbd5172b938\", element=\"e062b888-f3ce-44ba-b475-92392ad5310c\")>,\n",
       " <selenium.webdriver.remote.webelement.WebElement (session=\"d64f3cb57a8a6eef2e0ddfbd5172b938\", element=\"34a6da89-8c23-44de-b7c2-52dbe4cfa17c\")>,\n",
       " <selenium.webdriver.remote.webelement.WebElement (session=\"d64f3cb57a8a6eef2e0ddfbd5172b938\", element=\"ddbb5fa1-31f2-40d1-9eb3-3fb1e7a381da\")>,\n",
       " <selenium.webdriver.remote.webelement.WebElement (session=\"d64f3cb57a8a6eef2e0ddfbd5172b938\", element=\"b89c5085-f4d5-4641-b5d4-db8e07fe2d9f\")>,\n",
       " <selenium.webdriver.remote.webelement.WebElement (session=\"d64f3cb57a8a6eef2e0ddfbd5172b938\", element=\"e6969255-5df3-4d73-b718-eb86e88cd3e9\")>,\n",
       " <selenium.webdriver.remote.webelement.WebElement (session=\"d64f3cb57a8a6eef2e0ddfbd5172b938\", element=\"22575578-d0bd-4f8d-9a2c-2e96efcca030\")>,\n",
       " <selenium.webdriver.remote.webelement.WebElement (session=\"d64f3cb57a8a6eef2e0ddfbd5172b938\", element=\"37ff7f13-285c-4560-b35a-85957b80c242\")>,\n",
       " <selenium.webdriver.remote.webelement.WebElement (session=\"d64f3cb57a8a6eef2e0ddfbd5172b938\", element=\"5fa2d82a-0dc1-4bba-a439-064b5a634e6b\")>,\n",
       " <selenium.webdriver.remote.webelement.WebElement (session=\"d64f3cb57a8a6eef2e0ddfbd5172b938\", element=\"722c2278-c8fc-40e4-a1c5-933d4ad41819\")>,\n",
       " <selenium.webdriver.remote.webelement.WebElement (session=\"d64f3cb57a8a6eef2e0ddfbd5172b938\", element=\"c535ae79-afea-47e7-b749-a9416c1606ca\")>,\n",
       " <selenium.webdriver.remote.webelement.WebElement (session=\"d64f3cb57a8a6eef2e0ddfbd5172b938\", element=\"ded58d92-f094-4b59-a065-8b9abb64df3c\")>,\n",
       " <selenium.webdriver.remote.webelement.WebElement (session=\"d64f3cb57a8a6eef2e0ddfbd5172b938\", element=\"9ffa2b80-2d8a-4fb9-a8b7-fef6af4b7348\")>,\n",
       " <selenium.webdriver.remote.webelement.WebElement (session=\"d64f3cb57a8a6eef2e0ddfbd5172b938\", element=\"beb4ea86-f26f-4eb9-8b08-daead918c8c0\")>,\n",
       " <selenium.webdriver.remote.webelement.WebElement (session=\"d64f3cb57a8a6eef2e0ddfbd5172b938\", element=\"40777eb7-e79c-48a9-a105-97cb51f36e95\")>,\n",
       " <selenium.webdriver.remote.webelement.WebElement (session=\"d64f3cb57a8a6eef2e0ddfbd5172b938\", element=\"a9dbcde3-e39b-4741-b775-276b4b611207\")>,\n",
       " <selenium.webdriver.remote.webelement.WebElement (session=\"d64f3cb57a8a6eef2e0ddfbd5172b938\", element=\"f116c58d-368d-403c-9eb3-2be5f0ed09ca\")>,\n",
       " <selenium.webdriver.remote.webelement.WebElement (session=\"d64f3cb57a8a6eef2e0ddfbd5172b938\", element=\"430c97a1-1664-4785-b685-2e5eb6b8d895\")>,\n",
       " <selenium.webdriver.remote.webelement.WebElement (session=\"d64f3cb57a8a6eef2e0ddfbd5172b938\", element=\"bd356eff-1c5d-4a67-a54c-8d267ca37b65\")>,\n",
       " <selenium.webdriver.remote.webelement.WebElement (session=\"d64f3cb57a8a6eef2e0ddfbd5172b938\", element=\"8cd892a1-964b-42a0-aac5-54aad0d5f33b\")>]"
      ]
     },
     "execution_count": 86,
     "metadata": {},
     "output_type": "execute_result"
    }
   ],
   "source": [
    "Maxsalary=driver.find_elements_by_xpath('//div[@class=\"d-flex mt-xxsm css-79elbk epuxyqn0\"]/p[2]')\n",
    "Maxsalary"
   ]
  },
  {
   "cell_type": "code",
   "execution_count": 87,
   "metadata": {},
   "outputs": [
    {
     "data": {
      "text/plain": [
       "['₹13L',\n",
       " '₹28L',\n",
       " '₹23L',\n",
       " '₹1Cr',\n",
       " '₹17L',\n",
       " '₹16L',\n",
       " '₹20L',\n",
       " '₹18L',\n",
       " '₹15L',\n",
       " '₹16L',\n",
       " '₹13L',\n",
       " '₹19L',\n",
       " '₹21L',\n",
       " '₹17L',\n",
       " '₹21L',\n",
       " '₹21L',\n",
       " '₹30L',\n",
       " '₹1L',\n",
       " '₹15L',\n",
       " '₹64T']"
      ]
     },
     "execution_count": 87,
     "metadata": {},
     "output_type": "execute_result"
    }
   ],
   "source": [
    "E=[]\n",
    "for i in Maxsalary:\n",
    "    E.append(i.text.replace(\"\\n\", \"\"))\n",
    "E"
   ]
  },
  {
   "cell_type": "code",
   "execution_count": 88,
   "metadata": {},
   "outputs": [
    {
     "data": {
      "text/plain": [
       "['₹13L',\n",
       " '₹28L',\n",
       " '₹23L',\n",
       " '₹1Cr',\n",
       " '₹17L',\n",
       " '₹16L',\n",
       " '₹20L',\n",
       " '₹18L',\n",
       " '₹15L',\n",
       " '₹16L']"
      ]
     },
     "execution_count": 88,
     "metadata": {},
     "output_type": "execute_result"
    }
   ],
   "source": [
    "Max_Salary=E[0:10]\n",
    "Max_Salary"
   ]
  },
  {
   "cell_type": "code",
   "execution_count": 89,
   "metadata": {},
   "outputs": [
    {
     "data": {
      "text/plain": [
       "[<selenium.webdriver.remote.webelement.WebElement (session=\"d64f3cb57a8a6eef2e0ddfbd5172b938\", element=\"dbcda58f-4aa5-4028-b977-032240ac640c\")>,\n",
       " <selenium.webdriver.remote.webelement.WebElement (session=\"d64f3cb57a8a6eef2e0ddfbd5172b938\", element=\"592cb479-ea63-4f8a-b2fd-344a4360e022\")>,\n",
       " <selenium.webdriver.remote.webelement.WebElement (session=\"d64f3cb57a8a6eef2e0ddfbd5172b938\", element=\"397d33ae-fdc5-46ec-b4d1-b8c9513b0d76\")>,\n",
       " <selenium.webdriver.remote.webelement.WebElement (session=\"d64f3cb57a8a6eef2e0ddfbd5172b938\", element=\"e5cb9543-6c58-4b07-ab47-f8c1febc52d9\")>,\n",
       " <selenium.webdriver.remote.webelement.WebElement (session=\"d64f3cb57a8a6eef2e0ddfbd5172b938\", element=\"a988ff5e-2acd-4f65-a896-20c5c346b334\")>,\n",
       " <selenium.webdriver.remote.webelement.WebElement (session=\"d64f3cb57a8a6eef2e0ddfbd5172b938\", element=\"65252c7e-1418-4264-8efe-5f5fa41eee33\")>,\n",
       " <selenium.webdriver.remote.webelement.WebElement (session=\"d64f3cb57a8a6eef2e0ddfbd5172b938\", element=\"96135f37-1096-4244-8032-a25e6c22dbd2\")>,\n",
       " <selenium.webdriver.remote.webelement.WebElement (session=\"d64f3cb57a8a6eef2e0ddfbd5172b938\", element=\"2760eb08-8daf-4598-8579-e1a1df3b8fa6\")>,\n",
       " <selenium.webdriver.remote.webelement.WebElement (session=\"d64f3cb57a8a6eef2e0ddfbd5172b938\", element=\"344f0e1b-e056-4d1f-bed8-175a55b06053\")>,\n",
       " <selenium.webdriver.remote.webelement.WebElement (session=\"d64f3cb57a8a6eef2e0ddfbd5172b938\", element=\"c94f45c1-5c7b-4d10-aa09-2c3cb4ffe3b7\")>,\n",
       " <selenium.webdriver.remote.webelement.WebElement (session=\"d64f3cb57a8a6eef2e0ddfbd5172b938\", element=\"67ac140c-12a4-4a07-8a09-c1e7089ba2cd\")>,\n",
       " <selenium.webdriver.remote.webelement.WebElement (session=\"d64f3cb57a8a6eef2e0ddfbd5172b938\", element=\"f1dff7ed-6063-40f8-9ee1-7d6a48c2962f\")>,\n",
       " <selenium.webdriver.remote.webelement.WebElement (session=\"d64f3cb57a8a6eef2e0ddfbd5172b938\", element=\"b49e08dc-629c-4ae5-8c5b-84d138ead569\")>,\n",
       " <selenium.webdriver.remote.webelement.WebElement (session=\"d64f3cb57a8a6eef2e0ddfbd5172b938\", element=\"bbabf65f-3a89-40f0-b33d-f59c9b90c421\")>,\n",
       " <selenium.webdriver.remote.webelement.WebElement (session=\"d64f3cb57a8a6eef2e0ddfbd5172b938\", element=\"731432d5-7250-455e-a584-a8f728b7b19c\")>,\n",
       " <selenium.webdriver.remote.webelement.WebElement (session=\"d64f3cb57a8a6eef2e0ddfbd5172b938\", element=\"59dfd6f7-7405-432d-8722-aee5056517af\")>,\n",
       " <selenium.webdriver.remote.webelement.WebElement (session=\"d64f3cb57a8a6eef2e0ddfbd5172b938\", element=\"0cdd7cfe-4e05-43b5-87ef-728d4c9fabfd\")>,\n",
       " <selenium.webdriver.remote.webelement.WebElement (session=\"d64f3cb57a8a6eef2e0ddfbd5172b938\", element=\"a0489f02-75cb-4cdc-b4fb-df505fe5213c\")>,\n",
       " <selenium.webdriver.remote.webelement.WebElement (session=\"d64f3cb57a8a6eef2e0ddfbd5172b938\", element=\"225afcc5-a564-4acf-b748-f311af9707b2\")>,\n",
       " <selenium.webdriver.remote.webelement.WebElement (session=\"d64f3cb57a8a6eef2e0ddfbd5172b938\", element=\"b723144e-5fc2-4355-8aff-96c83e4eeae7\")>]"
      ]
     },
     "execution_count": 89,
     "metadata": {},
     "output_type": "execute_result"
    }
   ],
   "source": [
    "rating=driver.find_elements_by_xpath('//span[@class=\"m-0 css-kyx745\"]')\n",
    "rating"
   ]
  },
  {
   "cell_type": "code",
   "execution_count": 90,
   "metadata": {},
   "outputs": [
    {
     "data": {
      "text/plain": [
       "['3.9',\n",
       " '3.9',\n",
       " '4.1',\n",
       " '3.8',\n",
       " '4',\n",
       " '3.7',\n",
       " '3.7',\n",
       " '3.9',\n",
       " '4.2',\n",
       " '3.6',\n",
       " '3.8',\n",
       " '4',\n",
       " '4',\n",
       " '3.8',\n",
       " '3.3',\n",
       " '4.1',\n",
       " '3.8',\n",
       " '4.1',\n",
       " '4.1',\n",
       " '3.8']"
      ]
     },
     "execution_count": 90,
     "metadata": {},
     "output_type": "execute_result"
    }
   ],
   "source": [
    "F=[]\n",
    "for i in rating:\n",
    "    F.append(i.text.replace(\"\\n\", \"\"))\n",
    "F"
   ]
  },
  {
   "cell_type": "code",
   "execution_count": 91,
   "metadata": {},
   "outputs": [
    {
     "data": {
      "text/plain": [
       "['3.9', '3.9', '4.1', '3.8', '4', '3.7', '3.7', '3.9', '4.2', '3.6']"
      ]
     },
     "execution_count": 91,
     "metadata": {},
     "output_type": "execute_result"
    }
   ],
   "source": [
    "Rating=F[0:10]\n",
    "Rating"
   ]
  },
  {
   "cell_type": "code",
   "execution_count": 92,
   "metadata": {},
   "outputs": [
    {
     "data": {
      "text/html": [
       "<div>\n",
       "<style scoped>\n",
       "    .dataframe tbody tr th:only-of-type {\n",
       "        vertical-align: middle;\n",
       "    }\n",
       "\n",
       "    .dataframe tbody tr th {\n",
       "        vertical-align: top;\n",
       "    }\n",
       "\n",
       "    .dataframe thead th {\n",
       "        text-align: right;\n",
       "    }\n",
       "</style>\n",
       "<table border=\"1\" class=\"dataframe\">\n",
       "  <thead>\n",
       "    <tr style=\"text-align: right;\">\n",
       "      <th></th>\n",
       "      <th>Company_Name</th>\n",
       "      <th>noofsalaries</th>\n",
       "      <th>Avg_Salary</th>\n",
       "      <th>Min_Salary</th>\n",
       "      <th>Max_Salary</th>\n",
       "      <th>Rating</th>\n",
       "    </tr>\n",
       "  </thead>\n",
       "  <tbody>\n",
       "    <tr>\n",
       "      <th>0</th>\n",
       "      <td>Tata Consultancy Services</td>\n",
       "      <td>22 salaries</td>\n",
       "      <td>₹6,28,021 /yr</td>\n",
       "      <td>₹4L</td>\n",
       "      <td>₹13L</td>\n",
       "      <td>3.9</td>\n",
       "    </tr>\n",
       "    <tr>\n",
       "      <th>1</th>\n",
       "      <td>IBM</td>\n",
       "      <td>20 salaries</td>\n",
       "      <td>₹9,08,246 /yr</td>\n",
       "      <td>₹1L</td>\n",
       "      <td>₹28L</td>\n",
       "      <td>3.9</td>\n",
       "    </tr>\n",
       "    <tr>\n",
       "      <th>2</th>\n",
       "      <td>Accenture</td>\n",
       "      <td>15 salaries</td>\n",
       "      <td>₹11,93,390 /yr</td>\n",
       "      <td>₹6L</td>\n",
       "      <td>₹23L</td>\n",
       "      <td>4.1</td>\n",
       "    </tr>\n",
       "    <tr>\n",
       "      <th>3</th>\n",
       "      <td>Delhivery</td>\n",
       "      <td>15 salaries</td>\n",
       "      <td>₹12,49,716 /yr</td>\n",
       "      <td>₹5L</td>\n",
       "      <td>₹1Cr</td>\n",
       "      <td>3.8</td>\n",
       "    </tr>\n",
       "    <tr>\n",
       "      <th>4</th>\n",
       "      <td>Ericsson-Worldwide</td>\n",
       "      <td>14 salaries</td>\n",
       "      <td>₹7,58,335 /yr</td>\n",
       "      <td>₹4L</td>\n",
       "      <td>₹17L</td>\n",
       "      <td>4</td>\n",
       "    </tr>\n",
       "    <tr>\n",
       "      <th>5</th>\n",
       "      <td>UnitedHealth Group</td>\n",
       "      <td>14 salaries</td>\n",
       "      <td>₹12,80,000 /yr</td>\n",
       "      <td>₹8L</td>\n",
       "      <td>₹16L</td>\n",
       "      <td>3.7</td>\n",
       "    </tr>\n",
       "    <tr>\n",
       "      <th>6</th>\n",
       "      <td>Optum</td>\n",
       "      <td>10 salaries</td>\n",
       "      <td>₹13,55,086 /yr</td>\n",
       "      <td>₹8L</td>\n",
       "      <td>₹20L</td>\n",
       "      <td>3.7</td>\n",
       "    </tr>\n",
       "    <tr>\n",
       "      <th>7</th>\n",
       "      <td>Optum Global Solutions</td>\n",
       "      <td>10 salaries</td>\n",
       "      <td>₹14,55,430 /yr</td>\n",
       "      <td>₹10L</td>\n",
       "      <td>₹18L</td>\n",
       "      <td>3.9</td>\n",
       "    </tr>\n",
       "    <tr>\n",
       "      <th>8</th>\n",
       "      <td>Valiance Solutions</td>\n",
       "      <td>10 salaries</td>\n",
       "      <td>₹8,86,064 /yr</td>\n",
       "      <td>₹5L</td>\n",
       "      <td>₹15L</td>\n",
       "      <td>4.2</td>\n",
       "    </tr>\n",
       "    <tr>\n",
       "      <th>9</th>\n",
       "      <td>EXL Service</td>\n",
       "      <td>9 salaries</td>\n",
       "      <td>₹11,10,000 /yr</td>\n",
       "      <td>₹6L</td>\n",
       "      <td>₹16L</td>\n",
       "      <td>3.6</td>\n",
       "    </tr>\n",
       "  </tbody>\n",
       "</table>\n",
       "</div>"
      ],
      "text/plain": [
       "                Company_Name noofsalaries      Avg_Salary Min_Salary  \\\n",
       "0  Tata Consultancy Services  22 salaries   ₹6,28,021 /yr        ₹4L   \n",
       "1                        IBM  20 salaries   ₹9,08,246 /yr        ₹1L   \n",
       "2                  Accenture  15 salaries  ₹11,93,390 /yr        ₹6L   \n",
       "3                  Delhivery  15 salaries  ₹12,49,716 /yr        ₹5L   \n",
       "4         Ericsson-Worldwide  14 salaries   ₹7,58,335 /yr        ₹4L   \n",
       "5         UnitedHealth Group  14 salaries  ₹12,80,000 /yr        ₹8L   \n",
       "6                      Optum  10 salaries  ₹13,55,086 /yr        ₹8L   \n",
       "7     Optum Global Solutions  10 salaries  ₹14,55,430 /yr       ₹10L   \n",
       "8         Valiance Solutions  10 salaries   ₹8,86,064 /yr        ₹5L   \n",
       "9                EXL Service   9 salaries  ₹11,10,000 /yr        ₹6L   \n",
       "\n",
       "  Max_Salary Rating  \n",
       "0       ₹13L    3.9  \n",
       "1       ₹28L    3.9  \n",
       "2       ₹23L    4.1  \n",
       "3       ₹1Cr    3.8  \n",
       "4       ₹17L      4  \n",
       "5       ₹16L    3.7  \n",
       "6       ₹20L    3.7  \n",
       "7       ₹18L    3.9  \n",
       "8       ₹15L    4.2  \n",
       "9       ₹16L    3.6  "
      ]
     },
     "execution_count": 92,
     "metadata": {},
     "output_type": "execute_result"
    }
   ],
   "source": [
    "import pandas as pd\n",
    "GD = pd.DataFrame({})\n",
    "GD['Company_Name']=Company_Name\n",
    "GD['noofsalaries']=noofsalaries\n",
    "GD['Avg_Salary']=Avg_Salary\n",
    "GD['Min_Salary']=Min_Salary\n",
    "GD['Max_Salary']=Max_Salary\n",
    "GD['Rating']=Rating\n",
    "GD"
   ]
  },
  {
   "cell_type": "markdown",
   "metadata": {},
   "source": [
    "# 6. Scrape data of first 100 sunglasses listings on flipkart.com. You have to \n",
    "scrape four attributes:\n",
    "1. Brand\n",
    "2. Product Description\n",
    "3. Price\n",
    "4. Discount %"
   ]
  },
  {
   "cell_type": "code",
   "execution_count": 166,
   "metadata": {},
   "outputs": [],
   "source": [
    "url = 'https://www.flipkart.com/'\n",
    "driver.get(url)"
   ]
  },
  {
   "cell_type": "code",
   "execution_count": 167,
   "metadata": {},
   "outputs": [
    {
     "data": {
      "text/plain": [
       "<selenium.webdriver.remote.webelement.WebElement (session=\"fcd4b0bad03ae4771656838314727317\", element=\"2c5ba831-372b-4999-ba4e-66928b6c98bd\")>"
      ]
     },
     "execution_count": 167,
     "metadata": {},
     "output_type": "execute_result"
    }
   ],
   "source": [
    "search_title=driver.find_element_by_name(\"q\")\n",
    "search_title"
   ]
  },
  {
   "cell_type": "code",
   "execution_count": 168,
   "metadata": {},
   "outputs": [],
   "source": [
    "search_title.send_keys('Sunglasses')"
   ]
  },
  {
   "cell_type": "code",
   "execution_count": 169,
   "metadata": {},
   "outputs": [
    {
     "data": {
      "text/plain": [
       "<selenium.webdriver.remote.webelement.WebElement (session=\"fcd4b0bad03ae4771656838314727317\", element=\"c87e8a83-62c5-4f14-b79b-a44f935e7787\")>"
      ]
     },
     "execution_count": 169,
     "metadata": {},
     "output_type": "execute_result"
    }
   ],
   "source": [
    "search_bar=driver.find_element_by_xpath('//button[@class=\"L0Z3Pu\"]')\n",
    "search_bar"
   ]
  },
  {
   "cell_type": "code",
   "execution_count": 170,
   "metadata": {},
   "outputs": [],
   "source": [
    "search_bar.click()"
   ]
  },
  {
   "cell_type": "code",
   "execution_count": 171,
   "metadata": {},
   "outputs": [
    {
     "data": {
      "text/plain": [
       "[<selenium.webdriver.remote.webelement.WebElement (session=\"fcd4b0bad03ae4771656838314727317\", element=\"2eae597c-965f-4576-95d7-d4f3d56fa4fc\")>,\n",
       " <selenium.webdriver.remote.webelement.WebElement (session=\"fcd4b0bad03ae4771656838314727317\", element=\"ded68fe6-dd36-43cc-9ce3-9bc6ebce18e5\")>,\n",
       " <selenium.webdriver.remote.webelement.WebElement (session=\"fcd4b0bad03ae4771656838314727317\", element=\"5142ead9-0346-452d-9fce-a0018c9824ef\")>,\n",
       " <selenium.webdriver.remote.webelement.WebElement (session=\"fcd4b0bad03ae4771656838314727317\", element=\"ac3b4934-1413-43ec-9d85-97cdde160c85\")>,\n",
       " <selenium.webdriver.remote.webelement.WebElement (session=\"fcd4b0bad03ae4771656838314727317\", element=\"85fa2222-9123-450a-880b-346fa5bccb2b\")>,\n",
       " <selenium.webdriver.remote.webelement.WebElement (session=\"fcd4b0bad03ae4771656838314727317\", element=\"bb1d9b4d-cefb-4c8e-ae7f-9dc27d0623f9\")>,\n",
       " <selenium.webdriver.remote.webelement.WebElement (session=\"fcd4b0bad03ae4771656838314727317\", element=\"4382a147-9cb5-4032-bc1f-f24931a95417\")>,\n",
       " <selenium.webdriver.remote.webelement.WebElement (session=\"fcd4b0bad03ae4771656838314727317\", element=\"9d5ea9a2-4b0d-4ac3-9bd1-0123fc9ebed1\")>,\n",
       " <selenium.webdriver.remote.webelement.WebElement (session=\"fcd4b0bad03ae4771656838314727317\", element=\"41b790c3-69a0-4ac8-8032-46590f390449\")>,\n",
       " <selenium.webdriver.remote.webelement.WebElement (session=\"fcd4b0bad03ae4771656838314727317\", element=\"cccdbec7-2667-4e32-9e75-0393cc6e1a6a\")>,\n",
       " <selenium.webdriver.remote.webelement.WebElement (session=\"fcd4b0bad03ae4771656838314727317\", element=\"13c064e6-b484-46a2-9598-0511c0eb5042\")>,\n",
       " <selenium.webdriver.remote.webelement.WebElement (session=\"fcd4b0bad03ae4771656838314727317\", element=\"fc820f48-2af8-4a74-8c10-4f587b6ae2a7\")>,\n",
       " <selenium.webdriver.remote.webelement.WebElement (session=\"fcd4b0bad03ae4771656838314727317\", element=\"942410cc-edf8-4c2d-9852-d6485b8c14e6\")>,\n",
       " <selenium.webdriver.remote.webelement.WebElement (session=\"fcd4b0bad03ae4771656838314727317\", element=\"fd2b97a9-ca94-442c-93f1-949db1eb2e79\")>,\n",
       " <selenium.webdriver.remote.webelement.WebElement (session=\"fcd4b0bad03ae4771656838314727317\", element=\"c238bde0-be67-487d-bb39-77962dcb3ca3\")>,\n",
       " <selenium.webdriver.remote.webelement.WebElement (session=\"fcd4b0bad03ae4771656838314727317\", element=\"a7f5a11f-9026-47a7-a3fb-ba9a025b788b\")>,\n",
       " <selenium.webdriver.remote.webelement.WebElement (session=\"fcd4b0bad03ae4771656838314727317\", element=\"777c3331-b549-4c08-9292-a3fc0a96c4b0\")>,\n",
       " <selenium.webdriver.remote.webelement.WebElement (session=\"fcd4b0bad03ae4771656838314727317\", element=\"20a59c42-5ab2-49eb-a61e-63bf6c50c1f1\")>,\n",
       " <selenium.webdriver.remote.webelement.WebElement (session=\"fcd4b0bad03ae4771656838314727317\", element=\"9cebde42-9ce6-465d-a250-8dd07a436231\")>,\n",
       " <selenium.webdriver.remote.webelement.WebElement (session=\"fcd4b0bad03ae4771656838314727317\", element=\"822022f9-daa0-4d1b-b020-9473c3d15a03\")>,\n",
       " <selenium.webdriver.remote.webelement.WebElement (session=\"fcd4b0bad03ae4771656838314727317\", element=\"ea675adb-7fb1-4971-8e28-b7eb25a66295\")>,\n",
       " <selenium.webdriver.remote.webelement.WebElement (session=\"fcd4b0bad03ae4771656838314727317\", element=\"15a643a3-93dc-4c5b-8b42-3d9cb5c3a7ef\")>,\n",
       " <selenium.webdriver.remote.webelement.WebElement (session=\"fcd4b0bad03ae4771656838314727317\", element=\"8c5725e3-cbf9-4042-b375-bc73454a9657\")>,\n",
       " <selenium.webdriver.remote.webelement.WebElement (session=\"fcd4b0bad03ae4771656838314727317\", element=\"f077ad20-62f3-4700-866c-b0f03e4ca367\")>,\n",
       " <selenium.webdriver.remote.webelement.WebElement (session=\"fcd4b0bad03ae4771656838314727317\", element=\"d181a376-aeb6-40f1-a541-dbbb57e96c25\")>,\n",
       " <selenium.webdriver.remote.webelement.WebElement (session=\"fcd4b0bad03ae4771656838314727317\", element=\"aa75eb68-9216-4423-906a-141ac4db7c10\")>,\n",
       " <selenium.webdriver.remote.webelement.WebElement (session=\"fcd4b0bad03ae4771656838314727317\", element=\"e319f3fb-166b-45ff-80ad-338ff48ade42\")>,\n",
       " <selenium.webdriver.remote.webelement.WebElement (session=\"fcd4b0bad03ae4771656838314727317\", element=\"2cb7b512-92e6-4327-b47d-54dd4e53ab39\")>,\n",
       " <selenium.webdriver.remote.webelement.WebElement (session=\"fcd4b0bad03ae4771656838314727317\", element=\"10647e40-8428-4bbd-bc5f-3a04cc9bfa1b\")>,\n",
       " <selenium.webdriver.remote.webelement.WebElement (session=\"fcd4b0bad03ae4771656838314727317\", element=\"ffec94a9-789e-4723-964b-8dd9b48f7848\")>,\n",
       " <selenium.webdriver.remote.webelement.WebElement (session=\"fcd4b0bad03ae4771656838314727317\", element=\"8e6f9a45-acf6-4ff6-a03c-f36288caab40\")>,\n",
       " <selenium.webdriver.remote.webelement.WebElement (session=\"fcd4b0bad03ae4771656838314727317\", element=\"c0a1714f-e307-4f62-9a16-7dfebf1351d6\")>,\n",
       " <selenium.webdriver.remote.webelement.WebElement (session=\"fcd4b0bad03ae4771656838314727317\", element=\"3478c6d0-6f15-490e-8839-36c5edb65b9d\")>,\n",
       " <selenium.webdriver.remote.webelement.WebElement (session=\"fcd4b0bad03ae4771656838314727317\", element=\"c6b60daf-1778-4f37-a42e-71ddd8636ec4\")>,\n",
       " <selenium.webdriver.remote.webelement.WebElement (session=\"fcd4b0bad03ae4771656838314727317\", element=\"e69f0101-a3e0-4132-87cb-19a2190b3112\")>,\n",
       " <selenium.webdriver.remote.webelement.WebElement (session=\"fcd4b0bad03ae4771656838314727317\", element=\"0ef5ea58-9850-45c8-be13-6fb55bd24dc0\")>,\n",
       " <selenium.webdriver.remote.webelement.WebElement (session=\"fcd4b0bad03ae4771656838314727317\", element=\"83cf967c-67d3-4d47-be0e-4e2250f6a005\")>,\n",
       " <selenium.webdriver.remote.webelement.WebElement (session=\"fcd4b0bad03ae4771656838314727317\", element=\"6979fdf3-59f1-45f5-9a39-744e663af928\")>,\n",
       " <selenium.webdriver.remote.webelement.WebElement (session=\"fcd4b0bad03ae4771656838314727317\", element=\"343eb26c-dbc7-4447-9146-e2ae33fe79dd\")>,\n",
       " <selenium.webdriver.remote.webelement.WebElement (session=\"fcd4b0bad03ae4771656838314727317\", element=\"d50b2a63-4e31-4f47-8056-1961a3dd8d8f\")>]"
      ]
     },
     "execution_count": 171,
     "metadata": {},
     "output_type": "execute_result"
    }
   ],
   "source": [
    "brand=driver.find_elements_by_xpath('//div[@class=\"_2WkVRV\"]')\n",
    "brand"
   ]
  },
  {
   "cell_type": "code",
   "execution_count": 172,
   "metadata": {},
   "outputs": [
    {
     "data": {
      "text/plain": [
       "['ROYAL SON',\n",
       " 'AISLIN',\n",
       " 'SHAAH COLLECTIONS',\n",
       " 'Elligator',\n",
       " 'kingsunglasses',\n",
       " 'PIRASO',\n",
       " 'ROZZETTA CRAFT',\n",
       " 'ROYAL SON',\n",
       " 'kingsunglasses',\n",
       " 'Fastrack',\n",
       " 'ROYAL SON',\n",
       " 'Villain',\n",
       " 'DEIXELS',\n",
       " 'ROZZETTA CRAFT',\n",
       " 'PIRASO',\n",
       " 'NuVew',\n",
       " 'SHAAH COLLECTIONS',\n",
       " 'PIRASO',\n",
       " 'Fastrack',\n",
       " 'ROYAL SON',\n",
       " 'SUNBEE',\n",
       " 'Fastrack',\n",
       " 'PHENOMENAL',\n",
       " 'ROYAL SON',\n",
       " 'OCCARIO',\n",
       " 'ROZZETTA CRAFT',\n",
       " 'SHAAH COLLECTIONS',\n",
       " 'ROYAL SON',\n",
       " 'Silver Kartz',\n",
       " 'New Specs',\n",
       " 'ROZZETTA CRAFT',\n",
       " 'AISLIN',\n",
       " 'PIRASO',\n",
       " 'hipe',\n",
       " 'kingsunglasses',\n",
       " 'creative group',\n",
       " 'SUNBEE',\n",
       " 'ROYAL SON',\n",
       " 'Rich Club',\n",
       " 'creative group']"
      ]
     },
     "execution_count": 172,
     "metadata": {},
     "output_type": "execute_result"
    }
   ],
   "source": [
    "A=[]\n",
    "for i in brand:\n",
    "    A.append(i.text)\n",
    "A"
   ]
  },
  {
   "cell_type": "code",
   "execution_count": 173,
   "metadata": {},
   "outputs": [
    {
     "data": {
      "text/plain": [
       "40"
      ]
     },
     "execution_count": 173,
     "metadata": {},
     "output_type": "execute_result"
    }
   ],
   "source": [
    "len(A)"
   ]
  },
  {
   "cell_type": "code",
   "execution_count": 174,
   "metadata": {},
   "outputs": [
    {
     "data": {
      "text/plain": [
       "<selenium.webdriver.remote.webelement.WebElement (session=\"fcd4b0bad03ae4771656838314727317\", element=\"d54b89fd-037e-45c0-adb7-7edf67a36172\")>"
      ]
     },
     "execution_count": 174,
     "metadata": {},
     "output_type": "execute_result"
    }
   ],
   "source": [
    "a=driver.find_element_by_xpath('//a[@class=\"_1LKTO3\"]')\n",
    "a"
   ]
  },
  {
   "cell_type": "code",
   "execution_count": 175,
   "metadata": {},
   "outputs": [],
   "source": [
    "a.click()"
   ]
  },
  {
   "cell_type": "code",
   "execution_count": 176,
   "metadata": {},
   "outputs": [
    {
     "data": {
      "text/plain": [
       "[<selenium.webdriver.remote.webelement.WebElement (session=\"fcd4b0bad03ae4771656838314727317\", element=\"5c74b5f4-2653-473a-9de3-442df8953af9\")>,\n",
       " <selenium.webdriver.remote.webelement.WebElement (session=\"fcd4b0bad03ae4771656838314727317\", element=\"b8893e10-f7be-403b-9750-35d7eeb425ee\")>,\n",
       " <selenium.webdriver.remote.webelement.WebElement (session=\"fcd4b0bad03ae4771656838314727317\", element=\"66e50bac-9cb7-44e8-a4ec-f9bd9eacb59a\")>,\n",
       " <selenium.webdriver.remote.webelement.WebElement (session=\"fcd4b0bad03ae4771656838314727317\", element=\"5c14028f-dfd7-476a-954c-2e41552bd107\")>,\n",
       " <selenium.webdriver.remote.webelement.WebElement (session=\"fcd4b0bad03ae4771656838314727317\", element=\"1a7ac612-78de-4bd0-a560-8ca83249519e\")>,\n",
       " <selenium.webdriver.remote.webelement.WebElement (session=\"fcd4b0bad03ae4771656838314727317\", element=\"d9a88857-d1e2-4d84-bfd1-2d15fd48da64\")>,\n",
       " <selenium.webdriver.remote.webelement.WebElement (session=\"fcd4b0bad03ae4771656838314727317\", element=\"8f4649c9-6c61-4662-85b8-3fbfd1e91a58\")>,\n",
       " <selenium.webdriver.remote.webelement.WebElement (session=\"fcd4b0bad03ae4771656838314727317\", element=\"c2d29998-bc64-44b8-9eb5-749fa66b0444\")>,\n",
       " <selenium.webdriver.remote.webelement.WebElement (session=\"fcd4b0bad03ae4771656838314727317\", element=\"4fafe06b-1a20-479d-832d-b4af93021edb\")>,\n",
       " <selenium.webdriver.remote.webelement.WebElement (session=\"fcd4b0bad03ae4771656838314727317\", element=\"55a77db3-e4d8-4bfc-a407-0a0c280357c0\")>,\n",
       " <selenium.webdriver.remote.webelement.WebElement (session=\"fcd4b0bad03ae4771656838314727317\", element=\"b5d2fbc2-7908-4061-8968-4f36935ce2eb\")>,\n",
       " <selenium.webdriver.remote.webelement.WebElement (session=\"fcd4b0bad03ae4771656838314727317\", element=\"7281b002-d8da-4921-b81b-c698de153ee5\")>,\n",
       " <selenium.webdriver.remote.webelement.WebElement (session=\"fcd4b0bad03ae4771656838314727317\", element=\"b6a8294d-2fae-40b6-93f3-7b7bc36916ac\")>,\n",
       " <selenium.webdriver.remote.webelement.WebElement (session=\"fcd4b0bad03ae4771656838314727317\", element=\"d2b28811-ed78-4a51-a1f5-230802d1d25e\")>,\n",
       " <selenium.webdriver.remote.webelement.WebElement (session=\"fcd4b0bad03ae4771656838314727317\", element=\"21c6c08f-bbd8-4fff-af15-df7469a44fea\")>,\n",
       " <selenium.webdriver.remote.webelement.WebElement (session=\"fcd4b0bad03ae4771656838314727317\", element=\"488a54a7-d033-442b-907f-865a221e8e3e\")>,\n",
       " <selenium.webdriver.remote.webelement.WebElement (session=\"fcd4b0bad03ae4771656838314727317\", element=\"7a5be4dd-e736-4efd-9973-7edd6feadd6e\")>,\n",
       " <selenium.webdriver.remote.webelement.WebElement (session=\"fcd4b0bad03ae4771656838314727317\", element=\"fb0f0294-a057-4884-a5fa-b67f42502b45\")>,\n",
       " <selenium.webdriver.remote.webelement.WebElement (session=\"fcd4b0bad03ae4771656838314727317\", element=\"420af184-e136-4783-bb91-cbc3b3934632\")>,\n",
       " <selenium.webdriver.remote.webelement.WebElement (session=\"fcd4b0bad03ae4771656838314727317\", element=\"b49abdb0-1b0a-4df1-9f10-6dabceda41bd\")>,\n",
       " <selenium.webdriver.remote.webelement.WebElement (session=\"fcd4b0bad03ae4771656838314727317\", element=\"f75fa453-f76b-4771-b7cb-b713a3845dfe\")>,\n",
       " <selenium.webdriver.remote.webelement.WebElement (session=\"fcd4b0bad03ae4771656838314727317\", element=\"1d14a4f0-3fe3-494b-9929-6ae777938c67\")>,\n",
       " <selenium.webdriver.remote.webelement.WebElement (session=\"fcd4b0bad03ae4771656838314727317\", element=\"3be8ae45-5c67-4843-b399-532071cdf83f\")>,\n",
       " <selenium.webdriver.remote.webelement.WebElement (session=\"fcd4b0bad03ae4771656838314727317\", element=\"b3770eab-f524-4198-9d74-37c36e10033d\")>,\n",
       " <selenium.webdriver.remote.webelement.WebElement (session=\"fcd4b0bad03ae4771656838314727317\", element=\"3e9c8889-ae65-4a48-9510-34632292ddb9\")>,\n",
       " <selenium.webdriver.remote.webelement.WebElement (session=\"fcd4b0bad03ae4771656838314727317\", element=\"227f45c2-6e62-4d0f-84c2-b1b9aed810d4\")>,\n",
       " <selenium.webdriver.remote.webelement.WebElement (session=\"fcd4b0bad03ae4771656838314727317\", element=\"5e13afd9-cfaa-4c59-ad5a-dc9fcfcb1b33\")>,\n",
       " <selenium.webdriver.remote.webelement.WebElement (session=\"fcd4b0bad03ae4771656838314727317\", element=\"9d604d7a-be64-4522-8725-ddab1e446670\")>,\n",
       " <selenium.webdriver.remote.webelement.WebElement (session=\"fcd4b0bad03ae4771656838314727317\", element=\"7f33b694-ce23-45a6-a51a-2d10b11eeeb5\")>,\n",
       " <selenium.webdriver.remote.webelement.WebElement (session=\"fcd4b0bad03ae4771656838314727317\", element=\"06c3c71a-67d3-4e42-8657-6b7d62619714\")>,\n",
       " <selenium.webdriver.remote.webelement.WebElement (session=\"fcd4b0bad03ae4771656838314727317\", element=\"bef69797-1dd3-498f-bcce-bd559a83c25e\")>,\n",
       " <selenium.webdriver.remote.webelement.WebElement (session=\"fcd4b0bad03ae4771656838314727317\", element=\"e53b9a82-d1ae-49e7-8206-e1371cfe59c8\")>,\n",
       " <selenium.webdriver.remote.webelement.WebElement (session=\"fcd4b0bad03ae4771656838314727317\", element=\"3178d296-a135-4ecf-8e4f-8c4bac993f01\")>,\n",
       " <selenium.webdriver.remote.webelement.WebElement (session=\"fcd4b0bad03ae4771656838314727317\", element=\"a0c82a35-6293-4be7-875b-694c20861282\")>,\n",
       " <selenium.webdriver.remote.webelement.WebElement (session=\"fcd4b0bad03ae4771656838314727317\", element=\"c26e7cac-a5c3-4dae-847c-fc788b60421b\")>,\n",
       " <selenium.webdriver.remote.webelement.WebElement (session=\"fcd4b0bad03ae4771656838314727317\", element=\"4ca7fa0a-300e-42ef-be7d-999e1c7a093a\")>,\n",
       " <selenium.webdriver.remote.webelement.WebElement (session=\"fcd4b0bad03ae4771656838314727317\", element=\"85e4b296-af71-4ab1-bbe6-4a72b5c39905\")>,\n",
       " <selenium.webdriver.remote.webelement.WebElement (session=\"fcd4b0bad03ae4771656838314727317\", element=\"d688a642-04fc-44e6-8d95-9b49f24b758b\")>,\n",
       " <selenium.webdriver.remote.webelement.WebElement (session=\"fcd4b0bad03ae4771656838314727317\", element=\"0e70f1ab-e770-473c-afe0-688cceaf34b5\")>,\n",
       " <selenium.webdriver.remote.webelement.WebElement (session=\"fcd4b0bad03ae4771656838314727317\", element=\"b301730c-2e25-447e-8d6f-e75b6764884f\")>]"
      ]
     },
     "execution_count": 176,
     "metadata": {},
     "output_type": "execute_result"
    }
   ],
   "source": [
    "brand_a=driver.find_elements_by_xpath('//div[@class=\"_2WkVRV\"]')\n",
    "brand_a"
   ]
  },
  {
   "cell_type": "code",
   "execution_count": 177,
   "metadata": {},
   "outputs": [
    {
     "data": {
      "text/plain": [
       "['Fastrack',\n",
       " 'Elligator',\n",
       " 'povty',\n",
       " 'VAST',\n",
       " 'HIPPON',\n",
       " 'Singco',\n",
       " 'PIRASO',\n",
       " 'ROYAL SON',\n",
       " 'PHENOMENAL',\n",
       " 'Singco India',\n",
       " 'Elligator',\n",
       " 'DEIXELS',\n",
       " 'kingsunglasses',\n",
       " 'Fastrack',\n",
       " 'GANSTA',\n",
       " 'VINCENT CHASE',\n",
       " 'Singco India',\n",
       " 'kingsunglasses',\n",
       " 'SUNBEE',\n",
       " 'NuVew',\n",
       " 'Elligator',\n",
       " 'GANSTA',\n",
       " 'kingsunglasses',\n",
       " 'ROZZETTA CRAFT',\n",
       " 'Fastrack',\n",
       " 'GANSTA',\n",
       " 'PHENOMENAL',\n",
       " 'NuVew',\n",
       " 'Cruze',\n",
       " 'GANSTA',\n",
       " 'hipe',\n",
       " 'NuVew',\n",
       " 'Fastrack',\n",
       " 'DEIXELS',\n",
       " 'Singco India',\n",
       " 'AISLIN',\n",
       " 'kingsunglasses',\n",
       " 'NuVew',\n",
       " 'hipe',\n",
       " 'ROYAL SON']"
      ]
     },
     "execution_count": 177,
     "metadata": {},
     "output_type": "execute_result"
    }
   ],
   "source": [
    "B=[]\n",
    "for i in brand_a:\n",
    "    B.append(i.text)\n",
    "B"
   ]
  },
  {
   "cell_type": "code",
   "execution_count": 198,
   "metadata": {},
   "outputs": [
    {
     "data": {
      "text/plain": [
       "<selenium.webdriver.remote.webelement.WebElement (session=\"fcd4b0bad03ae4771656838314727317\", element=\"21a13998-ff76-451d-b1e7-68c7a821bdb5\")>"
      ]
     },
     "execution_count": 198,
     "metadata": {},
     "output_type": "execute_result"
    }
   ],
   "source": [
    "brand_b=driver.find_element_by_xpath('//nav[@class=\"yFHi8N\"]/a[4]')\n",
    "brand_b"
   ]
  },
  {
   "cell_type": "code",
   "execution_count": 199,
   "metadata": {},
   "outputs": [],
   "source": [
    "brand_b.click()"
   ]
  },
  {
   "cell_type": "code",
   "execution_count": 200,
   "metadata": {},
   "outputs": [
    {
     "data": {
      "text/plain": [
       "[<selenium.webdriver.remote.webelement.WebElement (session=\"fcd4b0bad03ae4771656838314727317\", element=\"c4567176-e337-4a07-b547-06719389868a\")>,\n",
       " <selenium.webdriver.remote.webelement.WebElement (session=\"fcd4b0bad03ae4771656838314727317\", element=\"9cc33451-88e4-4d02-90b5-7c604fe69243\")>,\n",
       " <selenium.webdriver.remote.webelement.WebElement (session=\"fcd4b0bad03ae4771656838314727317\", element=\"86c0f766-fc04-4293-9a4a-a677a90a994a\")>,\n",
       " <selenium.webdriver.remote.webelement.WebElement (session=\"fcd4b0bad03ae4771656838314727317\", element=\"918487f7-f4ee-4b57-b8fe-ff7c7b9b48fd\")>,\n",
       " <selenium.webdriver.remote.webelement.WebElement (session=\"fcd4b0bad03ae4771656838314727317\", element=\"867f5320-4901-42de-b2d6-9948d5b68e5f\")>,\n",
       " <selenium.webdriver.remote.webelement.WebElement (session=\"fcd4b0bad03ae4771656838314727317\", element=\"de46ca71-2edc-4266-b725-d0dc37d638af\")>,\n",
       " <selenium.webdriver.remote.webelement.WebElement (session=\"fcd4b0bad03ae4771656838314727317\", element=\"69aa4a40-54bd-4c44-9447-351ffa5e7593\")>,\n",
       " <selenium.webdriver.remote.webelement.WebElement (session=\"fcd4b0bad03ae4771656838314727317\", element=\"822f3658-5364-44e3-a3f4-41bbd863b969\")>,\n",
       " <selenium.webdriver.remote.webelement.WebElement (session=\"fcd4b0bad03ae4771656838314727317\", element=\"fd0439c1-2cdd-4e32-9c03-2990dde65701\")>,\n",
       " <selenium.webdriver.remote.webelement.WebElement (session=\"fcd4b0bad03ae4771656838314727317\", element=\"b90f0b8f-f403-4ee9-891d-c6af673d8d8d\")>,\n",
       " <selenium.webdriver.remote.webelement.WebElement (session=\"fcd4b0bad03ae4771656838314727317\", element=\"d9296ed9-0b94-4eca-b057-7fba60ba02d4\")>,\n",
       " <selenium.webdriver.remote.webelement.WebElement (session=\"fcd4b0bad03ae4771656838314727317\", element=\"e8cd1834-e5bb-4f88-8f43-fe40cd6c1592\")>,\n",
       " <selenium.webdriver.remote.webelement.WebElement (session=\"fcd4b0bad03ae4771656838314727317\", element=\"58ad8f4e-9b50-4cd0-8721-47965e75e0b6\")>,\n",
       " <selenium.webdriver.remote.webelement.WebElement (session=\"fcd4b0bad03ae4771656838314727317\", element=\"ebe12b6f-9190-4607-aa50-553470d5570f\")>,\n",
       " <selenium.webdriver.remote.webelement.WebElement (session=\"fcd4b0bad03ae4771656838314727317\", element=\"e63d59f2-f6eb-43f1-92ae-5bc57bee062d\")>,\n",
       " <selenium.webdriver.remote.webelement.WebElement (session=\"fcd4b0bad03ae4771656838314727317\", element=\"6cf86abf-2c0a-4403-861b-ed007017b4ed\")>,\n",
       " <selenium.webdriver.remote.webelement.WebElement (session=\"fcd4b0bad03ae4771656838314727317\", element=\"22f137f4-cf9d-4b84-b566-1eee4796e496\")>,\n",
       " <selenium.webdriver.remote.webelement.WebElement (session=\"fcd4b0bad03ae4771656838314727317\", element=\"30ce3573-65f0-4d0f-be74-ae994c1758ea\")>,\n",
       " <selenium.webdriver.remote.webelement.WebElement (session=\"fcd4b0bad03ae4771656838314727317\", element=\"5e51321d-6cc9-4acc-aec2-9b812b9bc753\")>,\n",
       " <selenium.webdriver.remote.webelement.WebElement (session=\"fcd4b0bad03ae4771656838314727317\", element=\"6a031755-4fcf-4e9e-8bf4-ab2ab141378c\")>,\n",
       " <selenium.webdriver.remote.webelement.WebElement (session=\"fcd4b0bad03ae4771656838314727317\", element=\"1b48c500-8ba3-481f-a3f6-fde77e686646\")>,\n",
       " <selenium.webdriver.remote.webelement.WebElement (session=\"fcd4b0bad03ae4771656838314727317\", element=\"e7350514-af99-4ae4-90d2-53533e829c21\")>,\n",
       " <selenium.webdriver.remote.webelement.WebElement (session=\"fcd4b0bad03ae4771656838314727317\", element=\"87669093-9676-4903-9219-b9e211f55e8c\")>,\n",
       " <selenium.webdriver.remote.webelement.WebElement (session=\"fcd4b0bad03ae4771656838314727317\", element=\"2c9516eb-e847-4b02-8c8d-1cd9e60bf5ec\")>,\n",
       " <selenium.webdriver.remote.webelement.WebElement (session=\"fcd4b0bad03ae4771656838314727317\", element=\"e237ae11-d7b5-4642-8d31-426d91ebb150\")>,\n",
       " <selenium.webdriver.remote.webelement.WebElement (session=\"fcd4b0bad03ae4771656838314727317\", element=\"7b1fd784-536f-48b0-8b54-d7b10141518b\")>,\n",
       " <selenium.webdriver.remote.webelement.WebElement (session=\"fcd4b0bad03ae4771656838314727317\", element=\"d7e2014c-c56f-4785-baac-f28b22a155b1\")>,\n",
       " <selenium.webdriver.remote.webelement.WebElement (session=\"fcd4b0bad03ae4771656838314727317\", element=\"b97ec240-0fcd-4b23-9676-d2ec32f7c6ac\")>,\n",
       " <selenium.webdriver.remote.webelement.WebElement (session=\"fcd4b0bad03ae4771656838314727317\", element=\"f456e1f2-4c0d-4ede-a887-f93e35a0f238\")>,\n",
       " <selenium.webdriver.remote.webelement.WebElement (session=\"fcd4b0bad03ae4771656838314727317\", element=\"4a048aa1-600e-45b9-815a-65f0d9260c9a\")>,\n",
       " <selenium.webdriver.remote.webelement.WebElement (session=\"fcd4b0bad03ae4771656838314727317\", element=\"9fd62d57-6b8a-427a-9d8c-20b6b5fde461\")>,\n",
       " <selenium.webdriver.remote.webelement.WebElement (session=\"fcd4b0bad03ae4771656838314727317\", element=\"5bf60309-ebe8-4f6a-ba20-8c5b7dec6d10\")>,\n",
       " <selenium.webdriver.remote.webelement.WebElement (session=\"fcd4b0bad03ae4771656838314727317\", element=\"4490cfe8-e459-4652-a4e5-53ee49ff5613\")>,\n",
       " <selenium.webdriver.remote.webelement.WebElement (session=\"fcd4b0bad03ae4771656838314727317\", element=\"f9dee2aa-1ca0-4180-b4a8-5a2adbf7f720\")>,\n",
       " <selenium.webdriver.remote.webelement.WebElement (session=\"fcd4b0bad03ae4771656838314727317\", element=\"1a640c84-43c6-4574-92d6-a15b2b670014\")>,\n",
       " <selenium.webdriver.remote.webelement.WebElement (session=\"fcd4b0bad03ae4771656838314727317\", element=\"f6d69dc0-2c0b-4336-b8cd-e6cf57a2ab9e\")>,\n",
       " <selenium.webdriver.remote.webelement.WebElement (session=\"fcd4b0bad03ae4771656838314727317\", element=\"6c141b3a-7e09-42cf-a4c8-9f6fad3046f3\")>,\n",
       " <selenium.webdriver.remote.webelement.WebElement (session=\"fcd4b0bad03ae4771656838314727317\", element=\"21804b98-29e9-4896-874d-6e46c06ec034\")>,\n",
       " <selenium.webdriver.remote.webelement.WebElement (session=\"fcd4b0bad03ae4771656838314727317\", element=\"5a082ea4-e783-4d43-bb66-7e83be0733b5\")>,\n",
       " <selenium.webdriver.remote.webelement.WebElement (session=\"fcd4b0bad03ae4771656838314727317\", element=\"edb2d30c-548a-4c4f-8ccd-84b23d18c8e4\")>]"
      ]
     },
     "execution_count": 200,
     "metadata": {},
     "output_type": "execute_result"
    }
   ],
   "source": [
    "brand_c=driver.find_elements_by_xpath('//div[@class=\"_2WkVRV\"]')\n",
    "brand_c"
   ]
  },
  {
   "cell_type": "code",
   "execution_count": 201,
   "metadata": {},
   "outputs": [
    {
     "data": {
      "text/plain": [
       "['ROYAL SON',\n",
       " 'PHENOMENAL',\n",
       " 'Fastrack',\n",
       " 'kingsunglasses',\n",
       " 'ROYAL SON',\n",
       " 'Fastrack',\n",
       " 'Fastrack',\n",
       " 'Elligator',\n",
       " 'Fastrack',\n",
       " 'AISLIN',\n",
       " 'AISLIN',\n",
       " 'elegante',\n",
       " 'NuVew',\n",
       " 'PHENOMENAL',\n",
       " 'ROYAL SON',\n",
       " 'hipe',\n",
       " 'ROYAL SON',\n",
       " 'AISLIN',\n",
       " 'ROYAL SON',\n",
       " 'SUNBEE',\n",
       " 'kingsunglasses',\n",
       " 'kingsunglasses',\n",
       " 'NuVew',\n",
       " 'Poloport',\n",
       " 'ROZZETTA CRAFT',\n",
       " 'agera',\n",
       " 'AISLIN',\n",
       " 'AISLIN',\n",
       " 'GANSTA',\n",
       " 'SUNBEE',\n",
       " 'ROYAL SON',\n",
       " 'AISLIN',\n",
       " 'GANSTA',\n",
       " 'AISLIN',\n",
       " 'ROYAL SON',\n",
       " 'SHAAH COLLECTIONS',\n",
       " 'AISLIN',\n",
       " 'Ray-Ban',\n",
       " 'Elligator',\n",
       " 'SRPM']"
      ]
     },
     "execution_count": 201,
     "metadata": {},
     "output_type": "execute_result"
    }
   ],
   "source": [
    "C=[]\n",
    "for i in brand_c:\n",
    "    C.append(i.text)\n",
    "C"
   ]
  },
  {
   "cell_type": "code",
   "execution_count": 202,
   "metadata": {},
   "outputs": [
    {
     "data": {
      "text/plain": [
       "['ROYAL SON',\n",
       " 'PHENOMENAL',\n",
       " 'Fastrack',\n",
       " 'kingsunglasses',\n",
       " 'ROYAL SON',\n",
       " 'Fastrack',\n",
       " 'Fastrack',\n",
       " 'Elligator',\n",
       " 'Fastrack',\n",
       " 'AISLIN',\n",
       " 'AISLIN',\n",
       " 'elegante',\n",
       " 'NuVew',\n",
       " 'PHENOMENAL',\n",
       " 'ROYAL SON',\n",
       " 'hipe',\n",
       " 'ROYAL SON',\n",
       " 'AISLIN',\n",
       " 'ROYAL SON',\n",
       " 'SUNBEE']"
      ]
     },
     "execution_count": 202,
     "metadata": {},
     "output_type": "execute_result"
    }
   ],
   "source": [
    "c=C[0:20]\n",
    "c"
   ]
  },
  {
   "cell_type": "code",
   "execution_count": 203,
   "metadata": {},
   "outputs": [
    {
     "data": {
      "text/plain": [
       "['ROYAL SON',\n",
       " 'AISLIN',\n",
       " 'SHAAH COLLECTIONS',\n",
       " 'Elligator',\n",
       " 'kingsunglasses',\n",
       " 'PIRASO',\n",
       " 'ROZZETTA CRAFT',\n",
       " 'ROYAL SON',\n",
       " 'kingsunglasses',\n",
       " 'Fastrack',\n",
       " 'ROYAL SON',\n",
       " 'Villain',\n",
       " 'DEIXELS',\n",
       " 'ROZZETTA CRAFT',\n",
       " 'PIRASO',\n",
       " 'NuVew',\n",
       " 'SHAAH COLLECTIONS',\n",
       " 'PIRASO',\n",
       " 'Fastrack',\n",
       " 'ROYAL SON',\n",
       " 'SUNBEE',\n",
       " 'Fastrack',\n",
       " 'PHENOMENAL',\n",
       " 'ROYAL SON',\n",
       " 'OCCARIO',\n",
       " 'ROZZETTA CRAFT',\n",
       " 'SHAAH COLLECTIONS',\n",
       " 'ROYAL SON',\n",
       " 'Silver Kartz',\n",
       " 'New Specs',\n",
       " 'ROZZETTA CRAFT',\n",
       " 'AISLIN',\n",
       " 'PIRASO',\n",
       " 'hipe',\n",
       " 'kingsunglasses',\n",
       " 'creative group',\n",
       " 'SUNBEE',\n",
       " 'ROYAL SON',\n",
       " 'Rich Club',\n",
       " 'creative group',\n",
       " 'Fastrack',\n",
       " 'Elligator',\n",
       " 'povty',\n",
       " 'VAST',\n",
       " 'HIPPON',\n",
       " 'Singco',\n",
       " 'PIRASO',\n",
       " 'ROYAL SON',\n",
       " 'PHENOMENAL',\n",
       " 'Singco India',\n",
       " 'Elligator',\n",
       " 'DEIXELS',\n",
       " 'kingsunglasses',\n",
       " 'Fastrack',\n",
       " 'GANSTA',\n",
       " 'VINCENT CHASE',\n",
       " 'Singco India',\n",
       " 'kingsunglasses',\n",
       " 'SUNBEE',\n",
       " 'NuVew',\n",
       " 'Elligator',\n",
       " 'GANSTA',\n",
       " 'kingsunglasses',\n",
       " 'ROZZETTA CRAFT',\n",
       " 'Fastrack',\n",
       " 'GANSTA',\n",
       " 'PHENOMENAL',\n",
       " 'NuVew',\n",
       " 'Cruze',\n",
       " 'GANSTA',\n",
       " 'hipe',\n",
       " 'NuVew',\n",
       " 'Fastrack',\n",
       " 'DEIXELS',\n",
       " 'Singco India',\n",
       " 'AISLIN',\n",
       " 'kingsunglasses',\n",
       " 'NuVew',\n",
       " 'hipe',\n",
       " 'ROYAL SON',\n",
       " 'ROYAL SON',\n",
       " 'PHENOMENAL',\n",
       " 'Fastrack',\n",
       " 'kingsunglasses',\n",
       " 'ROYAL SON',\n",
       " 'Fastrack',\n",
       " 'Fastrack',\n",
       " 'Elligator',\n",
       " 'Fastrack',\n",
       " 'AISLIN',\n",
       " 'AISLIN',\n",
       " 'elegante',\n",
       " 'NuVew',\n",
       " 'PHENOMENAL',\n",
       " 'ROYAL SON',\n",
       " 'hipe',\n",
       " 'ROYAL SON',\n",
       " 'AISLIN',\n",
       " 'ROYAL SON',\n",
       " 'SUNBEE']"
      ]
     },
     "execution_count": 203,
     "metadata": {},
     "output_type": "execute_result"
    }
   ],
   "source": [
    "BRAND = A+B+c\n",
    "BRAND"
   ]
  },
  {
   "cell_type": "code",
   "execution_count": 204,
   "metadata": {},
   "outputs": [
    {
     "data": {
      "text/plain": [
       "100"
      ]
     },
     "execution_count": 204,
     "metadata": {},
     "output_type": "execute_result"
    }
   ],
   "source": [
    "len(BRAND)"
   ]
  },
  {
   "cell_type": "code",
   "execution_count": 211,
   "metadata": {},
   "outputs": [
    {
     "data": {
      "text/plain": [
       "<selenium.webdriver.remote.webelement.WebElement (session=\"fcd4b0bad03ae4771656838314727317\", element=\"17b2c223-710c-4fd8-9fd9-68bb8dc0803d\")>"
      ]
     },
     "execution_count": 211,
     "metadata": {},
     "output_type": "execute_result"
    }
   ],
   "source": [
    "x=driver.find_element_by_xpath('//nav[@class=\"yFHi8N\"]/a[1]')\n",
    "x"
   ]
  },
  {
   "cell_type": "code",
   "execution_count": 212,
   "metadata": {},
   "outputs": [],
   "source": [
    "x.click()"
   ]
  },
  {
   "cell_type": "code",
   "execution_count": 213,
   "metadata": {},
   "outputs": [
    {
     "data": {
      "text/plain": [
       "[<selenium.webdriver.remote.webelement.WebElement (session=\"fcd4b0bad03ae4771656838314727317\", element=\"dc4296be-a7b4-401e-a79c-ddd5e6b412fc\")>,\n",
       " <selenium.webdriver.remote.webelement.WebElement (session=\"fcd4b0bad03ae4771656838314727317\", element=\"8f2f6115-030a-4806-a11e-3b2941ef0bb3\")>,\n",
       " <selenium.webdriver.remote.webelement.WebElement (session=\"fcd4b0bad03ae4771656838314727317\", element=\"ac6628b9-e386-410c-95e2-15b2b8fb42ad\")>,\n",
       " <selenium.webdriver.remote.webelement.WebElement (session=\"fcd4b0bad03ae4771656838314727317\", element=\"f66cd766-dadb-4196-8ec5-b958e5a16c49\")>,\n",
       " <selenium.webdriver.remote.webelement.WebElement (session=\"fcd4b0bad03ae4771656838314727317\", element=\"c3284480-5fe0-4386-a2fc-6722c5431fc6\")>,\n",
       " <selenium.webdriver.remote.webelement.WebElement (session=\"fcd4b0bad03ae4771656838314727317\", element=\"5d2b4e1e-8604-4af6-99b9-0e0fdda8b2e7\")>,\n",
       " <selenium.webdriver.remote.webelement.WebElement (session=\"fcd4b0bad03ae4771656838314727317\", element=\"40822499-41ec-4b1e-a212-63ae3c3016d4\")>,\n",
       " <selenium.webdriver.remote.webelement.WebElement (session=\"fcd4b0bad03ae4771656838314727317\", element=\"24311609-0ed8-421d-9bca-e3ed96aed658\")>,\n",
       " <selenium.webdriver.remote.webelement.WebElement (session=\"fcd4b0bad03ae4771656838314727317\", element=\"e10fed3f-865f-4168-ac2b-7ee4c073857a\")>,\n",
       " <selenium.webdriver.remote.webelement.WebElement (session=\"fcd4b0bad03ae4771656838314727317\", element=\"4e327c78-1f40-4838-a4ef-2fdccac1075a\")>,\n",
       " <selenium.webdriver.remote.webelement.WebElement (session=\"fcd4b0bad03ae4771656838314727317\", element=\"0f959a0e-e24a-4a26-b163-7cedc381ecf6\")>,\n",
       " <selenium.webdriver.remote.webelement.WebElement (session=\"fcd4b0bad03ae4771656838314727317\", element=\"cb62a70b-fecb-495d-9559-5c83149e4a19\")>,\n",
       " <selenium.webdriver.remote.webelement.WebElement (session=\"fcd4b0bad03ae4771656838314727317\", element=\"ded43737-8ce5-4750-b75b-232feb0eba33\")>,\n",
       " <selenium.webdriver.remote.webelement.WebElement (session=\"fcd4b0bad03ae4771656838314727317\", element=\"0abb6b8e-f61d-4fb0-96c9-c09f55c98901\")>,\n",
       " <selenium.webdriver.remote.webelement.WebElement (session=\"fcd4b0bad03ae4771656838314727317\", element=\"f75c48b5-e61f-4f72-9d32-8e721edf9928\")>,\n",
       " <selenium.webdriver.remote.webelement.WebElement (session=\"fcd4b0bad03ae4771656838314727317\", element=\"6aff9a3a-7c84-4d53-b7d2-9ee8eb5f57ec\")>,\n",
       " <selenium.webdriver.remote.webelement.WebElement (session=\"fcd4b0bad03ae4771656838314727317\", element=\"b48c92c9-7dd6-4ac3-8939-1e23e10071f6\")>,\n",
       " <selenium.webdriver.remote.webelement.WebElement (session=\"fcd4b0bad03ae4771656838314727317\", element=\"aec3eee2-8a49-4488-857d-81e8bf72db1d\")>,\n",
       " <selenium.webdriver.remote.webelement.WebElement (session=\"fcd4b0bad03ae4771656838314727317\", element=\"e893a2d0-7b7f-47cc-887e-cc6dbb72c403\")>,\n",
       " <selenium.webdriver.remote.webelement.WebElement (session=\"fcd4b0bad03ae4771656838314727317\", element=\"276797eb-579d-426a-9204-a6bbb3dfac7c\")>,\n",
       " <selenium.webdriver.remote.webelement.WebElement (session=\"fcd4b0bad03ae4771656838314727317\", element=\"82c87b56-9d3b-4a9e-8231-faffbb46fa0b\")>,\n",
       " <selenium.webdriver.remote.webelement.WebElement (session=\"fcd4b0bad03ae4771656838314727317\", element=\"6c23d523-4bf8-4129-88bb-1abc4183693e\")>,\n",
       " <selenium.webdriver.remote.webelement.WebElement (session=\"fcd4b0bad03ae4771656838314727317\", element=\"e85d1b80-3816-40ef-8855-a8d23fd8343c\")>,\n",
       " <selenium.webdriver.remote.webelement.WebElement (session=\"fcd4b0bad03ae4771656838314727317\", element=\"4735ff5f-2cde-4357-85e6-e62787a7744a\")>,\n",
       " <selenium.webdriver.remote.webelement.WebElement (session=\"fcd4b0bad03ae4771656838314727317\", element=\"a9882b54-80c0-456b-aaeb-93f035bfaf52\")>,\n",
       " <selenium.webdriver.remote.webelement.WebElement (session=\"fcd4b0bad03ae4771656838314727317\", element=\"a56ce242-9066-4909-ac9f-5b89aecdc1af\")>,\n",
       " <selenium.webdriver.remote.webelement.WebElement (session=\"fcd4b0bad03ae4771656838314727317\", element=\"2c21024b-b536-4d59-8a2a-e8e5fd3b952b\")>,\n",
       " <selenium.webdriver.remote.webelement.WebElement (session=\"fcd4b0bad03ae4771656838314727317\", element=\"709c8336-9ebb-4533-b37b-7408043ae89d\")>,\n",
       " <selenium.webdriver.remote.webelement.WebElement (session=\"fcd4b0bad03ae4771656838314727317\", element=\"bad806fb-f073-48e7-a711-d43e4c5c9c68\")>,\n",
       " <selenium.webdriver.remote.webelement.WebElement (session=\"fcd4b0bad03ae4771656838314727317\", element=\"8d841d7d-1bef-4e64-a144-bb9000192488\")>,\n",
       " <selenium.webdriver.remote.webelement.WebElement (session=\"fcd4b0bad03ae4771656838314727317\", element=\"cce2fec8-23a2-4394-a132-f0727491cf1b\")>,\n",
       " <selenium.webdriver.remote.webelement.WebElement (session=\"fcd4b0bad03ae4771656838314727317\", element=\"e32c4d85-7ce5-4200-bc71-13d07a4fbaf7\")>,\n",
       " <selenium.webdriver.remote.webelement.WebElement (session=\"fcd4b0bad03ae4771656838314727317\", element=\"61db1e99-f1df-4664-adbd-21fdfdc36ca3\")>,\n",
       " <selenium.webdriver.remote.webelement.WebElement (session=\"fcd4b0bad03ae4771656838314727317\", element=\"9579bd59-276f-432a-ac76-10e92ec2fb0f\")>,\n",
       " <selenium.webdriver.remote.webelement.WebElement (session=\"fcd4b0bad03ae4771656838314727317\", element=\"94aff319-7045-4e6a-ad73-725015bf18bf\")>,\n",
       " <selenium.webdriver.remote.webelement.WebElement (session=\"fcd4b0bad03ae4771656838314727317\", element=\"086e18f8-e01d-461d-ad87-27dfa7ec5e69\")>,\n",
       " <selenium.webdriver.remote.webelement.WebElement (session=\"fcd4b0bad03ae4771656838314727317\", element=\"9ef26190-752d-466c-90b2-03e5bf087158\")>,\n",
       " <selenium.webdriver.remote.webelement.WebElement (session=\"fcd4b0bad03ae4771656838314727317\", element=\"2eb0fb90-3bf1-46f6-bbda-99858bb5e44b\")>,\n",
       " <selenium.webdriver.remote.webelement.WebElement (session=\"fcd4b0bad03ae4771656838314727317\", element=\"32530428-a392-4214-8b14-ec539cca6ee5\")>,\n",
       " <selenium.webdriver.remote.webelement.WebElement (session=\"fcd4b0bad03ae4771656838314727317\", element=\"2833aab7-59e6-47e4-9ae5-e8da7efab676\")>]"
      ]
     },
     "execution_count": 213,
     "metadata": {},
     "output_type": "execute_result"
    }
   ],
   "source": [
    "a=driver.find_elements_by_xpath('//a[@class=\"IRpwTa\"]')\n",
    "a"
   ]
  },
  {
   "cell_type": "code",
   "execution_count": 214,
   "metadata": {},
   "outputs": [
    {
     "data": {
      "text/plain": [
       "['UV Protection Round Sunglasses (54)',\n",
       " 'UV Protection, Polarized, Mirrored Rectangular Sunglass...',\n",
       " 'Mirrored, UV Protection Wayfarer Sunglasses (Free Size)',\n",
       " 'UV Protection, Gradient Rectangular Sunglasses (Free Si...',\n",
       " 'UV Protection Aviator Sunglasses (54)',\n",
       " 'UV Protection Round Sunglasses (54)',\n",
       " 'Gradient, UV Protection Wayfarer Sunglasses (Free Size)',\n",
       " 'UV Protection Retro Square Sunglasses (Free Size)',\n",
       " 'UV Protection Round Sunglasses (Free Size)',\n",
       " 'UV Protection Aviator, Wayfarer Sunglasses (Free Size)',\n",
       " 'UV Protection Rectangular Sunglasses (58)',\n",
       " 'UV Protection Aviator Sunglasses (54)',\n",
       " 'UV Protection, Polarized, Mirrored Rectangular Sunglass...',\n",
       " 'UV Protection, Polarized, Mirrored Wayfarer Sunglasses ...',\n",
       " 'UV Protection Aviator Sunglasses (Free Size)',\n",
       " 'UV Protection Aviator Sunglasses (54)',\n",
       " 'Others Round Sunglasses (52)',\n",
       " 'UV Protection Retro Square Sunglasses (Free Size)',\n",
       " 'UV Protection, Riding Glasses Rectangular Sunglasses (F...',\n",
       " 'Mirrored, UV Protection, Riding Glasses, Others Round S...',\n",
       " 'UV Protection Wayfarer Sunglasses (Free Size)',\n",
       " 'UV Protection Wayfarer Sunglasses (Free Size)',\n",
       " 'UV Protection, Gradient Round Sunglasses (Free Size)',\n",
       " 'UV Protection, Gradient, Mirrored, Riding Glasses Aviat...',\n",
       " 'UV Protection Butterfly Sunglasses (65)',\n",
       " 'UV Protection Round Sunglasses (55)',\n",
       " 'UV Protection, Mirrored, Gradient Round Sunglasses (51)',\n",
       " 'UV Protection Rectangular Sunglasses (55)',\n",
       " 'UV Protection, Polarized, Mirrored Retro Square Sunglas...',\n",
       " 'Mirrored Aviator Sunglasses (55)',\n",
       " 'UV Protection Wayfarer Sunglasses (56)',\n",
       " 'UV Protection Wayfarer Sunglasses (Free Size)',\n",
       " 'Mirrored Round Sunglasses (53)',\n",
       " 'UV Protection, Mirrored Retro Square Sunglasses (53)',\n",
       " 'Riding Glasses, Others, UV Protection Wrap-around Sungl...',\n",
       " 'UV Protection Wayfarer Sunglasses (55)',\n",
       " 'UV Protection Aviator Sunglasses (58)',\n",
       " 'Mirrored Aviator Sunglasses (53)',\n",
       " 'Mirrored, UV Protection Wayfarer Sunglasses (Free Size)',\n",
       " 'UV Protection Wayfarer Sunglasses (55)']"
      ]
     },
     "execution_count": 214,
     "metadata": {},
     "output_type": "execute_result"
    }
   ],
   "source": [
    "A=[]\n",
    "for i in a:\n",
    "    A.append(i.text.replace(\"/n\", \"\"))\n",
    "A"
   ]
  },
  {
   "cell_type": "code",
   "execution_count": 215,
   "metadata": {},
   "outputs": [
    {
     "data": {
      "text/plain": [
       "<selenium.webdriver.remote.webelement.WebElement (session=\"fcd4b0bad03ae4771656838314727317\", element=\"6015bbad-e367-4522-b7dd-f59089b80121\")>"
      ]
     },
     "execution_count": 215,
     "metadata": {},
     "output_type": "execute_result"
    }
   ],
   "source": [
    "y=driver.find_element_by_xpath('//nav[@class=\"yFHi8N\"]/a[2]')\n",
    "y"
   ]
  },
  {
   "cell_type": "code",
   "execution_count": 216,
   "metadata": {},
   "outputs": [],
   "source": [
    "y.click()"
   ]
  },
  {
   "cell_type": "code",
   "execution_count": 217,
   "metadata": {},
   "outputs": [
    {
     "data": {
      "text/plain": [
       "[<selenium.webdriver.remote.webelement.WebElement (session=\"fcd4b0bad03ae4771656838314727317\", element=\"e87ecf31-fc00-4870-964d-5bd03e074230\")>,\n",
       " <selenium.webdriver.remote.webelement.WebElement (session=\"fcd4b0bad03ae4771656838314727317\", element=\"c9580079-fc53-4e15-a704-2a99fe3984a8\")>,\n",
       " <selenium.webdriver.remote.webelement.WebElement (session=\"fcd4b0bad03ae4771656838314727317\", element=\"ee8803db-ed35-468d-9775-22136358399a\")>,\n",
       " <selenium.webdriver.remote.webelement.WebElement (session=\"fcd4b0bad03ae4771656838314727317\", element=\"0775bc8a-c3a0-479d-97e1-a6c2f143eb30\")>,\n",
       " <selenium.webdriver.remote.webelement.WebElement (session=\"fcd4b0bad03ae4771656838314727317\", element=\"5d160210-62d8-4f2b-91a1-d34002c233cb\")>,\n",
       " <selenium.webdriver.remote.webelement.WebElement (session=\"fcd4b0bad03ae4771656838314727317\", element=\"fee017a6-8d62-40cd-8e87-0d73ec43f977\")>,\n",
       " <selenium.webdriver.remote.webelement.WebElement (session=\"fcd4b0bad03ae4771656838314727317\", element=\"bca76981-39fa-4cda-9958-6718ec848825\")>,\n",
       " <selenium.webdriver.remote.webelement.WebElement (session=\"fcd4b0bad03ae4771656838314727317\", element=\"49046ca7-5201-4e9c-8f4a-2c7bfdc6287f\")>,\n",
       " <selenium.webdriver.remote.webelement.WebElement (session=\"fcd4b0bad03ae4771656838314727317\", element=\"e394f969-62f2-4025-b17f-20e845a71f97\")>,\n",
       " <selenium.webdriver.remote.webelement.WebElement (session=\"fcd4b0bad03ae4771656838314727317\", element=\"4c5285f1-549e-462b-85e7-be88fed0087e\")>,\n",
       " <selenium.webdriver.remote.webelement.WebElement (session=\"fcd4b0bad03ae4771656838314727317\", element=\"96748d3c-85d6-433f-af98-3bb165014c1f\")>,\n",
       " <selenium.webdriver.remote.webelement.WebElement (session=\"fcd4b0bad03ae4771656838314727317\", element=\"b21ed6b1-7b36-4416-9e79-9d60ef691143\")>,\n",
       " <selenium.webdriver.remote.webelement.WebElement (session=\"fcd4b0bad03ae4771656838314727317\", element=\"e5b1939c-2009-4f83-9671-36c620eae4a3\")>,\n",
       " <selenium.webdriver.remote.webelement.WebElement (session=\"fcd4b0bad03ae4771656838314727317\", element=\"df05809f-a6e0-4549-a51c-6e64046feca9\")>,\n",
       " <selenium.webdriver.remote.webelement.WebElement (session=\"fcd4b0bad03ae4771656838314727317\", element=\"a25afcec-7da8-40e8-b4a7-515862532e3d\")>,\n",
       " <selenium.webdriver.remote.webelement.WebElement (session=\"fcd4b0bad03ae4771656838314727317\", element=\"28585c31-8b85-4fe4-bc88-9fa0a90e72fd\")>,\n",
       " <selenium.webdriver.remote.webelement.WebElement (session=\"fcd4b0bad03ae4771656838314727317\", element=\"e1551fa2-2bea-4f23-a7cf-4af61ba631fd\")>,\n",
       " <selenium.webdriver.remote.webelement.WebElement (session=\"fcd4b0bad03ae4771656838314727317\", element=\"0435023d-5419-485d-968d-a784e0244f08\")>,\n",
       " <selenium.webdriver.remote.webelement.WebElement (session=\"fcd4b0bad03ae4771656838314727317\", element=\"64b9e564-8e93-4870-a72a-1e4a10895c9d\")>,\n",
       " <selenium.webdriver.remote.webelement.WebElement (session=\"fcd4b0bad03ae4771656838314727317\", element=\"97ee8df5-5dde-40ac-90bd-fc56ffbef077\")>,\n",
       " <selenium.webdriver.remote.webelement.WebElement (session=\"fcd4b0bad03ae4771656838314727317\", element=\"e09f919c-241b-45ec-b649-dcbd6f4c1851\")>,\n",
       " <selenium.webdriver.remote.webelement.WebElement (session=\"fcd4b0bad03ae4771656838314727317\", element=\"5336b6fb-0113-4832-95ba-0647d2055eb6\")>,\n",
       " <selenium.webdriver.remote.webelement.WebElement (session=\"fcd4b0bad03ae4771656838314727317\", element=\"c82078a7-b2a3-4eaa-8d04-0e349b2b0a9c\")>,\n",
       " <selenium.webdriver.remote.webelement.WebElement (session=\"fcd4b0bad03ae4771656838314727317\", element=\"060f3524-8593-46a3-95f5-7a53d52219b4\")>,\n",
       " <selenium.webdriver.remote.webelement.WebElement (session=\"fcd4b0bad03ae4771656838314727317\", element=\"663ce81a-9fd0-400f-a4d7-052b7ce4a214\")>,\n",
       " <selenium.webdriver.remote.webelement.WebElement (session=\"fcd4b0bad03ae4771656838314727317\", element=\"4ec3d80d-eb5e-4adb-9dc0-55c743bac939\")>,\n",
       " <selenium.webdriver.remote.webelement.WebElement (session=\"fcd4b0bad03ae4771656838314727317\", element=\"260025a4-bfa5-4fd3-bd78-41fe69e38c2e\")>,\n",
       " <selenium.webdriver.remote.webelement.WebElement (session=\"fcd4b0bad03ae4771656838314727317\", element=\"87ff8483-b81a-40ed-a84e-baf62a9961e0\")>,\n",
       " <selenium.webdriver.remote.webelement.WebElement (session=\"fcd4b0bad03ae4771656838314727317\", element=\"c78b8568-5928-4e0c-8a24-1ca54d629a5a\")>,\n",
       " <selenium.webdriver.remote.webelement.WebElement (session=\"fcd4b0bad03ae4771656838314727317\", element=\"c8a6f6f9-ef04-4076-b53a-5cba107275af\")>,\n",
       " <selenium.webdriver.remote.webelement.WebElement (session=\"fcd4b0bad03ae4771656838314727317\", element=\"0d62ba3b-7f43-412a-8784-e768711e4104\")>,\n",
       " <selenium.webdriver.remote.webelement.WebElement (session=\"fcd4b0bad03ae4771656838314727317\", element=\"283e5bf0-7691-4be5-bc18-106b751761c2\")>,\n",
       " <selenium.webdriver.remote.webelement.WebElement (session=\"fcd4b0bad03ae4771656838314727317\", element=\"a0fd2f08-dfb8-46ef-a93f-2540e132aefc\")>,\n",
       " <selenium.webdriver.remote.webelement.WebElement (session=\"fcd4b0bad03ae4771656838314727317\", element=\"1043da99-35f9-4905-8124-520143282010\")>,\n",
       " <selenium.webdriver.remote.webelement.WebElement (session=\"fcd4b0bad03ae4771656838314727317\", element=\"ff51ffa7-c360-4c69-9408-4104dfa622b7\")>,\n",
       " <selenium.webdriver.remote.webelement.WebElement (session=\"fcd4b0bad03ae4771656838314727317\", element=\"075976f4-d03e-42a0-be9e-90da9996f90b\")>,\n",
       " <selenium.webdriver.remote.webelement.WebElement (session=\"fcd4b0bad03ae4771656838314727317\", element=\"deacc53d-64f2-4738-94cb-db038d334bff\")>,\n",
       " <selenium.webdriver.remote.webelement.WebElement (session=\"fcd4b0bad03ae4771656838314727317\", element=\"c36035ee-493e-450e-844a-3eec7354a912\")>,\n",
       " <selenium.webdriver.remote.webelement.WebElement (session=\"fcd4b0bad03ae4771656838314727317\", element=\"01b6ab11-a535-4ed8-bc5b-04fd718ae5f4\")>,\n",
       " <selenium.webdriver.remote.webelement.WebElement (session=\"fcd4b0bad03ae4771656838314727317\", element=\"e9cdee72-6a40-425c-8f06-b1a31aab1fd6\")>]"
      ]
     },
     "execution_count": 217,
     "metadata": {},
     "output_type": "execute_result"
    }
   ],
   "source": [
    "b=driver.find_elements_by_xpath('//a[@class=\"IRpwTa\"]')\n",
    "b"
   ]
  },
  {
   "cell_type": "code",
   "execution_count": 218,
   "metadata": {},
   "outputs": [
    {
     "data": {
      "text/plain": [
       "['UV Protection Aviator Sunglasses (Free Size)',\n",
       " 'UV Protection Aviator Sunglasses (57)',\n",
       " 'UV Protection, Gradient Aviator Sunglasses (55)',\n",
       " 'UV Protection, Mirrored Round Sunglasses (Free Size)',\n",
       " 'UV Protection Aviator Sunglasses (58)',\n",
       " 'Night Vision, Riding Glasses Wayfarer Sunglasses (53)',\n",
       " 'UV Protection, Riding Glasses Rectangular, Retro Square...',\n",
       " 'UV Protection Round Sunglasses (Free Size)',\n",
       " 'UV Protection, Polarized, Mirrored Wayfarer Sunglasses ...',\n",
       " 'UV Protection, Night Vision, Riding Glasses, Gradient, ...',\n",
       " 'UV Protection Aviator Sunglasses (Free Size)',\n",
       " 'UV Protection, Night Vision, Riding Glasses Aviator Sun...',\n",
       " 'UV Protection Round Sunglasses (53)',\n",
       " 'UV Protection, Night Vision, Gradient, Mirrored Round, ...',\n",
       " 'UV Protection Wayfarer Sunglasses (57)',\n",
       " 'UV Protection, Mirrored Round Sunglasses (54)',\n",
       " 'UV Protection Sports Sunglasses (62)',\n",
       " 'Mirrored, UV Protection, Riding Glasses, Others Wrap-ar...',\n",
       " 'Polarized, UV Protection, Riding Glasses Wayfarer Sungl...',\n",
       " 'UV Protection Oval Sunglasses (56)',\n",
       " 'UV Protection Wayfarer Sunglasses (55)',\n",
       " 'UV Protection, Riding Glasses, Mirrored Wayfarer Sungla...',\n",
       " 'UV Protection, Riding Glasses, Others Aviator, Wayfarer...',\n",
       " 'UV Protection, Riding Glasses Rectangular, Retro Square...',\n",
       " 'UV Protection, Others Round Sunglasses (48)',\n",
       " 'UV Protection Clubmaster Sunglasses (Free Size)',\n",
       " 'Gradient, UV Protection Round Sunglasses (Free Size)',\n",
       " 'UV Protection, Gradient Retro Square Sunglasses (Free S...',\n",
       " 'UV Protection Wayfarer Sunglasses (Free Size)',\n",
       " 'UV Protection Retro Square Sunglasses (Free Size)',\n",
       " 'Polarized, UV Protection Retro Square Sunglasses (53)',\n",
       " 'UV Protection Aviator Sunglasses (58)',\n",
       " 'UV Protection Aviator Sunglasses (Free Size)',\n",
       " 'UV Protection, Polarized, Mirrored Wayfarer Sunglasses ...',\n",
       " 'UV Protection, Mirrored Wayfarer Sunglasses (53)',\n",
       " 'Polarized, UV Protection Rectangular Sunglasses (59)',\n",
       " 'UV Protection, Polarized Aviator Sunglasses (32)',\n",
       " 'UV Protection Sports Sunglasses (Free Size)',\n",
       " 'UV Protection Over-sized Sunglasses (60)',\n",
       " 'UV Protection, Gradient Butterfly, Retro Square Sunglas...']"
      ]
     },
     "execution_count": 218,
     "metadata": {},
     "output_type": "execute_result"
    }
   ],
   "source": [
    "B=[]\n",
    "for i in b:\n",
    "    B.append(i.text.replace(\"/n\", \"\"))\n",
    "B"
   ]
  },
  {
   "cell_type": "code",
   "execution_count": 221,
   "metadata": {},
   "outputs": [
    {
     "data": {
      "text/plain": [
       "<selenium.webdriver.remote.webelement.WebElement (session=\"fcd4b0bad03ae4771656838314727317\", element=\"21a13998-ff76-451d-b1e7-68c7a821bdb5\")>"
      ]
     },
     "execution_count": 221,
     "metadata": {},
     "output_type": "execute_result"
    }
   ],
   "source": [
    "z=driver.find_element_by_xpath('//nav[@class=\"yFHi8N\"]/a[4]')\n",
    "z"
   ]
  },
  {
   "cell_type": "code",
   "execution_count": 222,
   "metadata": {},
   "outputs": [],
   "source": [
    "z.click()"
   ]
  },
  {
   "cell_type": "code",
   "execution_count": 223,
   "metadata": {},
   "outputs": [
    {
     "data": {
      "text/plain": [
       "[<selenium.webdriver.remote.webelement.WebElement (session=\"fcd4b0bad03ae4771656838314727317\", element=\"fb9d2de6-21b5-49bc-ad25-68933e944578\")>,\n",
       " <selenium.webdriver.remote.webelement.WebElement (session=\"fcd4b0bad03ae4771656838314727317\", element=\"03a483a8-fabf-462c-aa02-92bfb2104cbc\")>,\n",
       " <selenium.webdriver.remote.webelement.WebElement (session=\"fcd4b0bad03ae4771656838314727317\", element=\"5330759c-9478-4f2b-b07d-daa96cdff487\")>,\n",
       " <selenium.webdriver.remote.webelement.WebElement (session=\"fcd4b0bad03ae4771656838314727317\", element=\"65935cb3-9e45-45b1-b09f-3a932177fc24\")>,\n",
       " <selenium.webdriver.remote.webelement.WebElement (session=\"fcd4b0bad03ae4771656838314727317\", element=\"4b76493f-05b3-464d-91c5-8219854b78e7\")>,\n",
       " <selenium.webdriver.remote.webelement.WebElement (session=\"fcd4b0bad03ae4771656838314727317\", element=\"7e3609b8-e2e9-4369-aafc-2d890459bb1a\")>,\n",
       " <selenium.webdriver.remote.webelement.WebElement (session=\"fcd4b0bad03ae4771656838314727317\", element=\"d000b358-3437-483f-9881-9cf289b75d82\")>,\n",
       " <selenium.webdriver.remote.webelement.WebElement (session=\"fcd4b0bad03ae4771656838314727317\", element=\"8984be5e-4370-43f2-b427-2627612c45c6\")>,\n",
       " <selenium.webdriver.remote.webelement.WebElement (session=\"fcd4b0bad03ae4771656838314727317\", element=\"8dc6c66f-5e26-488f-aea2-05f089045ff6\")>,\n",
       " <selenium.webdriver.remote.webelement.WebElement (session=\"fcd4b0bad03ae4771656838314727317\", element=\"8f34036b-8b4f-47fa-96d7-e6213ef5ca13\")>,\n",
       " <selenium.webdriver.remote.webelement.WebElement (session=\"fcd4b0bad03ae4771656838314727317\", element=\"32156e5c-b158-4aa7-bdaa-db7b59a13302\")>,\n",
       " <selenium.webdriver.remote.webelement.WebElement (session=\"fcd4b0bad03ae4771656838314727317\", element=\"815e1a3b-cb6e-475b-962b-5637fca49f9c\")>,\n",
       " <selenium.webdriver.remote.webelement.WebElement (session=\"fcd4b0bad03ae4771656838314727317\", element=\"a6c850b5-326d-4025-89c0-eec18a6327b7\")>,\n",
       " <selenium.webdriver.remote.webelement.WebElement (session=\"fcd4b0bad03ae4771656838314727317\", element=\"7a71bce9-f166-4033-b1fb-7eb3578b640c\")>,\n",
       " <selenium.webdriver.remote.webelement.WebElement (session=\"fcd4b0bad03ae4771656838314727317\", element=\"c3ff9731-ca52-4939-b442-34c8b358202f\")>,\n",
       " <selenium.webdriver.remote.webelement.WebElement (session=\"fcd4b0bad03ae4771656838314727317\", element=\"5a36334e-74b7-4fae-ba2e-9d936b1a0496\")>,\n",
       " <selenium.webdriver.remote.webelement.WebElement (session=\"fcd4b0bad03ae4771656838314727317\", element=\"24da3730-b416-4631-9879-0eb17dadad20\")>,\n",
       " <selenium.webdriver.remote.webelement.WebElement (session=\"fcd4b0bad03ae4771656838314727317\", element=\"2d706c58-74d5-4ae5-8326-4b6c0a8c8c66\")>,\n",
       " <selenium.webdriver.remote.webelement.WebElement (session=\"fcd4b0bad03ae4771656838314727317\", element=\"5fe4ae89-319c-4ca3-a2d7-81e7760fd438\")>,\n",
       " <selenium.webdriver.remote.webelement.WebElement (session=\"fcd4b0bad03ae4771656838314727317\", element=\"cd4a4410-f2a6-4598-bb47-758b4a84314e\")>,\n",
       " <selenium.webdriver.remote.webelement.WebElement (session=\"fcd4b0bad03ae4771656838314727317\", element=\"83ae96e1-6eb7-4741-ae87-2148c3658454\")>,\n",
       " <selenium.webdriver.remote.webelement.WebElement (session=\"fcd4b0bad03ae4771656838314727317\", element=\"f1064136-99da-4c45-b7ab-e3627cea1c84\")>,\n",
       " <selenium.webdriver.remote.webelement.WebElement (session=\"fcd4b0bad03ae4771656838314727317\", element=\"62f7d21e-ed12-4fc4-96cc-9f61faf7f51c\")>,\n",
       " <selenium.webdriver.remote.webelement.WebElement (session=\"fcd4b0bad03ae4771656838314727317\", element=\"0fde4cb2-c380-46cb-8f52-59c12d8da2bd\")>,\n",
       " <selenium.webdriver.remote.webelement.WebElement (session=\"fcd4b0bad03ae4771656838314727317\", element=\"a8ddfaa9-a1fa-43ec-a562-21016e58030b\")>,\n",
       " <selenium.webdriver.remote.webelement.WebElement (session=\"fcd4b0bad03ae4771656838314727317\", element=\"bc671d12-ec7d-4c55-a9ed-d82c85e267b1\")>,\n",
       " <selenium.webdriver.remote.webelement.WebElement (session=\"fcd4b0bad03ae4771656838314727317\", element=\"3f0acee5-d40a-4c3c-b201-a51e2b3bd31a\")>,\n",
       " <selenium.webdriver.remote.webelement.WebElement (session=\"fcd4b0bad03ae4771656838314727317\", element=\"52983358-e6dd-4d63-b0ef-4b5d5958fb6a\")>,\n",
       " <selenium.webdriver.remote.webelement.WebElement (session=\"fcd4b0bad03ae4771656838314727317\", element=\"dfca403a-8626-41ac-9b60-8faa662fb72e\")>,\n",
       " <selenium.webdriver.remote.webelement.WebElement (session=\"fcd4b0bad03ae4771656838314727317\", element=\"c7cf702c-e2fc-46df-89a4-c15ad1894584\")>,\n",
       " <selenium.webdriver.remote.webelement.WebElement (session=\"fcd4b0bad03ae4771656838314727317\", element=\"47b2cd20-b55e-4f5b-a036-1e62e565744e\")>,\n",
       " <selenium.webdriver.remote.webelement.WebElement (session=\"fcd4b0bad03ae4771656838314727317\", element=\"75a2d436-75c5-4586-8ea2-91154daa3810\")>,\n",
       " <selenium.webdriver.remote.webelement.WebElement (session=\"fcd4b0bad03ae4771656838314727317\", element=\"df4d15dc-524d-4216-a543-46127c4eda52\")>,\n",
       " <selenium.webdriver.remote.webelement.WebElement (session=\"fcd4b0bad03ae4771656838314727317\", element=\"0534f95d-69ea-40f3-a7ca-27a0d73db1fd\")>,\n",
       " <selenium.webdriver.remote.webelement.WebElement (session=\"fcd4b0bad03ae4771656838314727317\", element=\"4f65923f-71b4-44af-a34a-5a08a09a2fd7\")>,\n",
       " <selenium.webdriver.remote.webelement.WebElement (session=\"fcd4b0bad03ae4771656838314727317\", element=\"55801aa1-89d7-473b-8f08-294a39ea5066\")>,\n",
       " <selenium.webdriver.remote.webelement.WebElement (session=\"fcd4b0bad03ae4771656838314727317\", element=\"9cbde9e7-6a7d-4c28-883d-34eafbe90764\")>,\n",
       " <selenium.webdriver.remote.webelement.WebElement (session=\"fcd4b0bad03ae4771656838314727317\", element=\"97155e44-f121-4b57-b1b1-037aa40b96e0\")>,\n",
       " <selenium.webdriver.remote.webelement.WebElement (session=\"fcd4b0bad03ae4771656838314727317\", element=\"c434d5fc-42f1-4927-aef4-c7d74d4971de\")>,\n",
       " <selenium.webdriver.remote.webelement.WebElement (session=\"fcd4b0bad03ae4771656838314727317\", element=\"ab25923a-4732-46d2-9a75-a914357ce794\")>]"
      ]
     },
     "execution_count": 223,
     "metadata": {},
     "output_type": "execute_result"
    }
   ],
   "source": [
    "c=driver.find_elements_by_xpath('//a[@class=\"IRpwTa\"]')\n",
    "c"
   ]
  },
  {
   "cell_type": "code",
   "execution_count": 224,
   "metadata": {},
   "outputs": [
    {
     "data": {
      "text/plain": [
       "['UV Protection, Mirrored Round Sunglasses (Free Size)',\n",
       " 'UV Protection Rectangular Sunglasses (Free Size)',\n",
       " 'UV Protection Shield Sunglasses (Free Size)',\n",
       " 'UV Protection Over-sized Sunglasses (60)',\n",
       " 'Mirrored, UV Protection Wayfarer Sunglasses (Free Size)',\n",
       " 'UV Protection, Gradient Oval Sunglasses (58)',\n",
       " 'UV Protection Wrap-around Sunglasses (Free Size)',\n",
       " 'Mirrored Round Sunglasses (Free Size)',\n",
       " 'UV Protection Aviator Sunglasses (58)',\n",
       " 'UV Protection Retro Square Sunglasses (88)',\n",
       " 'UV Protection, Night Vision, Riding Glasses Sports Sung...',\n",
       " 'UV Protection Round Sunglasses (55)',\n",
       " 'UV Protection, Mirrored Clubmaster Sunglasses (Free Siz...',\n",
       " 'UV Protection Wayfarer, Rectangular Sunglasses (57)',\n",
       " 'Mirrored Aviator Sunglasses (Free Size)',\n",
       " 'Mirrored, UV Protection, Gradient Round Sunglasses (55)',\n",
       " 'Gradient Retro Square Sunglasses (60)',\n",
       " 'UV Protection, Gradient Butterfly, Retro Square Sunglas...',\n",
       " 'UV Protection Retro Square, Aviator Sunglasses (54)',\n",
       " 'UV Protection, Polarized, Mirrored Retro Square, Rectan...',\n",
       " 'UV Protection, Gradient Butterfly Sunglasses (60)',\n",
       " 'UV Protection Wayfarer Sunglasses (Free Size)',\n",
       " 'UV Protection Round Sunglasses (Free Size)',\n",
       " 'Mirrored, UV Protection Wayfarer Sunglasses (53)',\n",
       " 'Gradient Aviator Sunglasses (55)',\n",
       " 'UV Protection, Gradient Retro Square Sunglasses (Free S...',\n",
       " 'UV Protection, Polarized, Mirrored Wayfarer Sunglasses ...',\n",
       " 'Polarized, UV Protection Aviator Sunglasses (58)',\n",
       " 'UV Protection, Gradient Oval Sunglasses (58)',\n",
       " 'UV Protection, Gradient Cat-eye Sunglasses (61)',\n",
       " 'UV Protection Wayfarer Sunglasses (54)',\n",
       " 'UV Protection, Gradient Butterfly, Retro Square Sunglas...',\n",
       " 'UV Protection Rectangular, Aviator Sunglasses (Free Siz...',\n",
       " 'Mirrored Round Sunglasses (52)',\n",
       " 'UV Protection, Gradient Cat-eye Sunglasses (58)',\n",
       " 'UV Protection Aviator Sunglasses (57)',\n",
       " 'UV Protection Wrap-around Sunglasses (63)',\n",
       " 'UV Protection Aviator Sunglasses (55)',\n",
       " 'UV Protection Aviator Sunglasses (55)',\n",
       " 'UV Protection Wayfarer Sunglasses (53)']"
      ]
     },
     "execution_count": 224,
     "metadata": {},
     "output_type": "execute_result"
    }
   ],
   "source": [
    "C=[]\n",
    "for i in c:\n",
    "    C.append(i.text.replace(\"/n\", \"\"))\n",
    "C"
   ]
  },
  {
   "cell_type": "code",
   "execution_count": 225,
   "metadata": {},
   "outputs": [
    {
     "data": {
      "text/plain": [
       "['UV Protection, Mirrored Round Sunglasses (Free Size)',\n",
       " 'UV Protection Rectangular Sunglasses (Free Size)',\n",
       " 'UV Protection Shield Sunglasses (Free Size)',\n",
       " 'UV Protection Over-sized Sunglasses (60)',\n",
       " 'Mirrored, UV Protection Wayfarer Sunglasses (Free Size)',\n",
       " 'UV Protection, Gradient Oval Sunglasses (58)',\n",
       " 'UV Protection Wrap-around Sunglasses (Free Size)',\n",
       " 'Mirrored Round Sunglasses (Free Size)',\n",
       " 'UV Protection Aviator Sunglasses (58)',\n",
       " 'UV Protection Retro Square Sunglasses (88)',\n",
       " 'UV Protection, Night Vision, Riding Glasses Sports Sung...',\n",
       " 'UV Protection Round Sunglasses (55)',\n",
       " 'UV Protection, Mirrored Clubmaster Sunglasses (Free Siz...',\n",
       " 'UV Protection Wayfarer, Rectangular Sunglasses (57)',\n",
       " 'Mirrored Aviator Sunglasses (Free Size)',\n",
       " 'Mirrored, UV Protection, Gradient Round Sunglasses (55)',\n",
       " 'Gradient Retro Square Sunglasses (60)',\n",
       " 'UV Protection, Gradient Butterfly, Retro Square Sunglas...',\n",
       " 'UV Protection Retro Square, Aviator Sunglasses (54)',\n",
       " 'UV Protection, Polarized, Mirrored Retro Square, Rectan...']"
      ]
     },
     "execution_count": 225,
     "metadata": {},
     "output_type": "execute_result"
    }
   ],
   "source": [
    "C_=C[0:20]\n",
    "C_"
   ]
  },
  {
   "cell_type": "code",
   "execution_count": 226,
   "metadata": {},
   "outputs": [
    {
     "data": {
      "text/plain": [
       "['UV Protection Round Sunglasses (54)',\n",
       " 'UV Protection, Polarized, Mirrored Rectangular Sunglass...',\n",
       " 'Mirrored, UV Protection Wayfarer Sunglasses (Free Size)',\n",
       " 'UV Protection, Gradient Rectangular Sunglasses (Free Si...',\n",
       " 'UV Protection Aviator Sunglasses (54)',\n",
       " 'UV Protection Round Sunglasses (54)',\n",
       " 'Gradient, UV Protection Wayfarer Sunglasses (Free Size)',\n",
       " 'UV Protection Retro Square Sunglasses (Free Size)',\n",
       " 'UV Protection Round Sunglasses (Free Size)',\n",
       " 'UV Protection Aviator, Wayfarer Sunglasses (Free Size)',\n",
       " 'UV Protection Rectangular Sunglasses (58)',\n",
       " 'UV Protection Aviator Sunglasses (54)',\n",
       " 'UV Protection, Polarized, Mirrored Rectangular Sunglass...',\n",
       " 'UV Protection, Polarized, Mirrored Wayfarer Sunglasses ...',\n",
       " 'UV Protection Aviator Sunglasses (Free Size)',\n",
       " 'UV Protection Aviator Sunglasses (54)',\n",
       " 'Others Round Sunglasses (52)',\n",
       " 'UV Protection Retro Square Sunglasses (Free Size)',\n",
       " 'UV Protection, Riding Glasses Rectangular Sunglasses (F...',\n",
       " 'Mirrored, UV Protection, Riding Glasses, Others Round S...',\n",
       " 'UV Protection Wayfarer Sunglasses (Free Size)',\n",
       " 'UV Protection Wayfarer Sunglasses (Free Size)',\n",
       " 'UV Protection, Gradient Round Sunglasses (Free Size)',\n",
       " 'UV Protection, Gradient, Mirrored, Riding Glasses Aviat...',\n",
       " 'UV Protection Butterfly Sunglasses (65)',\n",
       " 'UV Protection Round Sunglasses (55)',\n",
       " 'UV Protection, Mirrored, Gradient Round Sunglasses (51)',\n",
       " 'UV Protection Rectangular Sunglasses (55)',\n",
       " 'UV Protection, Polarized, Mirrored Retro Square Sunglas...',\n",
       " 'Mirrored Aviator Sunglasses (55)',\n",
       " 'UV Protection Wayfarer Sunglasses (56)',\n",
       " 'UV Protection Wayfarer Sunglasses (Free Size)',\n",
       " 'Mirrored Round Sunglasses (53)',\n",
       " 'UV Protection, Mirrored Retro Square Sunglasses (53)',\n",
       " 'Riding Glasses, Others, UV Protection Wrap-around Sungl...',\n",
       " 'UV Protection Wayfarer Sunglasses (55)',\n",
       " 'UV Protection Aviator Sunglasses (58)',\n",
       " 'Mirrored Aviator Sunglasses (53)',\n",
       " 'Mirrored, UV Protection Wayfarer Sunglasses (Free Size)',\n",
       " 'UV Protection Wayfarer Sunglasses (55)',\n",
       " 'UV Protection Aviator Sunglasses (Free Size)',\n",
       " 'UV Protection Aviator Sunglasses (57)',\n",
       " 'UV Protection, Gradient Aviator Sunglasses (55)',\n",
       " 'UV Protection, Mirrored Round Sunglasses (Free Size)',\n",
       " 'UV Protection Aviator Sunglasses (58)',\n",
       " 'Night Vision, Riding Glasses Wayfarer Sunglasses (53)',\n",
       " 'UV Protection, Riding Glasses Rectangular, Retro Square...',\n",
       " 'UV Protection Round Sunglasses (Free Size)',\n",
       " 'UV Protection, Polarized, Mirrored Wayfarer Sunglasses ...',\n",
       " 'UV Protection, Night Vision, Riding Glasses, Gradient, ...',\n",
       " 'UV Protection Aviator Sunglasses (Free Size)',\n",
       " 'UV Protection, Night Vision, Riding Glasses Aviator Sun...',\n",
       " 'UV Protection Round Sunglasses (53)',\n",
       " 'UV Protection, Night Vision, Gradient, Mirrored Round, ...',\n",
       " 'UV Protection Wayfarer Sunglasses (57)',\n",
       " 'UV Protection, Mirrored Round Sunglasses (54)',\n",
       " 'UV Protection Sports Sunglasses (62)',\n",
       " 'Mirrored, UV Protection, Riding Glasses, Others Wrap-ar...',\n",
       " 'Polarized, UV Protection, Riding Glasses Wayfarer Sungl...',\n",
       " 'UV Protection Oval Sunglasses (56)',\n",
       " 'UV Protection Wayfarer Sunglasses (55)',\n",
       " 'UV Protection, Riding Glasses, Mirrored Wayfarer Sungla...',\n",
       " 'UV Protection, Riding Glasses, Others Aviator, Wayfarer...',\n",
       " 'UV Protection, Riding Glasses Rectangular, Retro Square...',\n",
       " 'UV Protection, Others Round Sunglasses (48)',\n",
       " 'UV Protection Clubmaster Sunglasses (Free Size)',\n",
       " 'Gradient, UV Protection Round Sunglasses (Free Size)',\n",
       " 'UV Protection, Gradient Retro Square Sunglasses (Free S...',\n",
       " 'UV Protection Wayfarer Sunglasses (Free Size)',\n",
       " 'UV Protection Retro Square Sunglasses (Free Size)',\n",
       " 'Polarized, UV Protection Retro Square Sunglasses (53)',\n",
       " 'UV Protection Aviator Sunglasses (58)',\n",
       " 'UV Protection Aviator Sunglasses (Free Size)',\n",
       " 'UV Protection, Polarized, Mirrored Wayfarer Sunglasses ...',\n",
       " 'UV Protection, Mirrored Wayfarer Sunglasses (53)',\n",
       " 'Polarized, UV Protection Rectangular Sunglasses (59)',\n",
       " 'UV Protection, Polarized Aviator Sunglasses (32)',\n",
       " 'UV Protection Sports Sunglasses (Free Size)',\n",
       " 'UV Protection Over-sized Sunglasses (60)',\n",
       " 'UV Protection, Gradient Butterfly, Retro Square Sunglas...',\n",
       " 'UV Protection, Mirrored Round Sunglasses (Free Size)',\n",
       " 'UV Protection Rectangular Sunglasses (Free Size)',\n",
       " 'UV Protection Shield Sunglasses (Free Size)',\n",
       " 'UV Protection Over-sized Sunglasses (60)',\n",
       " 'Mirrored, UV Protection Wayfarer Sunglasses (Free Size)',\n",
       " 'UV Protection, Gradient Oval Sunglasses (58)',\n",
       " 'UV Protection Wrap-around Sunglasses (Free Size)',\n",
       " 'Mirrored Round Sunglasses (Free Size)',\n",
       " 'UV Protection Aviator Sunglasses (58)',\n",
       " 'UV Protection Retro Square Sunglasses (88)',\n",
       " 'UV Protection, Night Vision, Riding Glasses Sports Sung...',\n",
       " 'UV Protection Round Sunglasses (55)',\n",
       " 'UV Protection, Mirrored Clubmaster Sunglasses (Free Siz...',\n",
       " 'UV Protection Wayfarer, Rectangular Sunglasses (57)',\n",
       " 'Mirrored Aviator Sunglasses (Free Size)',\n",
       " 'Mirrored, UV Protection, Gradient Round Sunglasses (55)',\n",
       " 'Gradient Retro Square Sunglasses (60)',\n",
       " 'UV Protection, Gradient Butterfly, Retro Square Sunglas...',\n",
       " 'UV Protection Retro Square, Aviator Sunglasses (54)',\n",
       " 'UV Protection, Polarized, Mirrored Retro Square, Rectan...']"
      ]
     },
     "execution_count": 226,
     "metadata": {},
     "output_type": "execute_result"
    }
   ],
   "source": [
    "Product_Desc=A+B+C_\n",
    "Product_Desc"
   ]
  },
  {
   "cell_type": "code",
   "execution_count": 246,
   "metadata": {},
   "outputs": [
    {
     "data": {
      "text/plain": [
       "<selenium.webdriver.remote.webelement.WebElement (session=\"fcd4b0bad03ae4771656838314727317\", element=\"2db8dd13-3f9b-4507-ac78-cc7c1db4aa65\")>"
      ]
     },
     "execution_count": 246,
     "metadata": {},
     "output_type": "execute_result"
    }
   ],
   "source": [
    "x=driver.find_element_by_xpath('//nav[@class=\"yFHi8N\"]/a[1]')\n",
    "x"
   ]
  },
  {
   "cell_type": "code",
   "execution_count": 247,
   "metadata": {},
   "outputs": [],
   "source": [
    "x.click()"
   ]
  },
  {
   "cell_type": "code",
   "execution_count": 231,
   "metadata": {},
   "outputs": [
    {
     "data": {
      "text/plain": [
       "[<selenium.webdriver.remote.webelement.WebElement (session=\"fcd4b0bad03ae4771656838314727317\", element=\"6e13838f-caaa-4ef6-891c-519a7cf66239\")>,\n",
       " <selenium.webdriver.remote.webelement.WebElement (session=\"fcd4b0bad03ae4771656838314727317\", element=\"7ac67382-8188-46cd-b710-8726c167d2e8\")>,\n",
       " <selenium.webdriver.remote.webelement.WebElement (session=\"fcd4b0bad03ae4771656838314727317\", element=\"a0b0f48d-fd34-4179-8bd4-b20fac17c743\")>,\n",
       " <selenium.webdriver.remote.webelement.WebElement (session=\"fcd4b0bad03ae4771656838314727317\", element=\"abfa4c24-bc1b-4306-bfc2-626dac52dc98\")>,\n",
       " <selenium.webdriver.remote.webelement.WebElement (session=\"fcd4b0bad03ae4771656838314727317\", element=\"29f3e85b-27be-485b-b59a-9effefe35f03\")>,\n",
       " <selenium.webdriver.remote.webelement.WebElement (session=\"fcd4b0bad03ae4771656838314727317\", element=\"d4a6cced-2998-4dc8-94db-ab7c06b536c3\")>,\n",
       " <selenium.webdriver.remote.webelement.WebElement (session=\"fcd4b0bad03ae4771656838314727317\", element=\"e4a94890-2ceb-4f85-90a7-07c81f2a103e\")>,\n",
       " <selenium.webdriver.remote.webelement.WebElement (session=\"fcd4b0bad03ae4771656838314727317\", element=\"024dd954-bd5e-41a0-80df-f5926a682173\")>,\n",
       " <selenium.webdriver.remote.webelement.WebElement (session=\"fcd4b0bad03ae4771656838314727317\", element=\"8edaef04-73cb-4e86-a595-006914fcb83e\")>,\n",
       " <selenium.webdriver.remote.webelement.WebElement (session=\"fcd4b0bad03ae4771656838314727317\", element=\"2b61e897-9e26-4524-91ff-92e9ed06b778\")>,\n",
       " <selenium.webdriver.remote.webelement.WebElement (session=\"fcd4b0bad03ae4771656838314727317\", element=\"f77ade97-5b8d-49da-ad43-1c613f8c28f4\")>,\n",
       " <selenium.webdriver.remote.webelement.WebElement (session=\"fcd4b0bad03ae4771656838314727317\", element=\"c099d079-e854-434a-a9e1-cf57cd9383a6\")>,\n",
       " <selenium.webdriver.remote.webelement.WebElement (session=\"fcd4b0bad03ae4771656838314727317\", element=\"d3b1afa5-3106-4e57-bc47-e7311214ea90\")>,\n",
       " <selenium.webdriver.remote.webelement.WebElement (session=\"fcd4b0bad03ae4771656838314727317\", element=\"f10c9326-0a42-40b9-a91e-c928f1b58931\")>,\n",
       " <selenium.webdriver.remote.webelement.WebElement (session=\"fcd4b0bad03ae4771656838314727317\", element=\"1f6fa8c8-cda4-4e5c-873d-b64b3c931dde\")>,\n",
       " <selenium.webdriver.remote.webelement.WebElement (session=\"fcd4b0bad03ae4771656838314727317\", element=\"afd992a9-61cf-4098-b89b-529e2016eb45\")>,\n",
       " <selenium.webdriver.remote.webelement.WebElement (session=\"fcd4b0bad03ae4771656838314727317\", element=\"abe3d55f-7494-419c-9857-0e99f84f7c40\")>,\n",
       " <selenium.webdriver.remote.webelement.WebElement (session=\"fcd4b0bad03ae4771656838314727317\", element=\"12b35966-3f47-4a6e-9199-2818b6e649af\")>,\n",
       " <selenium.webdriver.remote.webelement.WebElement (session=\"fcd4b0bad03ae4771656838314727317\", element=\"626a6f41-23a4-4fa3-aa2a-cdc48c8d08cc\")>,\n",
       " <selenium.webdriver.remote.webelement.WebElement (session=\"fcd4b0bad03ae4771656838314727317\", element=\"6bf68c45-b150-46f5-9edc-6aff4714312c\")>,\n",
       " <selenium.webdriver.remote.webelement.WebElement (session=\"fcd4b0bad03ae4771656838314727317\", element=\"4f3e7e12-6e5c-41e1-aaa4-4c015cc855ea\")>,\n",
       " <selenium.webdriver.remote.webelement.WebElement (session=\"fcd4b0bad03ae4771656838314727317\", element=\"a8df6202-3815-4786-89e4-5eba1cb25ef2\")>,\n",
       " <selenium.webdriver.remote.webelement.WebElement (session=\"fcd4b0bad03ae4771656838314727317\", element=\"cf3c816c-afe5-4de4-91b5-f1a51252ecd9\")>,\n",
       " <selenium.webdriver.remote.webelement.WebElement (session=\"fcd4b0bad03ae4771656838314727317\", element=\"ead644f8-6cca-4234-8803-9864ccf8f8d4\")>,\n",
       " <selenium.webdriver.remote.webelement.WebElement (session=\"fcd4b0bad03ae4771656838314727317\", element=\"5c29324c-31cc-488f-ab3b-916d58a57f23\")>,\n",
       " <selenium.webdriver.remote.webelement.WebElement (session=\"fcd4b0bad03ae4771656838314727317\", element=\"fdbcd2b4-cf8f-4db6-a534-ec952a0c3a0f\")>,\n",
       " <selenium.webdriver.remote.webelement.WebElement (session=\"fcd4b0bad03ae4771656838314727317\", element=\"fdf7f2c5-1453-4651-9807-13cc8abdeff4\")>,\n",
       " <selenium.webdriver.remote.webelement.WebElement (session=\"fcd4b0bad03ae4771656838314727317\", element=\"66f12d5d-6af2-4783-8aed-7d4ae9d80c86\")>,\n",
       " <selenium.webdriver.remote.webelement.WebElement (session=\"fcd4b0bad03ae4771656838314727317\", element=\"a3d4f609-32a6-42bf-a165-c2dde175f1fa\")>,\n",
       " <selenium.webdriver.remote.webelement.WebElement (session=\"fcd4b0bad03ae4771656838314727317\", element=\"f0e8be52-3e34-47d5-b7d1-73aee6c27683\")>,\n",
       " <selenium.webdriver.remote.webelement.WebElement (session=\"fcd4b0bad03ae4771656838314727317\", element=\"93cce513-439b-41ef-bec4-5232430caa3b\")>,\n",
       " <selenium.webdriver.remote.webelement.WebElement (session=\"fcd4b0bad03ae4771656838314727317\", element=\"5c93836d-7383-499b-b8b8-71b4cd86b36d\")>,\n",
       " <selenium.webdriver.remote.webelement.WebElement (session=\"fcd4b0bad03ae4771656838314727317\", element=\"5446ac28-3afe-400e-a84f-d27672ffd877\")>,\n",
       " <selenium.webdriver.remote.webelement.WebElement (session=\"fcd4b0bad03ae4771656838314727317\", element=\"dc78622c-3122-49af-a6cf-2d44429fafc7\")>,\n",
       " <selenium.webdriver.remote.webelement.WebElement (session=\"fcd4b0bad03ae4771656838314727317\", element=\"7bcc2a18-7639-4643-8bad-a248b43ab895\")>,\n",
       " <selenium.webdriver.remote.webelement.WebElement (session=\"fcd4b0bad03ae4771656838314727317\", element=\"1cdf38c5-7d7c-4007-bb9a-7e27956e97ee\")>,\n",
       " <selenium.webdriver.remote.webelement.WebElement (session=\"fcd4b0bad03ae4771656838314727317\", element=\"f8f770aa-2561-43d2-969f-a2c1f9b7d3d9\")>,\n",
       " <selenium.webdriver.remote.webelement.WebElement (session=\"fcd4b0bad03ae4771656838314727317\", element=\"2c5e74bc-0920-48c1-8ba5-452c0494e9cb\")>,\n",
       " <selenium.webdriver.remote.webelement.WebElement (session=\"fcd4b0bad03ae4771656838314727317\", element=\"c2ee5a1d-3b0b-4837-8273-4c03f0e799d6\")>,\n",
       " <selenium.webdriver.remote.webelement.WebElement (session=\"fcd4b0bad03ae4771656838314727317\", element=\"e244b6af-37b7-43c8-b97a-4131c1928018\")>]"
      ]
     },
     "execution_count": 231,
     "metadata": {},
     "output_type": "execute_result"
    }
   ],
   "source": [
    "a=driver.find_elements_by_xpath('//div[@class=\"_30jeq3\"]')\n",
    "a"
   ]
  },
  {
   "cell_type": "code",
   "execution_count": 250,
   "metadata": {},
   "outputs": [
    {
     "data": {
      "text/plain": [
       "[<selenium.webdriver.remote.webelement.WebElement (session=\"fcd4b0bad03ae4771656838314727317\", element=\"0c23744c-53ac-46a8-b447-1ba77d0bc837\")>,\n",
       " <selenium.webdriver.remote.webelement.WebElement (session=\"fcd4b0bad03ae4771656838314727317\", element=\"54051520-4729-42f4-9f0a-a4840e62950f\")>,\n",
       " <selenium.webdriver.remote.webelement.WebElement (session=\"fcd4b0bad03ae4771656838314727317\", element=\"1ec79c84-3f13-422d-9c79-64b916d05ae2\")>,\n",
       " <selenium.webdriver.remote.webelement.WebElement (session=\"fcd4b0bad03ae4771656838314727317\", element=\"f2d191f4-fb33-4a6f-983c-15a5be9c350c\")>,\n",
       " <selenium.webdriver.remote.webelement.WebElement (session=\"fcd4b0bad03ae4771656838314727317\", element=\"83940e24-6d31-4b9a-8dd7-e2072a9a45a7\")>,\n",
       " <selenium.webdriver.remote.webelement.WebElement (session=\"fcd4b0bad03ae4771656838314727317\", element=\"727e3530-b995-4ccc-82c1-48d374f43281\")>,\n",
       " <selenium.webdriver.remote.webelement.WebElement (session=\"fcd4b0bad03ae4771656838314727317\", element=\"fc4102e3-b078-4451-843c-ad29aaa30bbd\")>,\n",
       " <selenium.webdriver.remote.webelement.WebElement (session=\"fcd4b0bad03ae4771656838314727317\", element=\"28024345-9df8-4378-96c1-575b14e77f05\")>,\n",
       " <selenium.webdriver.remote.webelement.WebElement (session=\"fcd4b0bad03ae4771656838314727317\", element=\"8cbf693b-7c0d-493d-b725-34fd052d3c9b\")>,\n",
       " <selenium.webdriver.remote.webelement.WebElement (session=\"fcd4b0bad03ae4771656838314727317\", element=\"f8d1c15a-33e2-487d-914b-cab3ebcbc868\")>,\n",
       " <selenium.webdriver.remote.webelement.WebElement (session=\"fcd4b0bad03ae4771656838314727317\", element=\"2015d987-34ff-494a-a1eb-37a6cf17c266\")>,\n",
       " <selenium.webdriver.remote.webelement.WebElement (session=\"fcd4b0bad03ae4771656838314727317\", element=\"0013de75-74ee-4cb1-a542-38e0cf072200\")>,\n",
       " <selenium.webdriver.remote.webelement.WebElement (session=\"fcd4b0bad03ae4771656838314727317\", element=\"886dec43-567a-45d0-bed8-7fc011385d4f\")>,\n",
       " <selenium.webdriver.remote.webelement.WebElement (session=\"fcd4b0bad03ae4771656838314727317\", element=\"698eaea6-bc4e-49a1-9e93-41c8915a84a5\")>,\n",
       " <selenium.webdriver.remote.webelement.WebElement (session=\"fcd4b0bad03ae4771656838314727317\", element=\"a1308dd4-881a-4463-805d-6bc5b7bafe4f\")>,\n",
       " <selenium.webdriver.remote.webelement.WebElement (session=\"fcd4b0bad03ae4771656838314727317\", element=\"ae4224c3-fed3-4b70-a4ae-f0c4ab2cb567\")>,\n",
       " <selenium.webdriver.remote.webelement.WebElement (session=\"fcd4b0bad03ae4771656838314727317\", element=\"8d7e6fd3-f049-4646-a267-d93dece6f577\")>,\n",
       " <selenium.webdriver.remote.webelement.WebElement (session=\"fcd4b0bad03ae4771656838314727317\", element=\"83ee2581-1e7b-46c6-961d-44780844b40c\")>,\n",
       " <selenium.webdriver.remote.webelement.WebElement (session=\"fcd4b0bad03ae4771656838314727317\", element=\"d3a758cb-5428-4d58-9eeb-954fc8114c4c\")>,\n",
       " <selenium.webdriver.remote.webelement.WebElement (session=\"fcd4b0bad03ae4771656838314727317\", element=\"f1f4f4d6-fefb-4196-98e6-3de0586f7d3c\")>,\n",
       " <selenium.webdriver.remote.webelement.WebElement (session=\"fcd4b0bad03ae4771656838314727317\", element=\"fbf3d04c-b148-40c4-95b4-ee6c4a6364d4\")>,\n",
       " <selenium.webdriver.remote.webelement.WebElement (session=\"fcd4b0bad03ae4771656838314727317\", element=\"b24d600e-a756-4ceb-90d3-32ae1ac7e705\")>,\n",
       " <selenium.webdriver.remote.webelement.WebElement (session=\"fcd4b0bad03ae4771656838314727317\", element=\"d5b2cdab-5bab-4a08-8c9c-d0bf8741239e\")>,\n",
       " <selenium.webdriver.remote.webelement.WebElement (session=\"fcd4b0bad03ae4771656838314727317\", element=\"0d472273-348e-41c1-b598-7e58b01aedc1\")>,\n",
       " <selenium.webdriver.remote.webelement.WebElement (session=\"fcd4b0bad03ae4771656838314727317\", element=\"4593ccbc-5596-4f27-a50b-93c26b875b84\")>,\n",
       " <selenium.webdriver.remote.webelement.WebElement (session=\"fcd4b0bad03ae4771656838314727317\", element=\"a35d4c8b-6bc0-4d27-a504-cadee2146fa4\")>,\n",
       " <selenium.webdriver.remote.webelement.WebElement (session=\"fcd4b0bad03ae4771656838314727317\", element=\"b2826ff4-9138-4730-babd-2aa4e109a907\")>,\n",
       " <selenium.webdriver.remote.webelement.WebElement (session=\"fcd4b0bad03ae4771656838314727317\", element=\"9322135d-48b8-4b7f-bb70-bd4d4234014d\")>,\n",
       " <selenium.webdriver.remote.webelement.WebElement (session=\"fcd4b0bad03ae4771656838314727317\", element=\"8f56b9c7-625f-4f0b-911f-3f17da8c7ede\")>,\n",
       " <selenium.webdriver.remote.webelement.WebElement (session=\"fcd4b0bad03ae4771656838314727317\", element=\"7a189a57-6a3d-49af-9982-221258797a0b\")>,\n",
       " <selenium.webdriver.remote.webelement.WebElement (session=\"fcd4b0bad03ae4771656838314727317\", element=\"5b90e759-f897-4924-aab7-f0e18a6fff39\")>,\n",
       " <selenium.webdriver.remote.webelement.WebElement (session=\"fcd4b0bad03ae4771656838314727317\", element=\"c1d186a0-672c-4f0a-889d-9d737fd1c93a\")>,\n",
       " <selenium.webdriver.remote.webelement.WebElement (session=\"fcd4b0bad03ae4771656838314727317\", element=\"974988b0-5791-4739-9cbb-ac58da1ca05c\")>,\n",
       " <selenium.webdriver.remote.webelement.WebElement (session=\"fcd4b0bad03ae4771656838314727317\", element=\"cbf117d2-cf38-48ce-a2a1-b1394ddca6d5\")>,\n",
       " <selenium.webdriver.remote.webelement.WebElement (session=\"fcd4b0bad03ae4771656838314727317\", element=\"462e1864-e812-43e0-96c8-2e9319992877\")>,\n",
       " <selenium.webdriver.remote.webelement.WebElement (session=\"fcd4b0bad03ae4771656838314727317\", element=\"339f0b95-8709-4870-9124-d2abfd1a13a4\")>,\n",
       " <selenium.webdriver.remote.webelement.WebElement (session=\"fcd4b0bad03ae4771656838314727317\", element=\"81edba77-4999-4a1a-bbe5-4fbdfe1ba19c\")>,\n",
       " <selenium.webdriver.remote.webelement.WebElement (session=\"fcd4b0bad03ae4771656838314727317\", element=\"1bb8a096-3192-464c-b5fa-fe3d9c361419\")>,\n",
       " <selenium.webdriver.remote.webelement.WebElement (session=\"fcd4b0bad03ae4771656838314727317\", element=\"31d66810-e032-4501-8292-b80c0dab7f48\")>,\n",
       " <selenium.webdriver.remote.webelement.WebElement (session=\"fcd4b0bad03ae4771656838314727317\", element=\"272d165c-3e9a-40c7-8afe-5ecc3fe9dd01\")>]"
      ]
     },
     "execution_count": 250,
     "metadata": {},
     "output_type": "execute_result"
    }
   ],
   "source": [
    "a_=driver.find_elements_by_xpath('//div[@class=\"_3Ay6Sb\"]')\n",
    "a_"
   ]
  },
  {
   "cell_type": "code",
   "execution_count": 252,
   "metadata": {},
   "outputs": [
    {
     "data": {
      "text/plain": [
       "['66% off',\n",
       " '62% off',\n",
       " '88% off',\n",
       " '88% off',\n",
       " '89% off',\n",
       " '79% off',\n",
       " '85% off',\n",
       " '55% off',\n",
       " '36% off',\n",
       " '80% off',\n",
       " '77% off',\n",
       " '65% off',\n",
       " '83% off',\n",
       " '68% off',\n",
       " '80% off',\n",
       " '64% off',\n",
       " '85% off',\n",
       " '78% off',\n",
       " '34% off',\n",
       " '71% off',\n",
       " '73% off',\n",
       " '85% off',\n",
       " '80% off',\n",
       " '71% off',\n",
       " '69% off',\n",
       " '79% off',\n",
       " '81% off',\n",
       " '58% off',\n",
       " '77% off',\n",
       " '83% off',\n",
       " '4% off',\n",
       " '80% off',\n",
       " '79% off',\n",
       " '75% off',\n",
       " '86% off',\n",
       " '83% off',\n",
       " '74% off',\n",
       " '83% off',\n",
       " '73% off',\n",
       " '66% off']"
      ]
     },
     "execution_count": 252,
     "metadata": {},
     "output_type": "execute_result"
    }
   ],
   "source": [
    "v=[]\n",
    "for i in a_:\n",
    "    v.append(i.text.replace(\"/n\", \"\"))\n",
    "v"
   ]
  },
  {
   "cell_type": "code",
   "execution_count": 253,
   "metadata": {},
   "outputs": [
    {
     "data": {
      "text/plain": [
       "['66% off',\n",
       " '62% off',\n",
       " '88% off',\n",
       " '88% off',\n",
       " '89% off',\n",
       " '79% off',\n",
       " '85% off',\n",
       " '55% off',\n",
       " '36% off',\n",
       " '80% off',\n",
       " '77% off',\n",
       " '65% off',\n",
       " '83% off',\n",
       " '68% off',\n",
       " '80% off',\n",
       " '64% off',\n",
       " '85% off',\n",
       " '78% off',\n",
       " '34% off',\n",
       " '71% off',\n",
       " '73% off',\n",
       " '85% off',\n",
       " '80% off',\n",
       " '71% off',\n",
       " '69% off',\n",
       " '79% off',\n",
       " '81% off',\n",
       " '58% off',\n",
       " '77% off',\n",
       " '83% off',\n",
       " '4% off',\n",
       " '80% off',\n",
       " '79% off',\n",
       " '75% off',\n",
       " '86% off',\n",
       " '83% off',\n",
       " '74% off',\n",
       " '83% off',\n",
       " '73% off',\n",
       " '66% off']"
      ]
     },
     "execution_count": 253,
     "metadata": {},
     "output_type": "execute_result"
    }
   ],
   "source": [
    "V=v[0:40]\n",
    "V"
   ]
  },
  {
   "cell_type": "code",
   "execution_count": 232,
   "metadata": {},
   "outputs": [
    {
     "data": {
      "text/plain": [
       "['₹664',\n",
       " '₹759',\n",
       " '₹295',\n",
       " '₹198',\n",
       " '₹284',\n",
       " '₹404',\n",
       " '₹237',\n",
       " '₹525',\n",
       " '₹213',\n",
       " '₹509',\n",
       " '₹499',\n",
       " '₹711',\n",
       " '₹331',\n",
       " '₹202',\n",
       " '₹474',\n",
       " '₹369',\n",
       " '₹237',\n",
       " '₹215',\n",
       " '₹265',\n",
       " '₹569',\n",
       " '₹520',\n",
       " '₹237',\n",
       " '₹179',\n",
       " '₹1,234',\n",
       " '₹399',\n",
       " '₹449',\n",
       " '₹299',\n",
       " '₹331',\n",
       " '₹246',\n",
       " '₹859',\n",
       " '₹449',\n",
       " '₹248',\n",
       " '₹209',\n",
       " '₹426',\n",
       " '₹266',\n",
       " '₹664',\n",
       " '₹215',\n",
       " '₹199',\n",
       " '₹314',\n",
       " '₹664']"
      ]
     },
     "execution_count": 232,
     "metadata": {},
     "output_type": "execute_result"
    }
   ],
   "source": [
    "A=[]\n",
    "for i in a:\n",
    "    A.append(i.text.replace(\"/n\", \"\"))\n",
    "A"
   ]
  },
  {
   "cell_type": "code",
   "execution_count": 254,
   "metadata": {},
   "outputs": [],
   "source": [
    "y.click()"
   ]
  },
  {
   "cell_type": "code",
   "execution_count": 255,
   "metadata": {},
   "outputs": [
    {
     "data": {
      "text/plain": [
       "[<selenium.webdriver.remote.webelement.WebElement (session=\"fcd4b0bad03ae4771656838314727317\", element=\"c33cd2f1-0694-486c-9057-668e249d6aa3\")>,\n",
       " <selenium.webdriver.remote.webelement.WebElement (session=\"fcd4b0bad03ae4771656838314727317\", element=\"2665e92d-638f-4ea3-a504-976a7fdd3d26\")>,\n",
       " <selenium.webdriver.remote.webelement.WebElement (session=\"fcd4b0bad03ae4771656838314727317\", element=\"9a433db7-2106-48b2-a989-b1d436005d37\")>,\n",
       " <selenium.webdriver.remote.webelement.WebElement (session=\"fcd4b0bad03ae4771656838314727317\", element=\"6562d757-a1a1-4bd7-b9fb-066d2a0ba470\")>,\n",
       " <selenium.webdriver.remote.webelement.WebElement (session=\"fcd4b0bad03ae4771656838314727317\", element=\"ba1ac93d-3ed2-4178-83fe-647528ceba70\")>,\n",
       " <selenium.webdriver.remote.webelement.WebElement (session=\"fcd4b0bad03ae4771656838314727317\", element=\"13ed6a64-1b8e-4414-8c8c-aabdb04155b8\")>,\n",
       " <selenium.webdriver.remote.webelement.WebElement (session=\"fcd4b0bad03ae4771656838314727317\", element=\"c85b8964-a830-4786-abca-c22647fe62a4\")>,\n",
       " <selenium.webdriver.remote.webelement.WebElement (session=\"fcd4b0bad03ae4771656838314727317\", element=\"f5e021b0-600a-46a5-9af7-2e58a3006f43\")>,\n",
       " <selenium.webdriver.remote.webelement.WebElement (session=\"fcd4b0bad03ae4771656838314727317\", element=\"c6ded842-6aef-406e-ae74-37803c0e5f44\")>,\n",
       " <selenium.webdriver.remote.webelement.WebElement (session=\"fcd4b0bad03ae4771656838314727317\", element=\"239b1917-c5d0-4f71-951e-6d3bf7902a57\")>,\n",
       " <selenium.webdriver.remote.webelement.WebElement (session=\"fcd4b0bad03ae4771656838314727317\", element=\"4b2d3373-c40f-4d65-8621-3522da3819ce\")>,\n",
       " <selenium.webdriver.remote.webelement.WebElement (session=\"fcd4b0bad03ae4771656838314727317\", element=\"7032f49a-65b8-4abc-9531-2d3ec4494c5f\")>,\n",
       " <selenium.webdriver.remote.webelement.WebElement (session=\"fcd4b0bad03ae4771656838314727317\", element=\"9f73e2dd-6728-45fd-991d-52b70c2cc4c0\")>,\n",
       " <selenium.webdriver.remote.webelement.WebElement (session=\"fcd4b0bad03ae4771656838314727317\", element=\"ec62b86e-960c-407f-894f-9dacf86600dd\")>,\n",
       " <selenium.webdriver.remote.webelement.WebElement (session=\"fcd4b0bad03ae4771656838314727317\", element=\"ff6f364c-a8a1-42e5-bce9-842de2863a7b\")>,\n",
       " <selenium.webdriver.remote.webelement.WebElement (session=\"fcd4b0bad03ae4771656838314727317\", element=\"b60354a4-26ed-4ace-b3dc-9cc082caad71\")>,\n",
       " <selenium.webdriver.remote.webelement.WebElement (session=\"fcd4b0bad03ae4771656838314727317\", element=\"c6998133-d238-40d0-90b7-d2d6bb2a5fc5\")>,\n",
       " <selenium.webdriver.remote.webelement.WebElement (session=\"fcd4b0bad03ae4771656838314727317\", element=\"514fcb33-01cc-4ca4-af02-5a1b76cf5265\")>,\n",
       " <selenium.webdriver.remote.webelement.WebElement (session=\"fcd4b0bad03ae4771656838314727317\", element=\"d4e1546f-bf43-4d37-ab27-988c29732b1c\")>,\n",
       " <selenium.webdriver.remote.webelement.WebElement (session=\"fcd4b0bad03ae4771656838314727317\", element=\"f0e8eec9-02ad-4352-8e9e-d64157d741d7\")>,\n",
       " <selenium.webdriver.remote.webelement.WebElement (session=\"fcd4b0bad03ae4771656838314727317\", element=\"2bf91196-e96c-47f3-80a6-9f83243959ee\")>,\n",
       " <selenium.webdriver.remote.webelement.WebElement (session=\"fcd4b0bad03ae4771656838314727317\", element=\"710900b6-cc66-4f30-9b6c-aae61b234615\")>,\n",
       " <selenium.webdriver.remote.webelement.WebElement (session=\"fcd4b0bad03ae4771656838314727317\", element=\"c364a7a9-4a46-4967-afe0-84aa3a320e7d\")>,\n",
       " <selenium.webdriver.remote.webelement.WebElement (session=\"fcd4b0bad03ae4771656838314727317\", element=\"68716fee-01b3-4965-a91b-78bb5ee2c588\")>,\n",
       " <selenium.webdriver.remote.webelement.WebElement (session=\"fcd4b0bad03ae4771656838314727317\", element=\"e3ada05e-24ea-4c79-ab18-80fef590c7bc\")>,\n",
       " <selenium.webdriver.remote.webelement.WebElement (session=\"fcd4b0bad03ae4771656838314727317\", element=\"5371f2fb-08d2-4178-b20e-2fe6b73218e4\")>,\n",
       " <selenium.webdriver.remote.webelement.WebElement (session=\"fcd4b0bad03ae4771656838314727317\", element=\"def55562-8ee0-43cf-a1f3-f2efb0a901da\")>,\n",
       " <selenium.webdriver.remote.webelement.WebElement (session=\"fcd4b0bad03ae4771656838314727317\", element=\"e14f93ab-e929-4806-bca6-4d71f54ac807\")>,\n",
       " <selenium.webdriver.remote.webelement.WebElement (session=\"fcd4b0bad03ae4771656838314727317\", element=\"1caf980c-6d62-468a-bbbb-348b1d6187f7\")>,\n",
       " <selenium.webdriver.remote.webelement.WebElement (session=\"fcd4b0bad03ae4771656838314727317\", element=\"bd2fc0f0-4288-42a3-b2ef-b680f8a7cf49\")>,\n",
       " <selenium.webdriver.remote.webelement.WebElement (session=\"fcd4b0bad03ae4771656838314727317\", element=\"e6ac7c95-055c-4726-9092-039ae86ec486\")>,\n",
       " <selenium.webdriver.remote.webelement.WebElement (session=\"fcd4b0bad03ae4771656838314727317\", element=\"6e0d1c31-1ef8-4b72-aa3b-2a709d030435\")>,\n",
       " <selenium.webdriver.remote.webelement.WebElement (session=\"fcd4b0bad03ae4771656838314727317\", element=\"e30c4182-100f-4b00-9bd9-0bd59b28bc44\")>,\n",
       " <selenium.webdriver.remote.webelement.WebElement (session=\"fcd4b0bad03ae4771656838314727317\", element=\"5095b487-7f6c-45e9-bcc9-f280dee479dc\")>,\n",
       " <selenium.webdriver.remote.webelement.WebElement (session=\"fcd4b0bad03ae4771656838314727317\", element=\"ccbca85d-3a76-47bc-9dd0-85752d0410df\")>,\n",
       " <selenium.webdriver.remote.webelement.WebElement (session=\"fcd4b0bad03ae4771656838314727317\", element=\"a23364f6-fc0f-440d-bb76-41a912089884\")>,\n",
       " <selenium.webdriver.remote.webelement.WebElement (session=\"fcd4b0bad03ae4771656838314727317\", element=\"5a8dcb9f-19d1-44cc-92ec-1a126b4482fb\")>,\n",
       " <selenium.webdriver.remote.webelement.WebElement (session=\"fcd4b0bad03ae4771656838314727317\", element=\"7e13a127-8c12-466c-84cd-fb7cde038d07\")>,\n",
       " <selenium.webdriver.remote.webelement.WebElement (session=\"fcd4b0bad03ae4771656838314727317\", element=\"e6e7fa8a-bce5-478d-b76e-15ce560acbba\")>,\n",
       " <selenium.webdriver.remote.webelement.WebElement (session=\"fcd4b0bad03ae4771656838314727317\", element=\"9e145591-3a69-4620-b70f-ce8135559d95\")>]"
      ]
     },
     "execution_count": 255,
     "metadata": {},
     "output_type": "execute_result"
    }
   ],
   "source": [
    "b_=driver.find_elements_by_xpath('//div[@class=\"_3Ay6Sb\"]')\n",
    "b_"
   ]
  },
  {
   "cell_type": "code",
   "execution_count": 256,
   "metadata": {},
   "outputs": [
    {
     "data": {
      "text/plain": [
       "['65% off',\n",
       " '58% off',\n",
       " '84% off',\n",
       " '66% off',\n",
       " '78% off',\n",
       " '84% off',\n",
       " '76% off',\n",
       " '66% off',\n",
       " '87% off',\n",
       " '82% off',\n",
       " '80% off',\n",
       " '66% off',\n",
       " '89% off',\n",
       " '23% off',\n",
       " '72% off',\n",
       " '66% off',\n",
       " '85% off',\n",
       " '72% off',\n",
       " '73% off',\n",
       " '55% off',\n",
       " '84% off',\n",
       " '4% off',\n",
       " '79% off',\n",
       " '57% off',\n",
       " '85% off',\n",
       " '88% off',\n",
       " '87% off',\n",
       " '55% off',\n",
       " '83% off',\n",
       " '85% off',\n",
       " '61% off',\n",
       " '79% off',\n",
       " '37% off',\n",
       " '80% off',\n",
       " '83% off',\n",
       " '55% off',\n",
       " '60% off',\n",
       " '78% off',\n",
       " '80% off',\n",
       " '66% off']"
      ]
     },
     "execution_count": 256,
     "metadata": {},
     "output_type": "execute_result"
    }
   ],
   "source": [
    "w=[]\n",
    "for i in b_:\n",
    "    w.append(i.text.replace(\"/n\", \"\"))\n",
    "w"
   ]
  },
  {
   "cell_type": "code",
   "execution_count": 257,
   "metadata": {},
   "outputs": [
    {
     "data": {
      "text/plain": [
       "['65% off',\n",
       " '58% off',\n",
       " '84% off',\n",
       " '66% off',\n",
       " '78% off',\n",
       " '84% off',\n",
       " '76% off',\n",
       " '66% off',\n",
       " '87% off',\n",
       " '82% off',\n",
       " '80% off',\n",
       " '66% off',\n",
       " '89% off',\n",
       " '23% off',\n",
       " '72% off',\n",
       " '66% off',\n",
       " '85% off',\n",
       " '72% off',\n",
       " '73% off',\n",
       " '55% off',\n",
       " '84% off',\n",
       " '4% off',\n",
       " '79% off',\n",
       " '57% off',\n",
       " '85% off',\n",
       " '88% off',\n",
       " '87% off',\n",
       " '55% off',\n",
       " '83% off',\n",
       " '85% off',\n",
       " '61% off',\n",
       " '79% off',\n",
       " '37% off',\n",
       " '80% off',\n",
       " '83% off',\n",
       " '55% off',\n",
       " '60% off',\n",
       " '78% off',\n",
       " '80% off',\n",
       " '66% off']"
      ]
     },
     "execution_count": 257,
     "metadata": {},
     "output_type": "execute_result"
    }
   ],
   "source": [
    "W=w[0:40]\n",
    "W"
   ]
  },
  {
   "cell_type": "code",
   "execution_count": 234,
   "metadata": {},
   "outputs": [
    {
     "data": {
      "text/plain": [
       "[<selenium.webdriver.remote.webelement.WebElement (session=\"fcd4b0bad03ae4771656838314727317\", element=\"438d7e35-cb99-4da5-9258-3c41d9291eae\")>,\n",
       " <selenium.webdriver.remote.webelement.WebElement (session=\"fcd4b0bad03ae4771656838314727317\", element=\"85c34f3d-0f22-4187-a447-6e349332c105\")>,\n",
       " <selenium.webdriver.remote.webelement.WebElement (session=\"fcd4b0bad03ae4771656838314727317\", element=\"cca38268-f4a1-45cd-9d73-23da53e0df81\")>,\n",
       " <selenium.webdriver.remote.webelement.WebElement (session=\"fcd4b0bad03ae4771656838314727317\", element=\"c8e85366-da58-4ba3-9d12-69266799dd8e\")>,\n",
       " <selenium.webdriver.remote.webelement.WebElement (session=\"fcd4b0bad03ae4771656838314727317\", element=\"236e2f93-8284-48ba-8dec-f8b8d133eade\")>,\n",
       " <selenium.webdriver.remote.webelement.WebElement (session=\"fcd4b0bad03ae4771656838314727317\", element=\"0ab63e9f-2f07-427a-b6f5-facd7d79b153\")>,\n",
       " <selenium.webdriver.remote.webelement.WebElement (session=\"fcd4b0bad03ae4771656838314727317\", element=\"914e86f4-4ba7-437e-81a4-681c4915b3d5\")>,\n",
       " <selenium.webdriver.remote.webelement.WebElement (session=\"fcd4b0bad03ae4771656838314727317\", element=\"c60c8634-a650-44a7-aa29-04a9a67a3485\")>,\n",
       " <selenium.webdriver.remote.webelement.WebElement (session=\"fcd4b0bad03ae4771656838314727317\", element=\"19961b06-5fea-45d9-98d7-5afcba0660c4\")>,\n",
       " <selenium.webdriver.remote.webelement.WebElement (session=\"fcd4b0bad03ae4771656838314727317\", element=\"cfd352fc-ce96-4a5a-bded-47d811b6b0c0\")>,\n",
       " <selenium.webdriver.remote.webelement.WebElement (session=\"fcd4b0bad03ae4771656838314727317\", element=\"7b25e3fe-874e-49ec-9fe1-8d55e7672aee\")>,\n",
       " <selenium.webdriver.remote.webelement.WebElement (session=\"fcd4b0bad03ae4771656838314727317\", element=\"f60d1a68-f9b6-42f2-83e8-c42782b10bf1\")>,\n",
       " <selenium.webdriver.remote.webelement.WebElement (session=\"fcd4b0bad03ae4771656838314727317\", element=\"dd621549-3274-4921-8064-3055180ef46d\")>,\n",
       " <selenium.webdriver.remote.webelement.WebElement (session=\"fcd4b0bad03ae4771656838314727317\", element=\"4f11e477-f954-43a9-a63b-27d019a274e5\")>,\n",
       " <selenium.webdriver.remote.webelement.WebElement (session=\"fcd4b0bad03ae4771656838314727317\", element=\"7f114e5a-c6da-4b04-b730-049d1814b1ee\")>,\n",
       " <selenium.webdriver.remote.webelement.WebElement (session=\"fcd4b0bad03ae4771656838314727317\", element=\"586274d8-14fe-45bd-bbc0-ffd704b8bdfe\")>,\n",
       " <selenium.webdriver.remote.webelement.WebElement (session=\"fcd4b0bad03ae4771656838314727317\", element=\"67ffabe6-48d8-4d07-8405-4f00f43df5a5\")>,\n",
       " <selenium.webdriver.remote.webelement.WebElement (session=\"fcd4b0bad03ae4771656838314727317\", element=\"db2ca04e-ae21-4b28-9710-3032d94316bc\")>,\n",
       " <selenium.webdriver.remote.webelement.WebElement (session=\"fcd4b0bad03ae4771656838314727317\", element=\"a188289d-4397-41c9-aa29-3d73ce69f52f\")>,\n",
       " <selenium.webdriver.remote.webelement.WebElement (session=\"fcd4b0bad03ae4771656838314727317\", element=\"f2c19836-2285-494d-b9c7-da7911d8aaea\")>,\n",
       " <selenium.webdriver.remote.webelement.WebElement (session=\"fcd4b0bad03ae4771656838314727317\", element=\"bcc881dd-cca6-4cee-bab4-8a0c6936ae08\")>,\n",
       " <selenium.webdriver.remote.webelement.WebElement (session=\"fcd4b0bad03ae4771656838314727317\", element=\"18fed903-4073-4c56-aa80-1256dd393ddb\")>,\n",
       " <selenium.webdriver.remote.webelement.WebElement (session=\"fcd4b0bad03ae4771656838314727317\", element=\"edf8823d-9aca-43aa-b402-d1247077e1c2\")>,\n",
       " <selenium.webdriver.remote.webelement.WebElement (session=\"fcd4b0bad03ae4771656838314727317\", element=\"e7e84958-d992-4c91-ac0f-4917d98c1881\")>,\n",
       " <selenium.webdriver.remote.webelement.WebElement (session=\"fcd4b0bad03ae4771656838314727317\", element=\"39f569bb-1164-438b-82d9-b20a811f8f74\")>,\n",
       " <selenium.webdriver.remote.webelement.WebElement (session=\"fcd4b0bad03ae4771656838314727317\", element=\"0f2aa81c-62f8-4840-b25e-61756b1a006a\")>,\n",
       " <selenium.webdriver.remote.webelement.WebElement (session=\"fcd4b0bad03ae4771656838314727317\", element=\"2781bc02-9d92-4dd8-bbc8-56fd2d66d148\")>,\n",
       " <selenium.webdriver.remote.webelement.WebElement (session=\"fcd4b0bad03ae4771656838314727317\", element=\"15c0acbd-72ff-4ca7-8f52-0fc71c266f04\")>,\n",
       " <selenium.webdriver.remote.webelement.WebElement (session=\"fcd4b0bad03ae4771656838314727317\", element=\"e845a490-4c9a-4e45-9cd7-49211f8d811c\")>,\n",
       " <selenium.webdriver.remote.webelement.WebElement (session=\"fcd4b0bad03ae4771656838314727317\", element=\"9596c814-5c6f-4e3f-bb0a-370faef1ddb2\")>,\n",
       " <selenium.webdriver.remote.webelement.WebElement (session=\"fcd4b0bad03ae4771656838314727317\", element=\"8a078342-cd14-43c7-a158-ec1de8289428\")>,\n",
       " <selenium.webdriver.remote.webelement.WebElement (session=\"fcd4b0bad03ae4771656838314727317\", element=\"54b89ee3-a0c2-4b1c-aec5-a8949dcb5d64\")>,\n",
       " <selenium.webdriver.remote.webelement.WebElement (session=\"fcd4b0bad03ae4771656838314727317\", element=\"374d5e3a-d27b-4395-9545-aa46a3ea1cfc\")>,\n",
       " <selenium.webdriver.remote.webelement.WebElement (session=\"fcd4b0bad03ae4771656838314727317\", element=\"6ea5ce9e-3d3f-4471-ac7b-f33769f3cb1d\")>,\n",
       " <selenium.webdriver.remote.webelement.WebElement (session=\"fcd4b0bad03ae4771656838314727317\", element=\"7ada4430-d7c3-4e77-9a45-e2a2c6e865f1\")>,\n",
       " <selenium.webdriver.remote.webelement.WebElement (session=\"fcd4b0bad03ae4771656838314727317\", element=\"dce8513d-9024-4757-ae7d-c9e87ffd9aab\")>,\n",
       " <selenium.webdriver.remote.webelement.WebElement (session=\"fcd4b0bad03ae4771656838314727317\", element=\"6b1bdb01-e2a7-4bdb-9d3c-e44e2eb16670\")>,\n",
       " <selenium.webdriver.remote.webelement.WebElement (session=\"fcd4b0bad03ae4771656838314727317\", element=\"1eb03b73-bb6b-4247-abf2-4798350986c3\")>,\n",
       " <selenium.webdriver.remote.webelement.WebElement (session=\"fcd4b0bad03ae4771656838314727317\", element=\"a878efbb-f807-4b88-ba36-dc66a75122ad\")>,\n",
       " <selenium.webdriver.remote.webelement.WebElement (session=\"fcd4b0bad03ae4771656838314727317\", element=\"60358441-f03a-43cb-b698-5a0ac83d5669\")>]"
      ]
     },
     "execution_count": 234,
     "metadata": {},
     "output_type": "execute_result"
    }
   ],
   "source": [
    "b=driver.find_elements_by_xpath('//div[@class=\"_30jeq3\"]')\n",
    "b"
   ]
  },
  {
   "cell_type": "code",
   "execution_count": 235,
   "metadata": {},
   "outputs": [
    {
     "data": {
      "text/plain": [
       "['₹379',\n",
       " '₹369',\n",
       " '₹349',\n",
       " '₹664',\n",
       " '₹312',\n",
       " '₹399',\n",
       " '₹293',\n",
       " '₹664',\n",
       " '₹257',\n",
       " '₹399',\n",
       " '₹239',\n",
       " '₹664',\n",
       " '₹284',\n",
       " '₹610',\n",
       " '₹334',\n",
       " '₹699',\n",
       " '₹284',\n",
       " '₹289',\n",
       " '₹260',\n",
       " '₹664',\n",
       " '₹1,239',\n",
       " '₹209',\n",
       " '₹398',\n",
       " '₹664',\n",
       " '₹331',\n",
       " '₹284',\n",
       " '₹210',\n",
       " '₹854',\n",
       " '₹499',\n",
       " '₹295',\n",
       " '₹295',\n",
       " '₹664',\n",
       " '₹210',\n",
       " '₹499',\n",
       " '₹236',\n",
       " '₹203',\n",
       " '₹345',\n",
       " '₹331',\n",
       " '₹236',\n",
       " '₹599']"
      ]
     },
     "execution_count": 235,
     "metadata": {},
     "output_type": "execute_result"
    }
   ],
   "source": [
    "B=[]\n",
    "for i in b:\n",
    "    B.append(i.text.replace(\"/n\", \"\"))\n",
    "B"
   ]
  },
  {
   "cell_type": "code",
   "execution_count": 258,
   "metadata": {},
   "outputs": [],
   "source": [
    "z.click()"
   ]
  },
  {
   "cell_type": "code",
   "execution_count": 238,
   "metadata": {},
   "outputs": [
    {
     "data": {
      "text/plain": [
       "[<selenium.webdriver.remote.webelement.WebElement (session=\"fcd4b0bad03ae4771656838314727317\", element=\"0d5f78c8-2357-429b-9d90-c91f21327b93\")>,\n",
       " <selenium.webdriver.remote.webelement.WebElement (session=\"fcd4b0bad03ae4771656838314727317\", element=\"4b0fd9d8-287a-4618-a6d7-352354ce9cdc\")>,\n",
       " <selenium.webdriver.remote.webelement.WebElement (session=\"fcd4b0bad03ae4771656838314727317\", element=\"6068076b-45e8-4009-82a2-4e8398a8c3b4\")>,\n",
       " <selenium.webdriver.remote.webelement.WebElement (session=\"fcd4b0bad03ae4771656838314727317\", element=\"8a4ffbaf-d0e9-4eb0-85e7-cb9a2a7462a5\")>,\n",
       " <selenium.webdriver.remote.webelement.WebElement (session=\"fcd4b0bad03ae4771656838314727317\", element=\"104eb2e3-d845-427d-ba76-a738e4c23a3e\")>,\n",
       " <selenium.webdriver.remote.webelement.WebElement (session=\"fcd4b0bad03ae4771656838314727317\", element=\"2a29139e-54f8-4761-8770-fbc7af844049\")>,\n",
       " <selenium.webdriver.remote.webelement.WebElement (session=\"fcd4b0bad03ae4771656838314727317\", element=\"4ecd2f03-1f75-4f66-85e8-2b3361d50afb\")>,\n",
       " <selenium.webdriver.remote.webelement.WebElement (session=\"fcd4b0bad03ae4771656838314727317\", element=\"778673d5-c804-4809-a4b5-5bb34ed5b6f4\")>,\n",
       " <selenium.webdriver.remote.webelement.WebElement (session=\"fcd4b0bad03ae4771656838314727317\", element=\"dccf899e-304a-40e5-9dbb-c9c1b584012d\")>,\n",
       " <selenium.webdriver.remote.webelement.WebElement (session=\"fcd4b0bad03ae4771656838314727317\", element=\"6e5e5779-5cff-43da-9aa0-bf6851ad51d2\")>,\n",
       " <selenium.webdriver.remote.webelement.WebElement (session=\"fcd4b0bad03ae4771656838314727317\", element=\"069c6bf9-0f43-4333-8d5e-11b5044a145e\")>,\n",
       " <selenium.webdriver.remote.webelement.WebElement (session=\"fcd4b0bad03ae4771656838314727317\", element=\"ad3061f8-3be4-4f67-9162-e2e2c3a741c8\")>,\n",
       " <selenium.webdriver.remote.webelement.WebElement (session=\"fcd4b0bad03ae4771656838314727317\", element=\"746aa6ef-0300-474e-b687-b378f9f73ce6\")>,\n",
       " <selenium.webdriver.remote.webelement.WebElement (session=\"fcd4b0bad03ae4771656838314727317\", element=\"02c6f761-ae5f-4c21-9e49-9be80d3f1cf7\")>,\n",
       " <selenium.webdriver.remote.webelement.WebElement (session=\"fcd4b0bad03ae4771656838314727317\", element=\"c48ac76b-ef9b-4f41-ad43-486b858ad9fa\")>,\n",
       " <selenium.webdriver.remote.webelement.WebElement (session=\"fcd4b0bad03ae4771656838314727317\", element=\"fcc2cd6c-3288-42a6-803f-2b108873c7cb\")>,\n",
       " <selenium.webdriver.remote.webelement.WebElement (session=\"fcd4b0bad03ae4771656838314727317\", element=\"08b828b5-2a7d-49b2-a1ac-f7279c92ccaf\")>,\n",
       " <selenium.webdriver.remote.webelement.WebElement (session=\"fcd4b0bad03ae4771656838314727317\", element=\"d7c393ab-c3aa-4332-9999-2852a659c4f6\")>,\n",
       " <selenium.webdriver.remote.webelement.WebElement (session=\"fcd4b0bad03ae4771656838314727317\", element=\"2228cd7f-451c-4225-a647-fc58e971cb7b\")>,\n",
       " <selenium.webdriver.remote.webelement.WebElement (session=\"fcd4b0bad03ae4771656838314727317\", element=\"c84e53e0-8939-44ce-9e47-f7b5427aa073\")>,\n",
       " <selenium.webdriver.remote.webelement.WebElement (session=\"fcd4b0bad03ae4771656838314727317\", element=\"6d02471d-fa77-4650-87c8-5c2766a5e606\")>,\n",
       " <selenium.webdriver.remote.webelement.WebElement (session=\"fcd4b0bad03ae4771656838314727317\", element=\"2d7bbb48-43ae-41e8-b47b-4e0ea2d9094e\")>,\n",
       " <selenium.webdriver.remote.webelement.WebElement (session=\"fcd4b0bad03ae4771656838314727317\", element=\"27d1a1e0-bc53-48c1-b494-df2a166dcc28\")>,\n",
       " <selenium.webdriver.remote.webelement.WebElement (session=\"fcd4b0bad03ae4771656838314727317\", element=\"856de835-c914-4892-bc85-4aa1d67a550d\")>,\n",
       " <selenium.webdriver.remote.webelement.WebElement (session=\"fcd4b0bad03ae4771656838314727317\", element=\"7f770692-47d0-47a9-8c64-ed1ff755816c\")>,\n",
       " <selenium.webdriver.remote.webelement.WebElement (session=\"fcd4b0bad03ae4771656838314727317\", element=\"d84c7a5f-6359-4041-96c1-05d1eedc51a6\")>,\n",
       " <selenium.webdriver.remote.webelement.WebElement (session=\"fcd4b0bad03ae4771656838314727317\", element=\"8a827c23-f2fa-4241-8292-be77da5d5906\")>,\n",
       " <selenium.webdriver.remote.webelement.WebElement (session=\"fcd4b0bad03ae4771656838314727317\", element=\"3a78a6c6-ac7e-421a-a713-053dff55662d\")>,\n",
       " <selenium.webdriver.remote.webelement.WebElement (session=\"fcd4b0bad03ae4771656838314727317\", element=\"e44c3149-c78d-45c5-bf11-31821b205cc2\")>,\n",
       " <selenium.webdriver.remote.webelement.WebElement (session=\"fcd4b0bad03ae4771656838314727317\", element=\"fc982fdc-9ebe-4df9-a535-02d9ae85797d\")>,\n",
       " <selenium.webdriver.remote.webelement.WebElement (session=\"fcd4b0bad03ae4771656838314727317\", element=\"9e98bc9a-5b98-4f8c-a785-29e9f1f058ea\")>,\n",
       " <selenium.webdriver.remote.webelement.WebElement (session=\"fcd4b0bad03ae4771656838314727317\", element=\"a596732c-a277-4813-8a6a-43cbe9a6968e\")>,\n",
       " <selenium.webdriver.remote.webelement.WebElement (session=\"fcd4b0bad03ae4771656838314727317\", element=\"22a449b1-d1a3-45be-a2ed-e2ce7523ab81\")>,\n",
       " <selenium.webdriver.remote.webelement.WebElement (session=\"fcd4b0bad03ae4771656838314727317\", element=\"40f59e3d-8a59-4735-b3d2-24755b883bf8\")>,\n",
       " <selenium.webdriver.remote.webelement.WebElement (session=\"fcd4b0bad03ae4771656838314727317\", element=\"4472ecec-5fb7-482f-97f5-ff37fa187690\")>,\n",
       " <selenium.webdriver.remote.webelement.WebElement (session=\"fcd4b0bad03ae4771656838314727317\", element=\"0e27ab95-985c-4ee6-95d6-0be0a6cb8372\")>,\n",
       " <selenium.webdriver.remote.webelement.WebElement (session=\"fcd4b0bad03ae4771656838314727317\", element=\"762d1f0e-ba71-49d7-906c-3c4502422b2b\")>,\n",
       " <selenium.webdriver.remote.webelement.WebElement (session=\"fcd4b0bad03ae4771656838314727317\", element=\"b57b7c34-a41a-434c-a51b-7899717ef626\")>,\n",
       " <selenium.webdriver.remote.webelement.WebElement (session=\"fcd4b0bad03ae4771656838314727317\", element=\"c843ac2e-3fef-432e-9fe3-4368dcde575c\")>,\n",
       " <selenium.webdriver.remote.webelement.WebElement (session=\"fcd4b0bad03ae4771656838314727317\", element=\"eaa9cc4c-5add-4c29-a4c3-a7ae19037622\")>]"
      ]
     },
     "execution_count": 238,
     "metadata": {},
     "output_type": "execute_result"
    }
   ],
   "source": [
    "c=driver.find_elements_by_xpath('//div[@class=\"_30jeq3\"]')\n",
    "c"
   ]
  },
  {
   "cell_type": "code",
   "execution_count": 239,
   "metadata": {},
   "outputs": [
    {
     "data": {
      "text/plain": [
       "['₹284',\n",
       " '₹248',\n",
       " '₹217',\n",
       " '₹664',\n",
       " '₹225',\n",
       " '₹398',\n",
       " '₹299',\n",
       " '₹399',\n",
       " '₹319',\n",
       " '₹449',\n",
       " '₹449',\n",
       " '₹759',\n",
       " '₹854',\n",
       " '₹299',\n",
       " '₹269',\n",
       " '₹664',\n",
       " '₹202',\n",
       " '₹331',\n",
       " '₹314',\n",
       " '₹664',\n",
       " '₹221',\n",
       " '₹664',\n",
       " '₹208',\n",
       " '₹664',\n",
       " '₹319',\n",
       " '₹664',\n",
       " '₹498',\n",
       " '₹1,299',\n",
       " '₹228',\n",
       " '₹197',\n",
       " '₹859',\n",
       " '₹258',\n",
       " '₹664',\n",
       " '₹959',\n",
       " '₹498',\n",
       " '₹664',\n",
       " '₹738',\n",
       " '₹399',\n",
       " '₹949',\n",
       " '₹664']"
      ]
     },
     "execution_count": 239,
     "metadata": {},
     "output_type": "execute_result"
    }
   ],
   "source": [
    "C=[]\n",
    "for i in c:\n",
    "    C.append(i.text.replace(\"/n\", \"\"))\n",
    "C"
   ]
  },
  {
   "cell_type": "code",
   "execution_count": 240,
   "metadata": {},
   "outputs": [
    {
     "data": {
      "text/plain": [
       "['₹284',\n",
       " '₹248',\n",
       " '₹217',\n",
       " '₹664',\n",
       " '₹225',\n",
       " '₹398',\n",
       " '₹299',\n",
       " '₹399',\n",
       " '₹319',\n",
       " '₹449',\n",
       " '₹449',\n",
       " '₹759',\n",
       " '₹854',\n",
       " '₹299',\n",
       " '₹269',\n",
       " '₹664',\n",
       " '₹202',\n",
       " '₹331',\n",
       " '₹314',\n",
       " '₹664']"
      ]
     },
     "execution_count": 240,
     "metadata": {},
     "output_type": "execute_result"
    }
   ],
   "source": [
    "C_=C[0:20]\n",
    "C_"
   ]
  },
  {
   "cell_type": "code",
   "execution_count": 259,
   "metadata": {},
   "outputs": [
    {
     "data": {
      "text/plain": [
       "[<selenium.webdriver.remote.webelement.WebElement (session=\"fcd4b0bad03ae4771656838314727317\", element=\"0ad0e11d-13a5-4246-aef7-9c2b8a83745c\")>,\n",
       " <selenium.webdriver.remote.webelement.WebElement (session=\"fcd4b0bad03ae4771656838314727317\", element=\"21e41a9a-6b2d-4141-be82-85814e390547\")>,\n",
       " <selenium.webdriver.remote.webelement.WebElement (session=\"fcd4b0bad03ae4771656838314727317\", element=\"b6b144bd-1e6a-4976-9861-f1cccf7ac232\")>,\n",
       " <selenium.webdriver.remote.webelement.WebElement (session=\"fcd4b0bad03ae4771656838314727317\", element=\"7640342e-e8a8-4cc1-91de-cb573045cd11\")>,\n",
       " <selenium.webdriver.remote.webelement.WebElement (session=\"fcd4b0bad03ae4771656838314727317\", element=\"4c3b9950-9366-4228-940a-27e53f2af9b0\")>,\n",
       " <selenium.webdriver.remote.webelement.WebElement (session=\"fcd4b0bad03ae4771656838314727317\", element=\"f4a7481a-83d1-42bf-ae66-5ae434a78d58\")>,\n",
       " <selenium.webdriver.remote.webelement.WebElement (session=\"fcd4b0bad03ae4771656838314727317\", element=\"29fe22f8-e63e-4f83-8791-b5deaf4dcf86\")>,\n",
       " <selenium.webdriver.remote.webelement.WebElement (session=\"fcd4b0bad03ae4771656838314727317\", element=\"90376d8f-0b91-4b36-a02b-2e1ca2d20d4f\")>,\n",
       " <selenium.webdriver.remote.webelement.WebElement (session=\"fcd4b0bad03ae4771656838314727317\", element=\"b12021db-b798-4845-b4b0-a9d5e859f158\")>,\n",
       " <selenium.webdriver.remote.webelement.WebElement (session=\"fcd4b0bad03ae4771656838314727317\", element=\"8cd74ade-f9bb-4ec6-a63a-945a700d03af\")>,\n",
       " <selenium.webdriver.remote.webelement.WebElement (session=\"fcd4b0bad03ae4771656838314727317\", element=\"8e0eaf31-dddb-4662-9d90-94a861a72d36\")>,\n",
       " <selenium.webdriver.remote.webelement.WebElement (session=\"fcd4b0bad03ae4771656838314727317\", element=\"b6a152ad-3148-40b7-a230-399233ae7b6e\")>,\n",
       " <selenium.webdriver.remote.webelement.WebElement (session=\"fcd4b0bad03ae4771656838314727317\", element=\"ba85cabb-20a9-40c6-9513-f8a967137d69\")>,\n",
       " <selenium.webdriver.remote.webelement.WebElement (session=\"fcd4b0bad03ae4771656838314727317\", element=\"ea60a5ab-beca-4889-9aac-ff21dae9e816\")>,\n",
       " <selenium.webdriver.remote.webelement.WebElement (session=\"fcd4b0bad03ae4771656838314727317\", element=\"0c1940d0-0a94-4e0d-8aa8-54664d71b5d8\")>,\n",
       " <selenium.webdriver.remote.webelement.WebElement (session=\"fcd4b0bad03ae4771656838314727317\", element=\"4b4bdf0e-47ff-4bf2-aee8-59dfaceffc08\")>,\n",
       " <selenium.webdriver.remote.webelement.WebElement (session=\"fcd4b0bad03ae4771656838314727317\", element=\"8fac32ef-143f-4142-8592-01fbf762ee5c\")>,\n",
       " <selenium.webdriver.remote.webelement.WebElement (session=\"fcd4b0bad03ae4771656838314727317\", element=\"653d8dff-159b-4d2a-972b-480801ff0edd\")>,\n",
       " <selenium.webdriver.remote.webelement.WebElement (session=\"fcd4b0bad03ae4771656838314727317\", element=\"3376385f-f875-4826-824c-d8c12c83d0a1\")>,\n",
       " <selenium.webdriver.remote.webelement.WebElement (session=\"fcd4b0bad03ae4771656838314727317\", element=\"2eeebb50-907c-498c-9e75-5efd45bc9e2f\")>,\n",
       " <selenium.webdriver.remote.webelement.WebElement (session=\"fcd4b0bad03ae4771656838314727317\", element=\"206b7201-e997-44c6-aab2-2db5b63271f9\")>,\n",
       " <selenium.webdriver.remote.webelement.WebElement (session=\"fcd4b0bad03ae4771656838314727317\", element=\"e0f4291d-83ed-4e24-a3b7-b15f250130bc\")>,\n",
       " <selenium.webdriver.remote.webelement.WebElement (session=\"fcd4b0bad03ae4771656838314727317\", element=\"38bb133f-1e42-4cb7-8e1c-96d99570d765\")>,\n",
       " <selenium.webdriver.remote.webelement.WebElement (session=\"fcd4b0bad03ae4771656838314727317\", element=\"3538fb4c-d9c2-4f73-9cc7-4191d015c31c\")>,\n",
       " <selenium.webdriver.remote.webelement.WebElement (session=\"fcd4b0bad03ae4771656838314727317\", element=\"6058f0be-b721-4e95-9e58-0c37c99c2838\")>,\n",
       " <selenium.webdriver.remote.webelement.WebElement (session=\"fcd4b0bad03ae4771656838314727317\", element=\"02894ff0-18ba-462a-976f-6c821445121a\")>,\n",
       " <selenium.webdriver.remote.webelement.WebElement (session=\"fcd4b0bad03ae4771656838314727317\", element=\"5ad3e7a5-5b08-4a18-9591-8b2bc87252a8\")>,\n",
       " <selenium.webdriver.remote.webelement.WebElement (session=\"fcd4b0bad03ae4771656838314727317\", element=\"f184990a-2c7a-444f-bee3-cf2f2cc2fe6f\")>,\n",
       " <selenium.webdriver.remote.webelement.WebElement (session=\"fcd4b0bad03ae4771656838314727317\", element=\"13990c62-578d-40e9-9a33-c5465c3bcc92\")>,\n",
       " <selenium.webdriver.remote.webelement.WebElement (session=\"fcd4b0bad03ae4771656838314727317\", element=\"1fd56536-7537-4c6a-9cba-1bb2f0bdd65c\")>,\n",
       " <selenium.webdriver.remote.webelement.WebElement (session=\"fcd4b0bad03ae4771656838314727317\", element=\"387c17f8-c300-466a-86a0-1d2dfcc466b2\")>,\n",
       " <selenium.webdriver.remote.webelement.WebElement (session=\"fcd4b0bad03ae4771656838314727317\", element=\"5a7b2541-943e-4e7f-9e2b-c329a7f20b02\")>,\n",
       " <selenium.webdriver.remote.webelement.WebElement (session=\"fcd4b0bad03ae4771656838314727317\", element=\"ff428bc7-1f0c-4059-9e3e-fb34bd057242\")>,\n",
       " <selenium.webdriver.remote.webelement.WebElement (session=\"fcd4b0bad03ae4771656838314727317\", element=\"84b718ed-3304-4306-a29d-4aed59ac3c33\")>,\n",
       " <selenium.webdriver.remote.webelement.WebElement (session=\"fcd4b0bad03ae4771656838314727317\", element=\"9cd484ce-6bb2-40d7-af9e-efdccea6a451\")>,\n",
       " <selenium.webdriver.remote.webelement.WebElement (session=\"fcd4b0bad03ae4771656838314727317\", element=\"65670808-2507-47aa-9695-3e42ca12e1f9\")>,\n",
       " <selenium.webdriver.remote.webelement.WebElement (session=\"fcd4b0bad03ae4771656838314727317\", element=\"649a4e35-c78c-4fbc-aa34-a0c30b7befe8\")>,\n",
       " <selenium.webdriver.remote.webelement.WebElement (session=\"fcd4b0bad03ae4771656838314727317\", element=\"9f711d5d-0553-4190-9e25-925252b628aa\")>,\n",
       " <selenium.webdriver.remote.webelement.WebElement (session=\"fcd4b0bad03ae4771656838314727317\", element=\"3d513841-0083-4433-8c40-fba04e01c67b\")>,\n",
       " <selenium.webdriver.remote.webelement.WebElement (session=\"fcd4b0bad03ae4771656838314727317\", element=\"997b668d-2256-42df-9846-aca715141162\")>]"
      ]
     },
     "execution_count": 259,
     "metadata": {},
     "output_type": "execute_result"
    }
   ],
   "source": [
    "c_=driver.find_elements_by_xpath('//div[@class=\"_3Ay6Sb\"]')\n",
    "c_"
   ]
  },
  {
   "cell_type": "code",
   "execution_count": 260,
   "metadata": {},
   "outputs": [
    {
     "data": {
      "text/plain": [
       "['81% off',\n",
       " '76% off',\n",
       " '80% off',\n",
       " '66% off',\n",
       " '73% off',\n",
       " '67% off',\n",
       " '84% off',\n",
       " '73% off',\n",
       " '62% off',\n",
       " '5% off',\n",
       " '77% off',\n",
       " '62% off',\n",
       " '73% off',\n",
       " '71% off',\n",
       " '77% off',\n",
       " '66% off',\n",
       " '74% off',\n",
       " '79% off',\n",
       " '75% off',\n",
       " '48% off',\n",
       " '83% off',\n",
       " '55% off',\n",
       " '86% off',\n",
       " '72% off',\n",
       " '77% off',\n",
       " '67% off',\n",
       " '66% off',\n",
       " '40% off',\n",
       " '83% off',\n",
       " '4% off',\n",
       " '73% off',\n",
       " '66% off',\n",
       " '88% off',\n",
       " '66% off',\n",
       " '69% off',\n",
       " '50% off',\n",
       " '26% off',\n",
       " '71% off',\n",
       " '32% off',\n",
       " '66% off']"
      ]
     },
     "execution_count": 260,
     "metadata": {},
     "output_type": "execute_result"
    }
   ],
   "source": [
    "u=[]\n",
    "for i in c_:\n",
    "    u.append(i.text.replace(\"/n\", \"\"))\n",
    "u"
   ]
  },
  {
   "cell_type": "code",
   "execution_count": 261,
   "metadata": {},
   "outputs": [
    {
     "data": {
      "text/plain": [
       "['81% off',\n",
       " '76% off',\n",
       " '80% off',\n",
       " '66% off',\n",
       " '73% off',\n",
       " '67% off',\n",
       " '84% off',\n",
       " '73% off',\n",
       " '62% off',\n",
       " '5% off',\n",
       " '77% off',\n",
       " '62% off',\n",
       " '73% off',\n",
       " '71% off',\n",
       " '77% off',\n",
       " '66% off',\n",
       " '74% off',\n",
       " '79% off',\n",
       " '75% off',\n",
       " '48% off']"
      ]
     },
     "execution_count": 261,
     "metadata": {},
     "output_type": "execute_result"
    }
   ],
   "source": [
    "U=u[0:20]\n",
    "U"
   ]
  },
  {
   "cell_type": "code",
   "execution_count": 241,
   "metadata": {},
   "outputs": [
    {
     "data": {
      "text/plain": [
       "['₹664',\n",
       " '₹759',\n",
       " '₹295',\n",
       " '₹198',\n",
       " '₹284',\n",
       " '₹404',\n",
       " '₹237',\n",
       " '₹525',\n",
       " '₹213',\n",
       " '₹509',\n",
       " '₹499',\n",
       " '₹711',\n",
       " '₹331',\n",
       " '₹202',\n",
       " '₹474',\n",
       " '₹369',\n",
       " '₹237',\n",
       " '₹215',\n",
       " '₹265',\n",
       " '₹569',\n",
       " '₹520',\n",
       " '₹237',\n",
       " '₹179',\n",
       " '₹1,234',\n",
       " '₹399',\n",
       " '₹449',\n",
       " '₹299',\n",
       " '₹331',\n",
       " '₹246',\n",
       " '₹859',\n",
       " '₹449',\n",
       " '₹248',\n",
       " '₹209',\n",
       " '₹426',\n",
       " '₹266',\n",
       " '₹664',\n",
       " '₹215',\n",
       " '₹199',\n",
       " '₹314',\n",
       " '₹664',\n",
       " '₹379',\n",
       " '₹369',\n",
       " '₹349',\n",
       " '₹664',\n",
       " '₹312',\n",
       " '₹399',\n",
       " '₹293',\n",
       " '₹664',\n",
       " '₹257',\n",
       " '₹399',\n",
       " '₹239',\n",
       " '₹664',\n",
       " '₹284',\n",
       " '₹610',\n",
       " '₹334',\n",
       " '₹699',\n",
       " '₹284',\n",
       " '₹289',\n",
       " '₹260',\n",
       " '₹664',\n",
       " '₹1,239',\n",
       " '₹209',\n",
       " '₹398',\n",
       " '₹664',\n",
       " '₹331',\n",
       " '₹284',\n",
       " '₹210',\n",
       " '₹854',\n",
       " '₹499',\n",
       " '₹295',\n",
       " '₹295',\n",
       " '₹664',\n",
       " '₹210',\n",
       " '₹499',\n",
       " '₹236',\n",
       " '₹203',\n",
       " '₹345',\n",
       " '₹331',\n",
       " '₹236',\n",
       " '₹599',\n",
       " '₹284',\n",
       " '₹248',\n",
       " '₹217',\n",
       " '₹664',\n",
       " '₹225',\n",
       " '₹398',\n",
       " '₹299',\n",
       " '₹399',\n",
       " '₹319',\n",
       " '₹449',\n",
       " '₹449',\n",
       " '₹759',\n",
       " '₹854',\n",
       " '₹299',\n",
       " '₹269',\n",
       " '₹664',\n",
       " '₹202',\n",
       " '₹331',\n",
       " '₹314',\n",
       " '₹664']"
      ]
     },
     "execution_count": 241,
     "metadata": {},
     "output_type": "execute_result"
    }
   ],
   "source": [
    "price=A+B+C_\n",
    "price"
   ]
  },
  {
   "cell_type": "code",
   "execution_count": 242,
   "metadata": {},
   "outputs": [
    {
     "data": {
      "text/plain": [
       "100"
      ]
     },
     "execution_count": 242,
     "metadata": {},
     "output_type": "execute_result"
    }
   ],
   "source": [
    "len(price)"
   ]
  },
  {
   "cell_type": "code",
   "execution_count": 262,
   "metadata": {},
   "outputs": [
    {
     "data": {
      "text/plain": [
       "['66% off',\n",
       " '62% off',\n",
       " '88% off',\n",
       " '88% off',\n",
       " '89% off',\n",
       " '79% off',\n",
       " '85% off',\n",
       " '55% off',\n",
       " '36% off',\n",
       " '80% off',\n",
       " '77% off',\n",
       " '65% off',\n",
       " '83% off',\n",
       " '68% off',\n",
       " '80% off',\n",
       " '64% off',\n",
       " '85% off',\n",
       " '78% off',\n",
       " '34% off',\n",
       " '71% off',\n",
       " '73% off',\n",
       " '85% off',\n",
       " '80% off',\n",
       " '71% off',\n",
       " '69% off',\n",
       " '79% off',\n",
       " '81% off',\n",
       " '58% off',\n",
       " '77% off',\n",
       " '83% off',\n",
       " '4% off',\n",
       " '80% off',\n",
       " '79% off',\n",
       " '75% off',\n",
       " '86% off',\n",
       " '83% off',\n",
       " '74% off',\n",
       " '83% off',\n",
       " '73% off',\n",
       " '66% off',\n",
       " '65% off',\n",
       " '58% off',\n",
       " '84% off',\n",
       " '66% off',\n",
       " '78% off',\n",
       " '84% off',\n",
       " '76% off',\n",
       " '66% off',\n",
       " '87% off',\n",
       " '82% off',\n",
       " '80% off',\n",
       " '66% off',\n",
       " '89% off',\n",
       " '23% off',\n",
       " '72% off',\n",
       " '66% off',\n",
       " '85% off',\n",
       " '72% off',\n",
       " '73% off',\n",
       " '55% off',\n",
       " '84% off',\n",
       " '4% off',\n",
       " '79% off',\n",
       " '57% off',\n",
       " '85% off',\n",
       " '88% off',\n",
       " '87% off',\n",
       " '55% off',\n",
       " '83% off',\n",
       " '85% off',\n",
       " '61% off',\n",
       " '79% off',\n",
       " '37% off',\n",
       " '80% off',\n",
       " '83% off',\n",
       " '55% off',\n",
       " '60% off',\n",
       " '78% off',\n",
       " '80% off',\n",
       " '66% off',\n",
       " '81% off',\n",
       " '76% off',\n",
       " '80% off',\n",
       " '66% off',\n",
       " '73% off',\n",
       " '67% off',\n",
       " '84% off',\n",
       " '73% off',\n",
       " '62% off',\n",
       " '5% off',\n",
       " '77% off',\n",
       " '62% off',\n",
       " '73% off',\n",
       " '71% off',\n",
       " '77% off',\n",
       " '66% off',\n",
       " '74% off',\n",
       " '79% off',\n",
       " '75% off',\n",
       " '48% off']"
      ]
     },
     "execution_count": 262,
     "metadata": {},
     "output_type": "execute_result"
    }
   ],
   "source": [
    "discount=V+W+U\n",
    "discount"
   ]
  },
  {
   "cell_type": "code",
   "execution_count": 263,
   "metadata": {},
   "outputs": [
    {
     "data": {
      "text/plain": [
       "100"
      ]
     },
     "execution_count": 263,
     "metadata": {},
     "output_type": "execute_result"
    }
   ],
   "source": [
    "len(discount)"
   ]
  },
  {
   "cell_type": "code",
   "execution_count": 264,
   "metadata": {},
   "outputs": [
    {
     "data": {
      "text/html": [
       "<div>\n",
       "<style scoped>\n",
       "    .dataframe tbody tr th:only-of-type {\n",
       "        vertical-align: middle;\n",
       "    }\n",
       "\n",
       "    .dataframe tbody tr th {\n",
       "        vertical-align: top;\n",
       "    }\n",
       "\n",
       "    .dataframe thead th {\n",
       "        text-align: right;\n",
       "    }\n",
       "</style>\n",
       "<table border=\"1\" class=\"dataframe\">\n",
       "  <thead>\n",
       "    <tr style=\"text-align: right;\">\n",
       "      <th></th>\n",
       "      <th>BRAND</th>\n",
       "      <th>Product_Desc</th>\n",
       "      <th>price</th>\n",
       "      <th>discount</th>\n",
       "    </tr>\n",
       "  </thead>\n",
       "  <tbody>\n",
       "    <tr>\n",
       "      <th>0</th>\n",
       "      <td>ROYAL SON</td>\n",
       "      <td>UV Protection Round Sunglasses (54)</td>\n",
       "      <td>₹664</td>\n",
       "      <td>66% off</td>\n",
       "    </tr>\n",
       "    <tr>\n",
       "      <th>1</th>\n",
       "      <td>AISLIN</td>\n",
       "      <td>UV Protection, Polarized, Mirrored Rectangular...</td>\n",
       "      <td>₹759</td>\n",
       "      <td>62% off</td>\n",
       "    </tr>\n",
       "    <tr>\n",
       "      <th>2</th>\n",
       "      <td>SHAAH COLLECTIONS</td>\n",
       "      <td>Mirrored, UV Protection Wayfarer Sunglasses (F...</td>\n",
       "      <td>₹295</td>\n",
       "      <td>88% off</td>\n",
       "    </tr>\n",
       "    <tr>\n",
       "      <th>3</th>\n",
       "      <td>Elligator</td>\n",
       "      <td>UV Protection, Gradient Rectangular Sunglasses...</td>\n",
       "      <td>₹198</td>\n",
       "      <td>88% off</td>\n",
       "    </tr>\n",
       "    <tr>\n",
       "      <th>4</th>\n",
       "      <td>kingsunglasses</td>\n",
       "      <td>UV Protection Aviator Sunglasses (54)</td>\n",
       "      <td>₹284</td>\n",
       "      <td>89% off</td>\n",
       "    </tr>\n",
       "    <tr>\n",
       "      <th>...</th>\n",
       "      <td>...</td>\n",
       "      <td>...</td>\n",
       "      <td>...</td>\n",
       "      <td>...</td>\n",
       "    </tr>\n",
       "    <tr>\n",
       "      <th>95</th>\n",
       "      <td>hipe</td>\n",
       "      <td>Mirrored, UV Protection, Gradient Round Sungla...</td>\n",
       "      <td>₹664</td>\n",
       "      <td>66% off</td>\n",
       "    </tr>\n",
       "    <tr>\n",
       "      <th>96</th>\n",
       "      <td>ROYAL SON</td>\n",
       "      <td>Gradient Retro Square Sunglasses (60)</td>\n",
       "      <td>₹202</td>\n",
       "      <td>74% off</td>\n",
       "    </tr>\n",
       "    <tr>\n",
       "      <th>97</th>\n",
       "      <td>AISLIN</td>\n",
       "      <td>UV Protection, Gradient Butterfly, Retro Squar...</td>\n",
       "      <td>₹331</td>\n",
       "      <td>79% off</td>\n",
       "    </tr>\n",
       "    <tr>\n",
       "      <th>98</th>\n",
       "      <td>ROYAL SON</td>\n",
       "      <td>UV Protection Retro Square, Aviator Sunglasses...</td>\n",
       "      <td>₹314</td>\n",
       "      <td>75% off</td>\n",
       "    </tr>\n",
       "    <tr>\n",
       "      <th>99</th>\n",
       "      <td>SUNBEE</td>\n",
       "      <td>UV Protection, Polarized, Mirrored Retro Squar...</td>\n",
       "      <td>₹664</td>\n",
       "      <td>48% off</td>\n",
       "    </tr>\n",
       "  </tbody>\n",
       "</table>\n",
       "<p>100 rows × 4 columns</p>\n",
       "</div>"
      ],
      "text/plain": [
       "                BRAND                                       Product_Desc  \\\n",
       "0           ROYAL SON                UV Protection Round Sunglasses (54)   \n",
       "1              AISLIN  UV Protection, Polarized, Mirrored Rectangular...   \n",
       "2   SHAAH COLLECTIONS  Mirrored, UV Protection Wayfarer Sunglasses (F...   \n",
       "3           Elligator  UV Protection, Gradient Rectangular Sunglasses...   \n",
       "4      kingsunglasses              UV Protection Aviator Sunglasses (54)   \n",
       "..                ...                                                ...   \n",
       "95               hipe  Mirrored, UV Protection, Gradient Round Sungla...   \n",
       "96          ROYAL SON              Gradient Retro Square Sunglasses (60)   \n",
       "97             AISLIN  UV Protection, Gradient Butterfly, Retro Squar...   \n",
       "98          ROYAL SON  UV Protection Retro Square, Aviator Sunglasses...   \n",
       "99             SUNBEE  UV Protection, Polarized, Mirrored Retro Squar...   \n",
       "\n",
       "   price discount  \n",
       "0   ₹664  66% off  \n",
       "1   ₹759  62% off  \n",
       "2   ₹295  88% off  \n",
       "3   ₹198  88% off  \n",
       "4   ₹284  89% off  \n",
       "..   ...      ...  \n",
       "95  ₹664  66% off  \n",
       "96  ₹202  74% off  \n",
       "97  ₹331  79% off  \n",
       "98  ₹314  75% off  \n",
       "99  ₹664  48% off  \n",
       "\n",
       "[100 rows x 4 columns]"
      ]
     },
     "execution_count": 264,
     "metadata": {},
     "output_type": "execute_result"
    }
   ],
   "source": [
    "import pandas as pd\n",
    "fp=pd.DataFrame({})\n",
    "fp['BRAND']=BRAND\n",
    "fp['Product_Desc']=Product_Desc\n",
    "fp['price']=price\n",
    "fp['discount']=discount\n",
    "fp"
   ]
  },
  {
   "cell_type": "markdown",
   "metadata": {},
   "source": [
    "# 7. Scrape 100 reviews data from flipkart.com for iphone11 phone. You have to \n",
    "go the link: https://www.flipkart.com/apple-iphone-11-black-64-gb-includes\u0002earpods-power\u0002adapter/p/itm0f37c2240b217?pid=MOBFKCTSVZAXUHGR&lid=LSTMOBFKC\n",
    "TSVZAXUHGREPBFGI&marketplace\n",
    "These are \n",
    "1. Rating \n",
    "2. Review_summary \n",
    "3. Full review\n",
    "You have to scrape this data for first 100 reviews"
   ]
  },
  {
   "cell_type": "code",
   "execution_count": 266,
   "metadata": {},
   "outputs": [],
   "source": [
    "url = \"https://www.flipkart.com/apple-iphone-11-black-64-gb-includes\u0002earpods-power\u0002adapter/p/itm0f37c2240b217?pid=MOBFKCTSVZAXUHGR&lid=LSTMOBFKC \"\n",
    "driver.get(url) "
   ]
  },
  {
   "cell_type": "code",
   "execution_count": 268,
   "metadata": {},
   "outputs": [
    {
     "data": {
      "text/plain": [
       "[<selenium.webdriver.remote.webelement.WebElement (session=\"fcd4b0bad03ae4771656838314727317\", element=\"ebd5751a-ced4-4a7d-8c46-f01501aaea7f\")>,\n",
       " <selenium.webdriver.remote.webelement.WebElement (session=\"fcd4b0bad03ae4771656838314727317\", element=\"f0058d91-4239-402a-88b2-67f2117eeab1\")>,\n",
       " <selenium.webdriver.remote.webelement.WebElement (session=\"fcd4b0bad03ae4771656838314727317\", element=\"9cd20f40-ca96-4b6d-b113-eeba24583b92\")>,\n",
       " <selenium.webdriver.remote.webelement.WebElement (session=\"fcd4b0bad03ae4771656838314727317\", element=\"cb7ce3a1-4853-43bf-9490-326dcd4fd47a\")>,\n",
       " <selenium.webdriver.remote.webelement.WebElement (session=\"fcd4b0bad03ae4771656838314727317\", element=\"f636b876-0167-43a2-b42c-4c694dfc3c5e\")>,\n",
       " <selenium.webdriver.remote.webelement.WebElement (session=\"fcd4b0bad03ae4771656838314727317\", element=\"be848bde-905e-4a6b-a3d4-ac9ddeb8870b\")>,\n",
       " <selenium.webdriver.remote.webelement.WebElement (session=\"fcd4b0bad03ae4771656838314727317\", element=\"e2651300-f027-48fd-bd64-35c6ee000c98\")>,\n",
       " <selenium.webdriver.remote.webelement.WebElement (session=\"fcd4b0bad03ae4771656838314727317\", element=\"ebef7c6a-bd95-4099-bd5c-c399ac521c58\")>,\n",
       " <selenium.webdriver.remote.webelement.WebElement (session=\"fcd4b0bad03ae4771656838314727317\", element=\"2d15425a-55a4-4905-82a0-57ab261435a9\")>,\n",
       " <selenium.webdriver.remote.webelement.WebElement (session=\"fcd4b0bad03ae4771656838314727317\", element=\"ef989208-9e44-4d2d-80d5-87c868974909\")>]"
      ]
     },
     "execution_count": 268,
     "metadata": {},
     "output_type": "execute_result"
    }
   ],
   "source": [
    "# page 1:-\n",
    "a=driver.find_elements_by_xpath('//div[@class=\"_3LWZlK _1BLPMq\"]')\n",
    "a"
   ]
  },
  {
   "cell_type": "code",
   "execution_count": 269,
   "metadata": {},
   "outputs": [
    {
     "data": {
      "text/plain": [
       "<selenium.webdriver.remote.webelement.WebElement (session=\"fcd4b0bad03ae4771656838314727317\", element=\"7d76aba6-f232-4dcd-a77c-b8071cbe300d\")>"
      ]
     },
     "execution_count": 269,
     "metadata": {},
     "output_type": "execute_result"
    }
   ],
   "source": [
    "z=driver.find_element_by_xpath('//a[@class=\"_1LKTO3\"]')\n",
    "z"
   ]
  },
  {
   "cell_type": "code",
   "execution_count": 270,
   "metadata": {},
   "outputs": [],
   "source": [
    "z.click()"
   ]
  },
  {
   "cell_type": "code",
   "execution_count": 273,
   "metadata": {},
   "outputs": [
    {
     "data": {
      "text/plain": [
       "[<selenium.webdriver.remote.webelement.WebElement (session=\"fcd4b0bad03ae4771656838314727317\", element=\"1341eb4b-9f40-4210-8697-c9d611f5c674\")>,\n",
       " <selenium.webdriver.remote.webelement.WebElement (session=\"fcd4b0bad03ae4771656838314727317\", element=\"db5bbfa9-917a-492d-b7ae-fa768231820b\")>,\n",
       " <selenium.webdriver.remote.webelement.WebElement (session=\"fcd4b0bad03ae4771656838314727317\", element=\"f729d363-1879-4b12-a371-27b05d9ee4df\")>,\n",
       " <selenium.webdriver.remote.webelement.WebElement (session=\"fcd4b0bad03ae4771656838314727317\", element=\"12368645-a308-43ed-a545-ad853f0d7823\")>,\n",
       " <selenium.webdriver.remote.webelement.WebElement (session=\"fcd4b0bad03ae4771656838314727317\", element=\"5d527a6b-0ece-4a95-b572-62820880e2c0\")>,\n",
       " <selenium.webdriver.remote.webelement.WebElement (session=\"fcd4b0bad03ae4771656838314727317\", element=\"39faea55-e611-41f0-b9e4-e8057c1433ee\")>,\n",
       " <selenium.webdriver.remote.webelement.WebElement (session=\"fcd4b0bad03ae4771656838314727317\", element=\"ef194492-08c3-4cf8-8c7c-c41edd22277e\")>,\n",
       " <selenium.webdriver.remote.webelement.WebElement (session=\"fcd4b0bad03ae4771656838314727317\", element=\"c22249eb-6609-458c-85f3-df22aa05ceca\")>,\n",
       " <selenium.webdriver.remote.webelement.WebElement (session=\"fcd4b0bad03ae4771656838314727317\", element=\"3084ec5a-cdd5-4c92-a8e1-30ac54473135\")>,\n",
       " <selenium.webdriver.remote.webelement.WebElement (session=\"fcd4b0bad03ae4771656838314727317\", element=\"ffae42df-c9d0-42d3-862e-258e074f9b46\")>]"
      ]
     },
     "execution_count": 273,
     "metadata": {},
     "output_type": "execute_result"
    }
   ],
   "source": [
    "b=driver.find_elements_by_xpath('//div[@class=\"_3LWZlK _1BLPMq\"]')\n",
    "b"
   ]
  },
  {
   "cell_type": "code",
   "execution_count": 306,
   "metadata": {},
   "outputs": [],
   "source": [
    "c=[]\n",
    "for i in driver.find_elements_by_xpath('//a[@class=\"ge-49M\"]'):\n",
    "    c.append(i.get_attribute('href'))"
   ]
  },
  {
   "cell_type": "code",
   "execution_count": 307,
   "metadata": {},
   "outputs": [
    {
     "data": {
      "text/plain": [
       "['https://www.flipkart.com/apple-iphone-11-black-64-gb-includes-earpods-power-adapter/product-reviews/itm0f37c2240b217?pid=MOBFKCTSVZAXUHGR&lid=LSTMOBFKCTSVZAXUHGREPBFGI&marketplace=FLIPKART&page=2',\n",
       " 'https://www.flipkart.com/apple-iphone-11-black-64-gb-includes-earpods-power-adapter/product-reviews/itm0f37c2240b217?pid=MOBFKCTSVZAXUHGR&lid=LSTMOBFKCTSVZAXUHGREPBFGI&marketplace=FLIPKART&page=3',\n",
       " 'https://www.flipkart.com/apple-iphone-11-black-64-gb-includes-earpods-power-adapter/product-reviews/itm0f37c2240b217?pid=MOBFKCTSVZAXUHGR&lid=LSTMOBFKCTSVZAXUHGREPBFGI&marketplace=FLIPKART&page=4',\n",
       " 'https://www.flipkart.com/apple-iphone-11-black-64-gb-includes-earpods-power-adapter/product-reviews/itm0f37c2240b217?pid=MOBFKCTSVZAXUHGR&lid=LSTMOBFKCTSVZAXUHGREPBFGI&marketplace=FLIPKART&page=5',\n",
       " 'https://www.flipkart.com/apple-iphone-11-black-64-gb-includes-earpods-power-adapter/product-reviews/itm0f37c2240b217?pid=MOBFKCTSVZAXUHGR&lid=LSTMOBFKCTSVZAXUHGREPBFGI&marketplace=FLIPKART&page=6',\n",
       " 'https://www.flipkart.com/apple-iphone-11-black-64-gb-includes-earpods-power-adapter/product-reviews/itm0f37c2240b217?pid=MOBFKCTSVZAXUHGR&lid=LSTMOBFKCTSVZAXUHGREPBFGI&marketplace=FLIPKART&page=7',\n",
       " 'https://www.flipkart.com/apple-iphone-11-black-64-gb-includes-earpods-power-adapter/product-reviews/itm0f37c2240b217?pid=MOBFKCTSVZAXUHGR&lid=LSTMOBFKCTSVZAXUHGREPBFGI&marketplace=FLIPKART&page=8',\n",
       " 'https://www.flipkart.com/apple-iphone-11-black-64-gb-includes-earpods-power-adapter/product-reviews/itm0f37c2240b217?pid=MOBFKCTSVZAXUHGR&lid=LSTMOBFKCTSVZAXUHGREPBFGI&marketplace=FLIPKART&page=9',\n",
       " 'https://www.flipkart.com/apple-iphone-11-black-64-gb-includes-earpods-power-adapter/product-reviews/itm0f37c2240b217?pid=MOBFKCTSVZAXUHGR&lid=LSTMOBFKCTSVZAXUHGREPBFGI&marketplace=FLIPKART&page=10']"
      ]
     },
     "execution_count": 307,
     "metadata": {},
     "output_type": "execute_result"
    }
   ],
   "source": [
    "c"
   ]
  },
  {
   "cell_type": "code",
   "execution_count": 308,
   "metadata": {},
   "outputs": [
    {
     "data": {
      "text/plain": [
       "['https://www.flipkart.com/apple-iphone-11-black-64-gb-includes-earpods-power-adapter/product-reviews/itm0f37c2240b217?pid=MOBFKCTSVZAXUHGR&lid=LSTMOBFKCTSVZAXUHGREPBFGI&marketplace=FLIPKART&page=3']"
      ]
     },
     "execution_count": 308,
     "metadata": {},
     "output_type": "execute_result"
    }
   ],
   "source": [
    "w=c[1:2]\n",
    "w"
   ]
  },
  {
   "cell_type": "code",
   "execution_count": 309,
   "metadata": {},
   "outputs": [],
   "source": [
    "import time\n",
    "from selenium.common.exceptions import NoSuchElementException\n",
    "C=[]\n",
    "D=[]\n",
    "E=[]\n",
    "for i in w:\n",
    "    driver.get(i)\n",
    "    time.sleep(3)\n",
    "    # for rating\n",
    "    try:\n",
    "        a=driver.find_elements_by_xpath('//div[@class=\"_3LWZlK _1BLPMq\"]')\n",
    "        C.append(a.replace('/n', \"\"))\n",
    "    except:\n",
    "        C.append('-')\n",
    "        \n",
    "     # for review_summary\n",
    "    try:\n",
    "        b=driver.find_element_by_xpath('//p[@class=\"_2-N8zT\"]')\n",
    "        D.append(b.text.replace('/n', \"\"))\n",
    "    except:\n",
    "        D.append('-')\n",
    "        \n",
    "     # for full review\n",
    "    try:\n",
    "        d=driver.find_element_by_xpath('//div[@class=\"t-ZTKy\"]')\n",
    "        E.append(d.text.replace('/n', \"\"))\n",
    "    except:\n",
    "        E.append('-')"
   ]
  },
  {
   "cell_type": "code",
   "execution_count": 310,
   "metadata": {},
   "outputs": [
    {
     "data": {
      "text/plain": [
       "['-']"
      ]
     },
     "execution_count": 310,
     "metadata": {},
     "output_type": "execute_result"
    }
   ],
   "source": [
    "C"
   ]
  },
  {
   "cell_type": "code",
   "execution_count": 311,
   "metadata": {},
   "outputs": [
    {
     "data": {
      "text/plain": [
       "['Worth every penny']"
      ]
     },
     "execution_count": 311,
     "metadata": {},
     "output_type": "execute_result"
    }
   ],
   "source": [
    "D"
   ]
  },
  {
   "cell_type": "code",
   "execution_count": 312,
   "metadata": {},
   "outputs": [
    {
     "data": {
      "text/plain": [
       "['Smooth like butter, camera like fantabulous, sound is crystal clear & its red color is damn attractive, i am just loving it. Must buy if you love photography.\\n\\nLucky to get it in sale, thank you Flipkart.']"
      ]
     },
     "execution_count": 312,
     "metadata": {},
     "output_type": "execute_result"
    }
   ],
   "source": [
    "E"
   ]
  },
  {
   "cell_type": "code",
   "execution_count": null,
   "metadata": {},
   "outputs": [],
   "source": []
  }
 ],
 "metadata": {
  "kernelspec": {
   "display_name": "Python 3",
   "language": "python",
   "name": "python3"
  },
  "language_info": {
   "codemirror_mode": {
    "name": "ipython",
    "version": 3
   },
   "file_extension": ".py",
   "mimetype": "text/x-python",
   "name": "python",
   "nbconvert_exporter": "python",
   "pygments_lexer": "ipython3",
   "version": "3.8.5"
  }
 },
 "nbformat": 4,
 "nbformat_minor": 4
}
